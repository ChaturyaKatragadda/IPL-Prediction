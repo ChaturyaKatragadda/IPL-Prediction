{
  "cells": [
    {
      "cell_type": "markdown",
      "metadata": {
        "colab_type": "text",
        "id": "view-in-github"
      },
      "source": [
        "<a href=\"https://colab.research.google.com/github/PrajwalKalpande/IPL-Score-and-Winner-Prediction/blob/main/IPL_ML_tasks.ipynb\" target=\"_parent\"><img src=\"https://colab.research.google.com/assets/colab-badge.svg\" alt=\"Open In Colab\"/></a>"
      ]
    },
    {
      "cell_type": "code",
      "execution_count": 1,
      "metadata": {
        "id": "lE-gnlV6p8vp"
      },
      "outputs": [
        {
          "name": "stderr",
          "output_type": "stream",
          "text": [
            "c:\\Users\\MAHIMA\\anaconda3\\lib\\site-packages\\scipy\\__init__.py:155: UserWarning: A NumPy version >=1.18.5 and <1.25.0 is required for this version of SciPy (detected version 1.26.4\n",
            "  warnings.warn(f\"A NumPy version >={np_minversion} and <{np_maxversion}\"\n"
          ]
        }
      ],
      "source": [
        "\n",
        "from sklearn.linear_model import LinearRegression,ElasticNet, LogisticRegression\n",
        "from sklearn import linear_model\n",
        "from sklearn.preprocessing import MinMaxScaler,StandardScaler\n",
        "from sklearn.model_selection import train_test_split\n",
        "from sklearn.utils import shuffle\n",
        "from sklearn.utils.validation import check_array \n",
        "from sklearn.metrics import r2_score, mean_squared_error, mean_absolute_error, confusion_matrix, classification_report\n",
        "from sklearn.tree import DecisionTreeRegressor, DecisionTreeClassifier\n",
        "from sklearn.ensemble import RandomForestRegressor,ExtraTreesRegressor,GradientBoostingRegressor \n",
        "from sklearn.ensemble import RandomForestClassifier,BaggingClassifier\n",
        "from sklearn.feature_selection import RFE\n",
        "from sklearn.svm import SVC,LinearSVR\n",
        "from sklearn.metrics import f1_score,accuracy_score , roc_auc_score,roc_curve,precision_score,recall_score\n",
        "from sklearn.ensemble import ExtraTreesClassifier\n",
        "from sklearn.model_selection import RepeatedKFold\n",
        "from sklearn.model_selection import GridSearchCV\n",
        "from sklearn.metrics import confusion_matrix, ConfusionMatrixDisplay\n",
        " "
      ]
    },
    {
      "cell_type": "code",
      "execution_count": 2,
      "metadata": {},
      "outputs": [],
      "source": [
        "import numpy as np\n",
        "import seaborn as sns\n",
        "import pandas as pd\n",
        "import plotly.express as px\n",
        "import plotly.offline as pyo\n",
        "import plotly.graph_objs as go\n",
        "import plotly.figure_factory as ff\n",
        "import plotly.subplots as subplots\n",
        "import cufflinks as cf\n",
        "%matplotlib inline\n",
        "import pandas as pd\n",
        "%matplotlib inline\n",
        "import pandas as pd\n",
        "import numpy as np\n",
        "import math,os\n",
        "from numpy.random import choice\n",
        "#import scikitplot as skplt\n",
        "from time import time\n",
        "import matplotlib.pyplot as plt\n",
        "import sklearn\n"
      ]
    },
    {
      "cell_type": "code",
      "execution_count": 3,
      "metadata": {
        "colab": {
          "base_uri": "https://localhost:8080/"
        },
        "id": "6MU6s7nFr9wm",
        "outputId": "11da305d-f534-4927-ff62-359198e77968"
      },
      "outputs": [],
      "source": [
        " import zipfile\n"
      ]
    },
    {
      "cell_type": "code",
      "execution_count": 4,
      "metadata": {
        "colab": {
          "base_uri": "https://localhost:8080/"
        },
        "id": "hDbtjrGgNzXm",
        "outputId": "0ccbd601-ca60-4c1c-b2c9-9388460b3554"
      },
      "outputs": [
        {
          "name": "stderr",
          "output_type": "stream",
          "text": [
            "C:\\Users\\MAHIMA\\AppData\\Local\\Temp\\ipykernel_12604\\980206372.py:1: DtypeWarning:\n",
            "\n",
            "Columns (14) have mixed types. Specify dtype option on import or set low_memory=False.\n",
            "\n"
          ]
        }
      ],
      "source": [
        "data = pd.read_csv('ipl_data.csv')"
      ]
    },
    {
      "cell_type": "code",
      "execution_count": 5,
      "metadata": {
        "colab": {
          "base_uri": "https://localhost:8080/",
          "height": 444
        },
        "id": "Qg7wo5KK1WsL",
        "outputId": "460ba6c0-2b81-4a32-c8f4-65b80ddea124"
      },
      "outputs": [
        {
          "data": {
            "text/html": [
              "<div>\n",
              "<style scoped>\n",
              "    .dataframe tbody tr th:only-of-type {\n",
              "        vertical-align: middle;\n",
              "    }\n",
              "\n",
              "    .dataframe tbody tr th {\n",
              "        vertical-align: top;\n",
              "    }\n",
              "\n",
              "    .dataframe thead th {\n",
              "        text-align: right;\n",
              "    }\n",
              "</style>\n",
              "<table border=\"1\" class=\"dataframe\">\n",
              "  <thead>\n",
              "    <tr style=\"text-align: right;\">\n",
              "      <th></th>\n",
              "      <th>id</th>\n",
              "      <th>city</th>\n",
              "      <th>date</th>\n",
              "      <th>player_of_match</th>\n",
              "      <th>venue</th>\n",
              "      <th>neutral_venue</th>\n",
              "      <th>team1</th>\n",
              "      <th>team2</th>\n",
              "      <th>toss_winner</th>\n",
              "      <th>toss_decision</th>\n",
              "      <th>...</th>\n",
              "      <th>total_runs</th>\n",
              "      <th>non_boundary</th>\n",
              "      <th>is_wicket</th>\n",
              "      <th>dismissal_kind</th>\n",
              "      <th>player_dismissed</th>\n",
              "      <th>fielder</th>\n",
              "      <th>extras_type</th>\n",
              "      <th>batting_team</th>\n",
              "      <th>bowling_team</th>\n",
              "      <th>year</th>\n",
              "    </tr>\n",
              "  </thead>\n",
              "  <tbody>\n",
              "    <tr>\n",
              "      <th>0</th>\n",
              "      <td>335982</td>\n",
              "      <td>Bangalore</td>\n",
              "      <td>2008-04-18</td>\n",
              "      <td>BB McCullum</td>\n",
              "      <td>M Chinnaswamy Stadium</td>\n",
              "      <td>0</td>\n",
              "      <td>Royal Challengers Bangalore</td>\n",
              "      <td>Kolkata Knight Riders</td>\n",
              "      <td>Royal Challengers Bangalore</td>\n",
              "      <td>field</td>\n",
              "      <td>...</td>\n",
              "      <td>1</td>\n",
              "      <td>0</td>\n",
              "      <td>0</td>\n",
              "      <td>NaN</td>\n",
              "      <td>NaN</td>\n",
              "      <td>NaN</td>\n",
              "      <td>legbyes</td>\n",
              "      <td>Kolkata Knight Riders</td>\n",
              "      <td>Royal Challengers Bangalore</td>\n",
              "      <td>2008</td>\n",
              "    </tr>\n",
              "    <tr>\n",
              "      <th>1</th>\n",
              "      <td>335982</td>\n",
              "      <td>Bangalore</td>\n",
              "      <td>2008-04-18</td>\n",
              "      <td>BB McCullum</td>\n",
              "      <td>M Chinnaswamy Stadium</td>\n",
              "      <td>0</td>\n",
              "      <td>Royal Challengers Bangalore</td>\n",
              "      <td>Kolkata Knight Riders</td>\n",
              "      <td>Royal Challengers Bangalore</td>\n",
              "      <td>field</td>\n",
              "      <td>...</td>\n",
              "      <td>0</td>\n",
              "      <td>0</td>\n",
              "      <td>0</td>\n",
              "      <td>NaN</td>\n",
              "      <td>NaN</td>\n",
              "      <td>NaN</td>\n",
              "      <td>NaN</td>\n",
              "      <td>Kolkata Knight Riders</td>\n",
              "      <td>Royal Challengers Bangalore</td>\n",
              "      <td>2008</td>\n",
              "    </tr>\n",
              "    <tr>\n",
              "      <th>2</th>\n",
              "      <td>335982</td>\n",
              "      <td>Bangalore</td>\n",
              "      <td>2008-04-18</td>\n",
              "      <td>BB McCullum</td>\n",
              "      <td>M Chinnaswamy Stadium</td>\n",
              "      <td>0</td>\n",
              "      <td>Royal Challengers Bangalore</td>\n",
              "      <td>Kolkata Knight Riders</td>\n",
              "      <td>Royal Challengers Bangalore</td>\n",
              "      <td>field</td>\n",
              "      <td>...</td>\n",
              "      <td>1</td>\n",
              "      <td>0</td>\n",
              "      <td>0</td>\n",
              "      <td>NaN</td>\n",
              "      <td>NaN</td>\n",
              "      <td>NaN</td>\n",
              "      <td>wides</td>\n",
              "      <td>Kolkata Knight Riders</td>\n",
              "      <td>Royal Challengers Bangalore</td>\n",
              "      <td>2008</td>\n",
              "    </tr>\n",
              "    <tr>\n",
              "      <th>3</th>\n",
              "      <td>335982</td>\n",
              "      <td>Bangalore</td>\n",
              "      <td>2008-04-18</td>\n",
              "      <td>BB McCullum</td>\n",
              "      <td>M Chinnaswamy Stadium</td>\n",
              "      <td>0</td>\n",
              "      <td>Royal Challengers Bangalore</td>\n",
              "      <td>Kolkata Knight Riders</td>\n",
              "      <td>Royal Challengers Bangalore</td>\n",
              "      <td>field</td>\n",
              "      <td>...</td>\n",
              "      <td>0</td>\n",
              "      <td>0</td>\n",
              "      <td>0</td>\n",
              "      <td>NaN</td>\n",
              "      <td>NaN</td>\n",
              "      <td>NaN</td>\n",
              "      <td>NaN</td>\n",
              "      <td>Kolkata Knight Riders</td>\n",
              "      <td>Royal Challengers Bangalore</td>\n",
              "      <td>2008</td>\n",
              "    </tr>\n",
              "    <tr>\n",
              "      <th>4</th>\n",
              "      <td>335982</td>\n",
              "      <td>Bangalore</td>\n",
              "      <td>2008-04-18</td>\n",
              "      <td>BB McCullum</td>\n",
              "      <td>M Chinnaswamy Stadium</td>\n",
              "      <td>0</td>\n",
              "      <td>Royal Challengers Bangalore</td>\n",
              "      <td>Kolkata Knight Riders</td>\n",
              "      <td>Royal Challengers Bangalore</td>\n",
              "      <td>field</td>\n",
              "      <td>...</td>\n",
              "      <td>0</td>\n",
              "      <td>0</td>\n",
              "      <td>0</td>\n",
              "      <td>NaN</td>\n",
              "      <td>NaN</td>\n",
              "      <td>NaN</td>\n",
              "      <td>NaN</td>\n",
              "      <td>Kolkata Knight Riders</td>\n",
              "      <td>Royal Challengers Bangalore</td>\n",
              "      <td>2008</td>\n",
              "    </tr>\n",
              "  </tbody>\n",
              "</table>\n",
              "<p>5 rows × 35 columns</p>\n",
              "</div>"
            ],
            "text/plain": [
              "       id       city        date player_of_match                  venue  \\\n",
              "0  335982  Bangalore  2008-04-18     BB McCullum  M Chinnaswamy Stadium   \n",
              "1  335982  Bangalore  2008-04-18     BB McCullum  M Chinnaswamy Stadium   \n",
              "2  335982  Bangalore  2008-04-18     BB McCullum  M Chinnaswamy Stadium   \n",
              "3  335982  Bangalore  2008-04-18     BB McCullum  M Chinnaswamy Stadium   \n",
              "4  335982  Bangalore  2008-04-18     BB McCullum  M Chinnaswamy Stadium   \n",
              "\n",
              "   neutral_venue                        team1                  team2  \\\n",
              "0              0  Royal Challengers Bangalore  Kolkata Knight Riders   \n",
              "1              0  Royal Challengers Bangalore  Kolkata Knight Riders   \n",
              "2              0  Royal Challengers Bangalore  Kolkata Knight Riders   \n",
              "3              0  Royal Challengers Bangalore  Kolkata Knight Riders   \n",
              "4              0  Royal Challengers Bangalore  Kolkata Knight Riders   \n",
              "\n",
              "                   toss_winner toss_decision  ... total_runs non_boundary  \\\n",
              "0  Royal Challengers Bangalore         field  ...          1            0   \n",
              "1  Royal Challengers Bangalore         field  ...          0            0   \n",
              "2  Royal Challengers Bangalore         field  ...          1            0   \n",
              "3  Royal Challengers Bangalore         field  ...          0            0   \n",
              "4  Royal Challengers Bangalore         field  ...          0            0   \n",
              "\n",
              "   is_wicket dismissal_kind player_dismissed fielder extras_type  \\\n",
              "0          0            NaN              NaN     NaN     legbyes   \n",
              "1          0            NaN              NaN     NaN         NaN   \n",
              "2          0            NaN              NaN     NaN       wides   \n",
              "3          0            NaN              NaN     NaN         NaN   \n",
              "4          0            NaN              NaN     NaN         NaN   \n",
              "\n",
              "            batting_team                 bowling_team  year  \n",
              "0  Kolkata Knight Riders  Royal Challengers Bangalore  2008  \n",
              "1  Kolkata Knight Riders  Royal Challengers Bangalore  2008  \n",
              "2  Kolkata Knight Riders  Royal Challengers Bangalore  2008  \n",
              "3  Kolkata Knight Riders  Royal Challengers Bangalore  2008  \n",
              "4  Kolkata Knight Riders  Royal Challengers Bangalore  2008  \n",
              "\n",
              "[5 rows x 35 columns]"
            ]
          },
          "execution_count": 5,
          "metadata": {},
          "output_type": "execute_result"
        }
      ],
      "source": [
        "data.head()"
      ]
    },
    {
      "cell_type": "code",
      "execution_count": 6,
      "metadata": {
        "id": "H66Wgr1Hm5hJ"
      },
      "outputs": [],
      "source": [
        "#encoding the numeric values\n",
        "from sklearn.preprocessing import LabelEncoder\n",
        "encoder= LabelEncoder()\n",
        "data[\"batting_team\"]=encoder.fit_transform(data[\"batting_team\"])\n",
        "data['bowling_team']=encoder.fit_transform(data[\"bowling_team\"])\n",
        "data[\"winner\"]=encoder.fit_transform(data[\"winner\"].astype(str))\n",
        "data[\"toss_winner\"]=encoder.fit_transform(data[\"toss_winner\"])\n",
        "data[\"venue\"]=encoder.fit_transform(data[\"venue\"])\n",
        "data[\"batsman\"]=encoder.fit_transform(data[\"batsman\"])\n",
        "data[\"non_striker\"]=encoder.fit_transform(data[\"non_striker\"])\n",
        "data[\"bowler\"]=encoder.fit_transform(data[\"bowler\"])\n",
        "data[\"team1\"]=encoder.fit_transform(data[\"team1\"])\n",
        "data[\"team2\"]=encoder.fit_transform(data[\"team2\"])"
      ]
    },
    {
      "cell_type": "code",
      "execution_count": 7,
      "metadata": {
        "id": "NLIDKYz0m5pO"
      },
      "outputs": [],
      "source": [
        "#outcome variable team1_win as team1 winning the match\n",
        "data.loc[data[\"winner\"]==data[\"team1\"],\"team1_win\"]=1\n",
        "data.loc[data[\"winner\"]!=data[\"team1\"],\"team1_win\"]=0\n",
        "\n",
        "#outcome variable team1_toss_win as a value of team1 winning the toss\n",
        "data.loc[data[\"toss_winner\"]==data[\"team1\"],\"team1_toss_win\"]=1\n",
        "data.loc[data[\"toss_winner\"]!=data[\"team1\"],\"team1_toss_win\"]=0\n",
        "\n",
        "#outcome variable team1_bat to depict if team1 bats first\n",
        "data[\"team1_bat\"]=0\n",
        "data.loc[(data[\"team1_toss_win\"]==1) & (data[\"toss_decision\"]==\"bat\"),\"team1_bat\"]=1"
      ]
    },
    {
      "cell_type": "code",
      "execution_count": 8,
      "metadata": {
        "id": "Hhn5jpfg2doQ"
      },
      "outputs": [],
      "source": [
        "data['ball'] = data['over'] + data['ball']/10.0\n"
      ]
    },
    {
      "cell_type": "code",
      "execution_count": 9,
      "metadata": {
        "colab": {
          "base_uri": "https://localhost:8080/",
          "height": 357
        },
        "id": "FNMSn92FVR4k",
        "outputId": "f2cd5b1d-48c8-42be-8a9a-7deb79805802"
      },
      "outputs": [
        {
          "data": {
            "text/html": [
              "<div>\n",
              "<style scoped>\n",
              "    .dataframe tbody tr th:only-of-type {\n",
              "        vertical-align: middle;\n",
              "    }\n",
              "\n",
              "    .dataframe tbody tr th {\n",
              "        vertical-align: top;\n",
              "    }\n",
              "\n",
              "    .dataframe thead th {\n",
              "        text-align: right;\n",
              "    }\n",
              "</style>\n",
              "<table border=\"1\" class=\"dataframe\">\n",
              "  <thead>\n",
              "    <tr style=\"text-align: right;\">\n",
              "      <th></th>\n",
              "      <th>id</th>\n",
              "      <th>city</th>\n",
              "      <th>date</th>\n",
              "      <th>player_of_match</th>\n",
              "      <th>venue</th>\n",
              "      <th>neutral_venue</th>\n",
              "      <th>team1</th>\n",
              "      <th>team2</th>\n",
              "      <th>toss_winner</th>\n",
              "      <th>toss_decision</th>\n",
              "      <th>...</th>\n",
              "      <th>player_dismissed</th>\n",
              "      <th>fielder</th>\n",
              "      <th>extras_type</th>\n",
              "      <th>batting_team</th>\n",
              "      <th>bowling_team</th>\n",
              "      <th>year</th>\n",
              "      <th>team1_win</th>\n",
              "      <th>team1_toss_win</th>\n",
              "      <th>team1_bat</th>\n",
              "      <th>id_inning</th>\n",
              "    </tr>\n",
              "  </thead>\n",
              "  <tbody>\n",
              "    <tr>\n",
              "      <th>0</th>\n",
              "      <td>335982</td>\n",
              "      <td>Bangalore</td>\n",
              "      <td>2008-04-18</td>\n",
              "      <td>BB McCullum</td>\n",
              "      <td>14</td>\n",
              "      <td>0</td>\n",
              "      <td>12</td>\n",
              "      <td>7</td>\n",
              "      <td>12</td>\n",
              "      <td>field</td>\n",
              "      <td>...</td>\n",
              "      <td>NaN</td>\n",
              "      <td>NaN</td>\n",
              "      <td>legbyes</td>\n",
              "      <td>7</td>\n",
              "      <td>12</td>\n",
              "      <td>2008</td>\n",
              "      <td>0.0</td>\n",
              "      <td>1.0</td>\n",
              "      <td>0</td>\n",
              "      <td>3359827</td>\n",
              "    </tr>\n",
              "    <tr>\n",
              "      <th>1</th>\n",
              "      <td>335982</td>\n",
              "      <td>Bangalore</td>\n",
              "      <td>2008-04-18</td>\n",
              "      <td>BB McCullum</td>\n",
              "      <td>14</td>\n",
              "      <td>0</td>\n",
              "      <td>12</td>\n",
              "      <td>7</td>\n",
              "      <td>12</td>\n",
              "      <td>field</td>\n",
              "      <td>...</td>\n",
              "      <td>NaN</td>\n",
              "      <td>NaN</td>\n",
              "      <td>NaN</td>\n",
              "      <td>7</td>\n",
              "      <td>12</td>\n",
              "      <td>2008</td>\n",
              "      <td>0.0</td>\n",
              "      <td>1.0</td>\n",
              "      <td>0</td>\n",
              "      <td>3359827</td>\n",
              "    </tr>\n",
              "    <tr>\n",
              "      <th>2</th>\n",
              "      <td>335982</td>\n",
              "      <td>Bangalore</td>\n",
              "      <td>2008-04-18</td>\n",
              "      <td>BB McCullum</td>\n",
              "      <td>14</td>\n",
              "      <td>0</td>\n",
              "      <td>12</td>\n",
              "      <td>7</td>\n",
              "      <td>12</td>\n",
              "      <td>field</td>\n",
              "      <td>...</td>\n",
              "      <td>NaN</td>\n",
              "      <td>NaN</td>\n",
              "      <td>wides</td>\n",
              "      <td>7</td>\n",
              "      <td>12</td>\n",
              "      <td>2008</td>\n",
              "      <td>0.0</td>\n",
              "      <td>1.0</td>\n",
              "      <td>0</td>\n",
              "      <td>3359827</td>\n",
              "    </tr>\n",
              "    <tr>\n",
              "      <th>3</th>\n",
              "      <td>335982</td>\n",
              "      <td>Bangalore</td>\n",
              "      <td>2008-04-18</td>\n",
              "      <td>BB McCullum</td>\n",
              "      <td>14</td>\n",
              "      <td>0</td>\n",
              "      <td>12</td>\n",
              "      <td>7</td>\n",
              "      <td>12</td>\n",
              "      <td>field</td>\n",
              "      <td>...</td>\n",
              "      <td>NaN</td>\n",
              "      <td>NaN</td>\n",
              "      <td>NaN</td>\n",
              "      <td>7</td>\n",
              "      <td>12</td>\n",
              "      <td>2008</td>\n",
              "      <td>0.0</td>\n",
              "      <td>1.0</td>\n",
              "      <td>0</td>\n",
              "      <td>3359827</td>\n",
              "    </tr>\n",
              "    <tr>\n",
              "      <th>4</th>\n",
              "      <td>335982</td>\n",
              "      <td>Bangalore</td>\n",
              "      <td>2008-04-18</td>\n",
              "      <td>BB McCullum</td>\n",
              "      <td>14</td>\n",
              "      <td>0</td>\n",
              "      <td>12</td>\n",
              "      <td>7</td>\n",
              "      <td>12</td>\n",
              "      <td>field</td>\n",
              "      <td>...</td>\n",
              "      <td>NaN</td>\n",
              "      <td>NaN</td>\n",
              "      <td>NaN</td>\n",
              "      <td>7</td>\n",
              "      <td>12</td>\n",
              "      <td>2008</td>\n",
              "      <td>0.0</td>\n",
              "      <td>1.0</td>\n",
              "      <td>0</td>\n",
              "      <td>3359827</td>\n",
              "    </tr>\n",
              "  </tbody>\n",
              "</table>\n",
              "<p>5 rows × 39 columns</p>\n",
              "</div>"
            ],
            "text/plain": [
              "       id       city        date player_of_match  venue  neutral_venue  team1  \\\n",
              "0  335982  Bangalore  2008-04-18     BB McCullum     14              0     12   \n",
              "1  335982  Bangalore  2008-04-18     BB McCullum     14              0     12   \n",
              "2  335982  Bangalore  2008-04-18     BB McCullum     14              0     12   \n",
              "3  335982  Bangalore  2008-04-18     BB McCullum     14              0     12   \n",
              "4  335982  Bangalore  2008-04-18     BB McCullum     14              0     12   \n",
              "\n",
              "   team2  toss_winner toss_decision  ...  player_dismissed fielder  \\\n",
              "0      7           12         field  ...               NaN     NaN   \n",
              "1      7           12         field  ...               NaN     NaN   \n",
              "2      7           12         field  ...               NaN     NaN   \n",
              "3      7           12         field  ...               NaN     NaN   \n",
              "4      7           12         field  ...               NaN     NaN   \n",
              "\n",
              "   extras_type batting_team bowling_team  year team1_win  team1_toss_win  \\\n",
              "0      legbyes            7           12  2008       0.0             1.0   \n",
              "1          NaN            7           12  2008       0.0             1.0   \n",
              "2        wides            7           12  2008       0.0             1.0   \n",
              "3          NaN            7           12  2008       0.0             1.0   \n",
              "4          NaN            7           12  2008       0.0             1.0   \n",
              "\n",
              "   team1_bat  id_inning  \n",
              "0          0    3359827  \n",
              "1          0    3359827  \n",
              "2          0    3359827  \n",
              "3          0    3359827  \n",
              "4          0    3359827  \n",
              "\n",
              "[5 rows x 39 columns]"
            ]
          },
          "execution_count": 9,
          "metadata": {},
          "output_type": "execute_result"
        }
      ],
      "source": [
        "data['id_inning'] = data['id'].astype(str)+(data['batting_team']).astype(str)\n",
        "\n",
        "data.head()"
      ]
    },
    {
      "cell_type": "code",
      "execution_count": 10,
      "metadata": {
        "colab": {
          "base_uri": "https://localhost:8080/"
        },
        "id": "KFkZ4q1vwDd1",
        "outputId": "b93768e9-c588-43eb-8f19-26a1276a93e2"
      },
      "outputs": [
        {
          "name": "stdout",
          "output_type": "stream",
          "text": [
            "812\n"
          ]
        },
        {
          "data": {
            "text/plain": [
              "1624"
            ]
          },
          "execution_count": 10,
          "metadata": {},
          "output_type": "execute_result"
        }
      ],
      "source": [
        "print(len(data['id'].unique()))\n",
        "len(data['id_inning'].unique())\n",
        "# As expected total innings played are twice of the total matches played"
      ]
    },
    {
      "cell_type": "code",
      "execution_count": 11,
      "metadata": {
        "colab": {
          "base_uri": "https://localhost:8080/",
          "height": 206
        },
        "id": "7VKXsC1VqiON",
        "outputId": "24f51eed-dfc2-44e7-90e0-c3dcef101653"
      },
      "outputs": [
        {
          "data": {
            "text/html": [
              "<div>\n",
              "<style scoped>\n",
              "    .dataframe tbody tr th:only-of-type {\n",
              "        vertical-align: middle;\n",
              "    }\n",
              "\n",
              "    .dataframe tbody tr th {\n",
              "        vertical-align: top;\n",
              "    }\n",
              "\n",
              "    .dataframe thead th {\n",
              "        text-align: right;\n",
              "    }\n",
              "</style>\n",
              "<table border=\"1\" class=\"dataframe\">\n",
              "  <thead>\n",
              "    <tr style=\"text-align: right;\">\n",
              "      <th></th>\n",
              "      <th>id_inning</th>\n",
              "      <th>total_runs</th>\n",
              "    </tr>\n",
              "  </thead>\n",
              "  <tbody>\n",
              "    <tr>\n",
              "      <th>0</th>\n",
              "      <td>108259112</td>\n",
              "      <td>172</td>\n",
              "    </tr>\n",
              "    <tr>\n",
              "      <th>1</th>\n",
              "      <td>108259113</td>\n",
              "      <td>207</td>\n",
              "    </tr>\n",
              "    <tr>\n",
              "      <th>2</th>\n",
              "      <td>108259211</td>\n",
              "      <td>187</td>\n",
              "    </tr>\n",
              "    <tr>\n",
              "      <th>3</th>\n",
              "      <td>10825928</td>\n",
              "      <td>184</td>\n",
              "    </tr>\n",
              "    <tr>\n",
              "      <th>4</th>\n",
              "      <td>10825934</td>\n",
              "      <td>183</td>\n",
              "    </tr>\n",
              "  </tbody>\n",
              "</table>\n",
              "</div>"
            ],
            "text/plain": [
              "   id_inning  total_runs\n",
              "0  108259112         172\n",
              "1  108259113         207\n",
              "2  108259211         187\n",
              "3   10825928         184\n",
              "4   10825934         183"
            ]
          },
          "execution_count": 11,
          "metadata": {},
          "output_type": "execute_result"
        }
      ],
      "source": [
        "data1 = data.copy()\n",
        "data1 = data1.groupby(by=['id_inning']).sum()['total_runs'].reset_index()\n",
        "data1.head()"
      ]
    },
    {
      "cell_type": "code",
      "execution_count": 12,
      "metadata": {
        "colab": {
          "base_uri": "https://localhost:8080/",
          "height": 710
        },
        "id": "zw8oRyvmqiae",
        "outputId": "9215ccd2-62a7-4060-bf14-bba4b3de15bb"
      },
      "outputs": [
        {
          "name": "stdout",
          "output_type": "stream",
          "text": [
            "(193096, 40)\n"
          ]
        },
        {
          "data": {
            "text/html": [
              "<div>\n",
              "<style scoped>\n",
              "    .dataframe tbody tr th:only-of-type {\n",
              "        vertical-align: middle;\n",
              "    }\n",
              "\n",
              "    .dataframe tbody tr th {\n",
              "        vertical-align: top;\n",
              "    }\n",
              "\n",
              "    .dataframe thead th {\n",
              "        text-align: right;\n",
              "    }\n",
              "</style>\n",
              "<table border=\"1\" class=\"dataframe\">\n",
              "  <thead>\n",
              "    <tr style=\"text-align: right;\">\n",
              "      <th></th>\n",
              "      <th>id_inning</th>\n",
              "      <th>total_runs_x</th>\n",
              "      <th>city</th>\n",
              "      <th>date</th>\n",
              "      <th>player_of_match</th>\n",
              "      <th>venue</th>\n",
              "      <th>neutral_venue</th>\n",
              "      <th>team1</th>\n",
              "      <th>team2</th>\n",
              "      <th>toss_winner</th>\n",
              "      <th>...</th>\n",
              "      <th>dismissal_kind</th>\n",
              "      <th>player_dismissed</th>\n",
              "      <th>fielder</th>\n",
              "      <th>extras_type</th>\n",
              "      <th>batting_team</th>\n",
              "      <th>bowling_team</th>\n",
              "      <th>year</th>\n",
              "      <th>team1_win</th>\n",
              "      <th>team1_toss_win</th>\n",
              "      <th>team1_bat</th>\n",
              "    </tr>\n",
              "    <tr>\n",
              "      <th>id</th>\n",
              "      <th></th>\n",
              "      <th></th>\n",
              "      <th></th>\n",
              "      <th></th>\n",
              "      <th></th>\n",
              "      <th></th>\n",
              "      <th></th>\n",
              "      <th></th>\n",
              "      <th></th>\n",
              "      <th></th>\n",
              "      <th></th>\n",
              "      <th></th>\n",
              "      <th></th>\n",
              "      <th></th>\n",
              "      <th></th>\n",
              "      <th></th>\n",
              "      <th></th>\n",
              "      <th></th>\n",
              "      <th></th>\n",
              "      <th></th>\n",
              "      <th></th>\n",
              "    </tr>\n",
              "  </thead>\n",
              "  <tbody>\n",
              "    <tr>\n",
              "      <th>335982</th>\n",
              "      <td>3359827</td>\n",
              "      <td>222</td>\n",
              "      <td>Bangalore</td>\n",
              "      <td>2008-04-18</td>\n",
              "      <td>BB McCullum</td>\n",
              "      <td>14</td>\n",
              "      <td>0</td>\n",
              "      <td>12</td>\n",
              "      <td>7</td>\n",
              "      <td>12</td>\n",
              "      <td>...</td>\n",
              "      <td>NaN</td>\n",
              "      <td>NaN</td>\n",
              "      <td>NaN</td>\n",
              "      <td>legbyes</td>\n",
              "      <td>7</td>\n",
              "      <td>12</td>\n",
              "      <td>2008</td>\n",
              "      <td>0.0</td>\n",
              "      <td>1.0</td>\n",
              "      <td>0</td>\n",
              "    </tr>\n",
              "    <tr>\n",
              "      <th>335982</th>\n",
              "      <td>3359827</td>\n",
              "      <td>222</td>\n",
              "      <td>Bangalore</td>\n",
              "      <td>2008-04-18</td>\n",
              "      <td>BB McCullum</td>\n",
              "      <td>14</td>\n",
              "      <td>0</td>\n",
              "      <td>12</td>\n",
              "      <td>7</td>\n",
              "      <td>12</td>\n",
              "      <td>...</td>\n",
              "      <td>NaN</td>\n",
              "      <td>NaN</td>\n",
              "      <td>NaN</td>\n",
              "      <td>NaN</td>\n",
              "      <td>7</td>\n",
              "      <td>12</td>\n",
              "      <td>2008</td>\n",
              "      <td>0.0</td>\n",
              "      <td>1.0</td>\n",
              "      <td>0</td>\n",
              "    </tr>\n",
              "    <tr>\n",
              "      <th>335982</th>\n",
              "      <td>3359827</td>\n",
              "      <td>222</td>\n",
              "      <td>Bangalore</td>\n",
              "      <td>2008-04-18</td>\n",
              "      <td>BB McCullum</td>\n",
              "      <td>14</td>\n",
              "      <td>0</td>\n",
              "      <td>12</td>\n",
              "      <td>7</td>\n",
              "      <td>12</td>\n",
              "      <td>...</td>\n",
              "      <td>NaN</td>\n",
              "      <td>NaN</td>\n",
              "      <td>NaN</td>\n",
              "      <td>wides</td>\n",
              "      <td>7</td>\n",
              "      <td>12</td>\n",
              "      <td>2008</td>\n",
              "      <td>0.0</td>\n",
              "      <td>1.0</td>\n",
              "      <td>0</td>\n",
              "    </tr>\n",
              "    <tr>\n",
              "      <th>335982</th>\n",
              "      <td>3359827</td>\n",
              "      <td>222</td>\n",
              "      <td>Bangalore</td>\n",
              "      <td>2008-04-18</td>\n",
              "      <td>BB McCullum</td>\n",
              "      <td>14</td>\n",
              "      <td>0</td>\n",
              "      <td>12</td>\n",
              "      <td>7</td>\n",
              "      <td>12</td>\n",
              "      <td>...</td>\n",
              "      <td>NaN</td>\n",
              "      <td>NaN</td>\n",
              "      <td>NaN</td>\n",
              "      <td>NaN</td>\n",
              "      <td>7</td>\n",
              "      <td>12</td>\n",
              "      <td>2008</td>\n",
              "      <td>0.0</td>\n",
              "      <td>1.0</td>\n",
              "      <td>0</td>\n",
              "    </tr>\n",
              "    <tr>\n",
              "      <th>335982</th>\n",
              "      <td>3359827</td>\n",
              "      <td>222</td>\n",
              "      <td>Bangalore</td>\n",
              "      <td>2008-04-18</td>\n",
              "      <td>BB McCullum</td>\n",
              "      <td>14</td>\n",
              "      <td>0</td>\n",
              "      <td>12</td>\n",
              "      <td>7</td>\n",
              "      <td>12</td>\n",
              "      <td>...</td>\n",
              "      <td>NaN</td>\n",
              "      <td>NaN</td>\n",
              "      <td>NaN</td>\n",
              "      <td>NaN</td>\n",
              "      <td>7</td>\n",
              "      <td>12</td>\n",
              "      <td>2008</td>\n",
              "      <td>0.0</td>\n",
              "      <td>1.0</td>\n",
              "      <td>0</td>\n",
              "    </tr>\n",
              "    <tr>\n",
              "      <th>...</th>\n",
              "      <td>...</td>\n",
              "      <td>...</td>\n",
              "      <td>...</td>\n",
              "      <td>...</td>\n",
              "      <td>...</td>\n",
              "      <td>...</td>\n",
              "      <td>...</td>\n",
              "      <td>...</td>\n",
              "      <td>...</td>\n",
              "      <td>...</td>\n",
              "      <td>...</td>\n",
              "      <td>...</td>\n",
              "      <td>...</td>\n",
              "      <td>...</td>\n",
              "      <td>...</td>\n",
              "      <td>...</td>\n",
              "      <td>...</td>\n",
              "      <td>...</td>\n",
              "      <td>...</td>\n",
              "      <td>...</td>\n",
              "      <td>...</td>\n",
              "    </tr>\n",
              "    <tr>\n",
              "      <th>1237181</th>\n",
              "      <td>12371818</td>\n",
              "      <td>157</td>\n",
              "      <td>Dubai</td>\n",
              "      <td>2020-11-10</td>\n",
              "      <td>TA Boult</td>\n",
              "      <td>6</td>\n",
              "      <td>0</td>\n",
              "      <td>2</td>\n",
              "      <td>8</td>\n",
              "      <td>2</td>\n",
              "      <td>...</td>\n",
              "      <td>NaN</td>\n",
              "      <td>NaN</td>\n",
              "      <td>NaN</td>\n",
              "      <td>NaN</td>\n",
              "      <td>8</td>\n",
              "      <td>2</td>\n",
              "      <td>2020</td>\n",
              "      <td>0.0</td>\n",
              "      <td>1.0</td>\n",
              "      <td>1</td>\n",
              "    </tr>\n",
              "    <tr>\n",
              "      <th>1237181</th>\n",
              "      <td>12371818</td>\n",
              "      <td>157</td>\n",
              "      <td>Dubai</td>\n",
              "      <td>2020-11-10</td>\n",
              "      <td>TA Boult</td>\n",
              "      <td>6</td>\n",
              "      <td>0</td>\n",
              "      <td>2</td>\n",
              "      <td>8</td>\n",
              "      <td>2</td>\n",
              "      <td>...</td>\n",
              "      <td>NaN</td>\n",
              "      <td>NaN</td>\n",
              "      <td>NaN</td>\n",
              "      <td>NaN</td>\n",
              "      <td>8</td>\n",
              "      <td>2</td>\n",
              "      <td>2020</td>\n",
              "      <td>0.0</td>\n",
              "      <td>1.0</td>\n",
              "      <td>1</td>\n",
              "    </tr>\n",
              "    <tr>\n",
              "      <th>1237181</th>\n",
              "      <td>12371818</td>\n",
              "      <td>157</td>\n",
              "      <td>Dubai</td>\n",
              "      <td>2020-11-10</td>\n",
              "      <td>TA Boult</td>\n",
              "      <td>6</td>\n",
              "      <td>0</td>\n",
              "      <td>2</td>\n",
              "      <td>8</td>\n",
              "      <td>2</td>\n",
              "      <td>...</td>\n",
              "      <td>NaN</td>\n",
              "      <td>NaN</td>\n",
              "      <td>NaN</td>\n",
              "      <td>NaN</td>\n",
              "      <td>8</td>\n",
              "      <td>2</td>\n",
              "      <td>2020</td>\n",
              "      <td>0.0</td>\n",
              "      <td>1.0</td>\n",
              "      <td>1</td>\n",
              "    </tr>\n",
              "    <tr>\n",
              "      <th>1237181</th>\n",
              "      <td>12371818</td>\n",
              "      <td>157</td>\n",
              "      <td>Dubai</td>\n",
              "      <td>2020-11-10</td>\n",
              "      <td>TA Boult</td>\n",
              "      <td>6</td>\n",
              "      <td>0</td>\n",
              "      <td>2</td>\n",
              "      <td>8</td>\n",
              "      <td>2</td>\n",
              "      <td>...</td>\n",
              "      <td>caught</td>\n",
              "      <td>HH Pandya</td>\n",
              "      <td>AM Rahane</td>\n",
              "      <td>NaN</td>\n",
              "      <td>8</td>\n",
              "      <td>2</td>\n",
              "      <td>2020</td>\n",
              "      <td>0.0</td>\n",
              "      <td>1.0</td>\n",
              "      <td>1</td>\n",
              "    </tr>\n",
              "    <tr>\n",
              "      <th>1237181</th>\n",
              "      <td>12371818</td>\n",
              "      <td>157</td>\n",
              "      <td>Dubai</td>\n",
              "      <td>2020-11-10</td>\n",
              "      <td>TA Boult</td>\n",
              "      <td>6</td>\n",
              "      <td>0</td>\n",
              "      <td>2</td>\n",
              "      <td>8</td>\n",
              "      <td>2</td>\n",
              "      <td>...</td>\n",
              "      <td>NaN</td>\n",
              "      <td>NaN</td>\n",
              "      <td>NaN</td>\n",
              "      <td>NaN</td>\n",
              "      <td>8</td>\n",
              "      <td>2</td>\n",
              "      <td>2020</td>\n",
              "      <td>0.0</td>\n",
              "      <td>1.0</td>\n",
              "      <td>1</td>\n",
              "    </tr>\n",
              "  </tbody>\n",
              "</table>\n",
              "<p>193096 rows × 39 columns</p>\n",
              "</div>"
            ],
            "text/plain": [
              "        id_inning  total_runs_x       city        date player_of_match  venue  \\\n",
              "id                                                                              \n",
              "335982    3359827           222  Bangalore  2008-04-18     BB McCullum     14   \n",
              "335982    3359827           222  Bangalore  2008-04-18     BB McCullum     14   \n",
              "335982    3359827           222  Bangalore  2008-04-18     BB McCullum     14   \n",
              "335982    3359827           222  Bangalore  2008-04-18     BB McCullum     14   \n",
              "335982    3359827           222  Bangalore  2008-04-18     BB McCullum     14   \n",
              "...           ...           ...        ...         ...             ...    ...   \n",
              "1237181  12371818           157      Dubai  2020-11-10        TA Boult      6   \n",
              "1237181  12371818           157      Dubai  2020-11-10        TA Boult      6   \n",
              "1237181  12371818           157      Dubai  2020-11-10        TA Boult      6   \n",
              "1237181  12371818           157      Dubai  2020-11-10        TA Boult      6   \n",
              "1237181  12371818           157      Dubai  2020-11-10        TA Boult      6   \n",
              "\n",
              "         neutral_venue  team1  team2  toss_winner  ... dismissal_kind  \\\n",
              "id                                                 ...                  \n",
              "335982               0     12      7           12  ...            NaN   \n",
              "335982               0     12      7           12  ...            NaN   \n",
              "335982               0     12      7           12  ...            NaN   \n",
              "335982               0     12      7           12  ...            NaN   \n",
              "335982               0     12      7           12  ...            NaN   \n",
              "...                ...    ...    ...          ...  ...            ...   \n",
              "1237181              0      2      8            2  ...            NaN   \n",
              "1237181              0      2      8            2  ...            NaN   \n",
              "1237181              0      2      8            2  ...            NaN   \n",
              "1237181              0      2      8            2  ...         caught   \n",
              "1237181              0      2      8            2  ...            NaN   \n",
              "\n",
              "         player_dismissed    fielder  extras_type batting_team bowling_team  \\\n",
              "id                                                                            \n",
              "335982                NaN        NaN      legbyes            7           12   \n",
              "335982                NaN        NaN          NaN            7           12   \n",
              "335982                NaN        NaN        wides            7           12   \n",
              "335982                NaN        NaN          NaN            7           12   \n",
              "335982                NaN        NaN          NaN            7           12   \n",
              "...                   ...        ...          ...          ...          ...   \n",
              "1237181               NaN        NaN          NaN            8            2   \n",
              "1237181               NaN        NaN          NaN            8            2   \n",
              "1237181               NaN        NaN          NaN            8            2   \n",
              "1237181         HH Pandya  AM Rahane          NaN            8            2   \n",
              "1237181               NaN        NaN          NaN            8            2   \n",
              "\n",
              "         year team1_win  team1_toss_win  team1_bat  \n",
              "id                                                  \n",
              "335982   2008       0.0             1.0          0  \n",
              "335982   2008       0.0             1.0          0  \n",
              "335982   2008       0.0             1.0          0  \n",
              "335982   2008       0.0             1.0          0  \n",
              "335982   2008       0.0             1.0          0  \n",
              "...       ...       ...             ...        ...  \n",
              "1237181  2020       0.0             1.0          1  \n",
              "1237181  2020       0.0             1.0          1  \n",
              "1237181  2020       0.0             1.0          1  \n",
              "1237181  2020       0.0             1.0          1  \n",
              "1237181  2020       0.0             1.0          1  \n",
              "\n",
              "[193096 rows x 39 columns]"
            ]
          },
          "execution_count": 12,
          "metadata": {},
          "output_type": "execute_result"
        }
      ],
      "source": [
        "data2 = pd.merge(left=data1, right=data, on='id_inning', how='right')\n",
        "print(data2.shape)\n",
        "data2  = data2.set_index('id')\n",
        "data2 \n"
      ]
    },
    {
      "cell_type": "code",
      "execution_count": 13,
      "metadata": {
        "colab": {
          "base_uri": "https://localhost:8080/",
          "height": 357
        },
        "id": "ttTzcVOL4ZHN",
        "outputId": "c9a7c20e-3986-472d-ad43-03417d182e29"
      },
      "outputs": [
        {
          "data": {
            "text/html": [
              "<div>\n",
              "<style scoped>\n",
              "    .dataframe tbody tr th:only-of-type {\n",
              "        vertical-align: middle;\n",
              "    }\n",
              "\n",
              "    .dataframe tbody tr th {\n",
              "        vertical-align: top;\n",
              "    }\n",
              "\n",
              "    .dataframe thead th {\n",
              "        text-align: right;\n",
              "    }\n",
              "</style>\n",
              "<table border=\"1\" class=\"dataframe\">\n",
              "  <thead>\n",
              "    <tr style=\"text-align: right;\">\n",
              "      <th></th>\n",
              "      <th>id</th>\n",
              "      <th>id_inning</th>\n",
              "      <th>total_runs_x</th>\n",
              "      <th>city</th>\n",
              "      <th>date</th>\n",
              "      <th>player_of_match</th>\n",
              "      <th>venue</th>\n",
              "      <th>neutral_venue</th>\n",
              "      <th>team1</th>\n",
              "      <th>team2</th>\n",
              "      <th>...</th>\n",
              "      <th>dismissal_kind</th>\n",
              "      <th>player_dismissed</th>\n",
              "      <th>fielder</th>\n",
              "      <th>extras_type</th>\n",
              "      <th>batting_team</th>\n",
              "      <th>bowling_team</th>\n",
              "      <th>year</th>\n",
              "      <th>team1_win</th>\n",
              "      <th>team1_toss_win</th>\n",
              "      <th>team1_bat</th>\n",
              "    </tr>\n",
              "  </thead>\n",
              "  <tbody>\n",
              "    <tr>\n",
              "      <th>0</th>\n",
              "      <td>335982</td>\n",
              "      <td>3359827</td>\n",
              "      <td>222</td>\n",
              "      <td>Bangalore</td>\n",
              "      <td>2008-04-18</td>\n",
              "      <td>BB McCullum</td>\n",
              "      <td>14</td>\n",
              "      <td>0</td>\n",
              "      <td>12</td>\n",
              "      <td>7</td>\n",
              "      <td>...</td>\n",
              "      <td>NaN</td>\n",
              "      <td>NaN</td>\n",
              "      <td>NaN</td>\n",
              "      <td>legbyes</td>\n",
              "      <td>7</td>\n",
              "      <td>12</td>\n",
              "      <td>2008</td>\n",
              "      <td>0.0</td>\n",
              "      <td>1.0</td>\n",
              "      <td>0</td>\n",
              "    </tr>\n",
              "    <tr>\n",
              "      <th>1</th>\n",
              "      <td>335982</td>\n",
              "      <td>3359827</td>\n",
              "      <td>222</td>\n",
              "      <td>Bangalore</td>\n",
              "      <td>2008-04-18</td>\n",
              "      <td>BB McCullum</td>\n",
              "      <td>14</td>\n",
              "      <td>0</td>\n",
              "      <td>12</td>\n",
              "      <td>7</td>\n",
              "      <td>...</td>\n",
              "      <td>NaN</td>\n",
              "      <td>NaN</td>\n",
              "      <td>NaN</td>\n",
              "      <td>NaN</td>\n",
              "      <td>7</td>\n",
              "      <td>12</td>\n",
              "      <td>2008</td>\n",
              "      <td>0.0</td>\n",
              "      <td>1.0</td>\n",
              "      <td>0</td>\n",
              "    </tr>\n",
              "    <tr>\n",
              "      <th>2</th>\n",
              "      <td>335982</td>\n",
              "      <td>3359827</td>\n",
              "      <td>222</td>\n",
              "      <td>Bangalore</td>\n",
              "      <td>2008-04-18</td>\n",
              "      <td>BB McCullum</td>\n",
              "      <td>14</td>\n",
              "      <td>0</td>\n",
              "      <td>12</td>\n",
              "      <td>7</td>\n",
              "      <td>...</td>\n",
              "      <td>NaN</td>\n",
              "      <td>NaN</td>\n",
              "      <td>NaN</td>\n",
              "      <td>wides</td>\n",
              "      <td>7</td>\n",
              "      <td>12</td>\n",
              "      <td>2008</td>\n",
              "      <td>0.0</td>\n",
              "      <td>1.0</td>\n",
              "      <td>0</td>\n",
              "    </tr>\n",
              "    <tr>\n",
              "      <th>3</th>\n",
              "      <td>335982</td>\n",
              "      <td>3359827</td>\n",
              "      <td>222</td>\n",
              "      <td>Bangalore</td>\n",
              "      <td>2008-04-18</td>\n",
              "      <td>BB McCullum</td>\n",
              "      <td>14</td>\n",
              "      <td>0</td>\n",
              "      <td>12</td>\n",
              "      <td>7</td>\n",
              "      <td>...</td>\n",
              "      <td>NaN</td>\n",
              "      <td>NaN</td>\n",
              "      <td>NaN</td>\n",
              "      <td>NaN</td>\n",
              "      <td>7</td>\n",
              "      <td>12</td>\n",
              "      <td>2008</td>\n",
              "      <td>0.0</td>\n",
              "      <td>1.0</td>\n",
              "      <td>0</td>\n",
              "    </tr>\n",
              "    <tr>\n",
              "      <th>4</th>\n",
              "      <td>335982</td>\n",
              "      <td>3359827</td>\n",
              "      <td>222</td>\n",
              "      <td>Bangalore</td>\n",
              "      <td>2008-04-18</td>\n",
              "      <td>BB McCullum</td>\n",
              "      <td>14</td>\n",
              "      <td>0</td>\n",
              "      <td>12</td>\n",
              "      <td>7</td>\n",
              "      <td>...</td>\n",
              "      <td>NaN</td>\n",
              "      <td>NaN</td>\n",
              "      <td>NaN</td>\n",
              "      <td>NaN</td>\n",
              "      <td>7</td>\n",
              "      <td>12</td>\n",
              "      <td>2008</td>\n",
              "      <td>0.0</td>\n",
              "      <td>1.0</td>\n",
              "      <td>0</td>\n",
              "    </tr>\n",
              "  </tbody>\n",
              "</table>\n",
              "<p>5 rows × 40 columns</p>\n",
              "</div>"
            ],
            "text/plain": [
              "       id id_inning  total_runs_x       city        date player_of_match  \\\n",
              "0  335982   3359827           222  Bangalore  2008-04-18     BB McCullum   \n",
              "1  335982   3359827           222  Bangalore  2008-04-18     BB McCullum   \n",
              "2  335982   3359827           222  Bangalore  2008-04-18     BB McCullum   \n",
              "3  335982   3359827           222  Bangalore  2008-04-18     BB McCullum   \n",
              "4  335982   3359827           222  Bangalore  2008-04-18     BB McCullum   \n",
              "\n",
              "   venue  neutral_venue  team1  team2  ...  dismissal_kind player_dismissed  \\\n",
              "0     14              0     12      7  ...             NaN              NaN   \n",
              "1     14              0     12      7  ...             NaN              NaN   \n",
              "2     14              0     12      7  ...             NaN              NaN   \n",
              "3     14              0     12      7  ...             NaN              NaN   \n",
              "4     14              0     12      7  ...             NaN              NaN   \n",
              "\n",
              "   fielder extras_type  batting_team bowling_team  year team1_win  \\\n",
              "0      NaN     legbyes             7           12  2008       0.0   \n",
              "1      NaN         NaN             7           12  2008       0.0   \n",
              "2      NaN       wides             7           12  2008       0.0   \n",
              "3      NaN         NaN             7           12  2008       0.0   \n",
              "4      NaN         NaN             7           12  2008       0.0   \n",
              "\n",
              "  team1_toss_win  team1_bat  \n",
              "0            1.0          0  \n",
              "1            1.0          0  \n",
              "2            1.0          0  \n",
              "3            1.0          0  \n",
              "4            1.0          0  \n",
              "\n",
              "[5 rows x 40 columns]"
            ]
          },
          "execution_count": 13,
          "metadata": {},
          "output_type": "execute_result"
        }
      ],
      "source": [
        "data2.reset_index(inplace= True)\n",
        "data2.head()"
      ]
    },
    {
      "cell_type": "code",
      "execution_count": 14,
      "metadata": {
        "colab": {
          "base_uri": "https://localhost:8080/"
        },
        "id": "99J7b3z0suVR",
        "outputId": "c9bb6e30-b370-43cb-dced-595d5ded0b2e"
      },
      "outputs": [
        {
          "name": "stdout",
          "output_type": "stream",
          "text": [
            "(193096, 40)\n",
            "(193096, 19)\n"
          ]
        }
      ],
      "source": [
        "df = pd.DataFrame()\n",
        "for i in range(len(data2['inning'].unique())):\n",
        "    one_inning = data2.loc[data2['inning']==data2['inning'].unique()[i]]\n",
        "    one_inning = one_inning.sort_values(['year','id_inning','over', 'ball'], ascending=[True,True,True, True])\n",
        "    one_inning = one_inning[['id_inning','year','inning','ball','venue','batsman','bowler','batting_team','bowling_team',\n",
        "                             'is_wicket','total_runs_y','total_runs_x','team1_toss_win','team1_win','team1_bat','team1','team2']].reset_index(drop=True)\n",
        "    #the number of columns are high here since we need the later ones for winner prediction and earlier ones for score prediction                       \n",
        "    one_inning['current_runs'] = one_inning.groupby(['id_inning'])['total_runs_y'].cumsum()\n",
        "    one_inning['current_wickets'] = one_inning.groupby(['id_inning'])['is_wicket'].cumsum()\n",
        "    \n",
        "\n",
        "    one_inning.tail()\n",
        "    frame = [df,one_inning]\n",
        "    df = pd.concat(frame)\n",
        "print(data2.shape)\n",
        "print(df.shape)"
      ]
    },
    {
      "cell_type": "code",
      "execution_count": 15,
      "metadata": {
        "id": "GkDl3UooS3t4"
      },
      "outputs": [],
      "source": [
        "df['runs_last5']= df['total_runs_y'].rolling(min_periods=1, window=30).sum()"
      ]
    },
    {
      "cell_type": "code",
      "execution_count": 16,
      "metadata": {
        "id": "xRsijpJuTH2d"
      },
      "outputs": [],
      "source": [
        "df['wickets_last5']= df['is_wicket'].rolling(min_periods=1, window=30).sum()"
      ]
    },
    {
      "cell_type": "code",
      "execution_count": 17,
      "metadata": {
        "colab": {
          "base_uri": "https://localhost:8080/",
          "height": 270
        },
        "id": "_43casJuUi3z",
        "outputId": "46ec4da5-d20d-4d46-8ebe-687426b167a5"
      },
      "outputs": [
        {
          "data": {
            "text/html": [
              "<div>\n",
              "<style scoped>\n",
              "    .dataframe tbody tr th:only-of-type {\n",
              "        vertical-align: middle;\n",
              "    }\n",
              "\n",
              "    .dataframe tbody tr th {\n",
              "        vertical-align: top;\n",
              "    }\n",
              "\n",
              "    .dataframe thead th {\n",
              "        text-align: right;\n",
              "    }\n",
              "</style>\n",
              "<table border=\"1\" class=\"dataframe\">\n",
              "  <thead>\n",
              "    <tr style=\"text-align: right;\">\n",
              "      <th></th>\n",
              "      <th>id_inning</th>\n",
              "      <th>year</th>\n",
              "      <th>inning</th>\n",
              "      <th>ball</th>\n",
              "      <th>venue</th>\n",
              "      <th>batsman</th>\n",
              "      <th>bowler</th>\n",
              "      <th>batting_team</th>\n",
              "      <th>bowling_team</th>\n",
              "      <th>is_wicket</th>\n",
              "      <th>...</th>\n",
              "      <th>total_runs_x</th>\n",
              "      <th>team1_toss_win</th>\n",
              "      <th>team1_win</th>\n",
              "      <th>team1_bat</th>\n",
              "      <th>team1</th>\n",
              "      <th>team2</th>\n",
              "      <th>current_runs</th>\n",
              "      <th>current_wickets</th>\n",
              "      <th>runs_last5</th>\n",
              "      <th>wickets_last5</th>\n",
              "    </tr>\n",
              "  </thead>\n",
              "  <tbody>\n",
              "    <tr>\n",
              "      <th>0</th>\n",
              "      <td>3359827</td>\n",
              "      <td>2008</td>\n",
              "      <td>1</td>\n",
              "      <td>1.1</td>\n",
              "      <td>14</td>\n",
              "      <td>431</td>\n",
              "      <td>264</td>\n",
              "      <td>7</td>\n",
              "      <td>12</td>\n",
              "      <td>0</td>\n",
              "      <td>...</td>\n",
              "      <td>222</td>\n",
              "      <td>1.0</td>\n",
              "      <td>0.0</td>\n",
              "      <td>0</td>\n",
              "      <td>12</td>\n",
              "      <td>7</td>\n",
              "      <td>1</td>\n",
              "      <td>0</td>\n",
              "      <td>1.0</td>\n",
              "      <td>0.0</td>\n",
              "    </tr>\n",
              "    <tr>\n",
              "      <th>1</th>\n",
              "      <td>3359827</td>\n",
              "      <td>2008</td>\n",
              "      <td>1</td>\n",
              "      <td>1.2</td>\n",
              "      <td>14</td>\n",
              "      <td>77</td>\n",
              "      <td>264</td>\n",
              "      <td>7</td>\n",
              "      <td>12</td>\n",
              "      <td>0</td>\n",
              "      <td>...</td>\n",
              "      <td>222</td>\n",
              "      <td>1.0</td>\n",
              "      <td>0.0</td>\n",
              "      <td>0</td>\n",
              "      <td>12</td>\n",
              "      <td>7</td>\n",
              "      <td>1</td>\n",
              "      <td>0</td>\n",
              "      <td>1.0</td>\n",
              "      <td>0.0</td>\n",
              "    </tr>\n",
              "    <tr>\n",
              "      <th>2</th>\n",
              "      <td>3359827</td>\n",
              "      <td>2008</td>\n",
              "      <td>1</td>\n",
              "      <td>1.3</td>\n",
              "      <td>14</td>\n",
              "      <td>77</td>\n",
              "      <td>264</td>\n",
              "      <td>7</td>\n",
              "      <td>12</td>\n",
              "      <td>0</td>\n",
              "      <td>...</td>\n",
              "      <td>222</td>\n",
              "      <td>1.0</td>\n",
              "      <td>0.0</td>\n",
              "      <td>0</td>\n",
              "      <td>12</td>\n",
              "      <td>7</td>\n",
              "      <td>2</td>\n",
              "      <td>0</td>\n",
              "      <td>2.0</td>\n",
              "      <td>0.0</td>\n",
              "    </tr>\n",
              "    <tr>\n",
              "      <th>3</th>\n",
              "      <td>3359827</td>\n",
              "      <td>2008</td>\n",
              "      <td>1</td>\n",
              "      <td>1.4</td>\n",
              "      <td>14</td>\n",
              "      <td>77</td>\n",
              "      <td>264</td>\n",
              "      <td>7</td>\n",
              "      <td>12</td>\n",
              "      <td>0</td>\n",
              "      <td>...</td>\n",
              "      <td>222</td>\n",
              "      <td>1.0</td>\n",
              "      <td>0.0</td>\n",
              "      <td>0</td>\n",
              "      <td>12</td>\n",
              "      <td>7</td>\n",
              "      <td>2</td>\n",
              "      <td>0</td>\n",
              "      <td>2.0</td>\n",
              "      <td>0.0</td>\n",
              "    </tr>\n",
              "    <tr>\n",
              "      <th>4</th>\n",
              "      <td>3359827</td>\n",
              "      <td>2008</td>\n",
              "      <td>1</td>\n",
              "      <td>1.5</td>\n",
              "      <td>14</td>\n",
              "      <td>77</td>\n",
              "      <td>264</td>\n",
              "      <td>7</td>\n",
              "      <td>12</td>\n",
              "      <td>0</td>\n",
              "      <td>...</td>\n",
              "      <td>222</td>\n",
              "      <td>1.0</td>\n",
              "      <td>0.0</td>\n",
              "      <td>0</td>\n",
              "      <td>12</td>\n",
              "      <td>7</td>\n",
              "      <td>2</td>\n",
              "      <td>0</td>\n",
              "      <td>2.0</td>\n",
              "      <td>0.0</td>\n",
              "    </tr>\n",
              "  </tbody>\n",
              "</table>\n",
              "<p>5 rows × 21 columns</p>\n",
              "</div>"
            ],
            "text/plain": [
              "  id_inning  year  inning  ball  venue  batsman  bowler  batting_team  \\\n",
              "0   3359827  2008       1   1.1     14      431     264             7   \n",
              "1   3359827  2008       1   1.2     14       77     264             7   \n",
              "2   3359827  2008       1   1.3     14       77     264             7   \n",
              "3   3359827  2008       1   1.4     14       77     264             7   \n",
              "4   3359827  2008       1   1.5     14       77     264             7   \n",
              "\n",
              "   bowling_team  is_wicket  ...  total_runs_x  team1_toss_win  team1_win  \\\n",
              "0            12          0  ...           222             1.0        0.0   \n",
              "1            12          0  ...           222             1.0        0.0   \n",
              "2            12          0  ...           222             1.0        0.0   \n",
              "3            12          0  ...           222             1.0        0.0   \n",
              "4            12          0  ...           222             1.0        0.0   \n",
              "\n",
              "   team1_bat  team1  team2  current_runs  current_wickets  runs_last5  \\\n",
              "0          0     12      7             1                0         1.0   \n",
              "1          0     12      7             1                0         1.0   \n",
              "2          0     12      7             2                0         2.0   \n",
              "3          0     12      7             2                0         2.0   \n",
              "4          0     12      7             2                0         2.0   \n",
              "\n",
              "   wickets_last5  \n",
              "0            0.0  \n",
              "1            0.0  \n",
              "2            0.0  \n",
              "3            0.0  \n",
              "4            0.0  \n",
              "\n",
              "[5 rows x 21 columns]"
            ]
          },
          "execution_count": 17,
          "metadata": {},
          "output_type": "execute_result"
        }
      ],
      "source": [
        "df.head()"
      ]
    },
    {
      "cell_type": "code",
      "execution_count": 18,
      "metadata": {
        "colab": {
          "base_uri": "https://localhost:8080/",
          "height": 270
        },
        "id": "5Ji9PO7JwZeO",
        "outputId": "147d4e6e-1d3b-447f-ac28-98112ae02369"
      },
      "outputs": [
        {
          "data": {
            "text/html": [
              "<div>\n",
              "<style scoped>\n",
              "    .dataframe tbody tr th:only-of-type {\n",
              "        vertical-align: middle;\n",
              "    }\n",
              "\n",
              "    .dataframe tbody tr th {\n",
              "        vertical-align: top;\n",
              "    }\n",
              "\n",
              "    .dataframe thead th {\n",
              "        text-align: right;\n",
              "    }\n",
              "</style>\n",
              "<table border=\"1\" class=\"dataframe\">\n",
              "  <thead>\n",
              "    <tr style=\"text-align: right;\">\n",
              "      <th></th>\n",
              "      <th>id_inning</th>\n",
              "      <th>year</th>\n",
              "      <th>inning</th>\n",
              "      <th>ball</th>\n",
              "      <th>venue</th>\n",
              "      <th>batsman</th>\n",
              "      <th>bowler</th>\n",
              "      <th>batting_team</th>\n",
              "      <th>bowling_team</th>\n",
              "      <th>is_wicket</th>\n",
              "      <th>...</th>\n",
              "      <th>total_runs_x</th>\n",
              "      <th>team1_toss_win</th>\n",
              "      <th>team1_win</th>\n",
              "      <th>team1_bat</th>\n",
              "      <th>team1</th>\n",
              "      <th>team2</th>\n",
              "      <th>current_runs</th>\n",
              "      <th>current_wickets</th>\n",
              "      <th>runs_last5</th>\n",
              "      <th>wickets_last5</th>\n",
              "    </tr>\n",
              "  </thead>\n",
              "  <tbody>\n",
              "    <tr>\n",
              "      <th>26</th>\n",
              "      <td>3359827</td>\n",
              "      <td>2008</td>\n",
              "      <td>1</td>\n",
              "      <td>5.1</td>\n",
              "      <td>14</td>\n",
              "      <td>431</td>\n",
              "      <td>264</td>\n",
              "      <td>7</td>\n",
              "      <td>12</td>\n",
              "      <td>0</td>\n",
              "      <td>...</td>\n",
              "      <td>222</td>\n",
              "      <td>1.0</td>\n",
              "      <td>0.0</td>\n",
              "      <td>0</td>\n",
              "      <td>12</td>\n",
              "      <td>7</td>\n",
              "      <td>54</td>\n",
              "      <td>0</td>\n",
              "      <td>54.0</td>\n",
              "      <td>0.0</td>\n",
              "    </tr>\n",
              "    <tr>\n",
              "      <th>27</th>\n",
              "      <td>3359827</td>\n",
              "      <td>2008</td>\n",
              "      <td>1</td>\n",
              "      <td>5.2</td>\n",
              "      <td>14</td>\n",
              "      <td>431</td>\n",
              "      <td>264</td>\n",
              "      <td>7</td>\n",
              "      <td>12</td>\n",
              "      <td>0</td>\n",
              "      <td>...</td>\n",
              "      <td>222</td>\n",
              "      <td>1.0</td>\n",
              "      <td>0.0</td>\n",
              "      <td>0</td>\n",
              "      <td>12</td>\n",
              "      <td>7</td>\n",
              "      <td>55</td>\n",
              "      <td>0</td>\n",
              "      <td>55.0</td>\n",
              "      <td>0.0</td>\n",
              "    </tr>\n",
              "    <tr>\n",
              "      <th>28</th>\n",
              "      <td>3359827</td>\n",
              "      <td>2008</td>\n",
              "      <td>1</td>\n",
              "      <td>5.3</td>\n",
              "      <td>14</td>\n",
              "      <td>77</td>\n",
              "      <td>264</td>\n",
              "      <td>7</td>\n",
              "      <td>12</td>\n",
              "      <td>0</td>\n",
              "      <td>...</td>\n",
              "      <td>222</td>\n",
              "      <td>1.0</td>\n",
              "      <td>0.0</td>\n",
              "      <td>0</td>\n",
              "      <td>12</td>\n",
              "      <td>7</td>\n",
              "      <td>59</td>\n",
              "      <td>0</td>\n",
              "      <td>59.0</td>\n",
              "      <td>0.0</td>\n",
              "    </tr>\n",
              "    <tr>\n",
              "      <th>29</th>\n",
              "      <td>3359827</td>\n",
              "      <td>2008</td>\n",
              "      <td>1</td>\n",
              "      <td>5.4</td>\n",
              "      <td>14</td>\n",
              "      <td>77</td>\n",
              "      <td>264</td>\n",
              "      <td>7</td>\n",
              "      <td>12</td>\n",
              "      <td>0</td>\n",
              "      <td>...</td>\n",
              "      <td>222</td>\n",
              "      <td>1.0</td>\n",
              "      <td>0.0</td>\n",
              "      <td>0</td>\n",
              "      <td>12</td>\n",
              "      <td>7</td>\n",
              "      <td>59</td>\n",
              "      <td>0</td>\n",
              "      <td>59.0</td>\n",
              "      <td>0.0</td>\n",
              "    </tr>\n",
              "    <tr>\n",
              "      <th>30</th>\n",
              "      <td>3359827</td>\n",
              "      <td>2008</td>\n",
              "      <td>1</td>\n",
              "      <td>5.5</td>\n",
              "      <td>14</td>\n",
              "      <td>77</td>\n",
              "      <td>264</td>\n",
              "      <td>7</td>\n",
              "      <td>12</td>\n",
              "      <td>0</td>\n",
              "      <td>...</td>\n",
              "      <td>222</td>\n",
              "      <td>1.0</td>\n",
              "      <td>0.0</td>\n",
              "      <td>0</td>\n",
              "      <td>12</td>\n",
              "      <td>7</td>\n",
              "      <td>60</td>\n",
              "      <td>0</td>\n",
              "      <td>59.0</td>\n",
              "      <td>0.0</td>\n",
              "    </tr>\n",
              "  </tbody>\n",
              "</table>\n",
              "<p>5 rows × 21 columns</p>\n",
              "</div>"
            ],
            "text/plain": [
              "   id_inning  year  inning  ball  venue  batsman  bowler  batting_team  \\\n",
              "26   3359827  2008       1   5.1     14      431     264             7   \n",
              "27   3359827  2008       1   5.2     14      431     264             7   \n",
              "28   3359827  2008       1   5.3     14       77     264             7   \n",
              "29   3359827  2008       1   5.4     14       77     264             7   \n",
              "30   3359827  2008       1   5.5     14       77     264             7   \n",
              "\n",
              "    bowling_team  is_wicket  ...  total_runs_x  team1_toss_win  team1_win  \\\n",
              "26            12          0  ...           222             1.0        0.0   \n",
              "27            12          0  ...           222             1.0        0.0   \n",
              "28            12          0  ...           222             1.0        0.0   \n",
              "29            12          0  ...           222             1.0        0.0   \n",
              "30            12          0  ...           222             1.0        0.0   \n",
              "\n",
              "    team1_bat  team1  team2  current_runs  current_wickets  runs_last5  \\\n",
              "26          0     12      7            54                0        54.0   \n",
              "27          0     12      7            55                0        55.0   \n",
              "28          0     12      7            59                0        59.0   \n",
              "29          0     12      7            59                0        59.0   \n",
              "30          0     12      7            60                0        59.0   \n",
              "\n",
              "    wickets_last5  \n",
              "26            0.0  \n",
              "27            0.0  \n",
              "28            0.0  \n",
              "29            0.0  \n",
              "30            0.0  \n",
              "\n",
              "[5 rows x 21 columns]"
            ]
          },
          "execution_count": 18,
          "metadata": {},
          "output_type": "execute_result"
        }
      ],
      "source": [
        "df = df[df['ball'].astype(int)>=5]\n",
        "df.head()"
      ]
    },
    {
      "cell_type": "code",
      "execution_count": 19,
      "metadata": {
        "id": "PVHM1i2Iv05E"
      },
      "outputs": [],
      "source": [
        "#no need to uncomment and run last line in this cell. It was used to save data for loading again in training Deep learning models in another\n",
        "#colab notebook. Has no relevance with the code here. \n",
        "# df.to_csv(\"/content/drive/MyDrive/WiDS_IPL/ipl_predict_winner_dl.csv\", index=True)"
      ]
    },
    {
      "cell_type": "code",
      "execution_count": 20,
      "metadata": {
        "colab": {
          "base_uri": "https://localhost:8080/",
          "height": 784
        },
        "id": "s9OgFt4fsup7",
        "outputId": "cecc0d26-9b3c-49c9-dd9a-337bbce88965"
      },
      "outputs": [
        {
          "data": {
            "image/png": "[encoded data removed]",
            "text/plain": [
              "<Figure size 1500x1800 with 2 Axes>"
            ]
          },
          "metadata": {},
          "output_type": "display_data"
        }
      ],
      "source": [
        "corr = df.corr().abs()\n",
        "mask = np.triu(np.ones_like(corr, dtype=bool) )\n",
        "\n",
        "# Set up the matplotlib figure\n",
        "f, ax = plt.subplots(figsize=(15, 18))\n",
        "\n",
        "# Generate a custom diverging colormap\n",
        "# cmap = sns.diverging_palette(230, 20, as_cmap=True)\n",
        "cmap =  sns.diverging_palette(150, 275, s=80, l=55, n=20,as_cmap=True) \n",
        "# Draw the heatmap with the mask and correct aspect ratio\n",
        "sns.heatmap(corr, mask=mask,    center=0,\n",
        "            square=True, linewidths=.3, cbar_kws={\"shrink\": .5},annot=True)\n",
        "plt.show()"
      ]
    },
    {
      "cell_type": "code",
      "execution_count": 21,
      "metadata": {
        "colab": {
          "base_uri": "https://localhost:8080/",
          "height": 270
        },
        "id": "YQbn_6yftetb",
        "outputId": "b5194622-3f6d-4cb8-d398-e3fb065002b7"
      },
      "outputs": [
        {
          "data": {
            "text/html": [
              "<div>\n",
              "<style scoped>\n",
              "    .dataframe tbody tr th:only-of-type {\n",
              "        vertical-align: middle;\n",
              "    }\n",
              "\n",
              "    .dataframe tbody tr th {\n",
              "        vertical-align: top;\n",
              "    }\n",
              "\n",
              "    .dataframe thead th {\n",
              "        text-align: right;\n",
              "    }\n",
              "</style>\n",
              "<table border=\"1\" class=\"dataframe\">\n",
              "  <thead>\n",
              "    <tr style=\"text-align: right;\">\n",
              "      <th></th>\n",
              "      <th>id_inning</th>\n",
              "      <th>year</th>\n",
              "      <th>inning</th>\n",
              "      <th>ball</th>\n",
              "      <th>venue</th>\n",
              "      <th>batsman</th>\n",
              "      <th>bowler</th>\n",
              "      <th>batting_team</th>\n",
              "      <th>bowling_team</th>\n",
              "      <th>is_wicket</th>\n",
              "      <th>...</th>\n",
              "      <th>total_runs_x</th>\n",
              "      <th>team1_toss_win</th>\n",
              "      <th>team1_win</th>\n",
              "      <th>team1_bat</th>\n",
              "      <th>team1</th>\n",
              "      <th>team2</th>\n",
              "      <th>current_runs</th>\n",
              "      <th>current_wickets</th>\n",
              "      <th>runs_last5</th>\n",
              "      <th>wickets_last5</th>\n",
              "    </tr>\n",
              "  </thead>\n",
              "  <tbody>\n",
              "    <tr>\n",
              "      <th>86200</th>\n",
              "      <td>11817680</td>\n",
              "      <td>2019</td>\n",
              "      <td>2</td>\n",
              "      <td>20.2</td>\n",
              "      <td>24</td>\n",
              "      <td>372</td>\n",
              "      <td>350</td>\n",
              "      <td>0</td>\n",
              "      <td>8</td>\n",
              "      <td>0</td>\n",
              "      <td>...</td>\n",
              "      <td>148</td>\n",
              "      <td>1.0</td>\n",
              "      <td>1.0</td>\n",
              "      <td>1</td>\n",
              "      <td>8</td>\n",
              "      <td>0</td>\n",
              "      <td>143</td>\n",
              "      <td>5</td>\n",
              "      <td>58.0</td>\n",
              "      <td>1.0</td>\n",
              "    </tr>\n",
              "    <tr>\n",
              "      <th>86201</th>\n",
              "      <td>11817680</td>\n",
              "      <td>2019</td>\n",
              "      <td>2</td>\n",
              "      <td>20.3</td>\n",
              "      <td>24</td>\n",
              "      <td>456</td>\n",
              "      <td>350</td>\n",
              "      <td>0</td>\n",
              "      <td>8</td>\n",
              "      <td>0</td>\n",
              "      <td>...</td>\n",
              "      <td>148</td>\n",
              "      <td>1.0</td>\n",
              "      <td>1.0</td>\n",
              "      <td>1</td>\n",
              "      <td>8</td>\n",
              "      <td>0</td>\n",
              "      <td>145</td>\n",
              "      <td>5</td>\n",
              "      <td>60.0</td>\n",
              "      <td>1.0</td>\n",
              "    </tr>\n",
              "    <tr>\n",
              "      <th>86202</th>\n",
              "      <td>11817680</td>\n",
              "      <td>2019</td>\n",
              "      <td>2</td>\n",
              "      <td>20.4</td>\n",
              "      <td>24</td>\n",
              "      <td>456</td>\n",
              "      <td>350</td>\n",
              "      <td>0</td>\n",
              "      <td>8</td>\n",
              "      <td>1</td>\n",
              "      <td>...</td>\n",
              "      <td>148</td>\n",
              "      <td>1.0</td>\n",
              "      <td>1.0</td>\n",
              "      <td>1</td>\n",
              "      <td>8</td>\n",
              "      <td>0</td>\n",
              "      <td>146</td>\n",
              "      <td>6</td>\n",
              "      <td>59.0</td>\n",
              "      <td>2.0</td>\n",
              "    </tr>\n",
              "    <tr>\n",
              "      <th>86203</th>\n",
              "      <td>11817680</td>\n",
              "      <td>2019</td>\n",
              "      <td>2</td>\n",
              "      <td>20.5</td>\n",
              "      <td>24</td>\n",
              "      <td>448</td>\n",
              "      <td>350</td>\n",
              "      <td>0</td>\n",
              "      <td>8</td>\n",
              "      <td>0</td>\n",
              "      <td>...</td>\n",
              "      <td>148</td>\n",
              "      <td>1.0</td>\n",
              "      <td>1.0</td>\n",
              "      <td>1</td>\n",
              "      <td>8</td>\n",
              "      <td>0</td>\n",
              "      <td>148</td>\n",
              "      <td>6</td>\n",
              "      <td>61.0</td>\n",
              "      <td>2.0</td>\n",
              "    </tr>\n",
              "    <tr>\n",
              "      <th>86204</th>\n",
              "      <td>11817680</td>\n",
              "      <td>2019</td>\n",
              "      <td>2</td>\n",
              "      <td>20.6</td>\n",
              "      <td>24</td>\n",
              "      <td>448</td>\n",
              "      <td>350</td>\n",
              "      <td>0</td>\n",
              "      <td>8</td>\n",
              "      <td>1</td>\n",
              "      <td>...</td>\n",
              "      <td>148</td>\n",
              "      <td>1.0</td>\n",
              "      <td>1.0</td>\n",
              "      <td>1</td>\n",
              "      <td>8</td>\n",
              "      <td>0</td>\n",
              "      <td>148</td>\n",
              "      <td>7</td>\n",
              "      <td>60.0</td>\n",
              "      <td>3.0</td>\n",
              "    </tr>\n",
              "  </tbody>\n",
              "</table>\n",
              "<p>5 rows × 21 columns</p>\n",
              "</div>"
            ],
            "text/plain": [
              "      id_inning  year  inning  ball  venue  batsman  bowler  batting_team  \\\n",
              "86200  11817680  2019       2  20.2     24      372     350             0   \n",
              "86201  11817680  2019       2  20.3     24      456     350             0   \n",
              "86202  11817680  2019       2  20.4     24      456     350             0   \n",
              "86203  11817680  2019       2  20.5     24      448     350             0   \n",
              "86204  11817680  2019       2  20.6     24      448     350             0   \n",
              "\n",
              "       bowling_team  is_wicket  ...  total_runs_x  team1_toss_win  team1_win  \\\n",
              "86200             8          0  ...           148             1.0        1.0   \n",
              "86201             8          0  ...           148             1.0        1.0   \n",
              "86202             8          1  ...           148             1.0        1.0   \n",
              "86203             8          0  ...           148             1.0        1.0   \n",
              "86204             8          1  ...           148             1.0        1.0   \n",
              "\n",
              "       team1_bat  team1  team2  current_runs  current_wickets  runs_last5  \\\n",
              "86200          1      8      0           143                5        58.0   \n",
              "86201          1      8      0           145                5        60.0   \n",
              "86202          1      8      0           146                6        59.0   \n",
              "86203          1      8      0           148                6        61.0   \n",
              "86204          1      8      0           148                7        60.0   \n",
              "\n",
              "       wickets_last5  \n",
              "86200            1.0  \n",
              "86201            1.0  \n",
              "86202            2.0  \n",
              "86203            2.0  \n",
              "86204            3.0  \n",
              "\n",
              "[5 rows x 21 columns]"
            ]
          },
          "execution_count": 21,
          "metadata": {},
          "output_type": "execute_result"
        }
      ],
      "source": [
        "X_train_data = df[df['year'] <2020]\n",
        "X_train_data.tail()"
      ]
    },
    {
      "cell_type": "code",
      "execution_count": 22,
      "metadata": {
        "id": "J5Y7n7G_uTu-"
      },
      "outputs": [],
      "source": [
        "X_test_data = df[df['year']==2020]\n"
      ]
    },
    {
      "cell_type": "code",
      "execution_count": 23,
      "metadata": {
        "id": "BBskcOlvsugo"
      },
      "outputs": [],
      "source": [
        "X_train_data.drop(columns= ['id_inning'],inplace = True)\n",
        "X_test_data.drop(columns= ['id_inning'],inplace = True)"
      ]
    },
    {
      "cell_type": "code",
      "execution_count": 24,
      "metadata": {
        "colab": {
          "base_uri": "https://localhost:8080/",
          "height": 270
        },
        "id": "vDhcUj-atd2h",
        "outputId": "f7034552-100f-486a-97d7-acd8f4974791"
      },
      "outputs": [
        {
          "data": {
            "text/html": [
              "<div>\n",
              "<style scoped>\n",
              "    .dataframe tbody tr th:only-of-type {\n",
              "        vertical-align: middle;\n",
              "    }\n",
              "\n",
              "    .dataframe tbody tr th {\n",
              "        vertical-align: top;\n",
              "    }\n",
              "\n",
              "    .dataframe thead th {\n",
              "        text-align: right;\n",
              "    }\n",
              "</style>\n",
              "<table border=\"1\" class=\"dataframe\">\n",
              "  <thead>\n",
              "    <tr style=\"text-align: right;\">\n",
              "      <th></th>\n",
              "      <th>year</th>\n",
              "      <th>inning</th>\n",
              "      <th>ball</th>\n",
              "      <th>venue</th>\n",
              "      <th>batsman</th>\n",
              "      <th>bowler</th>\n",
              "      <th>batting_team</th>\n",
              "      <th>bowling_team</th>\n",
              "      <th>is_wicket</th>\n",
              "      <th>total_runs_y</th>\n",
              "      <th>total_runs_x</th>\n",
              "      <th>team1_toss_win</th>\n",
              "      <th>team1_win</th>\n",
              "      <th>team1_bat</th>\n",
              "      <th>team1</th>\n",
              "      <th>team2</th>\n",
              "      <th>current_runs</th>\n",
              "      <th>current_wickets</th>\n",
              "      <th>runs_last5</th>\n",
              "      <th>wickets_last5</th>\n",
              "    </tr>\n",
              "  </thead>\n",
              "  <tbody>\n",
              "    <tr>\n",
              "      <th>26</th>\n",
              "      <td>2008</td>\n",
              "      <td>1</td>\n",
              "      <td>5.1</td>\n",
              "      <td>14</td>\n",
              "      <td>431</td>\n",
              "      <td>264</td>\n",
              "      <td>7</td>\n",
              "      <td>12</td>\n",
              "      <td>0</td>\n",
              "      <td>4</td>\n",
              "      <td>222</td>\n",
              "      <td>1.0</td>\n",
              "      <td>0.0</td>\n",
              "      <td>0</td>\n",
              "      <td>12</td>\n",
              "      <td>7</td>\n",
              "      <td>54</td>\n",
              "      <td>0</td>\n",
              "      <td>54.0</td>\n",
              "      <td>0.0</td>\n",
              "    </tr>\n",
              "    <tr>\n",
              "      <th>27</th>\n",
              "      <td>2008</td>\n",
              "      <td>1</td>\n",
              "      <td>5.2</td>\n",
              "      <td>14</td>\n",
              "      <td>431</td>\n",
              "      <td>264</td>\n",
              "      <td>7</td>\n",
              "      <td>12</td>\n",
              "      <td>0</td>\n",
              "      <td>1</td>\n",
              "      <td>222</td>\n",
              "      <td>1.0</td>\n",
              "      <td>0.0</td>\n",
              "      <td>0</td>\n",
              "      <td>12</td>\n",
              "      <td>7</td>\n",
              "      <td>55</td>\n",
              "      <td>0</td>\n",
              "      <td>55.0</td>\n",
              "      <td>0.0</td>\n",
              "    </tr>\n",
              "    <tr>\n",
              "      <th>28</th>\n",
              "      <td>2008</td>\n",
              "      <td>1</td>\n",
              "      <td>5.3</td>\n",
              "      <td>14</td>\n",
              "      <td>77</td>\n",
              "      <td>264</td>\n",
              "      <td>7</td>\n",
              "      <td>12</td>\n",
              "      <td>0</td>\n",
              "      <td>4</td>\n",
              "      <td>222</td>\n",
              "      <td>1.0</td>\n",
              "      <td>0.0</td>\n",
              "      <td>0</td>\n",
              "      <td>12</td>\n",
              "      <td>7</td>\n",
              "      <td>59</td>\n",
              "      <td>0</td>\n",
              "      <td>59.0</td>\n",
              "      <td>0.0</td>\n",
              "    </tr>\n",
              "    <tr>\n",
              "      <th>29</th>\n",
              "      <td>2008</td>\n",
              "      <td>1</td>\n",
              "      <td>5.4</td>\n",
              "      <td>14</td>\n",
              "      <td>77</td>\n",
              "      <td>264</td>\n",
              "      <td>7</td>\n",
              "      <td>12</td>\n",
              "      <td>0</td>\n",
              "      <td>0</td>\n",
              "      <td>222</td>\n",
              "      <td>1.0</td>\n",
              "      <td>0.0</td>\n",
              "      <td>0</td>\n",
              "      <td>12</td>\n",
              "      <td>7</td>\n",
              "      <td>59</td>\n",
              "      <td>0</td>\n",
              "      <td>59.0</td>\n",
              "      <td>0.0</td>\n",
              "    </tr>\n",
              "    <tr>\n",
              "      <th>30</th>\n",
              "      <td>2008</td>\n",
              "      <td>1</td>\n",
              "      <td>5.5</td>\n",
              "      <td>14</td>\n",
              "      <td>77</td>\n",
              "      <td>264</td>\n",
              "      <td>7</td>\n",
              "      <td>12</td>\n",
              "      <td>0</td>\n",
              "      <td>1</td>\n",
              "      <td>222</td>\n",
              "      <td>1.0</td>\n",
              "      <td>0.0</td>\n",
              "      <td>0</td>\n",
              "      <td>12</td>\n",
              "      <td>7</td>\n",
              "      <td>60</td>\n",
              "      <td>0</td>\n",
              "      <td>59.0</td>\n",
              "      <td>0.0</td>\n",
              "    </tr>\n",
              "  </tbody>\n",
              "</table>\n",
              "</div>"
            ],
            "text/plain": [
              "    year  inning  ball  venue  batsman  bowler  batting_team  bowling_team  \\\n",
              "26  2008       1   5.1     14      431     264             7            12   \n",
              "27  2008       1   5.2     14      431     264             7            12   \n",
              "28  2008       1   5.3     14       77     264             7            12   \n",
              "29  2008       1   5.4     14       77     264             7            12   \n",
              "30  2008       1   5.5     14       77     264             7            12   \n",
              "\n",
              "    is_wicket  total_runs_y  total_runs_x  team1_toss_win  team1_win  \\\n",
              "26          0             4           222             1.0        0.0   \n",
              "27          0             1           222             1.0        0.0   \n",
              "28          0             4           222             1.0        0.0   \n",
              "29          0             0           222             1.0        0.0   \n",
              "30          0             1           222             1.0        0.0   \n",
              "\n",
              "    team1_bat  team1  team2  current_runs  current_wickets  runs_last5  \\\n",
              "26          0     12      7            54                0        54.0   \n",
              "27          0     12      7            55                0        55.0   \n",
              "28          0     12      7            59                0        59.0   \n",
              "29          0     12      7            59                0        59.0   \n",
              "30          0     12      7            60                0        59.0   \n",
              "\n",
              "    wickets_last5  \n",
              "26            0.0  \n",
              "27            0.0  \n",
              "28            0.0  \n",
              "29            0.0  \n",
              "30            0.0  "
            ]
          },
          "execution_count": 24,
          "metadata": {},
          "output_type": "execute_result"
        }
      ],
      "source": [
        "X_train_data.head()"
      ]
    },
    {
      "cell_type": "code",
      "execution_count": 25,
      "metadata": {
        "colab": {
          "base_uri": "https://localhost:8080/"
        },
        "id": "k7q-jdJEyk2X",
        "outputId": "f4fb238f-c1cf-4ecb-8ff6-47d014a96972"
      },
      "outputs": [
        {
          "name": "stderr",
          "output_type": "stream",
          "text": [
            "C:\\Users\\MAHIMA\\AppData\\Local\\Temp\\ipykernel_12604\\3072929002.py:1: DtypeWarning:\n",
            "\n",
            "Columns (17) have mixed types. Specify dtype option on import or set low_memory=False.\n",
            "\n"
          ]
        }
      ],
      "source": [
        "data = pd.read_csv('Data/ipl_predict_winner.csv')"
      ]
    },
    {
      "cell_type": "code",
      "execution_count": 26,
      "metadata": {
        "colab": {
          "base_uri": "https://localhost:8080/",
          "height": 357
        },
        "id": "8F0iDse8y1aP",
        "outputId": "fb5e017b-68b5-494e-a01f-7f4b59fa436c"
      },
      "outputs": [
        {
          "data": {
            "text/html": [
              "<div>\n",
              "<style scoped>\n",
              "    .dataframe tbody tr th:only-of-type {\n",
              "        vertical-align: middle;\n",
              "    }\n",
              "\n",
              "    .dataframe tbody tr th {\n",
              "        vertical-align: top;\n",
              "    }\n",
              "\n",
              "    .dataframe thead th {\n",
              "        text-align: right;\n",
              "    }\n",
              "</style>\n",
              "<table border=\"1\" class=\"dataframe\">\n",
              "  <thead>\n",
              "    <tr style=\"text-align: right;\">\n",
              "      <th></th>\n",
              "      <th>id</th>\n",
              "      <th>id_inning</th>\n",
              "      <th>total_runs_x</th>\n",
              "      <th>city</th>\n",
              "      <th>date</th>\n",
              "      <th>player_of_match</th>\n",
              "      <th>venue</th>\n",
              "      <th>neutral_venue</th>\n",
              "      <th>team1</th>\n",
              "      <th>team2</th>\n",
              "      <th>...</th>\n",
              "      <th>dismissal_kind</th>\n",
              "      <th>player_dismissed</th>\n",
              "      <th>fielder</th>\n",
              "      <th>extras_type</th>\n",
              "      <th>batting_team</th>\n",
              "      <th>bowling_team</th>\n",
              "      <th>year</th>\n",
              "      <th>team1_win</th>\n",
              "      <th>team1_toss_win</th>\n",
              "      <th>team1_bat</th>\n",
              "    </tr>\n",
              "  </thead>\n",
              "  <tbody>\n",
              "    <tr>\n",
              "      <th>0</th>\n",
              "      <td>335982</td>\n",
              "      <td>3359827</td>\n",
              "      <td>222</td>\n",
              "      <td>Bangalore</td>\n",
              "      <td>2008-04-18</td>\n",
              "      <td>BB McCullum</td>\n",
              "      <td>14</td>\n",
              "      <td>0</td>\n",
              "      <td>12</td>\n",
              "      <td>7</td>\n",
              "      <td>...</td>\n",
              "      <td>NaN</td>\n",
              "      <td>NaN</td>\n",
              "      <td>NaN</td>\n",
              "      <td>legbyes</td>\n",
              "      <td>7</td>\n",
              "      <td>12</td>\n",
              "      <td>2008</td>\n",
              "      <td>0.0</td>\n",
              "      <td>1.0</td>\n",
              "      <td>0</td>\n",
              "    </tr>\n",
              "    <tr>\n",
              "      <th>1</th>\n",
              "      <td>335982</td>\n",
              "      <td>3359827</td>\n",
              "      <td>222</td>\n",
              "      <td>Bangalore</td>\n",
              "      <td>2008-04-18</td>\n",
              "      <td>BB McCullum</td>\n",
              "      <td>14</td>\n",
              "      <td>0</td>\n",
              "      <td>12</td>\n",
              "      <td>7</td>\n",
              "      <td>...</td>\n",
              "      <td>NaN</td>\n",
              "      <td>NaN</td>\n",
              "      <td>NaN</td>\n",
              "      <td>NaN</td>\n",
              "      <td>7</td>\n",
              "      <td>12</td>\n",
              "      <td>2008</td>\n",
              "      <td>0.0</td>\n",
              "      <td>1.0</td>\n",
              "      <td>0</td>\n",
              "    </tr>\n",
              "    <tr>\n",
              "      <th>2</th>\n",
              "      <td>335982</td>\n",
              "      <td>3359827</td>\n",
              "      <td>222</td>\n",
              "      <td>Bangalore</td>\n",
              "      <td>2008-04-18</td>\n",
              "      <td>BB McCullum</td>\n",
              "      <td>14</td>\n",
              "      <td>0</td>\n",
              "      <td>12</td>\n",
              "      <td>7</td>\n",
              "      <td>...</td>\n",
              "      <td>NaN</td>\n",
              "      <td>NaN</td>\n",
              "      <td>NaN</td>\n",
              "      <td>wides</td>\n",
              "      <td>7</td>\n",
              "      <td>12</td>\n",
              "      <td>2008</td>\n",
              "      <td>0.0</td>\n",
              "      <td>1.0</td>\n",
              "      <td>0</td>\n",
              "    </tr>\n",
              "    <tr>\n",
              "      <th>3</th>\n",
              "      <td>335982</td>\n",
              "      <td>3359827</td>\n",
              "      <td>222</td>\n",
              "      <td>Bangalore</td>\n",
              "      <td>2008-04-18</td>\n",
              "      <td>BB McCullum</td>\n",
              "      <td>14</td>\n",
              "      <td>0</td>\n",
              "      <td>12</td>\n",
              "      <td>7</td>\n",
              "      <td>...</td>\n",
              "      <td>NaN</td>\n",
              "      <td>NaN</td>\n",
              "      <td>NaN</td>\n",
              "      <td>NaN</td>\n",
              "      <td>7</td>\n",
              "      <td>12</td>\n",
              "      <td>2008</td>\n",
              "      <td>0.0</td>\n",
              "      <td>1.0</td>\n",
              "      <td>0</td>\n",
              "    </tr>\n",
              "    <tr>\n",
              "      <th>4</th>\n",
              "      <td>335982</td>\n",
              "      <td>3359827</td>\n",
              "      <td>222</td>\n",
              "      <td>Bangalore</td>\n",
              "      <td>2008-04-18</td>\n",
              "      <td>BB McCullum</td>\n",
              "      <td>14</td>\n",
              "      <td>0</td>\n",
              "      <td>12</td>\n",
              "      <td>7</td>\n",
              "      <td>...</td>\n",
              "      <td>NaN</td>\n",
              "      <td>NaN</td>\n",
              "      <td>NaN</td>\n",
              "      <td>NaN</td>\n",
              "      <td>7</td>\n",
              "      <td>12</td>\n",
              "      <td>2008</td>\n",
              "      <td>0.0</td>\n",
              "      <td>1.0</td>\n",
              "      <td>0</td>\n",
              "    </tr>\n",
              "  </tbody>\n",
              "</table>\n",
              "<p>5 rows × 40 columns</p>\n",
              "</div>"
            ],
            "text/plain": [
              "       id  id_inning  total_runs_x       city        date player_of_match  \\\n",
              "0  335982    3359827           222  Bangalore  2008-04-18     BB McCullum   \n",
              "1  335982    3359827           222  Bangalore  2008-04-18     BB McCullum   \n",
              "2  335982    3359827           222  Bangalore  2008-04-18     BB McCullum   \n",
              "3  335982    3359827           222  Bangalore  2008-04-18     BB McCullum   \n",
              "4  335982    3359827           222  Bangalore  2008-04-18     BB McCullum   \n",
              "\n",
              "   venue  neutral_venue  team1  team2  ...  dismissal_kind player_dismissed  \\\n",
              "0     14              0     12      7  ...             NaN              NaN   \n",
              "1     14              0     12      7  ...             NaN              NaN   \n",
              "2     14              0     12      7  ...             NaN              NaN   \n",
              "3     14              0     12      7  ...             NaN              NaN   \n",
              "4     14              0     12      7  ...             NaN              NaN   \n",
              "\n",
              "   fielder extras_type  batting_team bowling_team  year team1_win  \\\n",
              "0      NaN     legbyes             7           12  2008       0.0   \n",
              "1      NaN         NaN             7           12  2008       0.0   \n",
              "2      NaN       wides             7           12  2008       0.0   \n",
              "3      NaN         NaN             7           12  2008       0.0   \n",
              "4      NaN         NaN             7           12  2008       0.0   \n",
              "\n",
              "  team1_toss_win  team1_bat  \n",
              "0            1.0          0  \n",
              "1            1.0          0  \n",
              "2            1.0          0  \n",
              "3            1.0          0  \n",
              "4            1.0          0  \n",
              "\n",
              "[5 rows x 40 columns]"
            ]
          },
          "execution_count": 26,
          "metadata": {},
          "output_type": "execute_result"
        }
      ],
      "source": [
        "data.drop(['Unnamed: 0'],inplace=True,axis=1)\n",
        "data.head()"
      ]
    },
    {
      "cell_type": "code",
      "execution_count": 27,
      "metadata": {
        "colab": {
          "base_uri": "https://localhost:8080/"
        },
        "id": "GU6iRlpAUCji",
        "outputId": "972bb5bf-eb3d-4619-e25a-90661cac1d21"
      },
      "outputs": [
        {
          "name": "stdout",
          "output_type": "stream",
          "text": [
            "(193096, 40)\n",
            "(812, 8)\n"
          ]
        }
      ],
      "source": [
        "df = pd.DataFrame()\n",
        "for i in range(len(data['id'].unique())):\n",
        "    one_inning = data.loc[data['id']==data['id'].unique()[i]]\n",
        "    one_inning = one_inning.sort_values(['inning'],ascending=[True])\n",
        "    row = one_inning.iloc[1]\n",
        "    row['target_score'] = row['total_runs_x']\n",
        "    row =row[['year','venue','team1_toss_win','team1_bat','target_score','team1','team2','team1_win']]\n",
        "    temp = pd.DataFrame(columns =row.index)\n",
        "    temp.loc[0]=row.values\n",
        "    frame = [df,temp]\n",
        "    df = pd.concat(frame)\n",
        "print(data.shape)\n",
        "print(df.shape)"
      ]
    },
    {
      "cell_type": "code",
      "execution_count": 28,
      "metadata": {
        "colab": {
          "base_uri": "https://localhost:8080/"
        },
        "id": "0rX6Jp4waOwZ",
        "outputId": "493b632b-d3fb-4fda-e4ce-ee4126e26a4b"
      },
      "outputs": [
        {
          "data": {
            "text/plain": [
              "812"
            ]
          },
          "execution_count": 28,
          "metadata": {},
          "output_type": "execute_result"
        }
      ],
      "source": [
        "len(data['id'].unique())"
      ]
    },
    {
      "cell_type": "code",
      "execution_count": 29,
      "metadata": {
        "colab": {
          "base_uri": "https://localhost:8080/",
          "height": 423
        },
        "id": "0tQuMgNUY2F-",
        "outputId": "1f04ed43-5cba-4504-a883-9b7c4bf02ac3"
      },
      "outputs": [
        {
          "data": {
            "text/html": [
              "<div>\n",
              "<style scoped>\n",
              "    .dataframe tbody tr th:only-of-type {\n",
              "        vertical-align: middle;\n",
              "    }\n",
              "\n",
              "    .dataframe tbody tr th {\n",
              "        vertical-align: top;\n",
              "    }\n",
              "\n",
              "    .dataframe thead th {\n",
              "        text-align: right;\n",
              "    }\n",
              "</style>\n",
              "<table border=\"1\" class=\"dataframe\">\n",
              "  <thead>\n",
              "    <tr style=\"text-align: right;\">\n",
              "      <th></th>\n",
              "      <th>year</th>\n",
              "      <th>venue</th>\n",
              "      <th>team1_toss_win</th>\n",
              "      <th>team1_bat</th>\n",
              "      <th>target_score</th>\n",
              "      <th>team1</th>\n",
              "      <th>team2</th>\n",
              "      <th>team1_win</th>\n",
              "    </tr>\n",
              "  </thead>\n",
              "  <tbody>\n",
              "    <tr>\n",
              "      <th>0</th>\n",
              "      <td>2008</td>\n",
              "      <td>14</td>\n",
              "      <td>1.0</td>\n",
              "      <td>0</td>\n",
              "      <td>222</td>\n",
              "      <td>12</td>\n",
              "      <td>7</td>\n",
              "      <td>0.0</td>\n",
              "    </tr>\n",
              "    <tr>\n",
              "      <th>0</th>\n",
              "      <td>2008</td>\n",
              "      <td>23</td>\n",
              "      <td>0.0</td>\n",
              "      <td>0</td>\n",
              "      <td>240</td>\n",
              "      <td>5</td>\n",
              "      <td>0</td>\n",
              "      <td>0.0</td>\n",
              "    </tr>\n",
              "    <tr>\n",
              "      <th>0</th>\n",
              "      <td>2008</td>\n",
              "      <td>8</td>\n",
              "      <td>0.0</td>\n",
              "      <td>0</td>\n",
              "      <td>129</td>\n",
              "      <td>3</td>\n",
              "      <td>10</td>\n",
              "      <td>1.0</td>\n",
              "    </tr>\n",
              "    <tr>\n",
              "      <th>0</th>\n",
              "      <td>2008</td>\n",
              "      <td>35</td>\n",
              "      <td>1.0</td>\n",
              "      <td>1</td>\n",
              "      <td>165</td>\n",
              "      <td>8</td>\n",
              "      <td>12</td>\n",
              "      <td>0.0</td>\n",
              "    </tr>\n",
              "    <tr>\n",
              "      <th>0</th>\n",
              "      <td>2008</td>\n",
              "      <td>7</td>\n",
              "      <td>0.0</td>\n",
              "      <td>0</td>\n",
              "      <td>110</td>\n",
              "      <td>7</td>\n",
              "      <td>1</td>\n",
              "      <td>1.0</td>\n",
              "    </tr>\n",
              "    <tr>\n",
              "      <th>...</th>\n",
              "      <td>...</td>\n",
              "      <td>...</td>\n",
              "      <td>...</td>\n",
              "      <td>...</td>\n",
              "      <td>...</td>\n",
              "      <td>...</td>\n",
              "      <td>...</td>\n",
              "      <td>...</td>\n",
              "    </tr>\n",
              "    <tr>\n",
              "      <th>0</th>\n",
              "      <td>2020</td>\n",
              "      <td>6</td>\n",
              "      <td>0.0</td>\n",
              "      <td>0</td>\n",
              "      <td>201</td>\n",
              "      <td>12</td>\n",
              "      <td>8</td>\n",
              "      <td>1.0</td>\n",
              "    </tr>\n",
              "    <tr>\n",
              "      <th>0</th>\n",
              "      <td>2020</td>\n",
              "      <td>6</td>\n",
              "      <td>0.0</td>\n",
              "      <td>0</td>\n",
              "      <td>200</td>\n",
              "      <td>8</td>\n",
              "      <td>2</td>\n",
              "      <td>1.0</td>\n",
              "    </tr>\n",
              "    <tr>\n",
              "      <th>0</th>\n",
              "      <td>2020</td>\n",
              "      <td>30</td>\n",
              "      <td>0.0</td>\n",
              "      <td>0</td>\n",
              "      <td>131</td>\n",
              "      <td>12</td>\n",
              "      <td>13</td>\n",
              "      <td>0.0</td>\n",
              "    </tr>\n",
              "    <tr>\n",
              "      <th>0</th>\n",
              "      <td>2020</td>\n",
              "      <td>30</td>\n",
              "      <td>1.0</td>\n",
              "      <td>1</td>\n",
              "      <td>189</td>\n",
              "      <td>2</td>\n",
              "      <td>13</td>\n",
              "      <td>1.0</td>\n",
              "    </tr>\n",
              "    <tr>\n",
              "      <th>0</th>\n",
              "      <td>2020</td>\n",
              "      <td>6</td>\n",
              "      <td>1.0</td>\n",
              "      <td>1</td>\n",
              "      <td>156</td>\n",
              "      <td>2</td>\n",
              "      <td>8</td>\n",
              "      <td>0.0</td>\n",
              "    </tr>\n",
              "  </tbody>\n",
              "</table>\n",
              "<p>812 rows × 8 columns</p>\n",
              "</div>"
            ],
            "text/plain": [
              "    year venue team1_toss_win team1_bat target_score team1 team2 team1_win\n",
              "0   2008    14            1.0         0          222    12     7       0.0\n",
              "0   2008    23            0.0         0          240     5     0       0.0\n",
              "0   2008     8            0.0         0          129     3    10       1.0\n",
              "0   2008    35            1.0         1          165     8    12       0.0\n",
              "0   2008     7            0.0         0          110     7     1       1.0\n",
              "..   ...   ...            ...       ...          ...   ...   ...       ...\n",
              "0   2020     6            0.0         0          201    12     8       1.0\n",
              "0   2020     6            0.0         0          200     8     2       1.0\n",
              "0   2020    30            0.0         0          131    12    13       0.0\n",
              "0   2020    30            1.0         1          189     2    13       1.0\n",
              "0   2020     6            1.0         1          156     2     8       0.0\n",
              "\n",
              "[812 rows x 8 columns]"
            ]
          },
          "execution_count": 29,
          "metadata": {},
          "output_type": "execute_result"
        }
      ],
      "source": [
        "df"
      ]
    },
    {
      "cell_type": "code",
      "execution_count": 30,
      "metadata": {
        "id": "Vp3Bzg-rzPZZ"
      },
      "outputs": [],
      "source": [
        "df_win = df.copy()"
      ]
    },
    {
      "cell_type": "code",
      "execution_count": 31,
      "metadata": {
        "id": "FECaHsYp29Tw"
      },
      "outputs": [],
      "source": [
        "df_win.drop('year',axis=1,inplace=True)\n",
        "# removing year from feature importance process"
      ]
    },
    {
      "cell_type": "code",
      "execution_count": 32,
      "metadata": {},
      "outputs": [],
      "source": [
        "from sklearn.preprocessing import LabelEncoder\n",
        "\n",
        "label_encoder = LabelEncoder()"
      ]
    },
    {
      "cell_type": "code",
      "execution_count": 33,
      "metadata": {
        "colab": {
          "base_uri": "https://localhost:8080/"
        },
        "id": "V7pq1zQp1S4a",
        "outputId": "d83f46b4-9f52-45b4-f9a1-e40bb4299faf"
      },
      "outputs": [
        {
          "data": {
            "text/plain": [
              "7"
            ]
          },
          "execution_count": 33,
          "metadata": {},
          "output_type": "execute_result"
        }
      ],
      "source": [
        "len(df_win.columns)"
      ]
    },
    {
      "cell_type": "code",
      "execution_count": 34,
      "metadata": {
        "colab": {
          "base_uri": "https://localhost:8080/"
        },
        "id": "lw_5slHPcght",
        "outputId": "2ce7e821-a63c-4efb-a2cb-5bf1d11d5825"
      },
      "outputs": [
        {
          "name": "stdout",
          "output_type": "stream",
          "text": [
            "[0.18527617 0.02334242 0.02796925 0.40795739 0.14042346 0.21503131]\n"
          ]
        }
      ],
      "source": [
        "X = df_win.iloc[:,0:6]  #independent columns\n",
        "y = df_win.iloc[:,6]    #target column i.e price range\n",
        "y = y_encoded = label_encoder.fit_transform(y)\n",
        "model = ExtraTreesClassifier()\n",
        "model.fit(X ,y )\n",
        "print(model.feature_importances_) #use inbuilt class feature_importances of tree based classifiers\n",
        "#plot graph of feature importances for better visualization\n",
        "feat_importances = pd.Series(model.feature_importances_, index=X.columns)\n"
      ]
    },
    {
      "cell_type": "code",
      "execution_count": 35,
      "metadata": {
        "colab": {
          "base_uri": "https://localhost:8080/",
          "height": 465
        },
        "id": "8O-bEGJIcmGO",
        "outputId": "48ffaeff-1867-4fc6-cbab-44ef31abb896"
      },
      "outputs": [
        {
          "name": "stderr",
          "output_type": "stream",
          "text": [
            "c:\\Users\\MAHIMA\\anaconda3\\lib\\site-packages\\seaborn\\_decorators.py:36: FutureWarning:\n",
            "\n",
            "Pass the following variables as keyword args: x, y. From version 0.12, the only valid positional argument will be `data`, and passing other arguments without an explicit keyword will result in an error or misinterpretation.\n",
            "\n"
          ]
        },
        {
          "data": {
            "image/png": "[encoded data removed]",
            "text/plain": [
              "<Figure size 1200x600 with 1 Axes>"
            ]
          },
          "metadata": {},
          "output_type": "display_data"
        }
      ],
      "source": [
        "fig = plt.figure(figsize=(12,6))\n",
        "sns.barplot(feat_importances.index,feat_importances.values)\n",
        "plt.show()"
      ]
    },
    {
      "cell_type": "code",
      "execution_count": 36,
      "metadata": {
        "id": "l5s9zKih3wCU"
      },
      "outputs": [],
      "source": [
        "class_feature_columns=feat_importances.index"
      ]
    },
    {
      "cell_type": "code",
      "execution_count": 37,
      "metadata": {
        "id": "zBmyLlKE1QYe"
      },
      "outputs": [],
      "source": [
        "X_win_train_data= df[df['year']<2020] \n",
        "X_win_test_data= df[df['year']==2020] \n",
        "# X_win_train_data = X_win_train_data[X_win_train_data['year']>2012]"
      ]
    },
    {
      "cell_type": "code",
      "execution_count": 38,
      "metadata": {
        "colab": {
          "base_uri": "https://localhost:8080/"
        },
        "id": "HU8pZiUw586I",
        "outputId": "e3fed4bd-1a82-4306-a1eb-32340ec3ecd8"
      },
      "outputs": [
        {
          "data": {
            "text/plain": [
              "752"
            ]
          },
          "execution_count": 38,
          "metadata": {},
          "output_type": "execute_result"
        }
      ],
      "source": [
        "len(X_win_train_data)"
      ]
    },
    {
      "cell_type": "code",
      "execution_count": 39,
      "metadata": {
        "colab": {
          "base_uri": "https://localhost:8080/",
          "height": 206
        },
        "id": "OSLNQh1xdMqS",
        "outputId": "b9a81704-ce26-404a-b215-9f9e8237298a"
      },
      "outputs": [
        {
          "data": {
            "text/html": [
              "<div>\n",
              "<style scoped>\n",
              "    .dataframe tbody tr th:only-of-type {\n",
              "        vertical-align: middle;\n",
              "    }\n",
              "\n",
              "    .dataframe tbody tr th {\n",
              "        vertical-align: top;\n",
              "    }\n",
              "\n",
              "    .dataframe thead th {\n",
              "        text-align: right;\n",
              "    }\n",
              "</style>\n",
              "<table border=\"1\" class=\"dataframe\">\n",
              "  <thead>\n",
              "    <tr style=\"text-align: right;\">\n",
              "      <th></th>\n",
              "      <th>year</th>\n",
              "      <th>venue</th>\n",
              "      <th>team1_toss_win</th>\n",
              "      <th>team1_bat</th>\n",
              "      <th>target_score</th>\n",
              "      <th>team1</th>\n",
              "      <th>team2</th>\n",
              "      <th>team1_win</th>\n",
              "    </tr>\n",
              "  </thead>\n",
              "  <tbody>\n",
              "    <tr>\n",
              "      <th>0</th>\n",
              "      <td>2008</td>\n",
              "      <td>14</td>\n",
              "      <td>1.0</td>\n",
              "      <td>0</td>\n",
              "      <td>222</td>\n",
              "      <td>12</td>\n",
              "      <td>7</td>\n",
              "      <td>0.0</td>\n",
              "    </tr>\n",
              "    <tr>\n",
              "      <th>0</th>\n",
              "      <td>2008</td>\n",
              "      <td>23</td>\n",
              "      <td>0.0</td>\n",
              "      <td>0</td>\n",
              "      <td>240</td>\n",
              "      <td>5</td>\n",
              "      <td>0</td>\n",
              "      <td>0.0</td>\n",
              "    </tr>\n",
              "    <tr>\n",
              "      <th>0</th>\n",
              "      <td>2008</td>\n",
              "      <td>8</td>\n",
              "      <td>0.0</td>\n",
              "      <td>0</td>\n",
              "      <td>129</td>\n",
              "      <td>3</td>\n",
              "      <td>10</td>\n",
              "      <td>1.0</td>\n",
              "    </tr>\n",
              "    <tr>\n",
              "      <th>0</th>\n",
              "      <td>2008</td>\n",
              "      <td>35</td>\n",
              "      <td>1.0</td>\n",
              "      <td>1</td>\n",
              "      <td>165</td>\n",
              "      <td>8</td>\n",
              "      <td>12</td>\n",
              "      <td>0.0</td>\n",
              "    </tr>\n",
              "    <tr>\n",
              "      <th>0</th>\n",
              "      <td>2008</td>\n",
              "      <td>7</td>\n",
              "      <td>0.0</td>\n",
              "      <td>0</td>\n",
              "      <td>110</td>\n",
              "      <td>7</td>\n",
              "      <td>1</td>\n",
              "      <td>1.0</td>\n",
              "    </tr>\n",
              "  </tbody>\n",
              "</table>\n",
              "</div>"
            ],
            "text/plain": [
              "   year venue team1_toss_win team1_bat target_score team1 team2 team1_win\n",
              "0  2008    14            1.0         0          222    12     7       0.0\n",
              "0  2008    23            0.0         0          240     5     0       0.0\n",
              "0  2008     8            0.0         0          129     3    10       1.0\n",
              "0  2008    35            1.0         1          165     8    12       0.0\n",
              "0  2008     7            0.0         0          110     7     1       1.0"
            ]
          },
          "execution_count": 39,
          "metadata": {},
          "output_type": "execute_result"
        }
      ],
      "source": [
        "X_win_train_data.head()"
      ]
    },
    {
      "cell_type": "code",
      "execution_count": 40,
      "metadata": {
        "id": "cEiyR80T6AW_"
      },
      "outputs": [],
      "source": [
        "X_win_train_data.drop('year',axis=1,inplace=True)\n",
        "X_win_test_data.drop('year',axis=1,inplace=True)"
      ]
    },
    {
      "cell_type": "code",
      "execution_count": 41,
      "metadata": {
        "colab": {
          "base_uri": "https://localhost:8080/"
        },
        "id": "ZFFpGloE4O8f",
        "outputId": "82b90f9f-fcbe-4463-9ed3-7119accec971"
      },
      "outputs": [
        {
          "data": {
            "text/plain": [
              "Index(['venue', 'team1_toss_win', 'team1_bat', 'target_score', 'team1',\n",
              "       'team2'],\n",
              "      dtype='object')"
            ]
          },
          "execution_count": 41,
          "metadata": {},
          "output_type": "execute_result"
        }
      ],
      "source": [
        "class_feature_columns"
      ]
    },
    {
      "cell_type": "code",
      "execution_count": 42,
      "metadata": {
        "id": "8E_pnpZu1Qbm"
      },
      "outputs": [],
      "source": [
        "target= 'team1_win'\n",
        "X_train = X_win_train_data[class_feature_columns]\n",
        "X_test = X_win_test_data[class_feature_columns]\n",
        "y_train = label_encoder.fit_transform(X_win_train_data[target])\n",
        "y_test = label_encoder.fit_transform(X_win_test_data[target])"
      ]
    },
    {
      "cell_type": "code",
      "execution_count": 43,
      "metadata": {
        "colab": {
          "base_uri": "https://localhost:8080/"
        },
        "id": "TXnrPJOqn7aM",
        "outputId": "c2257bcf-658d-41c9-bc88-7219b5d81fea"
      },
      "outputs": [
        {
          "data": {
            "text/plain": [
              "Index(['venue', 'team1_toss_win', 'team1_bat', 'target_score', 'team1',\n",
              "       'team2'],\n",
              "      dtype='object')"
            ]
          },
          "execution_count": 43,
          "metadata": {},
          "output_type": "execute_result"
        }
      ],
      "source": [
        "X_train.columns"
      ]
    },
    {
      "cell_type": "code",
      "execution_count": 44,
      "metadata": {
        "id": "bEvlmiFYn7aN"
      },
      "outputs": [],
      "source": [
        "sc = StandardScaler()\n",
        "X_train = sc.fit_transform(X_train)\n",
        "X_test = sc.transform(X_test)\n",
        "#standardizing the data"
      ]
    },
    {
      "cell_type": "code",
      "execution_count": 45,
      "metadata": {
        "id": "KdrjGETseULT"
      },
      "outputs": [],
      "source": [
        "target= 'team1_win'\n",
        "X_train1 = X_win_train_data[class_feature_columns]\n",
        "X_test1 = X_win_test_data[class_feature_columns]"
      ]
    },
    {
      "cell_type": "code",
      "execution_count": 46,
      "metadata": {
        "id": "Y58tELXheORp"
      },
      "outputs": [],
      "source": [
        "sc = MinMaxScaler()\n",
        "X_train1 = sc.fit_transform(X_train1)\n",
        "X_test1 = sc.transform(X_test1)\n",
        "#standardizing the data"
      ]
    },
    {
      "cell_type": "code",
      "execution_count": 47,
      "metadata": {
        "id": "kLZLZEyICsCk"
      },
      "outputs": [],
      "source": [
        "def class_report(y_test,y_pred):\n",
        "  f1 = f1_score(y_test,y_pred)\n",
        "  acc = accuracy_score(y_test,y_pred)\n",
        "  rocauc = roc_auc_score(y_test,y_pred)\n",
        "  precision = precision_score(y_test,y_pred)\n",
        "  recall=recall_score(y_test,y_pred) \n",
        "  return {'F1_score':f1,'Accuracy':acc,'Area under ROC curve':rocauc,'Precision':precision,'Recall':recall}"
      ]
    },
    {
      "cell_type": "markdown",
      "metadata": {
        "id": "URIfwELC42IT"
      },
      "source": [
        "### Logistic Regression"
      ]
    },
    {
      "cell_type": "code",
      "execution_count": 48,
      "metadata": {
        "colab": {
          "base_uri": "https://localhost:8080/"
        },
        "id": "-Ni5_Or2xfce",
        "outputId": "2843a547-eb92-4e47-f61b-a70be3d240fd"
      },
      "outputs": [
        {
          "name": "stdout",
          "output_type": "stream",
          "text": [
            "415\n",
            "337\n"
          ]
        }
      ],
      "source": [
        "print(len(y_train[y_train==1]))\n",
        "print(len(y_train[y_train==0]))"
      ]
    },
    {
      "cell_type": "code",
      "execution_count": 49,
      "metadata": {
        "id": "WKIeODJx42IU"
      },
      "outputs": [],
      "source": [
        "logreg = LogisticRegression()\n",
        "logreg.fit(X_train, y_train)\n",
        "y_pred = logreg.predict(X_test)"
      ]
    },
    {
      "cell_type": "code",
      "execution_count": 50,
      "metadata": {
        "id": "Fb2trxHc42IV"
      },
      "outputs": [],
      "source": [
        "result = class_report(y_test,y_pred)"
      ]
    },
    {
      "cell_type": "code",
      "execution_count": 51,
      "metadata": {
        "colab": {
          "base_uri": "https://localhost:8080/"
        },
        "id": "dBSpj0WXFPTW",
        "outputId": "f9575d85-dfe2-4f28-df28-398ab3b2a7c4"
      },
      "outputs": [
        {
          "data": {
            "text/plain": [
              "{'F1_score': 0.627906976744186,\n",
              " 'Accuracy': 0.4666666666666667,\n",
              " 'Area under ROC curve': 0.4666666666666667,\n",
              " 'Precision': 0.48214285714285715,\n",
              " 'Recall': 0.9}"
            ]
          },
          "execution_count": 51,
          "metadata": {},
          "output_type": "execute_result"
        }
      ],
      "source": [
        "result"
      ]
    },
    {
      "cell_type": "code",
      "execution_count": 52,
      "metadata": {},
      "outputs": [
        {
          "data": {
            "image/png": "[encoded data removed]",
            "text/plain": [
              "<Figure size 640x480 with 2 Axes>"
            ]
          },
          "metadata": {},
          "output_type": "display_data"
        }
      ],
      "source": [
        "cm = confusion_matrix(y_test,y_pred)\n",
        "disp = ConfusionMatrixDisplay(confusion_matrix=cm)\n",
        "disp.plot()\n",
        "plt.show()"
      ]
    },
    {
      "cell_type": "code",
      "execution_count": 53,
      "metadata": {},
      "outputs": [
        {
          "data": {
            "image/png": "[encoded data removed]",
            "text/plain": [
              "<Figure size 900x600 with 1 Axes>"
            ]
          },
          "metadata": {},
          "output_type": "display_data"
        }
      ],
      "source": [
        "fig = plt.figure(figsize=(9,6))\n",
        "# xaxis = np.arange(1, y_pred.shape[0]+1,1)\n",
        "sns.kdeplot(y_pred, shade=True, color=\"g\", label=\"Predicted Values\", alpha=.7)\n",
        "sns.kdeplot(y_test, shade=True, color=\"dodgerblue\", label=\"Actual Values\", alpha=.7)\n",
        "plt.title('Predicting Winner on Test Data', fontsize=16)\n",
        "plt.legend()\n",
        "plt.show()"
      ]
    },
    {
      "cell_type": "code",
      "execution_count": 54,
      "metadata": {
        "colab": {
          "base_uri": "https://localhost:8080/"
        },
        "id": "TTB9W5ibebLL",
        "outputId": "17dfa8ff-f688-45ad-a47f-7c76841546ad"
      },
      "outputs": [
        {
          "name": "stdout",
          "output_type": "stream",
          "text": [
            "{'F1_score': 0.6363636363636364, 'Accuracy': 0.4666666666666667, 'Area under ROC curve': 0.4666666666666667, 'Precision': 0.4827586206896552, 'Recall': 0.9333333333333333}\n"
          ]
        }
      ],
      "source": [
        "logreg = LogisticRegression()\n",
        "logreg.fit(X_train1, y_train)\n",
        "y_pred = logreg.predict(X_test1)\n",
        "result = class_report(y_test,y_pred)\n",
        "print(result)"
      ]
    },
    {
      "cell_type": "markdown",
      "metadata": {
        "id": "Rv9BdtYR5Osf"
      },
      "source": [
        "### Decision Tree Classifier"
      ]
    },
    {
      "cell_type": "code",
      "execution_count": 55,
      "metadata": {
        "colab": {
          "base_uri": "https://localhost:8080/"
        },
        "id": "LsWKQ8aE5Osg",
        "outputId": "a7c11230-9ab5-4228-e4cd-9d6e0e88e28a"
      },
      "outputs": [
        {
          "name": "stdout",
          "output_type": "stream",
          "text": [
            "Accuracy of Decision Tree Classifier on test set: 0.5500\n"
          ]
        }
      ],
      "source": [
        "#Decision Tree Classifier\n",
        "dtree=DecisionTreeClassifier(max_depth=40)\n",
        "dtree.fit(X_train,y_train)\n",
        "y_pred = dtree.predict(X_test)\n",
        "print('Accuracy of Decision Tree Classifier on test set: {:.4f}'.format(dtree.score(X_test, y_test)))\n",
        " "
      ]
    },
    {
      "cell_type": "code",
      "execution_count": 56,
      "metadata": {
        "colab": {
          "base_uri": "https://localhost:8080/"
        },
        "id": "YUg4BS_58G1k",
        "outputId": "63641b3e-b69a-4507-f52e-09359a44da44"
      },
      "outputs": [
        {
          "name": "stdout",
          "output_type": "stream",
          "text": [
            "{'F1_score': 0.49056603773584906, 'Accuracy': 0.55, 'Area under ROC curve': 0.55, 'Precision': 0.5652173913043478, 'Recall': 0.43333333333333335}\n"
          ]
        }
      ],
      "source": [
        "result = class_report(y_test,y_pred)\n",
        "print(result)"
      ]
    },
    {
      "cell_type": "code",
      "execution_count": 57,
      "metadata": {
        "colab": {
          "base_uri": "https://localhost:8080/",
          "height": 283
        },
        "id": "8ot4Kn4T5Osh",
        "outputId": "5ce44882-954a-4aac-94a4-fb66f5e2390e"
      },
      "outputs": [
        {
          "data": {
            "image/png": "[encoded data removed]",
            "text/plain": [
              "<Figure size 640x480 with 2 Axes>"
            ]
          },
          "metadata": {},
          "output_type": "display_data"
        }
      ],
      "source": [
        "cm = confusion_matrix(y_test,y_pred)\n",
        "disp = ConfusionMatrixDisplay(confusion_matrix=cm)\n",
        "disp.plot()\n",
        "plt.show()"
      ]
    },
    {
      "cell_type": "code",
      "execution_count": 58,
      "metadata": {},
      "outputs": [
        {
          "data": {
            "image/png": "[encoded data removed]",
            "text/plain": [
              "<Figure size 900x600 with 1 Axes>"
            ]
          },
          "metadata": {},
          "output_type": "display_data"
        }
      ],
      "source": [
        "fig = plt.figure(figsize=(9,6))\n",
        "# xaxis = np.arange(1, y_pred.shape[0]+1,1)\n",
        "sns.kdeplot(y_pred, shade=True, color=\"g\", label=\"Predicted Values\", alpha=.7)\n",
        "sns.kdeplot(y_test, shade=True, color=\"dodgerblue\", label=\"Actual Values\", alpha=.7)\n",
        "plt.title('Predicting Winner on Test Data', fontsize=16)\n",
        "plt.legend()\n",
        "plt.show()"
      ]
    },
    {
      "cell_type": "code",
      "execution_count": 59,
      "metadata": {
        "colab": {
          "base_uri": "https://localhost:8080/"
        },
        "id": "NmL2aqPTe-9L",
        "outputId": "ad5174d8-74bb-4bfa-ee64-e12ddff2782d"
      },
      "outputs": [
        {
          "name": "stdout",
          "output_type": "stream",
          "text": [
            "Accuracy of Decision Tree Classifier on test set: 0.5667\n"
          ]
        }
      ],
      "source": [
        "#Decision Tree Classifier\n",
        "dtree=DecisionTreeClassifier()\n",
        "dtree.fit(X_train1,y_train)\n",
        "y_pred = dtree.predict(X_test1)\n",
        "print('Accuracy of Decision Tree Classifier on test set: {:.4f}'.format(dtree.score(X_test1, y_test)))\n",
        "#Standard Scaler"
      ]
    },
    {
      "cell_type": "markdown",
      "metadata": {
        "id": "WZCeeJgXu_Cy"
      },
      "source": [
        "### SVM"
      ]
    },
    {
      "cell_type": "code",
      "execution_count": 60,
      "metadata": {
        "id": "lQ0XU4Hzqmlk"
      },
      "outputs": [],
      "source": [
        "n = 10\n",
        "#SVM\n",
        "SVC = SVC(kernel=\"linear\", C=0.5).fit(X_train,y_train)\n"
      ]
    },
    {
      "cell_type": "code",
      "execution_count": 61,
      "metadata": {
        "colab": {
          "base_uri": "https://localhost:8080/"
        },
        "id": "sIdifnlk8gIc",
        "outputId": "e5846fc0-924b-41e1-e7a3-4c1ad0e92151"
      },
      "outputs": [
        {
          "name": "stdout",
          "output_type": "stream",
          "text": [
            "Accuracy of SVM Classifier on test set: 0.5000\n"
          ]
        }
      ],
      "source": [
        "y_pred = SVC.predict(X_test)\n",
        "print('Accuracy of SVM Classifier on test set: {:.4f}'.format(SVC.score(X_test, y_test)))\n"
      ]
    },
    {
      "cell_type": "code",
      "execution_count": 62,
      "metadata": {
        "colab": {
          "base_uri": "https://localhost:8080/",
          "height": 283
        },
        "id": "jqDbuijlEAma",
        "outputId": "acf9233a-0b78-4fac-a6ed-86a6efabb536"
      },
      "outputs": [
        {
          "data": {
            "image/png": "[encoded data removed]",
            "text/plain": [
              "<Figure size 640x480 with 2 Axes>"
            ]
          },
          "metadata": {},
          "output_type": "display_data"
        }
      ],
      "source": [
        "from sklearn.metrics import confusion_matrix, ConfusionMatrixDisplay\n",
        "cm = confusion_matrix(y_test,y_pred)\n",
        "disp = ConfusionMatrixDisplay(confusion_matrix=cm,display_labels=SVC.classes_)\n",
        "disp.plot()\n",
        "plt.show()"
      ]
    },
    {
      "cell_type": "markdown",
      "metadata": {
        "id": "wyHCFq1P8gMK"
      },
      "source": [
        "### Random Forest"
      ]
    },
    {
      "cell_type": "code",
      "execution_count": 63,
      "metadata": {
        "colab": {
          "base_uri": "https://localhost:8080/"
        },
        "id": "lQi05LTZ8gPg",
        "outputId": "eb4eda65-6701-4c55-b21f-5b7f830cb0bc"
      },
      "outputs": [
        {
          "name": "stdout",
          "output_type": "stream",
          "text": [
            "Accuracy of Random Forest Classifier on test set: 0.5000\n"
          ]
        }
      ],
      "source": [
        "#Random Forest Classifier\n",
        "randomForest= RandomForestClassifier(n_estimators=10,max_depth = 100)\n",
        "randomForest.fit(X_train,y_train)\n",
        "y_pred = randomForest.predict(X_test)\n",
        "print('Accuracy of Random Forest Classifier on test set: {:.4f}'.format(randomForest.score(X_test, y_test)))\n"
      ]
    },
    {
      "cell_type": "code",
      "execution_count": 64,
      "metadata": {
        "colab": {
          "base_uri": "https://localhost:8080/"
        },
        "id": "sbVBVKcc6-qA",
        "outputId": "0f2430d6-5029-4557-9f21-7dca32064800"
      },
      "outputs": [
        {
          "name": "stdout",
          "output_type": "stream",
          "text": [
            "{'F1_score': 0.3478260869565218, 'Accuracy': 0.5, 'Area under ROC curve': 0.5, 'Precision': 0.5, 'Recall': 0.26666666666666666}\n"
          ]
        }
      ],
      "source": [
        "result = class_report(y_test,y_pred)\n",
        "print(result)"
      ]
    },
    {
      "cell_type": "code",
      "execution_count": 65,
      "metadata": {
        "colab": {
          "base_uri": "https://localhost:8080/",
          "height": 279
        },
        "id": "ACspz-aR7B4K",
        "outputId": "1ac02afa-ed98-4e34-d450-df53b6d2b646"
      },
      "outputs": [
        {
          "data": {
            "image/png": "[encoded data removed]",
            "text/plain": [
              "<Figure size 640x480 with 2 Axes>"
            ]
          },
          "metadata": {},
          "output_type": "display_data"
        }
      ],
      "source": [
        "cm = confusion_matrix(y_test,y_pred)\n",
        "disp = ConfusionMatrixDisplay(confusion_matrix=cm)\n",
        "disp.plot()\n",
        "plt.show()"
      ]
    },
    {
      "cell_type": "code",
      "execution_count": 66,
      "metadata": {
        "colab": {
          "base_uri": "https://localhost:8080/",
          "height": 392
        },
        "id": "kF0aGfu67Lwy",
        "outputId": "59ee2f41-4a98-440a-b2c7-48c04a453b73"
      },
      "outputs": [
        {
          "data": {
            "image/png": "[encoded data removed]",
            "text/plain": [
              "<Figure size 900x600 with 1 Axes>"
            ]
          },
          "metadata": {},
          "output_type": "display_data"
        }
      ],
      "source": [
        "fig = plt.figure(figsize=(9,6))\n",
        "# xaxis = np.arange(1, y_pred.shape[0]+1,1)\n",
        "sns.kdeplot(y_pred, shade=True, color=\"g\", label=\"Predicted Values\", alpha=.7)\n",
        "sns.kdeplot(y_test, shade=True, color=\"dodgerblue\", label=\"Actual Values\", alpha=.7)\n",
        "plt.title('Predicting Winner on Test Data', fontsize=16)\n",
        "plt.legend()\n",
        "plt.show()"
      ]
    },
    {
      "cell_type": "code",
      "execution_count": 67,
      "metadata": {
        "colab": {
          "base_uri": "https://localhost:8080/"
        },
        "id": "dkPfp3Kk8gSi",
        "outputId": "4307eecd-3a14-4c2b-b50c-845f6edc0e50"
      },
      "outputs": [
        {
          "name": "stdout",
          "output_type": "stream",
          "text": [
            "Accuracy of Random Forest Classifier on test set: 0.5833\n"
          ]
        }
      ],
      "source": [
        "#Random Forest Classifier\n",
        "randomForest= RandomForestClassifier(n_estimators=20,max_depth = 250)\n",
        "randomForest.fit(X_train,y_train)\n",
        "y_pred = randomForest.predict(X_test)\n",
        "print('Accuracy of Random Forest Classifier on test set: {:.4f}'.format(randomForest.score(X_test, y_test)))\n"
      ]
    },
    {
      "cell_type": "markdown",
      "metadata": {
        "id": "os9uL9MIijVh"
      },
      "source": [
        "Fine-tuning RF Classifier"
      ]
    },
    {
      "cell_type": "code",
      "execution_count": 68,
      "metadata": {
        "id": "YlyQdo1llhV_"
      },
      "outputs": [],
      "source": [
        "from sklearn.model_selection import RandomizedSearchCV\n",
        "# Number of trees in random forest\n",
        "n_estimators = [int(x) for x in np.linspace(start = 100, stop = 2000, num = 10)]\n",
        "# Number of features to consider at every split\n",
        "max_features = ['auto', 'sqrt']\n",
        "# Maximum number of levels in tree\n",
        "max_depth = [10,25,50,100,250,500]\n",
        "\n",
        "# Minimum number of samples required to split a node\n",
        "min_samples_split = [2, 5, 10]\n",
        "# Minimum number of samples required at each leaf node\n",
        "min_samples_leaf = [1, 2, 4]\n",
        "# Method of selecting samples for training each tree\n",
        "bootstrap = [True, False]\n",
        "# Create the random grid\n",
        "random_grid = {'n_estimators': n_estimators,\n",
        "               'max_features': max_features,\n",
        "               'max_depth': max_depth,\n",
        "               'min_samples_split': min_samples_split,\n",
        "               'min_samples_leaf': min_samples_leaf,\n",
        "               'bootstrap': bootstrap}"
      ]
    },
    {
      "cell_type": "code",
      "execution_count": 69,
      "metadata": {
        "colab": {
          "base_uri": "https://localhost:8080/"
        },
        "id": "D_qKDjYClhWI",
        "outputId": "db2098e2-32a1-497b-9519-3ac1163422fc"
      },
      "outputs": [
        {
          "name": "stdout",
          "output_type": "stream",
          "text": [
            "Fitting 3 folds for each of 100 candidates, totalling 300 fits\n"
          ]
        },
        {
          "data": {
            "text/plain": [
              "RandomizedSearchCV(cv=3, estimator=RandomForestClassifier(), n_iter=100,\n",
              "                   n_jobs=-1,\n",
              "                   param_distributions={'bootstrap': [True, False],\n",
              "                                        'max_depth': [10, 25, 50, 100, 250,\n",
              "                                                      500],\n",
              "                                        'max_features': ['auto', 'sqrt'],\n",
              "                                        'min_samples_leaf': [1, 2, 4],\n",
              "                                        'min_samples_split': [2, 5, 10],\n",
              "                                        'n_estimators': [100, 311, 522, 733,\n",
              "                                                         944, 1155, 1366, 1577,\n",
              "                                                         1788, 2000]},\n",
              "                   random_state=42, verbose=2)"
            ]
          },
          "execution_count": 69,
          "metadata": {},
          "output_type": "execute_result"
        }
      ],
      "source": [
        "# Use the random grid to search for best hyperparameters\n",
        "# First create the base model to tune\n",
        "rf = RandomForestClassifier()\n",
        "# Random search of parameters, using 3 fold cross validation, \n",
        "# search across 100 different combinations, and use all available cores\n",
        "rf_random = RandomizedSearchCV(estimator = rf, param_distributions = random_grid, n_iter = 100, cv = 3, verbose=2, random_state=42, n_jobs = -1)\n",
        "# Fit the random search model\n",
        "rf_random.fit(X_train, y_train)"
      ]
    },
    {
      "cell_type": "code",
      "execution_count": 70,
      "metadata": {
        "colab": {
          "base_uri": "https://localhost:8080/"
        },
        "id": "lA7XYEbjcSJj",
        "outputId": "0f9cfaec-cf19-46e0-9d35-8b6a68634773"
      },
      "outputs": [
        {
          "data": {
            "text/plain": [
              "{'n_estimators': 1155,\n",
              " 'min_samples_split': 10,\n",
              " 'min_samples_leaf': 2,\n",
              " 'max_features': 'sqrt',\n",
              " 'max_depth': 100,\n",
              " 'bootstrap': False}"
            ]
          },
          "execution_count": 70,
          "metadata": {},
          "output_type": "execute_result"
        }
      ],
      "source": [
        "rf_random.best_params_"
      ]
    },
    {
      "cell_type": "code",
      "execution_count": 71,
      "metadata": {
        "colab": {
          "base_uri": "https://localhost:8080/"
        },
        "id": "LFyejbQLdJKU",
        "outputId": "267dc175-98c0-4ee7-de24-ae118be79b7e"
      },
      "outputs": [
        {
          "data": {
            "text/plain": [
              "0.6077237715803453"
            ]
          },
          "execution_count": 71,
          "metadata": {},
          "output_type": "execute_result"
        }
      ],
      "source": [
        "rf_random.best_score_"
      ]
    },
    {
      "cell_type": "code",
      "execution_count": 72,
      "metadata": {
        "id": "Q9t8J8X7dxaK"
      },
      "outputs": [],
      "source": [
        "frame = pd.DataFrame(rf_random.cv_results_)"
      ]
    },
    {
      "cell_type": "code",
      "execution_count": 73,
      "metadata": {
        "colab": {
          "base_uri": "https://localhost:8080/",
          "height": 531
        },
        "id": "FoibiQ7ld5Sn",
        "outputId": "69f656f4-f4b7-49bf-ecd8-b1241adacf28"
      },
      "outputs": [
        {
          "data": {
            "text/html": [
              "<div>\n",
              "<style scoped>\n",
              "    .dataframe tbody tr th:only-of-type {\n",
              "        vertical-align: middle;\n",
              "    }\n",
              "\n",
              "    .dataframe tbody tr th {\n",
              "        vertical-align: top;\n",
              "    }\n",
              "\n",
              "    .dataframe thead th {\n",
              "        text-align: right;\n",
              "    }\n",
              "</style>\n",
              "<table border=\"1\" class=\"dataframe\">\n",
              "  <thead>\n",
              "    <tr style=\"text-align: right;\">\n",
              "      <th></th>\n",
              "      <th>mean_fit_time</th>\n",
              "      <th>std_fit_time</th>\n",
              "      <th>mean_score_time</th>\n",
              "      <th>std_score_time</th>\n",
              "      <th>param_n_estimators</th>\n",
              "      <th>param_min_samples_split</th>\n",
              "      <th>param_min_samples_leaf</th>\n",
              "      <th>param_max_features</th>\n",
              "      <th>param_max_depth</th>\n",
              "      <th>param_bootstrap</th>\n",
              "      <th>params</th>\n",
              "      <th>split0_test_score</th>\n",
              "      <th>split1_test_score</th>\n",
              "      <th>split2_test_score</th>\n",
              "      <th>mean_test_score</th>\n",
              "      <th>std_test_score</th>\n",
              "      <th>rank_test_score</th>\n",
              "    </tr>\n",
              "  </thead>\n",
              "  <tbody>\n",
              "    <tr>\n",
              "      <th>0</th>\n",
              "      <td>6.060694</td>\n",
              "      <td>0.419788</td>\n",
              "      <td>0.415013</td>\n",
              "      <td>0.048392</td>\n",
              "      <td>2000</td>\n",
              "      <td>2</td>\n",
              "      <td>1</td>\n",
              "      <td>sqrt</td>\n",
              "      <td>500</td>\n",
              "      <td>False</td>\n",
              "      <td>{'n_estimators': 2000, 'min_samples_split': 2,...</td>\n",
              "      <td>0.601594</td>\n",
              "      <td>0.573705</td>\n",
              "      <td>0.544</td>\n",
              "      <td>0.573100</td>\n",
              "      <td>0.023516</td>\n",
              "      <td>98</td>\n",
              "    </tr>\n",
              "    <tr>\n",
              "      <th>1</th>\n",
              "      <td>5.818760</td>\n",
              "      <td>0.466611</td>\n",
              "      <td>0.346612</td>\n",
              "      <td>0.040905</td>\n",
              "      <td>1788</td>\n",
              "      <td>2</td>\n",
              "      <td>2</td>\n",
              "      <td>sqrt</td>\n",
              "      <td>100</td>\n",
              "      <td>True</td>\n",
              "      <td>{'n_estimators': 1788, 'min_samples_split': 2,...</td>\n",
              "      <td>0.613546</td>\n",
              "      <td>0.569721</td>\n",
              "      <td>0.600</td>\n",
              "      <td>0.594422</td>\n",
              "      <td>0.018321</td>\n",
              "      <td>25</td>\n",
              "    </tr>\n",
              "    <tr>\n",
              "      <th>2</th>\n",
              "      <td>1.938274</td>\n",
              "      <td>0.070405</td>\n",
              "      <td>0.192625</td>\n",
              "      <td>0.029506</td>\n",
              "      <td>733</td>\n",
              "      <td>2</td>\n",
              "      <td>1</td>\n",
              "      <td>sqrt</td>\n",
              "      <td>500</td>\n",
              "      <td>False</td>\n",
              "      <td>{'n_estimators': 733, 'min_samples_split': 2, ...</td>\n",
              "      <td>0.597610</td>\n",
              "      <td>0.577689</td>\n",
              "      <td>0.548</td>\n",
              "      <td>0.574433</td>\n",
              "      <td>0.020383</td>\n",
              "      <td>96</td>\n",
              "    </tr>\n",
              "    <tr>\n",
              "      <th>3</th>\n",
              "      <td>2.096885</td>\n",
              "      <td>0.289559</td>\n",
              "      <td>0.223410</td>\n",
              "      <td>0.074112</td>\n",
              "      <td>733</td>\n",
              "      <td>2</td>\n",
              "      <td>2</td>\n",
              "      <td>auto</td>\n",
              "      <td>10</td>\n",
              "      <td>False</td>\n",
              "      <td>{'n_estimators': 733, 'min_samples_split': 2, ...</td>\n",
              "      <td>0.593625</td>\n",
              "      <td>0.597610</td>\n",
              "      <td>0.584</td>\n",
              "      <td>0.591745</td>\n",
              "      <td>0.005713</td>\n",
              "      <td>40</td>\n",
              "    </tr>\n",
              "    <tr>\n",
              "      <th>4</th>\n",
              "      <td>5.707986</td>\n",
              "      <td>0.272032</td>\n",
              "      <td>0.558674</td>\n",
              "      <td>0.131866</td>\n",
              "      <td>1788</td>\n",
              "      <td>2</td>\n",
              "      <td>4</td>\n",
              "      <td>auto</td>\n",
              "      <td>250</td>\n",
              "      <td>True</td>\n",
              "      <td>{'n_estimators': 1788, 'min_samples_split': 2,...</td>\n",
              "      <td>0.601594</td>\n",
              "      <td>0.557769</td>\n",
              "      <td>0.588</td>\n",
              "      <td>0.582454</td>\n",
              "      <td>0.018316</td>\n",
              "      <td>80</td>\n",
              "    </tr>\n",
              "  </tbody>\n",
              "</table>\n",
              "</div>"
            ],
            "text/plain": [
              "   mean_fit_time  std_fit_time  mean_score_time  std_score_time  \\\n",
              "0       6.060694      0.419788         0.415013        0.048392   \n",
              "1       5.818760      0.466611         0.346612        0.040905   \n",
              "2       1.938274      0.070405         0.192625        0.029506   \n",
              "3       2.096885      0.289559         0.223410        0.074112   \n",
              "4       5.707986      0.272032         0.558674        0.131866   \n",
              "\n",
              "  param_n_estimators param_min_samples_split param_min_samples_leaf  \\\n",
              "0               2000                       2                      1   \n",
              "1               1788                       2                      2   \n",
              "2                733                       2                      1   \n",
              "3                733                       2                      2   \n",
              "4               1788                       2                      4   \n",
              "\n",
              "  param_max_features param_max_depth param_bootstrap  \\\n",
              "0               sqrt             500           False   \n",
              "1               sqrt             100            True   \n",
              "2               sqrt             500           False   \n",
              "3               auto              10           False   \n",
              "4               auto             250            True   \n",
              "\n",
              "                                              params  split0_test_score  \\\n",
              "0  {'n_estimators': 2000, 'min_samples_split': 2,...           0.601594   \n",
              "1  {'n_estimators': 1788, 'min_samples_split': 2,...           0.613546   \n",
              "2  {'n_estimators': 733, 'min_samples_split': 2, ...           0.597610   \n",
              "3  {'n_estimators': 733, 'min_samples_split': 2, ...           0.593625   \n",
              "4  {'n_estimators': 1788, 'min_samples_split': 2,...           0.601594   \n",
              "\n",
              "   split1_test_score  split2_test_score  mean_test_score  std_test_score  \\\n",
              "0           0.573705              0.544         0.573100        0.023516   \n",
              "1           0.569721              0.600         0.594422        0.018321   \n",
              "2           0.577689              0.548         0.574433        0.020383   \n",
              "3           0.597610              0.584         0.591745        0.005713   \n",
              "4           0.557769              0.588         0.582454        0.018316   \n",
              "\n",
              "   rank_test_score  \n",
              "0               98  \n",
              "1               25  \n",
              "2               96  \n",
              "3               40  \n",
              "4               80  "
            ]
          },
          "execution_count": 73,
          "metadata": {},
          "output_type": "execute_result"
        }
      ],
      "source": [
        "frame.head()"
      ]
    },
    {
      "cell_type": "code",
      "execution_count": 74,
      "metadata": {
        "colab": {
          "base_uri": "https://localhost:8080/"
        },
        "id": "KF1eoCfDl5w4",
        "outputId": "6a392650-b876-4261-d5f6-8b69a7870a29"
      },
      "outputs": [
        {
          "name": "stdout",
          "output_type": "stream",
          "text": [
            "Accuracy of Random Forest Classifier on test set: 0.5833\n"
          ]
        }
      ],
      "source": [
        "#Random Forest Classifier\n",
        "randomForest= RandomForestClassifier(bootstrap=False,\n",
        " max_depth= 250,\n",
        " max_features='auto',\n",
        " min_samples_leaf= 2,\n",
        " min_samples_split=10\n",
        " ,n_estimators=1155)\n",
        "randomForest.fit(X_train,y_train)\n",
        "y_pred = randomForest.predict(X_test)\n",
        "print('Accuracy of Random Forest Classifier on test set: {:.4f}'.format(randomForest.score(X_test, y_test)))\n"
      ]
    },
    {
      "cell_type": "code",
      "execution_count": 75,
      "metadata": {
        "id": "Ve6Q2qVscXkX"
      },
      "outputs": [],
      "source": [
        "y_pred= rf_random.best_estimator_.predict(X_test)"
      ]
    },
    {
      "cell_type": "code",
      "execution_count": 76,
      "metadata": {
        "colab": {
          "base_uri": "https://localhost:8080/"
        },
        "id": "cdaueV25cvRC",
        "outputId": "08612288-4216-4263-d722-57e0447e16e0"
      },
      "outputs": [
        {
          "data": {
            "text/plain": [
              "{'F1_score': 0.5614035087719299,\n",
              " 'Accuracy': 0.5833333333333334,\n",
              " 'Area under ROC curve': 0.5833333333333333,\n",
              " 'Precision': 0.5925925925925926,\n",
              " 'Recall': 0.5333333333333333}"
            ]
          },
          "execution_count": 76,
          "metadata": {},
          "output_type": "execute_result"
        }
      ],
      "source": [
        "class_report(y_test,y_pred)"
      ]
    },
    {
      "cell_type": "code",
      "execution_count": 77,
      "metadata": {
        "colab": {
          "base_uri": "https://localhost:8080/",
          "height": 283
        },
        "id": "BM5A5bHQ8gd3",
        "outputId": "766940c5-01c2-45e7-c249-7a5f93554133"
      },
      "outputs": [
        {
          "data": {
            "image/png": "[encoded data removed]",
            "text/plain": [
              "<Figure size 640x480 with 2 Axes>"
            ]
          },
          "metadata": {},
          "output_type": "display_data"
        }
      ],
      "source": [
        "cm = confusion_matrix(y_test,y_pred)\n",
        "disp = ConfusionMatrixDisplay(confusion_matrix=cm)\n",
        "disp.plot()\n",
        "plt.show()"
      ]
    },
    {
      "cell_type": "markdown",
      "metadata": {
        "id": "FLcV_qsAfUSS"
      },
      "source": [
        "### Tuning again on lower n_estimator values\n"
      ]
    },
    {
      "cell_type": "code",
      "execution_count": 78,
      "metadata": {
        "id": "MjvdczgxnUI-"
      },
      "outputs": [],
      "source": [
        "from sklearn.model_selection import RandomizedSearchCV\n",
        "# Number of trees in random forest\n",
        "n_estimators = [int(x) for x in np.arange(5, 100,5)]\n",
        "# Number of features to consider at every split\n",
        "max_features = ['auto', 'sqrt']\n",
        "# Maximum number of levels in tree\n",
        "max_depth = [10,25,50,100,250,500]\n",
        "\n",
        "# Minimum number of samples required to split a node\n",
        "min_samples_split = [2, 5, 10]\n",
        "# Minimum number of samples required at each leaf node\n",
        "min_samples_leaf = [1, 2, 4]\n",
        "# Method of selecting samples for training each tree\n",
        "bootstrap = [True, False]\n",
        "# Create the random grid\n",
        "random_grid = {'n_estimators': n_estimators,\n",
        "               'max_features': max_features,\n",
        "               'max_depth': max_depth,\n",
        "               'min_samples_split': min_samples_split,\n",
        "               'min_samples_leaf': min_samples_leaf,\n",
        "               'bootstrap': bootstrap}"
      ]
    },
    {
      "cell_type": "code",
      "execution_count": 79,
      "metadata": {
        "colab": {
          "base_uri": "https://localhost:8080/"
        },
        "id": "msf5X0W3nt-j",
        "outputId": "abce10c4-7fba-4cec-bc1c-a35dd50a5819"
      },
      "outputs": [
        {
          "name": "stdout",
          "output_type": "stream",
          "text": [
            "Fitting 3 folds for each of 100 candidates, totalling 300 fits\n"
          ]
        },
        {
          "data": {
            "text/plain": [
              "RandomizedSearchCV(cv=3, estimator=RandomForestClassifier(), n_iter=100,\n",
              "                   n_jobs=-1,\n",
              "                   param_distributions={'bootstrap': [True, False],\n",
              "                                        'max_depth': [10, 25, 50, 100, 250,\n",
              "                                                      500],\n",
              "                                        'max_features': ['auto', 'sqrt'],\n",
              "                                        'min_samples_leaf': [1, 2, 4],\n",
              "                                        'min_samples_split': [2, 5, 10],\n",
              "                                        'n_estimators': [5, 10, 15, 20, 25, 30,\n",
              "                                                         35, 40, 45, 50, 55, 60,\n",
              "                                                         65, 70, 75, 80, 85, 90,\n",
              "                                                         95]},\n",
              "                   random_state=42, verbose=2)"
            ]
          },
          "execution_count": 79,
          "metadata": {},
          "output_type": "execute_result"
        }
      ],
      "source": [
        "# Use the random grid to search for best hyperparameters\n",
        "# First create the base model to tune\n",
        "rf = RandomForestClassifier()\n",
        "# Random search of parameters, using 3 fold cross validation, \n",
        "# search across 100 different combinations, and use all available cores\n",
        "rf_random = RandomizedSearchCV(estimator = rf, param_distributions = random_grid, n_iter = 100, cv = 3, verbose=2, random_state=42, n_jobs = -1)\n",
        "# Fit the random search model\n",
        "rf_random.fit(X_train, y_train)"
      ]
    },
    {
      "cell_type": "code",
      "execution_count": 80,
      "metadata": {
        "colab": {
          "base_uri": "https://localhost:8080/"
        },
        "id": "wGyIN5k4nuRP",
        "outputId": "fa2e0212-618b-442a-a50d-14c3209937be"
      },
      "outputs": [
        {
          "name": "stdout",
          "output_type": "stream",
          "text": [
            "{'n_estimators': 50, 'min_samples_split': 5, 'min_samples_leaf': 4, 'max_features': 'sqrt', 'max_depth': 50, 'bootstrap': False}\n",
            "The best score obtained was :0.6037290836653386\n"
          ]
        }
      ],
      "source": [
        "print(rf_random.best_params_)\n",
        "print(f\"The best score obtained was :{rf_random.best_score_}\")"
      ]
    },
    {
      "cell_type": "code",
      "execution_count": 81,
      "metadata": {
        "id": "lOGc7EdOoFtw"
      },
      "outputs": [],
      "source": [
        "y_pred= rf_random.best_estimator_.predict(X_test)"
      ]
    },
    {
      "cell_type": "code",
      "execution_count": 82,
      "metadata": {
        "colab": {
          "base_uri": "https://localhost:8080/"
        },
        "id": "TL_JpEQToFtx",
        "outputId": "be30dc31-a6c2-4269-9d22-f6869c92513f"
      },
      "outputs": [
        {
          "data": {
            "text/plain": [
              "{'F1_score': 0.5333333333333333,\n",
              " 'Accuracy': 0.5333333333333333,\n",
              " 'Area under ROC curve': 0.5333333333333333,\n",
              " 'Precision': 0.5333333333333333,\n",
              " 'Recall': 0.5333333333333333}"
            ]
          },
          "execution_count": 82,
          "metadata": {},
          "output_type": "execute_result"
        }
      ],
      "source": [
        "class_report(y_test,y_pred)"
      ]
    },
    {
      "cell_type": "code",
      "execution_count": 83,
      "metadata": {
        "colab": {
          "base_uri": "https://localhost:8080/",
          "height": 279
        },
        "id": "IlTMxDu2oFtx",
        "outputId": "ba24babb-0df4-4334-80a5-8fd675a86822"
      },
      "outputs": [
        {
          "data": {
            "image/png": "[encoded data removed]",
            "text/plain": [
              "<Figure size 640x480 with 2 Axes>"
            ]
          },
          "metadata": {},
          "output_type": "display_data"
        }
      ],
      "source": [
        "cm = confusion_matrix(y_test,y_pred)\n",
        "disp = ConfusionMatrixDisplay(confusion_matrix=cm)\n",
        "disp.plot()\n",
        "plt.show()"
      ]
    },
    {
      "cell_type": "code",
      "execution_count": 84,
      "metadata": {
        "colab": {
          "base_uri": "https://localhost:8080/",
          "height": 279
        },
        "id": "eoH1Ecm1-drU",
        "outputId": "dd65d4e1-782c-4bab-caf9-ad4a3cf165f8"
      },
      "outputs": [
        {
          "data": {
            "image/png": "[encoded data removed]",
            "text/plain": [
              "<Figure size 640x480 with 1 Axes>"
            ]
          },
          "metadata": {},
          "output_type": "display_data"
        }
      ],
      "source": [
        "from sklearn import metrics\n",
        "display = metrics.RocCurveDisplay.from_estimator(rf_random.best_estimator_,X_test,y_test)\n",
        "plt.show()"
      ]
    },
    {
      "cell_type": "code",
      "execution_count": null,
      "metadata": {},
      "outputs": [],
      "source": []
    }
  ],
  "metadata": {
    "colab": {
      "authorship_tag": "ABX9TyM3jO5qMmFkvd+95iNB6GD+",
      "collapsed_sections": [],
      "include_colab_link": true,
      "name": "IPL_ML_tasks.ipynb",
      "provenance": [],
      "toc_visible": true
    },
    "kernelspec": {
      "display_name": "Python 3",
      "name": "python3"
    },
    "language_info": {
      "codemirror_mode": {
        "name": "ipython",
        "version": 3
      },
      "file_extension": ".py",
      "mimetype": "text/x-python",
      "name": "python",
      "nbconvert_exporter": "python",
      "pygments_lexer": "ipython3",
      "version": "3.9.13"
    }
  },
  "nbformat": 4,
  "nbformat_minor": 0
}
