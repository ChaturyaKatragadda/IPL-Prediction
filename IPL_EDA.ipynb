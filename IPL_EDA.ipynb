{
 "cells": [
  {
   "cell_type": "markdown",
   "metadata": {
    "colab_type": "text",
    "id": "view-in-github"
   },
   "source": [
    "<a href=\"https://colab.research.google.com/github/PrajwalKalpande/IPL-Score-and-Winner-Prediction/blob/main/IPL_EDA.ipynb\" target=\"_parent\"><img src=\"https://colab.research.google.com/assets/colab-badge.svg\" alt=\"Open In Colab\"/></a>"
   ]
  },
  {
   "cell_type": "markdown",
   "metadata": {
    "id": "vHPXIpULFlpw"
   },
   "source": [
    "## **Importing Data**"
   ]
  },
  {
   "cell_type": "code",
   "execution_count": 3,
   "metadata": {
    "id": "PcHcIxR-HOUp"
   },
   "outputs": [],
   "source": [
    "import numpy as np\n",
    "import pandas as pd\n",
    "import matplotlib.pyplot as plt\n",
    "import seaborn as sns\n",
    "import plotly.express as px\n",
    "import plotly.offline as pyo\n",
    "import plotly.graph_objs as go\n",
    "import plotly.figure_factory as ff\n",
    "import plotly.subplots as subplots\n",
    "import cufflinks as cf\n",
    "import matplotlib\n",
    "%matplotlib inline\n",
    "sns.color_palette(\"Paired\")\n",
    "matplotlib.rcParams['font.size'] = 12\n",
    "matplotlib.rcParams['figure.figsize'] = (10, 6)\n",
    "matplotlib.rcParams['figure.facecolor'] = '#00000000'"
   ]
  },
  {
   "cell_type": "code",
   "execution_count": 5,
   "metadata": {
    "colab": {
     "base_uri": "https://localhost:8080/"
    },
    "id": "Q7sHitwE-esp",
    "outputId": "e95942f1-2a1f-4d84-e0c7-becfdb70a16a"
   },
   "outputs": [],
   "source": [
    "import zipfile"
   ]
  },
  {
   "cell_type": "code",
   "execution_count": 6,
   "metadata": {
    "colab": {
     "base_uri": "https://localhost:8080/"
    },
    "id": "b_Z-r8JPD64z",
    "outputId": "33fe63ef-f240-430d-a12c-fb9f9eb13ec1"
   },
   "outputs": [
    {
     "name": "stdout",
     "output_type": "stream",
     "text": [
      "(193468, 18)\n",
      "(816, 17)\n"
     ]
    }
   ],
   "source": [
    "\n",
    "df_balls = pd.read_csv(\"Data/IPL Ball-by-Ball 2008-2020.csv\")\n",
    "print(df_balls.shape)\n",
    "df_matches = pd.read_csv(\"Data/IPL Matches 2008-2020.csv\")\n",
    "print(df_matches.shape)"
   ]
  },
  {
   "cell_type": "code",
   "execution_count": 7,
   "metadata": {
    "colab": {
     "base_uri": "https://localhost:8080/"
    },
    "id": "3V6lf9OwTEOz",
    "outputId": "4fcf602f-f0c0-4d48-ce1e-9ad9b3ad58e4"
   },
   "outputs": [
    {
     "data": {
      "text/plain": [
       "id                       0\n",
       "inning                   0\n",
       "over                     0\n",
       "ball                     0\n",
       "batsman                  0\n",
       "non_striker              0\n",
       "bowler                   0\n",
       "batsman_runs             0\n",
       "extra_runs               0\n",
       "total_runs               0\n",
       "non_boundary             0\n",
       "is_wicket                0\n",
       "dismissal_kind      183973\n",
       "player_dismissed    183973\n",
       "fielder             186684\n",
       "extras_type         183235\n",
       "batting_team             0\n",
       "bowling_team           191\n",
       "dtype: int64"
      ]
     },
     "execution_count": 7,
     "metadata": {},
     "output_type": "execute_result"
    }
   ],
   "source": [
    "df_balls.isnull().sum()"
   ]
  },
  {
   "cell_type": "code",
   "execution_count": 8,
   "metadata": {
    "colab": {
     "base_uri": "https://localhost:8080/"
    },
    "id": "MfT4vI30TQOT",
    "outputId": "92fa7654-a566-4295-ca4c-957ca4cfcda9"
   },
   "outputs": [
    {
     "data": {
      "text/plain": [
       "id                   0\n",
       "city                13\n",
       "date                 0\n",
       "player_of_match      4\n",
       "venue                0\n",
       "neutral_venue        0\n",
       "team1                0\n",
       "team2                0\n",
       "toss_winner          0\n",
       "toss_decision        0\n",
       "winner               4\n",
       "result               4\n",
       "result_margin       17\n",
       "eliminator           4\n",
       "method             797\n",
       "umpire1              0\n",
       "umpire2              0\n",
       "dtype: int64"
      ]
     },
     "execution_count": 8,
     "metadata": {},
     "output_type": "execute_result"
    }
   ],
   "source": [
    "df_matches.isna().sum()"
   ]
  },
  {
   "cell_type": "code",
   "execution_count": 9,
   "metadata": {
    "colab": {
     "base_uri": "https://localhost:8080/",
     "height": 461
    },
    "id": "ZvXIpu2hE9Iw",
    "outputId": "1f331bf6-4420-418c-e306-ba2fb40a4de0"
   },
   "outputs": [
    {
     "name": "stdout",
     "output_type": "stream",
     "text": [
      "(193468, 34)\n"
     ]
    },
    {
     "data": {
      "text/html": [
       "<div>\n",
       "<style scoped>\n",
       "    .dataframe tbody tr th:only-of-type {\n",
       "        vertical-align: middle;\n",
       "    }\n",
       "\n",
       "    .dataframe tbody tr th {\n",
       "        vertical-align: top;\n",
       "    }\n",
       "\n",
       "    .dataframe thead th {\n",
       "        text-align: right;\n",
       "    }\n",
       "</style>\n",
       "<table border=\"1\" class=\"dataframe\">\n",
       "  <thead>\n",
       "    <tr style=\"text-align: right;\">\n",
       "      <th></th>\n",
       "      <th>id</th>\n",
       "      <th>city</th>\n",
       "      <th>date</th>\n",
       "      <th>player_of_match</th>\n",
       "      <th>venue</th>\n",
       "      <th>neutral_venue</th>\n",
       "      <th>team1</th>\n",
       "      <th>team2</th>\n",
       "      <th>toss_winner</th>\n",
       "      <th>toss_decision</th>\n",
       "      <th>...</th>\n",
       "      <th>extra_runs</th>\n",
       "      <th>total_runs</th>\n",
       "      <th>non_boundary</th>\n",
       "      <th>is_wicket</th>\n",
       "      <th>dismissal_kind</th>\n",
       "      <th>player_dismissed</th>\n",
       "      <th>fielder</th>\n",
       "      <th>extras_type</th>\n",
       "      <th>batting_team</th>\n",
       "      <th>bowling_team</th>\n",
       "    </tr>\n",
       "  </thead>\n",
       "  <tbody>\n",
       "    <tr>\n",
       "      <th>0</th>\n",
       "      <td>335982</td>\n",
       "      <td>Bangalore</td>\n",
       "      <td>2008-04-18</td>\n",
       "      <td>BB McCullum</td>\n",
       "      <td>M Chinnaswamy Stadium</td>\n",
       "      <td>0</td>\n",
       "      <td>Royal Challengers Bangalore</td>\n",
       "      <td>Kolkata Knight Riders</td>\n",
       "      <td>Royal Challengers Bangalore</td>\n",
       "      <td>field</td>\n",
       "      <td>...</td>\n",
       "      <td>0</td>\n",
       "      <td>1</td>\n",
       "      <td>0</td>\n",
       "      <td>0</td>\n",
       "      <td>NaN</td>\n",
       "      <td>NaN</td>\n",
       "      <td>NaN</td>\n",
       "      <td>NaN</td>\n",
       "      <td>Kolkata Knight Riders</td>\n",
       "      <td>Royal Challengers Bangalore</td>\n",
       "    </tr>\n",
       "    <tr>\n",
       "      <th>1</th>\n",
       "      <td>335982</td>\n",
       "      <td>Bangalore</td>\n",
       "      <td>2008-04-18</td>\n",
       "      <td>BB McCullum</td>\n",
       "      <td>M Chinnaswamy Stadium</td>\n",
       "      <td>0</td>\n",
       "      <td>Royal Challengers Bangalore</td>\n",
       "      <td>Kolkata Knight Riders</td>\n",
       "      <td>Royal Challengers Bangalore</td>\n",
       "      <td>field</td>\n",
       "      <td>...</td>\n",
       "      <td>0</td>\n",
       "      <td>1</td>\n",
       "      <td>0</td>\n",
       "      <td>0</td>\n",
       "      <td>NaN</td>\n",
       "      <td>NaN</td>\n",
       "      <td>NaN</td>\n",
       "      <td>NaN</td>\n",
       "      <td>Kolkata Knight Riders</td>\n",
       "      <td>Royal Challengers Bangalore</td>\n",
       "    </tr>\n",
       "    <tr>\n",
       "      <th>2</th>\n",
       "      <td>335982</td>\n",
       "      <td>Bangalore</td>\n",
       "      <td>2008-04-18</td>\n",
       "      <td>BB McCullum</td>\n",
       "      <td>M Chinnaswamy Stadium</td>\n",
       "      <td>0</td>\n",
       "      <td>Royal Challengers Bangalore</td>\n",
       "      <td>Kolkata Knight Riders</td>\n",
       "      <td>Royal Challengers Bangalore</td>\n",
       "      <td>field</td>\n",
       "      <td>...</td>\n",
       "      <td>0</td>\n",
       "      <td>0</td>\n",
       "      <td>0</td>\n",
       "      <td>0</td>\n",
       "      <td>NaN</td>\n",
       "      <td>NaN</td>\n",
       "      <td>NaN</td>\n",
       "      <td>NaN</td>\n",
       "      <td>Kolkata Knight Riders</td>\n",
       "      <td>Royal Challengers Bangalore</td>\n",
       "    </tr>\n",
       "    <tr>\n",
       "      <th>3</th>\n",
       "      <td>335982</td>\n",
       "      <td>Bangalore</td>\n",
       "      <td>2008-04-18</td>\n",
       "      <td>BB McCullum</td>\n",
       "      <td>M Chinnaswamy Stadium</td>\n",
       "      <td>0</td>\n",
       "      <td>Royal Challengers Bangalore</td>\n",
       "      <td>Kolkata Knight Riders</td>\n",
       "      <td>Royal Challengers Bangalore</td>\n",
       "      <td>field</td>\n",
       "      <td>...</td>\n",
       "      <td>0</td>\n",
       "      <td>1</td>\n",
       "      <td>0</td>\n",
       "      <td>0</td>\n",
       "      <td>NaN</td>\n",
       "      <td>NaN</td>\n",
       "      <td>NaN</td>\n",
       "      <td>NaN</td>\n",
       "      <td>Kolkata Knight Riders</td>\n",
       "      <td>Royal Challengers Bangalore</td>\n",
       "    </tr>\n",
       "    <tr>\n",
       "      <th>4</th>\n",
       "      <td>335982</td>\n",
       "      <td>Bangalore</td>\n",
       "      <td>2008-04-18</td>\n",
       "      <td>BB McCullum</td>\n",
       "      <td>M Chinnaswamy Stadium</td>\n",
       "      <td>0</td>\n",
       "      <td>Royal Challengers Bangalore</td>\n",
       "      <td>Kolkata Knight Riders</td>\n",
       "      <td>Royal Challengers Bangalore</td>\n",
       "      <td>field</td>\n",
       "      <td>...</td>\n",
       "      <td>0</td>\n",
       "      <td>1</td>\n",
       "      <td>0</td>\n",
       "      <td>0</td>\n",
       "      <td>NaN</td>\n",
       "      <td>NaN</td>\n",
       "      <td>NaN</td>\n",
       "      <td>NaN</td>\n",
       "      <td>Kolkata Knight Riders</td>\n",
       "      <td>Royal Challengers Bangalore</td>\n",
       "    </tr>\n",
       "  </tbody>\n",
       "</table>\n",
       "<p>5 rows × 34 columns</p>\n",
       "</div>"
      ],
      "text/plain": [
       "       id       city        date player_of_match                  venue  \\\n",
       "0  335982  Bangalore  2008-04-18     BB McCullum  M Chinnaswamy Stadium   \n",
       "1  335982  Bangalore  2008-04-18     BB McCullum  M Chinnaswamy Stadium   \n",
       "2  335982  Bangalore  2008-04-18     BB McCullum  M Chinnaswamy Stadium   \n",
       "3  335982  Bangalore  2008-04-18     BB McCullum  M Chinnaswamy Stadium   \n",
       "4  335982  Bangalore  2008-04-18     BB McCullum  M Chinnaswamy Stadium   \n",
       "\n",
       "   neutral_venue                        team1                  team2  \\\n",
       "0              0  Royal Challengers Bangalore  Kolkata Knight Riders   \n",
       "1              0  Royal Challengers Bangalore  Kolkata Knight Riders   \n",
       "2              0  Royal Challengers Bangalore  Kolkata Knight Riders   \n",
       "3              0  Royal Challengers Bangalore  Kolkata Knight Riders   \n",
       "4              0  Royal Challengers Bangalore  Kolkata Knight Riders   \n",
       "\n",
       "                   toss_winner toss_decision  ... extra_runs total_runs  \\\n",
       "0  Royal Challengers Bangalore         field  ...          0          1   \n",
       "1  Royal Challengers Bangalore         field  ...          0          1   \n",
       "2  Royal Challengers Bangalore         field  ...          0          0   \n",
       "3  Royal Challengers Bangalore         field  ...          0          1   \n",
       "4  Royal Challengers Bangalore         field  ...          0          1   \n",
       "\n",
       "   non_boundary is_wicket dismissal_kind player_dismissed fielder  \\\n",
       "0             0         0            NaN              NaN     NaN   \n",
       "1             0         0            NaN              NaN     NaN   \n",
       "2             0         0            NaN              NaN     NaN   \n",
       "3             0         0            NaN              NaN     NaN   \n",
       "4             0         0            NaN              NaN     NaN   \n",
       "\n",
       "   extras_type           batting_team                 bowling_team  \n",
       "0          NaN  Kolkata Knight Riders  Royal Challengers Bangalore  \n",
       "1          NaN  Kolkata Knight Riders  Royal Challengers Bangalore  \n",
       "2          NaN  Kolkata Knight Riders  Royal Challengers Bangalore  \n",
       "3          NaN  Kolkata Knight Riders  Royal Challengers Bangalore  \n",
       "4          NaN  Kolkata Knight Riders  Royal Challengers Bangalore  \n",
       "\n",
       "[5 rows x 34 columns]"
      ]
     },
     "execution_count": 9,
     "metadata": {},
     "output_type": "execute_result"
    }
   ],
   "source": [
    "data = pd.merge(left=df_matches, right=df_balls, on='id', how='right')\n",
    "#merging data (using index of df_balls i.e. match id)\n",
    "print(data.shape)\n",
    "data.head()"
   ]
  },
  {
   "cell_type": "code",
   "execution_count": 10,
   "metadata": {
    "colab": {
     "base_uri": "https://localhost:8080/",
     "height": 364
    },
    "id": "7x5xvv7izR_0",
    "outputId": "0265a848-3c25-40d7-8d2f-e7fdab8ad082"
   },
   "outputs": [
    {
     "data": {
      "text/html": [
       "<div>\n",
       "<style scoped>\n",
       "    .dataframe tbody tr th:only-of-type {\n",
       "        vertical-align: middle;\n",
       "    }\n",
       "\n",
       "    .dataframe tbody tr th {\n",
       "        vertical-align: top;\n",
       "    }\n",
       "\n",
       "    .dataframe thead th {\n",
       "        text-align: right;\n",
       "    }\n",
       "</style>\n",
       "<table border=\"1\" class=\"dataframe\">\n",
       "  <thead>\n",
       "    <tr style=\"text-align: right;\">\n",
       "      <th></th>\n",
       "      <th>id</th>\n",
       "      <th>neutral_venue</th>\n",
       "      <th>result_margin</th>\n",
       "      <th>inning</th>\n",
       "      <th>over</th>\n",
       "      <th>ball</th>\n",
       "      <th>batsman_runs</th>\n",
       "      <th>extra_runs</th>\n",
       "      <th>total_runs</th>\n",
       "      <th>non_boundary</th>\n",
       "      <th>is_wicket</th>\n",
       "    </tr>\n",
       "  </thead>\n",
       "  <tbody>\n",
       "    <tr>\n",
       "      <th>count</th>\n",
       "      <td>1.934680e+05</td>\n",
       "      <td>193468.000000</td>\n",
       "      <td>189871.000000</td>\n",
       "      <td>193468.000000</td>\n",
       "      <td>193468.000000</td>\n",
       "      <td>193468.000000</td>\n",
       "      <td>193468.000000</td>\n",
       "      <td>193468.000000</td>\n",
       "      <td>193468.000000</td>\n",
       "      <td>193468.000000</td>\n",
       "      <td>193468.000000</td>\n",
       "    </tr>\n",
       "    <tr>\n",
       "      <th>mean</th>\n",
       "      <td>7.567688e+05</td>\n",
       "      <td>0.094827</td>\n",
       "      <td>17.340895</td>\n",
       "      <td>1.482131</td>\n",
       "      <td>9.177027</td>\n",
       "      <td>3.615967</td>\n",
       "      <td>1.240231</td>\n",
       "      <td>0.066414</td>\n",
       "      <td>1.306645</td>\n",
       "      <td>0.000083</td>\n",
       "      <td>0.049078</td>\n",
       "    </tr>\n",
       "    <tr>\n",
       "      <th>std</th>\n",
       "      <td>3.060971e+05</td>\n",
       "      <td>0.292977</td>\n",
       "      <td>21.886397</td>\n",
       "      <td>0.499682</td>\n",
       "      <td>5.676848</td>\n",
       "      <td>1.807128</td>\n",
       "      <td>1.610867</td>\n",
       "      <td>0.339991</td>\n",
       "      <td>1.598802</td>\n",
       "      <td>0.009094</td>\n",
       "      <td>0.216031</td>\n",
       "    </tr>\n",
       "    <tr>\n",
       "      <th>min</th>\n",
       "      <td>3.359820e+05</td>\n",
       "      <td>0.000000</td>\n",
       "      <td>1.000000</td>\n",
       "      <td>1.000000</td>\n",
       "      <td>0.000000</td>\n",
       "      <td>1.000000</td>\n",
       "      <td>0.000000</td>\n",
       "      <td>0.000000</td>\n",
       "      <td>0.000000</td>\n",
       "      <td>0.000000</td>\n",
       "      <td>0.000000</td>\n",
       "    </tr>\n",
       "    <tr>\n",
       "      <th>25%</th>\n",
       "      <td>5.012270e+05</td>\n",
       "      <td>0.000000</td>\n",
       "      <td>6.000000</td>\n",
       "      <td>1.000000</td>\n",
       "      <td>4.000000</td>\n",
       "      <td>2.000000</td>\n",
       "      <td>0.000000</td>\n",
       "      <td>0.000000</td>\n",
       "      <td>0.000000</td>\n",
       "      <td>0.000000</td>\n",
       "      <td>0.000000</td>\n",
       "    </tr>\n",
       "    <tr>\n",
       "      <th>50%</th>\n",
       "      <td>7.292970e+05</td>\n",
       "      <td>0.000000</td>\n",
       "      <td>8.000000</td>\n",
       "      <td>1.000000</td>\n",
       "      <td>9.000000</td>\n",
       "      <td>4.000000</td>\n",
       "      <td>1.000000</td>\n",
       "      <td>0.000000</td>\n",
       "      <td>1.000000</td>\n",
       "      <td>0.000000</td>\n",
       "      <td>0.000000</td>\n",
       "    </tr>\n",
       "    <tr>\n",
       "      <th>75%</th>\n",
       "      <td>1.082628e+06</td>\n",
       "      <td>0.000000</td>\n",
       "      <td>20.000000</td>\n",
       "      <td>2.000000</td>\n",
       "      <td>14.000000</td>\n",
       "      <td>5.000000</td>\n",
       "      <td>1.000000</td>\n",
       "      <td>0.000000</td>\n",
       "      <td>1.000000</td>\n",
       "      <td>0.000000</td>\n",
       "      <td>0.000000</td>\n",
       "    </tr>\n",
       "    <tr>\n",
       "      <th>max</th>\n",
       "      <td>1.237181e+06</td>\n",
       "      <td>1.000000</td>\n",
       "      <td>146.000000</td>\n",
       "      <td>2.000000</td>\n",
       "      <td>19.000000</td>\n",
       "      <td>9.000000</td>\n",
       "      <td>6.000000</td>\n",
       "      <td>7.000000</td>\n",
       "      <td>7.000000</td>\n",
       "      <td>1.000000</td>\n",
       "      <td>1.000000</td>\n",
       "    </tr>\n",
       "  </tbody>\n",
       "</table>\n",
       "</div>"
      ],
      "text/plain": [
       "                 id  neutral_venue  result_margin         inning  \\\n",
       "count  1.934680e+05  193468.000000  189871.000000  193468.000000   \n",
       "mean   7.567688e+05       0.094827      17.340895       1.482131   \n",
       "std    3.060971e+05       0.292977      21.886397       0.499682   \n",
       "min    3.359820e+05       0.000000       1.000000       1.000000   \n",
       "25%    5.012270e+05       0.000000       6.000000       1.000000   \n",
       "50%    7.292970e+05       0.000000       8.000000       1.000000   \n",
       "75%    1.082628e+06       0.000000      20.000000       2.000000   \n",
       "max    1.237181e+06       1.000000     146.000000       2.000000   \n",
       "\n",
       "                over           ball   batsman_runs     extra_runs  \\\n",
       "count  193468.000000  193468.000000  193468.000000  193468.000000   \n",
       "mean        9.177027       3.615967       1.240231       0.066414   \n",
       "std         5.676848       1.807128       1.610867       0.339991   \n",
       "min         0.000000       1.000000       0.000000       0.000000   \n",
       "25%         4.000000       2.000000       0.000000       0.000000   \n",
       "50%         9.000000       4.000000       1.000000       0.000000   \n",
       "75%        14.000000       5.000000       1.000000       0.000000   \n",
       "max        19.000000       9.000000       6.000000       7.000000   \n",
       "\n",
       "          total_runs   non_boundary      is_wicket  \n",
       "count  193468.000000  193468.000000  193468.000000  \n",
       "mean        1.306645       0.000083       0.049078  \n",
       "std         1.598802       0.009094       0.216031  \n",
       "min         0.000000       0.000000       0.000000  \n",
       "25%         0.000000       0.000000       0.000000  \n",
       "50%         1.000000       0.000000       0.000000  \n",
       "75%         1.000000       0.000000       0.000000  \n",
       "max         7.000000       1.000000       1.000000  "
      ]
     },
     "execution_count": 10,
     "metadata": {},
     "output_type": "execute_result"
    }
   ],
   "source": [
    "data.describe()"
   ]
  },
  {
   "cell_type": "code",
   "execution_count": 11,
   "metadata": {
    "colab": {
     "base_uri": "https://localhost:8080/"
    },
    "id": "LOGQfvOYFK4D",
    "outputId": "77e1ca71-dab7-42da-fa0f-962af76e732b"
   },
   "outputs": [
    {
     "name": "stdout",
     "output_type": "stream",
     "text": [
      "<class 'pandas.core.frame.DataFrame'>\n",
      "Int64Index: 193468 entries, 0 to 193467\n",
      "Data columns (total 34 columns):\n",
      " #   Column            Non-Null Count   Dtype  \n",
      "---  ------            --------------   -----  \n",
      " 0   id                193468 non-null  int64  \n",
      " 1   city              190329 non-null  object \n",
      " 2   date              193468 non-null  object \n",
      " 3   player_of_match   193096 non-null  object \n",
      " 4   venue             193468 non-null  object \n",
      " 5   neutral_venue     193468 non-null  int64  \n",
      " 6   team1             193468 non-null  object \n",
      " 7   team2             193468 non-null  object \n",
      " 8   toss_winner       193468 non-null  object \n",
      " 9   toss_decision     193468 non-null  object \n",
      " 10  winner            193096 non-null  object \n",
      " 11  result            193096 non-null  object \n",
      " 12  result_margin     189871 non-null  float64\n",
      " 13  eliminator        193096 non-null  object \n",
      " 14  method            3208 non-null    object \n",
      " 15  umpire1           193468 non-null  object \n",
      " 16  umpire2           193468 non-null  object \n",
      " 17  inning            193468 non-null  int64  \n",
      " 18  over              193468 non-null  int64  \n",
      " 19  ball              193468 non-null  int64  \n",
      " 20  batsman           193468 non-null  object \n",
      " 21  non_striker       193468 non-null  object \n",
      " 22  bowler            193468 non-null  object \n",
      " 23  batsman_runs      193468 non-null  int64  \n",
      " 24  extra_runs        193468 non-null  int64  \n",
      " 25  total_runs        193468 non-null  int64  \n",
      " 26  non_boundary      193468 non-null  int64  \n",
      " 27  is_wicket         193468 non-null  int64  \n",
      " 28  dismissal_kind    9495 non-null    object \n",
      " 29  player_dismissed  9495 non-null    object \n",
      " 30  fielder           6784 non-null    object \n",
      " 31  extras_type       10233 non-null   object \n",
      " 32  batting_team      193468 non-null  object \n",
      " 33  bowling_team      193277 non-null  object \n",
      "dtypes: float64(1), int64(10), object(23)\n",
      "memory usage: 51.7+ MB\n"
     ]
    }
   ],
   "source": [
    "data.info()"
   ]
  },
  {
   "cell_type": "markdown",
   "metadata": {
    "id": "h56PRXt9E-7N"
   },
   "source": [
    "# Data Preprocessing"
   ]
  },
  {
   "cell_type": "code",
   "execution_count": 12,
   "metadata": {
    "colab": {
     "base_uri": "https://localhost:8080/"
    },
    "id": "w2QAX4cE0A5M",
    "outputId": "6060320f-05e6-458f-f517-a266ed5893ce"
   },
   "outputs": [
    {
     "data": {
      "text/plain": [
       "id                       0\n",
       "city                  3139\n",
       "date                     0\n",
       "player_of_match        372\n",
       "venue                    0\n",
       "neutral_venue            0\n",
       "team1                    0\n",
       "team2                    0\n",
       "toss_winner              0\n",
       "toss_decision            0\n",
       "winner                 372\n",
       "result                 372\n",
       "result_margin         3597\n",
       "eliminator             372\n",
       "method              190260\n",
       "umpire1                  0\n",
       "umpire2                  0\n",
       "inning                   0\n",
       "over                     0\n",
       "ball                     0\n",
       "batsman                  0\n",
       "non_striker              0\n",
       "bowler                   0\n",
       "batsman_runs             0\n",
       "extra_runs               0\n",
       "total_runs               0\n",
       "non_boundary             0\n",
       "is_wicket                0\n",
       "dismissal_kind      183973\n",
       "player_dismissed    183973\n",
       "fielder             186684\n",
       "extras_type         183235\n",
       "batting_team             0\n",
       "bowling_team           191\n",
       "dtype: int64"
      ]
     },
     "execution_count": 12,
     "metadata": {},
     "output_type": "execute_result"
    }
   ],
   "source": [
    "data.isna().sum()"
   ]
  },
  {
   "cell_type": "markdown",
   "metadata": {
    "id": "qqD_jsWRTqWo"
   },
   "source": [
    "Fixing null values which are not in venue but are in city."
   ]
  },
  {
   "cell_type": "code",
   "execution_count": 13,
   "metadata": {
    "colab": {
     "base_uri": "https://localhost:8080/"
    },
    "id": "yPSqWfnYLS8c",
    "outputId": "3601d62f-67a3-4c91-a2fc-1dfa2d86b1b3"
   },
   "outputs": [
    {
     "data": {
      "text/plain": [
       "array(['M Chinnaswamy Stadium',\n",
       "       'Punjab Cricket Association Stadium, Mohali', 'Feroz Shah Kotla',\n",
       "       'Wankhede Stadium', 'Eden Gardens', 'Sawai Mansingh Stadium',\n",
       "       'Rajiv Gandhi International Stadium, Uppal',\n",
       "       'MA Chidambaram Stadium, Chepauk', 'Dr DY Patil Sports Academy',\n",
       "       'Newlands', \"St George's Park\", 'Kingsmead', 'SuperSport Park',\n",
       "       'Buffalo Park', 'New Wanderers Stadium', 'De Beers Diamond Oval',\n",
       "       'OUTsurance Oval', 'Brabourne Stadium',\n",
       "       'Sardar Patel Stadium, Motera', 'Barabati Stadium',\n",
       "       'Vidarbha Cricket Association Stadium, Jamtha',\n",
       "       'Himachal Pradesh Cricket Association Stadium', 'Nehru Stadium',\n",
       "       'Holkar Cricket Stadium',\n",
       "       'Dr. Y.S. Rajasekhara Reddy ACA-VDCA Cricket Stadium',\n",
       "       'Subrata Roy Sahara Stadium',\n",
       "       'Shaheed Veer Narayan Singh International Stadium',\n",
       "       'JSCA International Stadium Complex', 'Sheikh Zayed Stadium',\n",
       "       'Sharjah Cricket Stadium', 'Dubai International Cricket Stadium',\n",
       "       'Maharashtra Cricket Association Stadium',\n",
       "       'Punjab Cricket Association IS Bindra Stadium, Mohali',\n",
       "       'Saurashtra Cricket Association Stadium', 'Green Park',\n",
       "       'M.Chinnaswamy Stadium'], dtype=object)"
      ]
     },
     "execution_count": 13,
     "metadata": {},
     "output_type": "execute_result"
    }
   ],
   "source": [
    "data['venue'].unique()"
   ]
  },
  {
   "cell_type": "code",
   "execution_count": 14,
   "metadata": {
    "id": "nocIrrzJ0BU5"
   },
   "outputs": [],
   "source": [
    "#Filling the values of city based on venue\n",
    "conditions = [data[\"venue\"] == \"Rajiv Gandhi International Stadium, Uppal\",data[\"venue\"] == \"Maharashtra Cricket Association Stadium\",\n",
    "              data[\"venue\"] == \"Saurashtra Cricket Association Stadium\", data[\"venue\"] == \"Holkar Cricket Stadium\",\n",
    "              data[\"venue\"] == \"M Chinnaswamy Stadium\",data[\"venue\"] == \"Wankhede Stadium\",\n",
    "              data[\"venue\"] == \"Eden Gardens\",data[\"venue\"] == \"Feroz Shah Kotla\",\n",
    "              data[\"venue\"] == \"Punjab Cricket Association IS Bindra Stadium, Mohali\",data[\"venue\"] == \"Green Park\",\n",
    "              data[\"venue\"] == \"Punjab Cricket Association Stadium, Mohali\",data[\"venue\"] == \"Dr DY Patil Sports Academy\",\n",
    "              data[\"venue\"] == \"Sawai Mansingh Stadium\", data[\"venue\"] == \"MA Chidambaram Stadium, Chepauk\", \n",
    "              data[\"venue\"] == \"Newlands\", data[\"venue\"] == \"St George's Park\" , \n",
    "              data[\"venue\"] == \"Kingsmead\", data[\"venue\"] == \"SuperSport Park\",\n",
    "              data[\"venue\"] == \"Buffalo Park\", data[\"venue\"] == \"New Wanderers Stadium\",\n",
    "              data[\"venue\"] == \"De Beers Diamond Oval\", data[\"venue\"] == \"OUTsurance Oval\", \n",
    "              data[\"venue\"] == \"Brabourne Stadium\",data[\"venue\"] == \"Sardar Patel Stadium\", \n",
    "              data[\"venue\"] == \"Barabati Stadium\", data[\"venue\"] == \"Vidarbha Cricket Association Stadium, Jamtha\",\n",
    "              data[\"venue\"] == \"Himachal Pradesh Cricket Association Stadium\",data[\"venue\"] == \"Nehru Stadium\",\n",
    "              data[\"venue\"] == \"Dr. Y.S. Rajasekhara Reddy ACA-VDCA Cricket Stadium\",data[\"venue\"] == \"Subrata Roy Sahara Stadium\",\n",
    "              data[\"venue\"] == \"Shaheed Veer Narayan Singh International Stadium\",data[\"venue\"] == \"JSCA International Stadium Complex\",\n",
    "              data[\"venue\"] == \"Sheikh Zayed Stadium\",data[\"venue\"] == \"Sharjah Cricket Stadium\",\n",
    "              data[\"venue\"] == \"Dubai International Cricket Stadium\",data[\"venue\"] == \"M. A. Chidambaram Stadium\",\n",
    "              data[\"venue\"] == \"Feroz Shah Kotla Ground\",data[\"venue\"] == \"M. Chinnaswamy Stadium\",\n",
    "              data[\"venue\"] == \"Rajiv Gandhi Intl. Cricket Stadium\" ,data[\"venue\"] == \"IS Bindra Stadium\",data[\"venue\"] == \"ACA-VDCA Stadium\"]\n",
    "values = ['Hyderabad', 'Mumbai', 'Rajkot',\"Indore\",\"Bengaluru\",\"Mumbai\",\"Kolkata\",\"Delhi\",\"Mohali\",\"Kanpur\",\"Mohali\",\"Pune\",\"Jaipur\",\"Chennai\",\"Cape Town\",\"Port Elizabeth\",\"Durban\",\n",
    "          \"Centurion\",'Eastern Cape','Johannesburg','Northern Cape','Bloemfontein','Mumbai','Ahmedabad','Cuttack','Jamtha','Dharamshala','Chennai','Visakhapatnam','Pune','Raipur','Ranchi',\n",
    "          'Abu Dhabi','Sharjah','Dubai','Chennai','Delhi','Bengaluru','Hyderabad','Mohali','Visakhapatnam']\n",
    "data['city'] = np.where(data['city'].isnull(),\n",
    "                              np.select(conditions, values),\n",
    "                              data['city'])\n"
   ]
  },
  {
   "cell_type": "code",
   "execution_count": 15,
   "metadata": {
    "colab": {
     "base_uri": "https://localhost:8080/"
    },
    "id": "rOU9Qg-M0Bb2",
    "outputId": "3383525a-d563-4ddc-ff0e-527d01d1bb9a"
   },
   "outputs": [
    {
     "data": {
      "text/plain": [
       "0"
      ]
     },
     "execution_count": 15,
     "metadata": {},
     "output_type": "execute_result"
    }
   ],
   "source": [
    "data.isna().sum().city #done!"
   ]
  },
  {
   "cell_type": "markdown",
   "metadata": {
    "id": "z_9xgaSpgHRa"
   },
   "source": [
    "Adding column for years"
   ]
  },
  {
   "cell_type": "code",
   "execution_count": 16,
   "metadata": {
    "colab": {
     "base_uri": "https://localhost:8080/",
     "height": 444
    },
    "id": "jgXGCnleIFF9",
    "outputId": "0e36b5b5-8d15-4c77-e848-625bcf7f4bcb"
   },
   "outputs": [
    {
     "data": {
      "text/html": [
       "<div>\n",
       "<style scoped>\n",
       "    .dataframe tbody tr th:only-of-type {\n",
       "        vertical-align: middle;\n",
       "    }\n",
       "\n",
       "    .dataframe tbody tr th {\n",
       "        vertical-align: top;\n",
       "    }\n",
       "\n",
       "    .dataframe thead th {\n",
       "        text-align: right;\n",
       "    }\n",
       "</style>\n",
       "<table border=\"1\" class=\"dataframe\">\n",
       "  <thead>\n",
       "    <tr style=\"text-align: right;\">\n",
       "      <th></th>\n",
       "      <th>id</th>\n",
       "      <th>city</th>\n",
       "      <th>date</th>\n",
       "      <th>player_of_match</th>\n",
       "      <th>venue</th>\n",
       "      <th>neutral_venue</th>\n",
       "      <th>team1</th>\n",
       "      <th>team2</th>\n",
       "      <th>toss_winner</th>\n",
       "      <th>toss_decision</th>\n",
       "      <th>...</th>\n",
       "      <th>total_runs</th>\n",
       "      <th>non_boundary</th>\n",
       "      <th>is_wicket</th>\n",
       "      <th>dismissal_kind</th>\n",
       "      <th>player_dismissed</th>\n",
       "      <th>fielder</th>\n",
       "      <th>extras_type</th>\n",
       "      <th>batting_team</th>\n",
       "      <th>bowling_team</th>\n",
       "      <th>year</th>\n",
       "    </tr>\n",
       "  </thead>\n",
       "  <tbody>\n",
       "    <tr>\n",
       "      <th>0</th>\n",
       "      <td>335982</td>\n",
       "      <td>Bangalore</td>\n",
       "      <td>2008-04-18</td>\n",
       "      <td>BB McCullum</td>\n",
       "      <td>M Chinnaswamy Stadium</td>\n",
       "      <td>0</td>\n",
       "      <td>Royal Challengers Bangalore</td>\n",
       "      <td>Kolkata Knight Riders</td>\n",
       "      <td>Royal Challengers Bangalore</td>\n",
       "      <td>field</td>\n",
       "      <td>...</td>\n",
       "      <td>1</td>\n",
       "      <td>0</td>\n",
       "      <td>0</td>\n",
       "      <td>NaN</td>\n",
       "      <td>NaN</td>\n",
       "      <td>NaN</td>\n",
       "      <td>NaN</td>\n",
       "      <td>Kolkata Knight Riders</td>\n",
       "      <td>Royal Challengers Bangalore</td>\n",
       "      <td>2008</td>\n",
       "    </tr>\n",
       "    <tr>\n",
       "      <th>1</th>\n",
       "      <td>335982</td>\n",
       "      <td>Bangalore</td>\n",
       "      <td>2008-04-18</td>\n",
       "      <td>BB McCullum</td>\n",
       "      <td>M Chinnaswamy Stadium</td>\n",
       "      <td>0</td>\n",
       "      <td>Royal Challengers Bangalore</td>\n",
       "      <td>Kolkata Knight Riders</td>\n",
       "      <td>Royal Challengers Bangalore</td>\n",
       "      <td>field</td>\n",
       "      <td>...</td>\n",
       "      <td>1</td>\n",
       "      <td>0</td>\n",
       "      <td>0</td>\n",
       "      <td>NaN</td>\n",
       "      <td>NaN</td>\n",
       "      <td>NaN</td>\n",
       "      <td>NaN</td>\n",
       "      <td>Kolkata Knight Riders</td>\n",
       "      <td>Royal Challengers Bangalore</td>\n",
       "      <td>2008</td>\n",
       "    </tr>\n",
       "    <tr>\n",
       "      <th>2</th>\n",
       "      <td>335982</td>\n",
       "      <td>Bangalore</td>\n",
       "      <td>2008-04-18</td>\n",
       "      <td>BB McCullum</td>\n",
       "      <td>M Chinnaswamy Stadium</td>\n",
       "      <td>0</td>\n",
       "      <td>Royal Challengers Bangalore</td>\n",
       "      <td>Kolkata Knight Riders</td>\n",
       "      <td>Royal Challengers Bangalore</td>\n",
       "      <td>field</td>\n",
       "      <td>...</td>\n",
       "      <td>0</td>\n",
       "      <td>0</td>\n",
       "      <td>0</td>\n",
       "      <td>NaN</td>\n",
       "      <td>NaN</td>\n",
       "      <td>NaN</td>\n",
       "      <td>NaN</td>\n",
       "      <td>Kolkata Knight Riders</td>\n",
       "      <td>Royal Challengers Bangalore</td>\n",
       "      <td>2008</td>\n",
       "    </tr>\n",
       "    <tr>\n",
       "      <th>3</th>\n",
       "      <td>335982</td>\n",
       "      <td>Bangalore</td>\n",
       "      <td>2008-04-18</td>\n",
       "      <td>BB McCullum</td>\n",
       "      <td>M Chinnaswamy Stadium</td>\n",
       "      <td>0</td>\n",
       "      <td>Royal Challengers Bangalore</td>\n",
       "      <td>Kolkata Knight Riders</td>\n",
       "      <td>Royal Challengers Bangalore</td>\n",
       "      <td>field</td>\n",
       "      <td>...</td>\n",
       "      <td>1</td>\n",
       "      <td>0</td>\n",
       "      <td>0</td>\n",
       "      <td>NaN</td>\n",
       "      <td>NaN</td>\n",
       "      <td>NaN</td>\n",
       "      <td>NaN</td>\n",
       "      <td>Kolkata Knight Riders</td>\n",
       "      <td>Royal Challengers Bangalore</td>\n",
       "      <td>2008</td>\n",
       "    </tr>\n",
       "    <tr>\n",
       "      <th>4</th>\n",
       "      <td>335982</td>\n",
       "      <td>Bangalore</td>\n",
       "      <td>2008-04-18</td>\n",
       "      <td>BB McCullum</td>\n",
       "      <td>M Chinnaswamy Stadium</td>\n",
       "      <td>0</td>\n",
       "      <td>Royal Challengers Bangalore</td>\n",
       "      <td>Kolkata Knight Riders</td>\n",
       "      <td>Royal Challengers Bangalore</td>\n",
       "      <td>field</td>\n",
       "      <td>...</td>\n",
       "      <td>1</td>\n",
       "      <td>0</td>\n",
       "      <td>0</td>\n",
       "      <td>NaN</td>\n",
       "      <td>NaN</td>\n",
       "      <td>NaN</td>\n",
       "      <td>NaN</td>\n",
       "      <td>Kolkata Knight Riders</td>\n",
       "      <td>Royal Challengers Bangalore</td>\n",
       "      <td>2008</td>\n",
       "    </tr>\n",
       "  </tbody>\n",
       "</table>\n",
       "<p>5 rows × 35 columns</p>\n",
       "</div>"
      ],
      "text/plain": [
       "       id       city       date player_of_match                  venue  \\\n",
       "0  335982  Bangalore 2008-04-18     BB McCullum  M Chinnaswamy Stadium   \n",
       "1  335982  Bangalore 2008-04-18     BB McCullum  M Chinnaswamy Stadium   \n",
       "2  335982  Bangalore 2008-04-18     BB McCullum  M Chinnaswamy Stadium   \n",
       "3  335982  Bangalore 2008-04-18     BB McCullum  M Chinnaswamy Stadium   \n",
       "4  335982  Bangalore 2008-04-18     BB McCullum  M Chinnaswamy Stadium   \n",
       "\n",
       "   neutral_venue                        team1                  team2  \\\n",
       "0              0  Royal Challengers Bangalore  Kolkata Knight Riders   \n",
       "1              0  Royal Challengers Bangalore  Kolkata Knight Riders   \n",
       "2              0  Royal Challengers Bangalore  Kolkata Knight Riders   \n",
       "3              0  Royal Challengers Bangalore  Kolkata Knight Riders   \n",
       "4              0  Royal Challengers Bangalore  Kolkata Knight Riders   \n",
       "\n",
       "                   toss_winner toss_decision  ... total_runs non_boundary  \\\n",
       "0  Royal Challengers Bangalore         field  ...          1            0   \n",
       "1  Royal Challengers Bangalore         field  ...          1            0   \n",
       "2  Royal Challengers Bangalore         field  ...          0            0   \n",
       "3  Royal Challengers Bangalore         field  ...          1            0   \n",
       "4  Royal Challengers Bangalore         field  ...          1            0   \n",
       "\n",
       "   is_wicket dismissal_kind player_dismissed fielder extras_type  \\\n",
       "0          0            NaN              NaN     NaN         NaN   \n",
       "1          0            NaN              NaN     NaN         NaN   \n",
       "2          0            NaN              NaN     NaN         NaN   \n",
       "3          0            NaN              NaN     NaN         NaN   \n",
       "4          0            NaN              NaN     NaN         NaN   \n",
       "\n",
       "            batting_team                 bowling_team  year  \n",
       "0  Kolkata Knight Riders  Royal Challengers Bangalore  2008  \n",
       "1  Kolkata Knight Riders  Royal Challengers Bangalore  2008  \n",
       "2  Kolkata Knight Riders  Royal Challengers Bangalore  2008  \n",
       "3  Kolkata Knight Riders  Royal Challengers Bangalore  2008  \n",
       "4  Kolkata Knight Riders  Royal Challengers Bangalore  2008  \n",
       "\n",
       "[5 rows x 35 columns]"
      ]
     },
     "execution_count": 16,
     "metadata": {},
     "output_type": "execute_result"
    }
   ],
   "source": [
    "\n",
    "data['date'] = pd.to_datetime(data['date'])\n",
    "data['year'] = pd.DatetimeIndex(data['date']).year\n",
    "data.head(5)"
   ]
  },
  {
   "cell_type": "markdown",
   "metadata": {
    "id": "spnTNmWOlymV"
   },
   "source": [
    "Rearranging overs and making them from 1 to 20"
   ]
  },
  {
   "cell_type": "code",
   "execution_count": 17,
   "metadata": {
    "id": "j7GL4we7gNDB"
   },
   "outputs": [],
   "source": [
    "data[\"over\"].unique()\n",
    "data = data.sort_values(by=['id','inning','over'])\n",
    "data['over']=data['over']+1\n"
   ]
  },
  {
   "cell_type": "code",
   "execution_count": 18,
   "metadata": {
    "colab": {
     "base_uri": "https://localhost:8080/"
    },
    "id": "-f3uDBwwgNG8",
    "outputId": "3ce0cac0-519a-44b9-8bf7-36548658edce"
   },
   "outputs": [
    {
     "data": {
      "text/plain": [
       "array(['legbyes', nan, 'wides', 'byes', 'noballs', 'penalty'],\n",
       "      dtype=object)"
      ]
     },
     "execution_count": 18,
     "metadata": {},
     "output_type": "execute_result"
    }
   ],
   "source": [
    "data['extras_type'].unique()"
   ]
  },
  {
   "cell_type": "code",
   "execution_count": 19,
   "metadata": {
    "colab": {
     "base_uri": "https://localhost:8080/"
    },
    "id": "ZaqmXvvTgNJ7",
    "outputId": "158f7613-6e9a-4f96-d57b-45ab6377cb70"
   },
   "outputs": [
    {
     "data": {
      "text/plain": [
       "array(['Royal Challengers Bangalore', 'Kings XI Punjab',\n",
       "       'Delhi Daredevils', 'Mumbai Indians', 'Kolkata Knight Riders',\n",
       "       'Rajasthan Royals', 'Deccan Chargers', 'Chennai Super Kings',\n",
       "       'Kochi Tuskers Kerala', 'Pune Warriors', 'Sunrisers Hyderabad',\n",
       "       'Gujarat Lions', 'Rising Pune Supergiants',\n",
       "       'Rising Pune Supergiant', 'Delhi Capitals'], dtype=object)"
      ]
     },
     "execution_count": 19,
     "metadata": {},
     "output_type": "execute_result"
    }
   ],
   "source": [
    "data['team1'].unique()"
   ]
  },
  {
   "cell_type": "code",
   "execution_count": 20,
   "metadata": {
    "id": "Bl1uzmqVgNUG"
   },
   "outputs": [],
   "source": [
    "data.replace({'Rising Pune Supergiants' : 'Rising Pune Supergiant'},regex=True,inplace=True)\n",
    "df_balls.replace({'Rising Pune Supergiants' : 'Rising Pune Supergiant'},regex=True,inplace=True)\n",
    "df_matches.replace({'Rising Pune Supergiants' : 'Rising Pune Supergiant'},regex=True,inplace=True)"
   ]
  },
  {
   "cell_type": "code",
   "execution_count": 21,
   "metadata": {
    "colab": {
     "base_uri": "https://localhost:8080/"
    },
    "id": "DQ71w89YgOKY",
    "outputId": "a59aaf32-66db-4fe4-b360-034b99df4f5f"
   },
   "outputs": [
    {
     "data": {
      "text/plain": [
       "id                       0\n",
       "city                     0\n",
       "date                     0\n",
       "player_of_match        372\n",
       "venue                    0\n",
       "neutral_venue            0\n",
       "team1                    0\n",
       "team2                    0\n",
       "toss_winner              0\n",
       "toss_decision            0\n",
       "winner                 372\n",
       "result                 372\n",
       "result_margin         3597\n",
       "eliminator             372\n",
       "method              190260\n",
       "umpire1                  0\n",
       "umpire2                  0\n",
       "inning                   0\n",
       "over                     0\n",
       "ball                     0\n",
       "batsman                  0\n",
       "non_striker              0\n",
       "bowler                   0\n",
       "batsman_runs             0\n",
       "extra_runs               0\n",
       "total_runs               0\n",
       "non_boundary             0\n",
       "is_wicket                0\n",
       "dismissal_kind      183973\n",
       "player_dismissed    183973\n",
       "fielder             186684\n",
       "extras_type         183235\n",
       "batting_team             0\n",
       "bowling_team           191\n",
       "year                     0\n",
       "dtype: int64"
      ]
     },
     "execution_count": 21,
     "metadata": {},
     "output_type": "execute_result"
    }
   ],
   "source": [
    "data.isna().sum()"
   ]
  },
  {
   "cell_type": "code",
   "execution_count": 22,
   "metadata": {
    "id": "5xGzzV6Km4W1"
   },
   "outputs": [],
   "source": [
    "data = data[data['winner'].notna()]\n",
    "df_matches = df_matches[df_matches['winner'].notna()]\n"
   ]
  },
  {
   "cell_type": "code",
   "execution_count": 23,
   "metadata": {
    "colab": {
     "base_uri": "https://localhost:8080/"
    },
    "id": "uCTSmhInm4uQ",
    "outputId": "576f4dbd-9828-4fbf-f21c-2b7b9f5732ed"
   },
   "outputs": [
    {
     "data": {
      "text/plain": [
       "id                       0\n",
       "city                     0\n",
       "date                     0\n",
       "player_of_match          0\n",
       "venue                    0\n",
       "neutral_venue            0\n",
       "team1                    0\n",
       "team2                    0\n",
       "toss_winner              0\n",
       "toss_decision            0\n",
       "winner                   0\n",
       "result                   0\n",
       "result_margin         3225\n",
       "eliminator               0\n",
       "method              189888\n",
       "umpire1                  0\n",
       "umpire2                  0\n",
       "inning                   0\n",
       "over                     0\n",
       "ball                     0\n",
       "batsman                  0\n",
       "non_striker              0\n",
       "bowler                   0\n",
       "batsman_runs             0\n",
       "extra_runs               0\n",
       "total_runs               0\n",
       "non_boundary             0\n",
       "is_wicket                0\n",
       "dismissal_kind      183624\n",
       "player_dismissed    183624\n",
       "fielder             186332\n",
       "extras_type         182892\n",
       "batting_team             0\n",
       "bowling_team             0\n",
       "year                     0\n",
       "dtype: int64"
      ]
     },
     "execution_count": 23,
     "metadata": {},
     "output_type": "execute_result"
    }
   ],
   "source": [
    "data.isna().sum()"
   ]
  },
  {
   "cell_type": "markdown",
   "metadata": {
    "id": "dywjXPj9m47u"
   },
   "source": [
    "Handling missing result_margin values"
   ]
  },
  {
   "cell_type": "code",
   "execution_count": 24,
   "metadata": {
    "colab": {
     "base_uri": "https://localhost:8080/",
     "height": 531
    },
    "id": "CYgDMTAam5H3",
    "outputId": "25eaec10-909c-41f0-f988-6a13c30aa162"
   },
   "outputs": [
    {
     "data": {
      "text/html": [
       "<div>\n",
       "<style scoped>\n",
       "    .dataframe tbody tr th:only-of-type {\n",
       "        vertical-align: middle;\n",
       "    }\n",
       "\n",
       "    .dataframe tbody tr th {\n",
       "        vertical-align: top;\n",
       "    }\n",
       "\n",
       "    .dataframe thead th {\n",
       "        text-align: right;\n",
       "    }\n",
       "</style>\n",
       "<table border=\"1\" class=\"dataframe\">\n",
       "  <thead>\n",
       "    <tr style=\"text-align: right;\">\n",
       "      <th></th>\n",
       "      <th>id</th>\n",
       "      <th>city</th>\n",
       "      <th>date</th>\n",
       "      <th>player_of_match</th>\n",
       "      <th>venue</th>\n",
       "      <th>neutral_venue</th>\n",
       "      <th>team1</th>\n",
       "      <th>team2</th>\n",
       "      <th>toss_winner</th>\n",
       "      <th>toss_decision</th>\n",
       "      <th>...</th>\n",
       "      <th>total_runs</th>\n",
       "      <th>non_boundary</th>\n",
       "      <th>is_wicket</th>\n",
       "      <th>dismissal_kind</th>\n",
       "      <th>player_dismissed</th>\n",
       "      <th>fielder</th>\n",
       "      <th>extras_type</th>\n",
       "      <th>batting_team</th>\n",
       "      <th>bowling_team</th>\n",
       "      <th>year</th>\n",
       "    </tr>\n",
       "  </thead>\n",
       "  <tbody>\n",
       "    <tr>\n",
       "      <th>192395</th>\n",
       "      <td>1216547</td>\n",
       "      <td>Dubai</td>\n",
       "      <td>2020-09-28</td>\n",
       "      <td>AB de Villiers</td>\n",
       "      <td>Dubai International Cricket Stadium</td>\n",
       "      <td>0</td>\n",
       "      <td>Royal Challengers Bangalore</td>\n",
       "      <td>Mumbai Indians</td>\n",
       "      <td>Mumbai Indians</td>\n",
       "      <td>field</td>\n",
       "      <td>...</td>\n",
       "      <td>1</td>\n",
       "      <td>0</td>\n",
       "      <td>0</td>\n",
       "      <td>NaN</td>\n",
       "      <td>NaN</td>\n",
       "      <td>NaN</td>\n",
       "      <td>NaN</td>\n",
       "      <td>Mumbai Indians</td>\n",
       "      <td>Royal Challengers Bangalore</td>\n",
       "      <td>2020</td>\n",
       "    </tr>\n",
       "    <tr>\n",
       "      <th>192396</th>\n",
       "      <td>1216547</td>\n",
       "      <td>Dubai</td>\n",
       "      <td>2020-09-28</td>\n",
       "      <td>AB de Villiers</td>\n",
       "      <td>Dubai International Cricket Stadium</td>\n",
       "      <td>0</td>\n",
       "      <td>Royal Challengers Bangalore</td>\n",
       "      <td>Mumbai Indians</td>\n",
       "      <td>Mumbai Indians</td>\n",
       "      <td>field</td>\n",
       "      <td>...</td>\n",
       "      <td>6</td>\n",
       "      <td>0</td>\n",
       "      <td>0</td>\n",
       "      <td>NaN</td>\n",
       "      <td>NaN</td>\n",
       "      <td>NaN</td>\n",
       "      <td>NaN</td>\n",
       "      <td>Mumbai Indians</td>\n",
       "      <td>Royal Challengers Bangalore</td>\n",
       "      <td>2020</td>\n",
       "    </tr>\n",
       "    <tr>\n",
       "      <th>192397</th>\n",
       "      <td>1216547</td>\n",
       "      <td>Dubai</td>\n",
       "      <td>2020-09-28</td>\n",
       "      <td>AB de Villiers</td>\n",
       "      <td>Dubai International Cricket Stadium</td>\n",
       "      <td>0</td>\n",
       "      <td>Royal Challengers Bangalore</td>\n",
       "      <td>Mumbai Indians</td>\n",
       "      <td>Mumbai Indians</td>\n",
       "      <td>field</td>\n",
       "      <td>...</td>\n",
       "      <td>6</td>\n",
       "      <td>0</td>\n",
       "      <td>0</td>\n",
       "      <td>NaN</td>\n",
       "      <td>NaN</td>\n",
       "      <td>NaN</td>\n",
       "      <td>NaN</td>\n",
       "      <td>Mumbai Indians</td>\n",
       "      <td>Royal Challengers Bangalore</td>\n",
       "      <td>2020</td>\n",
       "    </tr>\n",
       "    <tr>\n",
       "      <th>192398</th>\n",
       "      <td>1216547</td>\n",
       "      <td>Dubai</td>\n",
       "      <td>2020-09-28</td>\n",
       "      <td>AB de Villiers</td>\n",
       "      <td>Dubai International Cricket Stadium</td>\n",
       "      <td>0</td>\n",
       "      <td>Royal Challengers Bangalore</td>\n",
       "      <td>Mumbai Indians</td>\n",
       "      <td>Mumbai Indians</td>\n",
       "      <td>field</td>\n",
       "      <td>...</td>\n",
       "      <td>0</td>\n",
       "      <td>0</td>\n",
       "      <td>1</td>\n",
       "      <td>caught</td>\n",
       "      <td>Ishan Kishan</td>\n",
       "      <td>D Padikkal</td>\n",
       "      <td>NaN</td>\n",
       "      <td>Mumbai Indians</td>\n",
       "      <td>Royal Challengers Bangalore</td>\n",
       "      <td>2020</td>\n",
       "    </tr>\n",
       "    <tr>\n",
       "      <th>192399</th>\n",
       "      <td>1216547</td>\n",
       "      <td>Dubai</td>\n",
       "      <td>2020-09-28</td>\n",
       "      <td>AB de Villiers</td>\n",
       "      <td>Dubai International Cricket Stadium</td>\n",
       "      <td>0</td>\n",
       "      <td>Royal Challengers Bangalore</td>\n",
       "      <td>Mumbai Indians</td>\n",
       "      <td>Mumbai Indians</td>\n",
       "      <td>field</td>\n",
       "      <td>...</td>\n",
       "      <td>4</td>\n",
       "      <td>0</td>\n",
       "      <td>0</td>\n",
       "      <td>NaN</td>\n",
       "      <td>NaN</td>\n",
       "      <td>NaN</td>\n",
       "      <td>NaN</td>\n",
       "      <td>Mumbai Indians</td>\n",
       "      <td>Royal Challengers Bangalore</td>\n",
       "      <td>2020</td>\n",
       "    </tr>\n",
       "  </tbody>\n",
       "</table>\n",
       "<p>5 rows × 35 columns</p>\n",
       "</div>"
      ],
      "text/plain": [
       "             id   city       date player_of_match  \\\n",
       "192395  1216547  Dubai 2020-09-28  AB de Villiers   \n",
       "192396  1216547  Dubai 2020-09-28  AB de Villiers   \n",
       "192397  1216547  Dubai 2020-09-28  AB de Villiers   \n",
       "192398  1216547  Dubai 2020-09-28  AB de Villiers   \n",
       "192399  1216547  Dubai 2020-09-28  AB de Villiers   \n",
       "\n",
       "                                      venue  neutral_venue  \\\n",
       "192395  Dubai International Cricket Stadium              0   \n",
       "192396  Dubai International Cricket Stadium              0   \n",
       "192397  Dubai International Cricket Stadium              0   \n",
       "192398  Dubai International Cricket Stadium              0   \n",
       "192399  Dubai International Cricket Stadium              0   \n",
       "\n",
       "                              team1           team2     toss_winner  \\\n",
       "192395  Royal Challengers Bangalore  Mumbai Indians  Mumbai Indians   \n",
       "192396  Royal Challengers Bangalore  Mumbai Indians  Mumbai Indians   \n",
       "192397  Royal Challengers Bangalore  Mumbai Indians  Mumbai Indians   \n",
       "192398  Royal Challengers Bangalore  Mumbai Indians  Mumbai Indians   \n",
       "192399  Royal Challengers Bangalore  Mumbai Indians  Mumbai Indians   \n",
       "\n",
       "       toss_decision  ... total_runs non_boundary  is_wicket dismissal_kind  \\\n",
       "192395         field  ...          1            0          0            NaN   \n",
       "192396         field  ...          6            0          0            NaN   \n",
       "192397         field  ...          6            0          0            NaN   \n",
       "192398         field  ...          0            0          1         caught   \n",
       "192399         field  ...          4            0          0            NaN   \n",
       "\n",
       "       player_dismissed     fielder extras_type    batting_team  \\\n",
       "192395              NaN         NaN         NaN  Mumbai Indians   \n",
       "192396              NaN         NaN         NaN  Mumbai Indians   \n",
       "192397              NaN         NaN         NaN  Mumbai Indians   \n",
       "192398     Ishan Kishan  D Padikkal         NaN  Mumbai Indians   \n",
       "192399              NaN         NaN         NaN  Mumbai Indians   \n",
       "\n",
       "                       bowling_team  year  \n",
       "192395  Royal Challengers Bangalore  2020  \n",
       "192396  Royal Challengers Bangalore  2020  \n",
       "192397  Royal Challengers Bangalore  2020  \n",
       "192398  Royal Challengers Bangalore  2020  \n",
       "192399  Royal Challengers Bangalore  2020  \n",
       "\n",
       "[5 rows x 35 columns]"
      ]
     },
     "execution_count": 24,
     "metadata": {},
     "output_type": "execute_result"
    }
   ],
   "source": [
    "\n",
    "missing_margin = data[data['result_margin'].isna()]\n",
    "missing_margin.tail(5)"
   ]
  },
  {
   "cell_type": "code",
   "execution_count": 25,
   "metadata": {
    "colab": {
     "base_uri": "https://localhost:8080/"
    },
    "id": "VFkNve6Hm5SC",
    "outputId": "7a4f9070-21c9-4ecc-8940-9d750d584250"
   },
   "outputs": [
    {
     "data": {
      "text/plain": [
       "id                       0\n",
       "city                     0\n",
       "date                     0\n",
       "player_of_match          0\n",
       "venue                    0\n",
       "neutral_venue            0\n",
       "team1                    0\n",
       "team2                    0\n",
       "toss_winner              0\n",
       "toss_decision            0\n",
       "winner                   0\n",
       "result                   0\n",
       "result_margin            0\n",
       "eliminator               0\n",
       "method              189888\n",
       "umpire1                  0\n",
       "umpire2                  0\n",
       "inning                   0\n",
       "over                     0\n",
       "ball                     0\n",
       "batsman                  0\n",
       "non_striker              0\n",
       "bowler                   0\n",
       "batsman_runs             0\n",
       "extra_runs               0\n",
       "total_runs               0\n",
       "non_boundary             0\n",
       "is_wicket                0\n",
       "dismissal_kind      183624\n",
       "player_dismissed    183624\n",
       "fielder             186332\n",
       "extras_type         182892\n",
       "batting_team             0\n",
       "bowling_team             0\n",
       "year                     0\n",
       "dtype: int64"
      ]
     },
     "execution_count": 25,
     "metadata": {},
     "output_type": "execute_result"
    }
   ],
   "source": [
    "#since it was a tie in all cases it is resonable to replace it with 0\n",
    "data['result_margin'].fillna(0,inplace = True)\n",
    "data.isna().sum()\n",
    "#Done!"
   ]
  },
  {
   "cell_type": "markdown",
   "metadata": {
    "id": "R1fSGsX7m5v8"
   },
   "source": [
    "# EDA"
   ]
  },
  {
   "cell_type": "code",
   "execution_count": 26,
   "metadata": {
    "id": "qwj8nNbNm52S"
   },
   "outputs": [],
   "source": [
    "plt.style.use('fivethirtyeight')"
   ]
  },
  {
   "cell_type": "code",
   "execution_count": 27,
   "metadata": {
    "colab": {
     "base_uri": "https://localhost:8080/"
    },
    "id": "6LUQ7kXJm58N",
    "outputId": "d2df0bce-8d65-40a1-9058-44bd270d3234"
   },
   "outputs": [
    {
     "data": {
      "text/plain": [
       "NaN        182892\n",
       "wides        5848\n",
       "legbyes      3097\n",
       "noballs       754\n",
       "byes          503\n",
       "penalty         2\n",
       "Name: extras_type, dtype: int64"
      ]
     },
     "execution_count": 27,
     "metadata": {},
     "output_type": "execute_result"
    }
   ],
   "source": [
    "data['extras_type'].nunique(dropna= False)\n",
    "data['extras_type'].value_counts(dropna = False)"
   ]
  },
  {
   "cell_type": "markdown",
   "metadata": {
    "id": "uUYJ3O7yD-bp"
   },
   "source": [
    "## Max Wins Per Season"
   ]
  },
  {
   "cell_type": "code",
   "execution_count": 28,
   "metadata": {
    "id": "AXQHhtNNtT4x"
   },
   "outputs": [],
   "source": [
    "#setting the index to match id\n",
    "data.set_index('id',inplace = True)"
   ]
  },
  {
   "cell_type": "code",
   "execution_count": 29,
   "metadata": {
    "colab": {
     "base_uri": "https://localhost:8080/"
    },
    "id": "TvXey4fFm6HX",
    "outputId": "0c74e496-3ede-47c6-d779-7baaa1f480bc"
   },
   "outputs": [
    {
     "data": {
      "text/plain": [
       "winner    Rajasthan Royals\n",
       "dtype: object"
      ]
     },
     "execution_count": 29,
     "metadata": {},
     "output_type": "execute_result"
    }
   ],
   "source": [
    "#Finding team with max wins in particular season\n",
    "s_2008 = data[data['year'] == 2008]\n",
    "data1 = s_2008['winner'].value_counts().to_frame()\n",
    "data1.idxmax()"
   ]
  },
  {
   "cell_type": "code",
   "execution_count": 30,
   "metadata": {
    "colab": {
     "base_uri": "https://localhost:8080/",
     "height": 461
    },
    "id": "eeIJbHwDwcdk",
    "outputId": "b0419dc5-3174-4cac-9669-e0d856576a2c"
   },
   "outputs": [
    {
     "data": {
      "text/html": [
       "<div>\n",
       "<style scoped>\n",
       "    .dataframe tbody tr th:only-of-type {\n",
       "        vertical-align: middle;\n",
       "    }\n",
       "\n",
       "    .dataframe tbody tr th {\n",
       "        vertical-align: top;\n",
       "    }\n",
       "\n",
       "    .dataframe thead th {\n",
       "        text-align: right;\n",
       "    }\n",
       "</style>\n",
       "<table border=\"1\" class=\"dataframe\">\n",
       "  <thead>\n",
       "    <tr style=\"text-align: right;\">\n",
       "      <th></th>\n",
       "      <th>id</th>\n",
       "      <th>city</th>\n",
       "      <th>date</th>\n",
       "      <th>player_of_match</th>\n",
       "      <th>venue</th>\n",
       "      <th>neutral_venue</th>\n",
       "      <th>team1</th>\n",
       "      <th>team2</th>\n",
       "      <th>toss_winner</th>\n",
       "      <th>toss_decision</th>\n",
       "      <th>winner</th>\n",
       "      <th>result</th>\n",
       "      <th>result_margin</th>\n",
       "      <th>eliminator</th>\n",
       "      <th>method</th>\n",
       "      <th>umpire1</th>\n",
       "      <th>umpire2</th>\n",
       "    </tr>\n",
       "  </thead>\n",
       "  <tbody>\n",
       "    <tr>\n",
       "      <th>0</th>\n",
       "      <td>335982</td>\n",
       "      <td>Bangalore</td>\n",
       "      <td>2008-04-18</td>\n",
       "      <td>BB McCullum</td>\n",
       "      <td>M Chinnaswamy Stadium</td>\n",
       "      <td>0</td>\n",
       "      <td>Royal Challengers Bangalore</td>\n",
       "      <td>Kolkata Knight Riders</td>\n",
       "      <td>Royal Challengers Bangalore</td>\n",
       "      <td>field</td>\n",
       "      <td>Kolkata Knight Riders</td>\n",
       "      <td>runs</td>\n",
       "      <td>140.0</td>\n",
       "      <td>N</td>\n",
       "      <td>NaN</td>\n",
       "      <td>Asad Rauf</td>\n",
       "      <td>RE Koertzen</td>\n",
       "    </tr>\n",
       "    <tr>\n",
       "      <th>1</th>\n",
       "      <td>335983</td>\n",
       "      <td>Chandigarh</td>\n",
       "      <td>2008-04-19</td>\n",
       "      <td>MEK Hussey</td>\n",
       "      <td>Punjab Cricket Association Stadium, Mohali</td>\n",
       "      <td>0</td>\n",
       "      <td>Kings XI Punjab</td>\n",
       "      <td>Chennai Super Kings</td>\n",
       "      <td>Chennai Super Kings</td>\n",
       "      <td>bat</td>\n",
       "      <td>Chennai Super Kings</td>\n",
       "      <td>runs</td>\n",
       "      <td>33.0</td>\n",
       "      <td>N</td>\n",
       "      <td>NaN</td>\n",
       "      <td>MR Benson</td>\n",
       "      <td>SL Shastri</td>\n",
       "    </tr>\n",
       "    <tr>\n",
       "      <th>2</th>\n",
       "      <td>335984</td>\n",
       "      <td>Delhi</td>\n",
       "      <td>2008-04-19</td>\n",
       "      <td>MF Maharoof</td>\n",
       "      <td>Feroz Shah Kotla</td>\n",
       "      <td>0</td>\n",
       "      <td>Delhi Daredevils</td>\n",
       "      <td>Rajasthan Royals</td>\n",
       "      <td>Rajasthan Royals</td>\n",
       "      <td>bat</td>\n",
       "      <td>Delhi Daredevils</td>\n",
       "      <td>wickets</td>\n",
       "      <td>9.0</td>\n",
       "      <td>N</td>\n",
       "      <td>NaN</td>\n",
       "      <td>Aleem Dar</td>\n",
       "      <td>GA Pratapkumar</td>\n",
       "    </tr>\n",
       "    <tr>\n",
       "      <th>3</th>\n",
       "      <td>335985</td>\n",
       "      <td>Mumbai</td>\n",
       "      <td>2008-04-20</td>\n",
       "      <td>MV Boucher</td>\n",
       "      <td>Wankhede Stadium</td>\n",
       "      <td>0</td>\n",
       "      <td>Mumbai Indians</td>\n",
       "      <td>Royal Challengers Bangalore</td>\n",
       "      <td>Mumbai Indians</td>\n",
       "      <td>bat</td>\n",
       "      <td>Royal Challengers Bangalore</td>\n",
       "      <td>wickets</td>\n",
       "      <td>5.0</td>\n",
       "      <td>N</td>\n",
       "      <td>NaN</td>\n",
       "      <td>SJ Davis</td>\n",
       "      <td>DJ Harper</td>\n",
       "    </tr>\n",
       "    <tr>\n",
       "      <th>4</th>\n",
       "      <td>335986</td>\n",
       "      <td>Kolkata</td>\n",
       "      <td>2008-04-20</td>\n",
       "      <td>DJ Hussey</td>\n",
       "      <td>Eden Gardens</td>\n",
       "      <td>0</td>\n",
       "      <td>Kolkata Knight Riders</td>\n",
       "      <td>Deccan Chargers</td>\n",
       "      <td>Deccan Chargers</td>\n",
       "      <td>bat</td>\n",
       "      <td>Kolkata Knight Riders</td>\n",
       "      <td>wickets</td>\n",
       "      <td>5.0</td>\n",
       "      <td>N</td>\n",
       "      <td>NaN</td>\n",
       "      <td>BF Bowden</td>\n",
       "      <td>K Hariharan</td>\n",
       "    </tr>\n",
       "  </tbody>\n",
       "</table>\n",
       "</div>"
      ],
      "text/plain": [
       "       id        city        date player_of_match  \\\n",
       "0  335982   Bangalore  2008-04-18     BB McCullum   \n",
       "1  335983  Chandigarh  2008-04-19      MEK Hussey   \n",
       "2  335984       Delhi  2008-04-19     MF Maharoof   \n",
       "3  335985      Mumbai  2008-04-20      MV Boucher   \n",
       "4  335986     Kolkata  2008-04-20       DJ Hussey   \n",
       "\n",
       "                                        venue  neutral_venue  \\\n",
       "0                       M Chinnaswamy Stadium              0   \n",
       "1  Punjab Cricket Association Stadium, Mohali              0   \n",
       "2                            Feroz Shah Kotla              0   \n",
       "3                            Wankhede Stadium              0   \n",
       "4                                Eden Gardens              0   \n",
       "\n",
       "                         team1                        team2  \\\n",
       "0  Royal Challengers Bangalore        Kolkata Knight Riders   \n",
       "1              Kings XI Punjab          Chennai Super Kings   \n",
       "2             Delhi Daredevils             Rajasthan Royals   \n",
       "3               Mumbai Indians  Royal Challengers Bangalore   \n",
       "4        Kolkata Knight Riders              Deccan Chargers   \n",
       "\n",
       "                   toss_winner toss_decision                       winner  \\\n",
       "0  Royal Challengers Bangalore         field        Kolkata Knight Riders   \n",
       "1          Chennai Super Kings           bat          Chennai Super Kings   \n",
       "2             Rajasthan Royals           bat             Delhi Daredevils   \n",
       "3               Mumbai Indians           bat  Royal Challengers Bangalore   \n",
       "4              Deccan Chargers           bat        Kolkata Knight Riders   \n",
       "\n",
       "    result  result_margin eliminator method    umpire1         umpire2  \n",
       "0     runs          140.0          N    NaN  Asad Rauf     RE Koertzen  \n",
       "1     runs           33.0          N    NaN  MR Benson      SL Shastri  \n",
       "2  wickets            9.0          N    NaN  Aleem Dar  GA Pratapkumar  \n",
       "3  wickets            5.0          N    NaN   SJ Davis       DJ Harper  \n",
       "4  wickets            5.0          N    NaN  BF Bowden     K Hariharan  "
      ]
     },
     "execution_count": 30,
     "metadata": {},
     "output_type": "execute_result"
    }
   ],
   "source": [
    "df_matches.head()"
   ]
  },
  {
   "cell_type": "code",
   "execution_count": 31,
   "metadata": {
    "id": "leB5lBcVgONq"
   },
   "outputs": [],
   "source": [
    "# adding one more column for season\n",
    "df_matches['date'] = pd.to_datetime(df_matches['date'])\n",
    "df_matches['season'] = pd.DatetimeIndex(df_matches['date']).year\n"
   ]
  },
  {
   "cell_type": "code",
   "execution_count": 32,
   "metadata": {
    "colab": {
     "base_uri": "https://localhost:8080/"
    },
    "id": "wIUxPUop-DCL",
    "outputId": "892bbf56-7c20-4621-fba2-33166d4af360"
   },
   "outputs": [
    {
     "data": {
      "text/plain": [
       "season  winner                     \n",
       "2008    Rajasthan Royals               13\n",
       "        Kings XI Punjab                10\n",
       "        Chennai Super Kings             9\n",
       "        Delhi Daredevils                7\n",
       "        Mumbai Indians                  7\n",
       "                                       ..\n",
       "2020    Kolkata Knight Riders           7\n",
       "        Royal Challengers Bangalore     7\n",
       "        Chennai Super Kings             6\n",
       "        Kings XI Punjab                 6\n",
       "        Rajasthan Royals                6\n",
       "Name: winner, Length: 108, dtype: int64"
      ]
     },
     "execution_count": 32,
     "metadata": {},
     "output_type": "execute_result"
    }
   ],
   "source": [
    "df_season = df_matches.groupby('season')['winner'].value_counts()\n",
    "df_season"
   ]
  },
  {
   "cell_type": "code",
   "execution_count": 33,
   "metadata": {
    "colab": {
     "base_uri": "https://localhost:8080/"
    },
    "id": "3VdADFOUwFmZ",
    "outputId": "096a7479-6a6a-4b34-9e40-50ad9276a0bc"
   },
   "outputs": [
    {
     "name": "stdout",
     "output_type": "stream",
     "text": [
      "((2008, 'Rajasthan Royals'), 13)\n",
      "((2009, 'Delhi Daredevils'), 10)\n",
      "((2010, 'Mumbai Indians'), 11)\n",
      "((2011, 'Chennai Super Kings'), 11)\n",
      "((2012, 'Kolkata Knight Riders'), 12)\n",
      "((2013, 'Mumbai Indians'), 13)\n",
      "((2014, 'Kings XI Punjab'), 12)\n",
      "((2015, 'Chennai Super Kings'), 10)\n",
      "((2016, 'Sunrisers Hyderabad'), 11)\n",
      "((2017, 'Mumbai Indians'), 12)\n",
      "((2018, 'Chennai Super Kings'), 11)\n",
      "((2019, 'Mumbai Indians'), 11)\n",
      "((2020, 'Mumbai Indians'), 11)\n"
     ]
    },
    {
     "name": "stderr",
     "output_type": "stream",
     "text": [
      "C:\\Users\\MAHIMA\\AppData\\Local\\Temp\\ipykernel_16980\\2764971680.py:11: FutureWarning:\n",
      "\n",
      "The frame.append method is deprecated and will be removed from pandas in a future version. Use pandas.concat instead.\n",
      "\n",
      "C:\\Users\\MAHIMA\\AppData\\Local\\Temp\\ipykernel_16980\\2764971680.py:11: FutureWarning:\n",
      "\n",
      "The frame.append method is deprecated and will be removed from pandas in a future version. Use pandas.concat instead.\n",
      "\n",
      "C:\\Users\\MAHIMA\\AppData\\Local\\Temp\\ipykernel_16980\\2764971680.py:11: FutureWarning:\n",
      "\n",
      "The frame.append method is deprecated and will be removed from pandas in a future version. Use pandas.concat instead.\n",
      "\n",
      "C:\\Users\\MAHIMA\\AppData\\Local\\Temp\\ipykernel_16980\\2764971680.py:11: FutureWarning:\n",
      "\n",
      "The frame.append method is deprecated and will be removed from pandas in a future version. Use pandas.concat instead.\n",
      "\n",
      "C:\\Users\\MAHIMA\\AppData\\Local\\Temp\\ipykernel_16980\\2764971680.py:11: FutureWarning:\n",
      "\n",
      "The frame.append method is deprecated and will be removed from pandas in a future version. Use pandas.concat instead.\n",
      "\n",
      "C:\\Users\\MAHIMA\\AppData\\Local\\Temp\\ipykernel_16980\\2764971680.py:11: FutureWarning:\n",
      "\n",
      "The frame.append method is deprecated and will be removed from pandas in a future version. Use pandas.concat instead.\n",
      "\n",
      "C:\\Users\\MAHIMA\\AppData\\Local\\Temp\\ipykernel_16980\\2764971680.py:11: FutureWarning:\n",
      "\n",
      "The frame.append method is deprecated and will be removed from pandas in a future version. Use pandas.concat instead.\n",
      "\n",
      "C:\\Users\\MAHIMA\\AppData\\Local\\Temp\\ipykernel_16980\\2764971680.py:11: FutureWarning:\n",
      "\n",
      "The frame.append method is deprecated and will be removed from pandas in a future version. Use pandas.concat instead.\n",
      "\n",
      "C:\\Users\\MAHIMA\\AppData\\Local\\Temp\\ipykernel_16980\\2764971680.py:11: FutureWarning:\n",
      "\n",
      "The frame.append method is deprecated and will be removed from pandas in a future version. Use pandas.concat instead.\n",
      "\n",
      "C:\\Users\\MAHIMA\\AppData\\Local\\Temp\\ipykernel_16980\\2764971680.py:11: FutureWarning:\n",
      "\n",
      "The frame.append method is deprecated and will be removed from pandas in a future version. Use pandas.concat instead.\n",
      "\n",
      "C:\\Users\\MAHIMA\\AppData\\Local\\Temp\\ipykernel_16980\\2764971680.py:11: FutureWarning:\n",
      "\n",
      "The frame.append method is deprecated and will be removed from pandas in a future version. Use pandas.concat instead.\n",
      "\n",
      "C:\\Users\\MAHIMA\\AppData\\Local\\Temp\\ipykernel_16980\\2764971680.py:11: FutureWarning:\n",
      "\n",
      "The frame.append method is deprecated and will be removed from pandas in a future version. Use pandas.concat instead.\n",
      "\n",
      "C:\\Users\\MAHIMA\\AppData\\Local\\Temp\\ipykernel_16980\\2764971680.py:11: FutureWarning:\n",
      "\n",
      "The frame.append method is deprecated and will be removed from pandas in a future version. Use pandas.concat instead.\n",
      "\n"
     ]
    }
   ],
   "source": [
    "year = 2008\n",
    "win_per_season_df = pd.DataFrame(columns=['year', 'team', 'wins'])\n",
    "for items in df_season.iteritems():    \n",
    "    if items[0][0]==year:\n",
    "        print(items)\n",
    "        win_series = pd.DataFrame({\n",
    "            'year': [items[0][0]],\n",
    "            'team': [items[0][1]],\n",
    "            'wins': [items[1]]\n",
    "        })\n",
    "        win_per_season_df = win_per_season_df.append(win_series)\n",
    "        year += 1   "
   ]
  },
  {
   "cell_type": "code",
   "execution_count": 34,
   "metadata": {
    "colab": {
     "base_uri": "https://localhost:8080/",
     "height": 488
    },
    "id": "Xq-xRTgVz1ek",
    "outputId": "4b18e31d-2863-46d2-a7c7-01323645dc7b"
   },
   "outputs": [
    {
     "name": "stderr",
     "output_type": "stream",
     "text": [
      "c:\\Users\\MAHIMA\\anaconda3\\lib\\site-packages\\pandas\\core\\indexes\\base.py:6999: FutureWarning:\n",
      "\n",
      "In a future version, the Index constructor will not infer numeric dtypes when passed object-dtype sequences (matching Series behavior)\n",
      "\n"
     ]
    },
    {
     "data": {
      "text/html": [
       "<div>\n",
       "<style scoped>\n",
       "    .dataframe tbody tr th:only-of-type {\n",
       "        vertical-align: middle;\n",
       "    }\n",
       "\n",
       "    .dataframe tbody tr th {\n",
       "        vertical-align: top;\n",
       "    }\n",
       "\n",
       "    .dataframe thead th {\n",
       "        text-align: right;\n",
       "    }\n",
       "</style>\n",
       "<table border=\"1\" class=\"dataframe\">\n",
       "  <thead>\n",
       "    <tr style=\"text-align: right;\">\n",
       "      <th></th>\n",
       "      <th>team</th>\n",
       "      <th>wins</th>\n",
       "    </tr>\n",
       "    <tr>\n",
       "      <th>year</th>\n",
       "      <th></th>\n",
       "      <th></th>\n",
       "    </tr>\n",
       "  </thead>\n",
       "  <tbody>\n",
       "    <tr>\n",
       "      <th>2008</th>\n",
       "      <td>Rajasthan Royals</td>\n",
       "      <td>13</td>\n",
       "    </tr>\n",
       "    <tr>\n",
       "      <th>2009</th>\n",
       "      <td>Delhi Daredevils</td>\n",
       "      <td>10</td>\n",
       "    </tr>\n",
       "    <tr>\n",
       "      <th>2010</th>\n",
       "      <td>Mumbai Indians</td>\n",
       "      <td>11</td>\n",
       "    </tr>\n",
       "    <tr>\n",
       "      <th>2011</th>\n",
       "      <td>Chennai Super Kings</td>\n",
       "      <td>11</td>\n",
       "    </tr>\n",
       "    <tr>\n",
       "      <th>2012</th>\n",
       "      <td>Kolkata Knight Riders</td>\n",
       "      <td>12</td>\n",
       "    </tr>\n",
       "    <tr>\n",
       "      <th>2013</th>\n",
       "      <td>Mumbai Indians</td>\n",
       "      <td>13</td>\n",
       "    </tr>\n",
       "    <tr>\n",
       "      <th>2014</th>\n",
       "      <td>Kings XI Punjab</td>\n",
       "      <td>12</td>\n",
       "    </tr>\n",
       "    <tr>\n",
       "      <th>2015</th>\n",
       "      <td>Chennai Super Kings</td>\n",
       "      <td>10</td>\n",
       "    </tr>\n",
       "    <tr>\n",
       "      <th>2016</th>\n",
       "      <td>Sunrisers Hyderabad</td>\n",
       "      <td>11</td>\n",
       "    </tr>\n",
       "    <tr>\n",
       "      <th>2017</th>\n",
       "      <td>Mumbai Indians</td>\n",
       "      <td>12</td>\n",
       "    </tr>\n",
       "    <tr>\n",
       "      <th>2018</th>\n",
       "      <td>Chennai Super Kings</td>\n",
       "      <td>11</td>\n",
       "    </tr>\n",
       "    <tr>\n",
       "      <th>2019</th>\n",
       "      <td>Mumbai Indians</td>\n",
       "      <td>11</td>\n",
       "    </tr>\n",
       "    <tr>\n",
       "      <th>2020</th>\n",
       "      <td>Mumbai Indians</td>\n",
       "      <td>11</td>\n",
       "    </tr>\n",
       "  </tbody>\n",
       "</table>\n",
       "</div>"
      ],
      "text/plain": [
       "                       team wins\n",
       "year                            \n",
       "2008       Rajasthan Royals   13\n",
       "2009       Delhi Daredevils   10\n",
       "2010         Mumbai Indians   11\n",
       "2011    Chennai Super Kings   11\n",
       "2012  Kolkata Knight Riders   12\n",
       "2013         Mumbai Indians   13\n",
       "2014        Kings XI Punjab   12\n",
       "2015    Chennai Super Kings   10\n",
       "2016    Sunrisers Hyderabad   11\n",
       "2017         Mumbai Indians   12\n",
       "2018    Chennai Super Kings   11\n",
       "2019         Mumbai Indians   11\n",
       "2020         Mumbai Indians   11"
      ]
     },
     "execution_count": 34,
     "metadata": {},
     "output_type": "execute_result"
    }
   ],
   "source": [
    "win_per_season_df.set_index('year')"
   ]
  },
  {
   "cell_type": "code",
   "execution_count": 35,
   "metadata": {
    "colab": {
     "base_uri": "https://localhost:8080/",
     "height": 393
    },
    "id": "hRaXy8h1EO_Y",
    "outputId": "8431a7f1-587c-410f-8f1e-8c8fa1fe3c77"
   },
   "outputs": [
    {
     "name": "stderr",
     "output_type": "stream",
     "text": [
      "c:\\Users\\MAHIMA\\anaconda3\\lib\\site-packages\\seaborn\\_decorators.py:36: FutureWarning:\n",
      "\n",
      "Pass the following variables as keyword args: x, y. From version 0.12, the only valid positional argument will be `data`, and passing other arguments without an explicit keyword will result in an error or misinterpretation.\n",
      "\n"
     ]
    },
    {
     "data": {
      "image/png": "[encoded data removed]",
      "text/plain": [
       "<Figure size 1000x600 with 1 Axes>"
      ]
     },
     "metadata": {},
     "output_type": "display_data"
    }
   ],
   "source": [
    "sns.set_theme(style=\"darkgrid\")\n",
    "sns.barplot('wins', 'team', hue='year', data=win_per_season_df, palette='Paired',saturation =  0.75);\n",
    "plt.show()"
   ]
  },
  {
   "cell_type": "markdown",
   "metadata": {
    "id": "zgSNDzIGEPY8"
   },
   "source": [
    "### **Inferences**\n",
    "\n",
    "\n",
    "*   Mumbai Indians is the most consistent team ending 5 seasons with maximum no. of wins in that season followed by CSK \n",
    "\n",
    "*   Rest of the teams have maximum no. of wins in atmost 1 season showing the supremacy of Mumbai Indians and CSK in IPL\n",
    " \n",
    "\n"
   ]
  },
  {
   "cell_type": "markdown",
   "metadata": {
    "id": "HS9bUV20GlI4"
   },
   "source": [
    "## Stadiums used in IPL"
   ]
  },
  {
   "cell_type": "code",
   "execution_count": 36,
   "metadata": {
    "colab": {
     "base_uri": "https://localhost:8080/"
    },
    "id": "UARpeshPEPkq",
    "outputId": "86b77ca8-41b9-4a84-d67e-96ab068e7dff"
   },
   "outputs": [
    {
     "data": {
      "text/plain": [
       "Eden Gardens                                 77\n",
       "Feroz Shah Kotla                             73\n",
       "Wankhede Stadium                             73\n",
       "Rajiv Gandhi International Stadium, Uppal    64\n",
       "M Chinnaswamy Stadium                        63\n",
       "Name: venue, dtype: int64"
      ]
     },
     "execution_count": 36,
     "metadata": {},
     "output_type": "execute_result"
    }
   ],
   "source": [
    "venue = df_matches['venue'].value_counts()\n",
    "venue.head()"
   ]
  },
  {
   "cell_type": "code",
   "execution_count": 37,
   "metadata": {
    "id": "pKeUphnkEPvw"
   },
   "outputs": [
    {
     "name": "stderr",
     "output_type": "stream",
     "text": [
      "C:\\Users\\MAHIMA\\AppData\\Local\\Temp\\ipykernel_16980\\20806148.py:7: FutureWarning:\n",
      "\n",
      "The frame.append method is deprecated and will be removed from pandas in a future version. Use pandas.concat instead.\n",
      "\n"
     ]
    }
   ],
   "source": [
    "venue_df = pd.DataFrame(columns=['venue', 'matches'])\n",
    "for items in venue.iteritems():\n",
    "    temp_df = pd.DataFrame({\n",
    "        'venue':[items[0]],\n",
    "        'matches':[items[1]]\n",
    "    })\n",
    "    venue_df = venue_df.append(temp_df, ignore_index=True)\n"
   ]
  },
  {
   "cell_type": "code",
   "execution_count": 38,
   "metadata": {
    "colab": {
     "base_uri": "https://localhost:8080/",
     "height": 301
    },
    "id": "jKiq8ATUIZj3",
    "outputId": "c63d2106-f4d1-4b8b-a40f-987194b4daea"
   },
   "outputs": [
    {
     "data": {
      "image/png": "[encoded data removed]",
      "text/plain": [
       "<Figure size 1000x600 with 1 Axes>"
      ]
     },
     "metadata": {},
     "output_type": "display_data"
    }
   ],
   "source": [
    "sns.barplot(x='matches', y='venue', data=venue_df)\n",
    "plt.show()"
   ]
  },
  {
   "cell_type": "markdown",
   "metadata": {
    "id": "_0JUdI5FeBML"
   },
   "source": [
    "## Top hosting Cities"
   ]
  },
  {
   "cell_type": "code",
   "execution_count": 39,
   "metadata": {
    "colab": {
     "base_uri": "https://localhost:8080/",
     "height": 206
    },
    "id": "0fiMmHMPeFCa",
    "outputId": "2f9d27f2-5e80-4003-a6cc-ea4a6fb33fb2"
   },
   "outputs": [
    {
     "data": {
      "text/html": [
       "<div>\n",
       "<style scoped>\n",
       "    .dataframe tbody tr th:only-of-type {\n",
       "        vertical-align: middle;\n",
       "    }\n",
       "\n",
       "    .dataframe tbody tr th {\n",
       "        vertical-align: top;\n",
       "    }\n",
       "\n",
       "    .dataframe thead th {\n",
       "        text-align: right;\n",
       "    }\n",
       "</style>\n",
       "<table border=\"1\" class=\"dataframe\">\n",
       "  <thead>\n",
       "    <tr style=\"text-align: right;\">\n",
       "      <th></th>\n",
       "      <th>city</th>\n",
       "    </tr>\n",
       "  </thead>\n",
       "  <tbody>\n",
       "    <tr>\n",
       "      <th>Mumbai</th>\n",
       "      <td>101</td>\n",
       "    </tr>\n",
       "    <tr>\n",
       "      <th>Kolkata</th>\n",
       "      <td>77</td>\n",
       "    </tr>\n",
       "    <tr>\n",
       "      <th>Delhi</th>\n",
       "      <td>73</td>\n",
       "    </tr>\n",
       "    <tr>\n",
       "      <th>Hyderabad</th>\n",
       "      <td>64</td>\n",
       "    </tr>\n",
       "    <tr>\n",
       "      <th>Bangalore</th>\n",
       "      <td>63</td>\n",
       "    </tr>\n",
       "  </tbody>\n",
       "</table>\n",
       "</div>"
      ],
      "text/plain": [
       "           city\n",
       "Mumbai      101\n",
       "Kolkata      77\n",
       "Delhi        73\n",
       "Hyderabad    64\n",
       "Bangalore    63"
      ]
     },
     "execution_count": 39,
     "metadata": {},
     "output_type": "execute_result"
    }
   ],
   "source": [
    "cities = df_matches['city'].value_counts().to_frame()\n",
    "cities.head()"
   ]
  },
  {
   "cell_type": "code",
   "execution_count": 40,
   "metadata": {
    "id": "pQ5nIXLYfffc"
   },
   "outputs": [],
   "source": [
    "cities = cities.head(10)"
   ]
  },
  {
   "cell_type": "code",
   "execution_count": 41,
   "metadata": {
    "colab": {
     "base_uri": "https://localhost:8080/",
     "height": 469
    },
    "id": "O_rRBh3ph2Rc",
    "outputId": "689287f8-07e0-4041-88bd-911d56347424"
   },
   "outputs": [
    {
     "data": {
      "image/png": "[encoded data removed]",
      "text/plain": [
       "<Figure size 700x1600 with 1 Axes>"
      ]
     },
     "metadata": {},
     "output_type": "display_data"
    }
   ],
   "source": [
    "cs = [\"#1f77b4\", \"#ff7f0e\", \"#2ca02c\", \"#d62728\", \"#9467bd\", \"#8c564b\", \"#e377c2\", \"#7f7f7f\", \"#bcbd22\", \"#17becf\"]\n",
    "f=plt.figure(figsize=(7,16))\n",
    "ax=f.add_subplot(111, aspect='equal')\n",
    "\n",
    "plt.pie(cities['city'] ,autopct = '%0.0f%%',shadow=True,colors=cs)\n",
    "plt.legend(cities.index,prop={'size': 11})\n",
    "plt.show()"
   ]
  },
  {
   "cell_type": "markdown",
   "metadata": {
    "id": "Mhq7Yl27wPLG"
   },
   "source": [
    "## Plotting win percentage of each team"
   ]
  },
  {
   "cell_type": "code",
   "execution_count": 42,
   "metadata": {
    "colab": {
     "base_uri": "https://localhost:8080/",
     "height": 206
    },
    "id": "f0v729M1ItPb",
    "outputId": "aa27035b-c07f-49e0-ee59-82cc89a2149e"
   },
   "outputs": [
    {
     "data": {
      "text/html": [
       "<div>\n",
       "<style scoped>\n",
       "    .dataframe tbody tr th:only-of-type {\n",
       "        vertical-align: middle;\n",
       "    }\n",
       "\n",
       "    .dataframe tbody tr th {\n",
       "        vertical-align: top;\n",
       "    }\n",
       "\n",
       "    .dataframe thead th {\n",
       "        text-align: right;\n",
       "    }\n",
       "</style>\n",
       "<table border=\"1\" class=\"dataframe\">\n",
       "  <thead>\n",
       "    <tr style=\"text-align: right;\">\n",
       "      <th></th>\n",
       "      <th>winner</th>\n",
       "    </tr>\n",
       "  </thead>\n",
       "  <tbody>\n",
       "    <tr>\n",
       "      <th>Mumbai Indians</th>\n",
       "      <td>120</td>\n",
       "    </tr>\n",
       "    <tr>\n",
       "      <th>Chennai Super Kings</th>\n",
       "      <td>106</td>\n",
       "    </tr>\n",
       "    <tr>\n",
       "      <th>Kolkata Knight Riders</th>\n",
       "      <td>99</td>\n",
       "    </tr>\n",
       "    <tr>\n",
       "      <th>Royal Challengers Bangalore</th>\n",
       "      <td>91</td>\n",
       "    </tr>\n",
       "    <tr>\n",
       "      <th>Kings XI Punjab</th>\n",
       "      <td>88</td>\n",
       "    </tr>\n",
       "  </tbody>\n",
       "</table>\n",
       "</div>"
      ],
      "text/plain": [
       "                             winner\n",
       "Mumbai Indians                  120\n",
       "Chennai Super Kings             106\n",
       "Kolkata Knight Riders            99\n",
       "Royal Challengers Bangalore      91\n",
       "Kings XI Punjab                  88"
      ]
     },
     "execution_count": 42,
     "metadata": {},
     "output_type": "execute_result"
    }
   ],
   "source": [
    "df_won = df_matches['winner'].value_counts().to_frame()\n",
    "df_won.head()"
   ]
  },
  {
   "cell_type": "code",
   "execution_count": 43,
   "metadata": {
    "colab": {
     "base_uri": "https://localhost:8080/"
    },
    "id": "Wiycljo5I9we",
    "outputId": "acf728e0-f78c-4a36-8c70-6bf83d78e595"
   },
   "outputs": [
    {
     "data": {
      "text/plain": [
       "812"
      ]
     },
     "execution_count": 43,
     "metadata": {},
     "output_type": "execute_result"
    }
   ],
   "source": [
    "len(df_matches['id'])"
   ]
  },
  {
   "cell_type": "code",
   "execution_count": 44,
   "metadata": {
    "colab": {
     "base_uri": "https://localhost:8080/"
    },
    "id": "-1W24EYvtTer",
    "outputId": "3de7a030-6241-4282-ffa5-2acebcc75006"
   },
   "outputs": [
    {
     "data": {
      "text/plain": [
       "Mumbai Indians                 203\n",
       "Kolkata Knight Riders          192\n",
       "Royal Challengers Bangalore    192\n",
       "Kings XI Punjab                190\n",
       "Chennai Super Kings            178\n",
       "dtype: int64"
      ]
     },
     "execution_count": 44,
     "metadata": {},
     "output_type": "execute_result"
    }
   ],
   "source": [
    "df_total_matches = df_matches['team1'].value_counts() + df_matches['team2'].value_counts()\n",
    "df_total_matches.sort_values(ascending = False,inplace= True)\n",
    "df_total_matches.head()"
   ]
  },
  {
   "cell_type": "code",
   "execution_count": 45,
   "metadata": {
    "id": "nna9xx4lvpcC"
   },
   "outputs": [],
   "source": [
    "df_won.reindex(df_total_matches.index).head()\n",
    "total =  df_total_matches.values"
   ]
  },
  {
   "cell_type": "code",
   "execution_count": 46,
   "metadata": {
    "colab": {
     "base_uri": "https://localhost:8080/"
    },
    "id": "rWmdP-1g3mbM",
    "outputId": "23daa718-c428-45d7-b73f-2816f9f6be08"
   },
   "outputs": [
    {
     "data": {
      "text/plain": [
       "Index(['Mumbai Indians', 'Chennai Super Kings', 'Kolkata Knight Riders',\n",
       "       'Royal Challengers Bangalore', 'Kings XI Punjab', 'Rajasthan Royals',\n",
       "       'Delhi Daredevils', 'Sunrisers Hyderabad', 'Deccan Chargers',\n",
       "       'Delhi Capitals', 'Rising Pune Supergiant', 'Gujarat Lions',\n",
       "       'Pune Warriors', 'Kochi Tuskers Kerala'],\n",
       "      dtype='object')"
      ]
     },
     "execution_count": 46,
     "metadata": {},
     "output_type": "execute_result"
    }
   ],
   "source": [
    "df_won.index"
   ]
  },
  {
   "cell_type": "code",
   "execution_count": 47,
   "metadata": {
    "id": "uYehCZpRvu0U"
   },
   "outputs": [
    {
     "name": "stderr",
     "output_type": "stream",
     "text": [
      "C:\\Users\\MAHIMA\\AppData\\Local\\Temp\\ipykernel_16980\\3197780801.py:13: FutureWarning:\n",
      "\n",
      "The frame.append method is deprecated and will be removed from pandas in a future version. Use pandas.concat instead.\n",
      "\n",
      "C:\\Users\\MAHIMA\\AppData\\Local\\Temp\\ipykernel_16980\\3197780801.py:13: FutureWarning:\n",
      "\n",
      "The frame.append method is deprecated and will be removed from pandas in a future version. Use pandas.concat instead.\n",
      "\n",
      "C:\\Users\\MAHIMA\\AppData\\Local\\Temp\\ipykernel_16980\\3197780801.py:13: FutureWarning:\n",
      "\n",
      "The frame.append method is deprecated and will be removed from pandas in a future version. Use pandas.concat instead.\n",
      "\n",
      "C:\\Users\\MAHIMA\\AppData\\Local\\Temp\\ipykernel_16980\\3197780801.py:13: FutureWarning:\n",
      "\n",
      "The frame.append method is deprecated and will be removed from pandas in a future version. Use pandas.concat instead.\n",
      "\n",
      "C:\\Users\\MAHIMA\\AppData\\Local\\Temp\\ipykernel_16980\\3197780801.py:13: FutureWarning:\n",
      "\n",
      "The frame.append method is deprecated and will be removed from pandas in a future version. Use pandas.concat instead.\n",
      "\n",
      "C:\\Users\\MAHIMA\\AppData\\Local\\Temp\\ipykernel_16980\\3197780801.py:13: FutureWarning:\n",
      "\n",
      "The frame.append method is deprecated and will be removed from pandas in a future version. Use pandas.concat instead.\n",
      "\n",
      "C:\\Users\\MAHIMA\\AppData\\Local\\Temp\\ipykernel_16980\\3197780801.py:13: FutureWarning:\n",
      "\n",
      "The frame.append method is deprecated and will be removed from pandas in a future version. Use pandas.concat instead.\n",
      "\n",
      "C:\\Users\\MAHIMA\\AppData\\Local\\Temp\\ipykernel_16980\\3197780801.py:13: FutureWarning:\n",
      "\n",
      "The frame.append method is deprecated and will be removed from pandas in a future version. Use pandas.concat instead.\n",
      "\n",
      "C:\\Users\\MAHIMA\\AppData\\Local\\Temp\\ipykernel_16980\\3197780801.py:13: FutureWarning:\n",
      "\n",
      "The frame.append method is deprecated and will be removed from pandas in a future version. Use pandas.concat instead.\n",
      "\n",
      "C:\\Users\\MAHIMA\\AppData\\Local\\Temp\\ipykernel_16980\\3197780801.py:13: FutureWarning:\n",
      "\n",
      "The frame.append method is deprecated and will be removed from pandas in a future version. Use pandas.concat instead.\n",
      "\n",
      "C:\\Users\\MAHIMA\\AppData\\Local\\Temp\\ipykernel_16980\\3197780801.py:13: FutureWarning:\n",
      "\n",
      "The frame.append method is deprecated and will be removed from pandas in a future version. Use pandas.concat instead.\n",
      "\n",
      "C:\\Users\\MAHIMA\\AppData\\Local\\Temp\\ipykernel_16980\\3197780801.py:13: FutureWarning:\n",
      "\n",
      "The frame.append method is deprecated and will be removed from pandas in a future version. Use pandas.concat instead.\n",
      "\n",
      "C:\\Users\\MAHIMA\\AppData\\Local\\Temp\\ipykernel_16980\\3197780801.py:13: FutureWarning:\n",
      "\n",
      "The frame.append method is deprecated and will be removed from pandas in a future version. Use pandas.concat instead.\n",
      "\n",
      "C:\\Users\\MAHIMA\\AppData\\Local\\Temp\\ipykernel_16980\\3197780801.py:13: FutureWarning:\n",
      "\n",
      "The frame.append method is deprecated and will be removed from pandas in a future version. Use pandas.concat instead.\n",
      "\n"
     ]
    }
   ],
   "source": [
    "df_percent= pd.DataFrame(columns=['Team','Win Percentage'])\n",
    "i= 0 \n",
    "\n",
    "for i in range(len(df_won)):\n",
    "     \n",
    "    temp_df = pd.DataFrame({\n",
    "        'Team':df_won.index[i],\n",
    "        'Win Percentage':df_won.values[i]/total[i]\n",
    "        \n",
    "    })\n",
    "     \n",
    "     \n",
    "    df_percent= df_percent.append(temp_df)\n"
   ]
  },
  {
   "cell_type": "code",
   "execution_count": 48,
   "metadata": {
    "colab": {
     "base_uri": "https://localhost:8080/",
     "height": 301
    },
    "id": "3B7w7BgF4ocZ",
    "outputId": "3ac868eb-6480-41e6-e75a-d05b79634d6c"
   },
   "outputs": [
    {
     "data": {
      "image/png": "[encoded data removed]",
      "text/plain": [
       "<Figure size 1000x600 with 1 Axes>"
      ]
     },
     "metadata": {},
     "output_type": "display_data"
    }
   ],
   "source": [
    "sns.barplot( y = 'Team',x= 'Win Percentage',data = df_percent,orient= \"h\")\n",
    "plt.show()"
   ]
  },
  {
   "cell_type": "markdown",
   "metadata": {
    "id": "KSepIcGc4oib"
   },
   "source": [
    "\n",
    "\n",
    "*   Mumbai Indians is the most successful team in terms of win percentage follwed by CSK and SRH with win percentage close to 60%.\n",
    "*   Deccan Chargers has the least win percentage\n",
    "\n"
   ]
  },
  {
   "cell_type": "markdown",
   "metadata": {
    "id": "BiWgkARq7Mzi"
   },
   "source": [
    "## Most Man of the Matches"
   ]
  },
  {
   "cell_type": "code",
   "execution_count": 49,
   "metadata": {
    "colab": {
     "base_uri": "https://localhost:8080/",
     "height": 206
    },
    "id": "Wq8nR1aT77s7",
    "outputId": "67bc9ee7-c46e-4bfc-8559-736526293b5a"
   },
   "outputs": [
    {
     "data": {
      "text/html": [
       "<div>\n",
       "<style scoped>\n",
       "    .dataframe tbody tr th:only-of-type {\n",
       "        vertical-align: middle;\n",
       "    }\n",
       "\n",
       "    .dataframe tbody tr th {\n",
       "        vertical-align: top;\n",
       "    }\n",
       "\n",
       "    .dataframe thead th {\n",
       "        text-align: right;\n",
       "    }\n",
       "</style>\n",
       "<table border=\"1\" class=\"dataframe\">\n",
       "  <thead>\n",
       "    <tr style=\"text-align: right;\">\n",
       "      <th></th>\n",
       "      <th>player_of_match</th>\n",
       "    </tr>\n",
       "  </thead>\n",
       "  <tbody>\n",
       "    <tr>\n",
       "      <th>AB de Villiers</th>\n",
       "      <td>23</td>\n",
       "    </tr>\n",
       "    <tr>\n",
       "      <th>CH Gayle</th>\n",
       "      <td>22</td>\n",
       "    </tr>\n",
       "    <tr>\n",
       "      <th>RG Sharma</th>\n",
       "      <td>18</td>\n",
       "    </tr>\n",
       "    <tr>\n",
       "      <th>DA Warner</th>\n",
       "      <td>17</td>\n",
       "    </tr>\n",
       "    <tr>\n",
       "      <th>MS Dhoni</th>\n",
       "      <td>17</td>\n",
       "    </tr>\n",
       "  </tbody>\n",
       "</table>\n",
       "</div>"
      ],
      "text/plain": [
       "                player_of_match\n",
       "AB de Villiers               23\n",
       "CH Gayle                     22\n",
       "RG Sharma                    18\n",
       "DA Warner                    17\n",
       "MS Dhoni                     17"
      ]
     },
     "execution_count": 49,
     "metadata": {},
     "output_type": "execute_result"
    }
   ],
   "source": [
    "df_man = df_matches['player_of_match'].value_counts().to_frame()\n",
    "df_man.head()"
   ]
  },
  {
   "cell_type": "code",
   "execution_count": 50,
   "metadata": {
    "colab": {
     "base_uri": "https://localhost:8080/"
    },
    "id": "YDIL6kmF78Qx",
    "outputId": "4620acb5-5633-4b20-f89c-52944d2387c0"
   },
   "outputs": [
    {
     "data": {
      "text/plain": [
       "array([23, 22, 18, 17, 17, 16, 16, 14, 13, 13, 12, 12, 11, 11, 11],\n",
       "      dtype=int64)"
      ]
     },
     "execution_count": 50,
     "metadata": {},
     "output_type": "execute_result"
    }
   ],
   "source": [
    "df_man = df_man.head(15)\n",
    "df_man.values.reshape(15,)"
   ]
  },
  {
   "cell_type": "code",
   "execution_count": 51,
   "metadata": {
    "colab": {
     "base_uri": "https://localhost:8080/",
     "height": 301
    },
    "id": "Vk3lNt8R78di",
    "outputId": "6765f8fd-2eff-492b-9d2b-27e7dedc9849"
   },
   "outputs": [
    {
     "data": {
      "image/png": "[encoded data removed]",
      "text/plain": [
       "<Figure size 1000x600 with 1 Axes>"
      ]
     },
     "metadata": {},
     "output_type": "display_data"
    }
   ],
   "source": [
    "sns.barplot(y=df_man.index,x = df_man.values.reshape(15,), orient = \"h\")\n",
    "plt.xlabel('MoM Awards')\n",
    "plt.show()"
   ]
  },
  {
   "cell_type": "markdown",
   "metadata": {
    "id": "y1-pn9ykBiXJ"
   },
   "source": [
    "## Toss Win Percentage and Toss Influence"
   ]
  },
  {
   "cell_type": "code",
   "execution_count": 52,
   "metadata": {
    "colab": {
     "base_uri": "https://localhost:8080/",
     "height": 301
    },
    "id": "Ry99pXY378sc",
    "outputId": "b7e71003-7e1d-4717-b294-d6aaf216e3a5"
   },
   "outputs": [
    {
     "data": {
      "image/png": "[encoded data removed]",
      "text/plain": [
       "<Figure size 1000x600 with 1 Axes>"
      ]
     },
     "metadata": {},
     "output_type": "display_data"
    }
   ],
   "source": [
    "df_toss = df_matches['toss_decision'].value_counts().to_frame().reset_index()\n",
    "sns.barplot(x= 'index', y = 'toss_decision',data = df_toss)\n",
    "plt.xlabel(\"Counts\")\n",
    "plt.ylabel('Toss Decision')\n",
    "plt.show()"
   ]
  },
  {
   "cell_type": "code",
   "execution_count": 53,
   "metadata": {
    "colab": {
     "base_uri": "https://localhost:8080/",
     "height": 206
    },
    "id": "itpxeK4Q_LLU",
    "outputId": "cb798062-8acd-455f-c775-7cab813366aa"
   },
   "outputs": [
    {
     "data": {
      "text/html": [
       "<div>\n",
       "<style scoped>\n",
       "    .dataframe tbody tr th:only-of-type {\n",
       "        vertical-align: middle;\n",
       "    }\n",
       "\n",
       "    .dataframe tbody tr th {\n",
       "        vertical-align: top;\n",
       "    }\n",
       "\n",
       "    .dataframe thead th {\n",
       "        text-align: right;\n",
       "    }\n",
       "</style>\n",
       "<table border=\"1\" class=\"dataframe\">\n",
       "  <thead>\n",
       "    <tr style=\"text-align: right;\">\n",
       "      <th></th>\n",
       "      <th>toss_winner</th>\n",
       "    </tr>\n",
       "  </thead>\n",
       "  <tbody>\n",
       "    <tr>\n",
       "      <th>Mumbai Indians</th>\n",
       "      <td>106</td>\n",
       "    </tr>\n",
       "    <tr>\n",
       "      <th>Kolkata Knight Riders</th>\n",
       "      <td>98</td>\n",
       "    </tr>\n",
       "    <tr>\n",
       "      <th>Chennai Super Kings</th>\n",
       "      <td>97</td>\n",
       "    </tr>\n",
       "    <tr>\n",
       "      <th>Royal Challengers Bangalore</th>\n",
       "      <td>86</td>\n",
       "    </tr>\n",
       "    <tr>\n",
       "      <th>Rajasthan Royals</th>\n",
       "      <td>85</td>\n",
       "    </tr>\n",
       "  </tbody>\n",
       "</table>\n",
       "</div>"
      ],
      "text/plain": [
       "                             toss_winner\n",
       "Mumbai Indians                       106\n",
       "Kolkata Knight Riders                 98\n",
       "Chennai Super Kings                   97\n",
       "Royal Challengers Bangalore           86\n",
       "Rajasthan Royals                      85"
      ]
     },
     "execution_count": 53,
     "metadata": {},
     "output_type": "execute_result"
    }
   ],
   "source": [
    "df_toss_win = df_matches['toss_winner'].value_counts().to_frame()\n",
    "df_toss_win.reindex(df_matches.index)\n",
    "df_toss_win.head()\n"
   ]
  },
  {
   "cell_type": "code",
   "execution_count": 54,
   "metadata": {
    "colab": {
     "base_uri": "https://localhost:8080/",
     "height": 112
    },
    "id": "BlKmLMP_6WWf",
    "outputId": "02a11a63-dcee-462c-fd25-eed143fb02d4"
   },
   "outputs": [
    {
     "data": {
      "text/html": [
       "<div>\n",
       "<style scoped>\n",
       "    .dataframe tbody tr th:only-of-type {\n",
       "        vertical-align: middle;\n",
       "    }\n",
       "\n",
       "    .dataframe tbody tr th {\n",
       "        vertical-align: top;\n",
       "    }\n",
       "\n",
       "    .dataframe thead th {\n",
       "        text-align: right;\n",
       "    }\n",
       "</style>\n",
       "<table border=\"1\" class=\"dataframe\">\n",
       "  <thead>\n",
       "    <tr style=\"text-align: right;\">\n",
       "      <th></th>\n",
       "      <th>toss_influence</th>\n",
       "      <th>0</th>\n",
       "    </tr>\n",
       "  </thead>\n",
       "  <tbody>\n",
       "    <tr>\n",
       "      <th>0</th>\n",
       "      <td>Yes</td>\n",
       "      <td>418</td>\n",
       "    </tr>\n",
       "    <tr>\n",
       "      <th>1</th>\n",
       "      <td>No</td>\n",
       "      <td>394</td>\n",
       "    </tr>\n",
       "  </tbody>\n",
       "</table>\n",
       "</div>"
      ],
      "text/plain": [
       "  toss_influence    0\n",
       "0            Yes  418\n",
       "1             No  394"
      ]
     },
     "execution_count": 54,
     "metadata": {},
     "output_type": "execute_result"
    }
   ],
   "source": [
    "toss_data = pd.DataFrame()\n",
    "toss_data['toss_influence'] = df_matches.apply(lambda x : 'Yes' if x['toss_winner']==x['winner'] else 'No', axis=1)\n",
    "toss_data = toss_data.value_counts().reset_index()\n",
    "toss_data.head()"
   ]
  },
  {
   "cell_type": "code",
   "execution_count": 55,
   "metadata": {
    "id": "jRzxljnH6t1e"
   },
   "outputs": [],
   "source": [
    "toss_data= toss_data.rename(columns= {'toss_influence':'toss_winner', 0:'count'})\n"
   ]
  },
  {
   "cell_type": "code",
   "execution_count": 56,
   "metadata": {
    "id": "ERwHdGjR_LjH"
   },
   "outputs": [
    {
     "name": "stderr",
     "output_type": "stream",
     "text": [
      "C:\\Users\\MAHIMA\\AppData\\Local\\Temp\\ipykernel_16980\\2546189350.py:13: FutureWarning:\n",
      "\n",
      "The frame.append method is deprecated and will be removed from pandas in a future version. Use pandas.concat instead.\n",
      "\n",
      "C:\\Users\\MAHIMA\\AppData\\Local\\Temp\\ipykernel_16980\\2546189350.py:13: FutureWarning:\n",
      "\n",
      "The frame.append method is deprecated and will be removed from pandas in a future version. Use pandas.concat instead.\n",
      "\n",
      "C:\\Users\\MAHIMA\\AppData\\Local\\Temp\\ipykernel_16980\\2546189350.py:13: FutureWarning:\n",
      "\n",
      "The frame.append method is deprecated and will be removed from pandas in a future version. Use pandas.concat instead.\n",
      "\n",
      "C:\\Users\\MAHIMA\\AppData\\Local\\Temp\\ipykernel_16980\\2546189350.py:13: FutureWarning:\n",
      "\n",
      "The frame.append method is deprecated and will be removed from pandas in a future version. Use pandas.concat instead.\n",
      "\n",
      "C:\\Users\\MAHIMA\\AppData\\Local\\Temp\\ipykernel_16980\\2546189350.py:13: FutureWarning:\n",
      "\n",
      "The frame.append method is deprecated and will be removed from pandas in a future version. Use pandas.concat instead.\n",
      "\n",
      "C:\\Users\\MAHIMA\\AppData\\Local\\Temp\\ipykernel_16980\\2546189350.py:13: FutureWarning:\n",
      "\n",
      "The frame.append method is deprecated and will be removed from pandas in a future version. Use pandas.concat instead.\n",
      "\n",
      "C:\\Users\\MAHIMA\\AppData\\Local\\Temp\\ipykernel_16980\\2546189350.py:13: FutureWarning:\n",
      "\n",
      "The frame.append method is deprecated and will be removed from pandas in a future version. Use pandas.concat instead.\n",
      "\n",
      "C:\\Users\\MAHIMA\\AppData\\Local\\Temp\\ipykernel_16980\\2546189350.py:13: FutureWarning:\n",
      "\n",
      "The frame.append method is deprecated and will be removed from pandas in a future version. Use pandas.concat instead.\n",
      "\n",
      "C:\\Users\\MAHIMA\\AppData\\Local\\Temp\\ipykernel_16980\\2546189350.py:13: FutureWarning:\n",
      "\n",
      "The frame.append method is deprecated and will be removed from pandas in a future version. Use pandas.concat instead.\n",
      "\n",
      "C:\\Users\\MAHIMA\\AppData\\Local\\Temp\\ipykernel_16980\\2546189350.py:13: FutureWarning:\n",
      "\n",
      "The frame.append method is deprecated and will be removed from pandas in a future version. Use pandas.concat instead.\n",
      "\n",
      "C:\\Users\\MAHIMA\\AppData\\Local\\Temp\\ipykernel_16980\\2546189350.py:13: FutureWarning:\n",
      "\n",
      "The frame.append method is deprecated and will be removed from pandas in a future version. Use pandas.concat instead.\n",
      "\n",
      "C:\\Users\\MAHIMA\\AppData\\Local\\Temp\\ipykernel_16980\\2546189350.py:13: FutureWarning:\n",
      "\n",
      "The frame.append method is deprecated and will be removed from pandas in a future version. Use pandas.concat instead.\n",
      "\n",
      "C:\\Users\\MAHIMA\\AppData\\Local\\Temp\\ipykernel_16980\\2546189350.py:13: FutureWarning:\n",
      "\n",
      "The frame.append method is deprecated and will be removed from pandas in a future version. Use pandas.concat instead.\n",
      "\n",
      "C:\\Users\\MAHIMA\\AppData\\Local\\Temp\\ipykernel_16980\\2546189350.py:13: FutureWarning:\n",
      "\n",
      "The frame.append method is deprecated and will be removed from pandas in a future version. Use pandas.concat instead.\n",
      "\n"
     ]
    }
   ],
   "source": [
    "df_toss_percent= pd.DataFrame(columns=['Team','Toss Win Percentage'])\n",
    "i= 0 \n",
    "\n",
    "for i in range(len(df_toss_win)):\n",
    "     \n",
    "    temp_df = pd.DataFrame({\n",
    "        'Team':df_toss_win.index[i],\n",
    "        'Toss Win Percentage':df_toss_win.values[i]/total[i]\n",
    "        \n",
    "    })\n",
    "     \n",
    "     \n",
    "    df_toss_percent= df_toss_percent.append(temp_df)\n"
   ]
  },
  {
   "cell_type": "code",
   "execution_count": 57,
   "metadata": {
    "colab": {
     "base_uri": "https://localhost:8080/",
     "height": 206
    },
    "id": "nmI1pq27AuXI",
    "outputId": "fea8cd35-dc29-4cb7-b8d6-865ff5503634"
   },
   "outputs": [
    {
     "data": {
      "text/html": [
       "<div>\n",
       "<style scoped>\n",
       "    .dataframe tbody tr th:only-of-type {\n",
       "        vertical-align: middle;\n",
       "    }\n",
       "\n",
       "    .dataframe tbody tr th {\n",
       "        vertical-align: top;\n",
       "    }\n",
       "\n",
       "    .dataframe thead th {\n",
       "        text-align: right;\n",
       "    }\n",
       "</style>\n",
       "<table border=\"1\" class=\"dataframe\">\n",
       "  <thead>\n",
       "    <tr style=\"text-align: right;\">\n",
       "      <th></th>\n",
       "      <th>Team</th>\n",
       "      <th>Toss Win Percentage</th>\n",
       "    </tr>\n",
       "  </thead>\n",
       "  <tbody>\n",
       "    <tr>\n",
       "      <th>0</th>\n",
       "      <td>Mumbai Indians</td>\n",
       "      <td>0.522167</td>\n",
       "    </tr>\n",
       "    <tr>\n",
       "      <th>0</th>\n",
       "      <td>Kolkata Knight Riders</td>\n",
       "      <td>0.510417</td>\n",
       "    </tr>\n",
       "    <tr>\n",
       "      <th>0</th>\n",
       "      <td>Chennai Super Kings</td>\n",
       "      <td>0.505208</td>\n",
       "    </tr>\n",
       "    <tr>\n",
       "      <th>0</th>\n",
       "      <td>Royal Challengers Bangalore</td>\n",
       "      <td>0.452632</td>\n",
       "    </tr>\n",
       "    <tr>\n",
       "      <th>0</th>\n",
       "      <td>Rajasthan Royals</td>\n",
       "      <td>0.477528</td>\n",
       "    </tr>\n",
       "  </tbody>\n",
       "</table>\n",
       "</div>"
      ],
      "text/plain": [
       "                          Team  Toss Win Percentage\n",
       "0               Mumbai Indians             0.522167\n",
       "0        Kolkata Knight Riders             0.510417\n",
       "0          Chennai Super Kings             0.505208\n",
       "0  Royal Challengers Bangalore             0.452632\n",
       "0             Rajasthan Royals             0.477528"
      ]
     },
     "execution_count": 57,
     "metadata": {},
     "output_type": "execute_result"
    }
   ],
   "source": [
    "df_toss_percent.head()\n",
    " "
   ]
  },
  {
   "cell_type": "code",
   "execution_count": 58,
   "metadata": {
    "colab": {
     "base_uri": "https://localhost:8080/",
     "height": 301
    },
    "id": "etVyrP-hA-L7",
    "outputId": "22253769-2832-401e-cdb1-a3878f63d53c"
   },
   "outputs": [
    {
     "data": {
      "image/png": "[encoded data removed]",
      "text/plain": [
       "<Figure size 1000x600 with 1 Axes>"
      ]
     },
     "metadata": {},
     "output_type": "display_data"
    }
   ],
   "source": [
    "sns.barplot(y = 'Team', x = \"Toss Win Percentage\",data= df_toss_percent,orient = 'h')\n",
    "plt.show()"
   ]
  },
  {
   "cell_type": "markdown",
   "metadata": {
    "id": "dOYIk8jBi1IJ"
   },
   "source": [
    "The toss win percentage of some teams like Kochi Tuskers Kerala, Pune Warriors and Deccan Chargers are little high as compared to others since they have played fewer seasons as compared to other teams."
   ]
  },
  {
   "cell_type": "code",
   "execution_count": 59,
   "metadata": {
    "colab": {
     "base_uri": "https://localhost:8080/",
     "height": 280
    },
    "id": "lfGp8BPb6bn3",
    "outputId": "30dae357-deda-44d7-f5e2-0eb5a92308af"
   },
   "outputs": [
    {
     "data": {
      "image/png": "[encoded data removed]",
      "text/plain": [
       "<Figure size 1000x600 with 1 Axes>"
      ]
     },
     "metadata": {},
     "output_type": "display_data"
    }
   ],
   "source": [
    "sns.barplot(x = 'toss_winner', y= \"count\",data= toss_data,orient = 'v')\n",
    "plt.show()"
   ]
  },
  {
   "cell_type": "markdown",
   "metadata": {
    "id": "sE9Di_4Ui1dy"
   },
   "source": [
    "##Top 10 Greatest Victories"
   ]
  },
  {
   "cell_type": "markdown",
   "metadata": {
    "id": "j-X7NU6fB7yH"
   },
   "source": [
    "### By Runs"
   ]
  },
  {
   "cell_type": "code",
   "execution_count": 60,
   "metadata": {
    "id": "ZeTtw61EkYke"
   },
   "outputs": [],
   "source": [
    "df_run_margins = df_matches[df_matches['result']=='runs'].sort_values(by= 'result_margin',ascending = False).head(10)"
   ]
  },
  {
   "cell_type": "code",
   "execution_count": 61,
   "metadata": {
    "id": "GambWfX3kac0"
   },
   "outputs": [],
   "source": [
    "xlabel2=  np.where(df_run_margins['team1'] == df_run_margins['winner'], df_run_margins['team2'], df_run_margins['team1']) \n",
    "xlabel1 = np.array(df_run_margins['winner'].values)\n",
    "xlabels_runs = xlabel1 +' vs ' + xlabel2 \n",
    "xlabels_runs[0]+= ' (2017)'\n",
    "xlabels_runs[9]+= ' (2010)'"
   ]
  },
  {
   "cell_type": "code",
   "execution_count": 62,
   "metadata": {
    "id": "5_Wr8ZZm40LI"
   },
   "outputs": [],
   "source": [
    "df_run_plot = df_run_margins\n",
    "df_run_plot['xlabel'] = xlabels_runs\n"
   ]
  },
  {
   "cell_type": "code",
   "execution_count": 63,
   "metadata": {
    "colab": {
     "base_uri": "https://localhost:8080/",
     "height": 517
    },
    "id": "-JzUhGieEP4h",
    "outputId": "9f08fdf9-5c1a-4929-e7f7-2512f9e80144"
   },
   "outputs": [
    {
     "data": {
      "application/vnd.plotly.v1+json": {
       "config": {
        "plotlyServerURL": "https://plot.ly"
       },
       "data": [
        {
         "alignmentgroup": "True",
         "customdata": [
          [
           "Mumbai Indians",
           2017
          ],
          [
           "Royal Challengers Bangalore",
           2016
          ],
          [
           "Kolkata Knight Riders",
           2008
          ],
          [
           "Royal Challengers Bangalore",
           2015
          ],
          [
           "Royal Challengers Bangalore",
           2013
          ],
          [
           "Sunrisers Hyderabad",
           2019
          ],
          [
           "Kings XI Punjab",
           2011
          ],
          [
           "Rajasthan Royals",
           2008
          ],
          [
           "Mumbai Indians",
           2018
          ],
          [
           "Mumbai Indians",
           2010
          ]
         ],
         "hovertemplate": "xlabel=%{x}<br>result_margin=%{marker.color}<br>winner=%{customdata[0]}<br>season=%{customdata[1]}<extra></extra>",
         "legendgroup": "",
         "marker": {
          "color": [
           146,
           144,
           140,
           138,
           130,
           118,
           111,
           105,
           102,
           98
          ],
          "coloraxis": "coloraxis",
          "pattern": {
           "shape": ""
          }
         },
         "name": "",
         "offsetgroup": "",
         "orientation": "v",
         "showlegend": false,
         "textposition": "auto",
         "type": "bar",
         "x": [
          "Mumbai Indians vs Delhi Daredevils (2017)",
          "Royal Challengers Bangalore vs Gujarat Lions",
          "Kolkata Knight Riders vs Royal Challengers Bangalore",
          "Royal Challengers Bangalore vs Kings XI Punjab",
          "Royal Challengers Bangalore vs Pune Warriors",
          "Sunrisers Hyderabad vs Royal Challengers Bangalore",
          "Kings XI Punjab vs Royal Challengers Bangalore",
          "Rajasthan Royals vs Delhi Daredevils",
          "Mumbai Indians vs Kolkata Knight Riders",
          "Mumbai Indians vs Delhi Daredevils (2010)"
         ],
         "xaxis": "x",
         "y": [
          146,
          144,
          140,
          138,
          130,
          118,
          111,
          105,
          102,
          98
         ],
         "yaxis": "y"
        }
       ],
       "layout": {
        "barmode": "group",
        "coloraxis": {
         "colorbar": {
          "title": {
           "text": "result_margin"
          }
         },
         "colorscale": [
          [
           0,
           "#0d0887"
          ],
          [
           0.1111111111111111,
           "#46039f"
          ],
          [
           0.2222222222222222,
           "#7201a8"
          ],
          [
           0.3333333333333333,
           "#9c179e"
          ],
          [
           0.4444444444444444,
           "#bd3786"
          ],
          [
           0.5555555555555556,
           "#d8576b"
          ],
          [
           0.6666666666666666,
           "#ed7953"
          ],
          [
           0.7777777777777778,
           "#fb9f3a"
          ],
          [
           0.8888888888888888,
           "#fdca26"
          ],
          [
           1,
           "#f0f921"
          ]
         ]
        },
        "height": 500,
        "legend": {
         "tracegroupgap": 0
        },
        "margin": {
         "t": 60
        },
        "template": {
         "data": {
          "bar": [
           {
            "error_x": {
             "color": "#2a3f5f"
            },
            "error_y": {
             "color": "#2a3f5f"
            },
            "marker": {
             "line": {
              "color": "#E5ECF6",
              "width": 0.5
             },
             "pattern": {
              "fillmode": "overlay",
              "size": 10,
              "solidity": 0.2
             }
            },
            "type": "bar"
           }
          ],
          "barpolar": [
           {
            "marker": {
             "line": {
              "color": "#E5ECF6",
              "width": 0.5
             },
             "pattern": {
              "fillmode": "overlay",
              "size": 10,
              "solidity": 0.2
             }
            },
            "type": "barpolar"
           }
          ],
          "carpet": [
           {
            "aaxis": {
             "endlinecolor": "#2a3f5f",
             "gridcolor": "white",
             "linecolor": "white",
             "minorgridcolor": "white",
             "startlinecolor": "#2a3f5f"
            },
            "baxis": {
             "endlinecolor": "#2a3f5f",
             "gridcolor": "white",
             "linecolor": "white",
             "minorgridcolor": "white",
             "startlinecolor": "#2a3f5f"
            },
            "type": "carpet"
           }
          ],
          "choropleth": [
           {
            "colorbar": {
             "outlinewidth": 0,
             "ticks": ""
            },
            "type": "choropleth"
           }
          ],
          "contour": [
           {
            "colorbar": {
             "outlinewidth": 0,
             "ticks": ""
            },
            "colorscale": [
             [
              0,
              "#0d0887"
             ],
             [
              0.1111111111111111,
              "#46039f"
             ],
             [
              0.2222222222222222,
              "#7201a8"
             ],
             [
              0.3333333333333333,
              "#9c179e"
             ],
             [
              0.4444444444444444,
              "#bd3786"
             ],
             [
              0.5555555555555556,
              "#d8576b"
             ],
             [
              0.6666666666666666,
              "#ed7953"
             ],
             [
              0.7777777777777778,
              "#fb9f3a"
             ],
             [
              0.8888888888888888,
              "#fdca26"
             ],
             [
              1,
              "#f0f921"
             ]
            ],
            "type": "contour"
           }
          ],
          "contourcarpet": [
           {
            "colorbar": {
             "outlinewidth": 0,
             "ticks": ""
            },
            "type": "contourcarpet"
           }
          ],
          "heatmap": [
           {
            "colorbar": {
             "outlinewidth": 0,
             "ticks": ""
            },
            "colorscale": [
             [
              0,
              "#0d0887"
             ],
             [
              0.1111111111111111,
              "#46039f"
             ],
             [
              0.2222222222222222,
              "#7201a8"
             ],
             [
              0.3333333333333333,
              "#9c179e"
             ],
             [
              0.4444444444444444,
              "#bd3786"
             ],
             [
              0.5555555555555556,
              "#d8576b"
             ],
             [
              0.6666666666666666,
              "#ed7953"
             ],
             [
              0.7777777777777778,
              "#fb9f3a"
             ],
             [
              0.8888888888888888,
              "#fdca26"
             ],
             [
              1,
              "#f0f921"
             ]
            ],
            "type": "heatmap"
           }
          ],
          "heatmapgl": [
           {
            "colorbar": {
             "outlinewidth": 0,
             "ticks": ""
            },
            "colorscale": [
             [
              0,
              "#0d0887"
             ],
             [
              0.1111111111111111,
              "#46039f"
             ],
             [
              0.2222222222222222,
              "#7201a8"
             ],
             [
              0.3333333333333333,
              "#9c179e"
             ],
             [
              0.4444444444444444,
              "#bd3786"
             ],
             [
              0.5555555555555556,
              "#d8576b"
             ],
             [
              0.6666666666666666,
              "#ed7953"
             ],
             [
              0.7777777777777778,
              "#fb9f3a"
             ],
             [
              0.8888888888888888,
              "#fdca26"
             ],
             [
              1,
              "#f0f921"
             ]
            ],
            "type": "heatmapgl"
           }
          ],
          "histogram": [
           {
            "marker": {
             "pattern": {
              "fillmode": "overlay",
              "size": 10,
              "solidity": 0.2
             }
            },
            "type": "histogram"
           }
          ],
          "histogram2d": [
           {
            "colorbar": {
             "outlinewidth": 0,
             "ticks": ""
            },
            "colorscale": [
             [
              0,
              "#0d0887"
             ],
             [
              0.1111111111111111,
              "#46039f"
             ],
             [
              0.2222222222222222,
              "#7201a8"
             ],
             [
              0.3333333333333333,
              "#9c179e"
             ],
             [
              0.4444444444444444,
              "#bd3786"
             ],
             [
              0.5555555555555556,
              "#d8576b"
             ],
             [
              0.6666666666666666,
              "#ed7953"
             ],
             [
              0.7777777777777778,
              "#fb9f3a"
             ],
             [
              0.8888888888888888,
              "#fdca26"
             ],
             [
              1,
              "#f0f921"
             ]
            ],
            "type": "histogram2d"
           }
          ],
          "histogram2dcontour": [
           {
            "colorbar": {
             "outlinewidth": 0,
             "ticks": ""
            },
            "colorscale": [
             [
              0,
              "#0d0887"
             ],
             [
              0.1111111111111111,
              "#46039f"
             ],
             [
              0.2222222222222222,
              "#7201a8"
             ],
             [
              0.3333333333333333,
              "#9c179e"
             ],
             [
              0.4444444444444444,
              "#bd3786"
             ],
             [
              0.5555555555555556,
              "#d8576b"
             ],
             [
              0.6666666666666666,
              "#ed7953"
             ],
             [
              0.7777777777777778,
              "#fb9f3a"
             ],
             [
              0.8888888888888888,
              "#fdca26"
             ],
             [
              1,
              "#f0f921"
             ]
            ],
            "type": "histogram2dcontour"
           }
          ],
          "mesh3d": [
           {
            "colorbar": {
             "outlinewidth": 0,
             "ticks": ""
            },
            "type": "mesh3d"
           }
          ],
          "parcoords": [
           {
            "line": {
             "colorbar": {
              "outlinewidth": 0,
              "ticks": ""
             }
            },
            "type": "parcoords"
           }
          ],
          "pie": [
           {
            "automargin": true,
            "type": "pie"
           }
          ],
          "scatter": [
           {
            "fillpattern": {
             "fillmode": "overlay",
             "size": 10,
             "solidity": 0.2
            },
            "type": "scatter"
           }
          ],
          "scatter3d": [
           {
            "line": {
             "colorbar": {
              "outlinewidth": 0,
              "ticks": ""
             }
            },
            "marker": {
             "colorbar": {
              "outlinewidth": 0,
              "ticks": ""
             }
            },
            "type": "scatter3d"
           }
          ],
          "scattercarpet": [
           {
            "marker": {
             "colorbar": {
              "outlinewidth": 0,
              "ticks": ""
             }
            },
            "type": "scattercarpet"
           }
          ],
          "scattergeo": [
           {
            "marker": {
             "colorbar": {
              "outlinewidth": 0,
              "ticks": ""
             }
            },
            "type": "scattergeo"
           }
          ],
          "scattergl": [
           {
            "marker": {
             "colorbar": {
              "outlinewidth": 0,
              "ticks": ""
             }
            },
            "type": "scattergl"
           }
          ],
          "scattermapbox": [
           {
            "marker": {
             "colorbar": {
              "outlinewidth": 0,
              "ticks": ""
             }
            },
            "type": "scattermapbox"
           }
          ],
          "scatterpolar": [
           {
            "marker": {
             "colorbar": {
              "outlinewidth": 0,
              "ticks": ""
             }
            },
            "type": "scatterpolar"
           }
          ],
          "scatterpolargl": [
           {
            "marker": {
             "colorbar": {
              "outlinewidth": 0,
              "ticks": ""
             }
            },
            "type": "scatterpolargl"
           }
          ],
          "scatterternary": [
           {
            "marker": {
             "colorbar": {
              "outlinewidth": 0,
              "ticks": ""
             }
            },
            "type": "scatterternary"
           }
          ],
          "surface": [
           {
            "colorbar": {
             "outlinewidth": 0,
             "ticks": ""
            },
            "colorscale": [
             [
              0,
              "#0d0887"
             ],
             [
              0.1111111111111111,
              "#46039f"
             ],
             [
              0.2222222222222222,
              "#7201a8"
             ],
             [
              0.3333333333333333,
              "#9c179e"
             ],
             [
              0.4444444444444444,
              "#bd3786"
             ],
             [
              0.5555555555555556,
              "#d8576b"
             ],
             [
              0.6666666666666666,
              "#ed7953"
             ],
             [
              0.7777777777777778,
              "#fb9f3a"
             ],
             [
              0.8888888888888888,
              "#fdca26"
             ],
             [
              1,
              "#f0f921"
             ]
            ],
            "type": "surface"
           }
          ],
          "table": [
           {
            "cells": {
             "fill": {
              "color": "#EBF0F8"
             },
             "line": {
              "color": "white"
             }
            },
            "header": {
             "fill": {
              "color": "#C8D4E3"
             },
             "line": {
              "color": "white"
             }
            },
            "type": "table"
           }
          ]
         },
         "layout": {
          "annotationdefaults": {
           "arrowcolor": "#2a3f5f",
           "arrowhead": 0,
           "arrowwidth": 1
          },
          "autotypenumbers": "strict",
          "coloraxis": {
           "colorbar": {
            "outlinewidth": 0,
            "ticks": ""
           }
          },
          "colorscale": {
           "diverging": [
            [
             0,
             "#8e0152"
            ],
            [
             0.1,
             "#c51b7d"
            ],
            [
             0.2,
             "#de77ae"
            ],
            [
             0.3,
             "#f1b6da"
            ],
            [
             0.4,
             "#fde0ef"
            ],
            [
             0.5,
             "#f7f7f7"
            ],
            [
             0.6,
             "#e6f5d0"
            ],
            [
             0.7,
             "#b8e186"
            ],
            [
             0.8,
             "#7fbc41"
            ],
            [
             0.9,
             "#4d9221"
            ],
            [
             1,
             "#276419"
            ]
           ],
           "sequential": [
            [
             0,
             "#0d0887"
            ],
            [
             0.1111111111111111,
             "#46039f"
            ],
            [
             0.2222222222222222,
             "#7201a8"
            ],
            [
             0.3333333333333333,
             "#9c179e"
            ],
            [
             0.4444444444444444,
             "#bd3786"
            ],
            [
             0.5555555555555556,
             "#d8576b"
            ],
            [
             0.6666666666666666,
             "#ed7953"
            ],
            [
             0.7777777777777778,
             "#fb9f3a"
            ],
            [
             0.8888888888888888,
             "#fdca26"
            ],
            [
             1,
             "#f0f921"
            ]
           ],
           "sequentialminus": [
            [
             0,
             "#0d0887"
            ],
            [
             0.1111111111111111,
             "#46039f"
            ],
            [
             0.2222222222222222,
             "#7201a8"
            ],
            [
             0.3333333333333333,
             "#9c179e"
            ],
            [
             0.4444444444444444,
             "#bd3786"
            ],
            [
             0.5555555555555556,
             "#d8576b"
            ],
            [
             0.6666666666666666,
             "#ed7953"
            ],
            [
             0.7777777777777778,
             "#fb9f3a"
            ],
            [
             0.8888888888888888,
             "#fdca26"
            ],
            [
             1,
             "#f0f921"
            ]
           ]
          },
          "colorway": [
           "#636efa",
           "#EF553B",
           "#00cc96",
           "#ab63fa",
           "#FFA15A",
           "#19d3f3",
           "#FF6692",
           "#B6E880",
           "#FF97FF",
           "#FECB52"
          ],
          "font": {
           "color": "#2a3f5f"
          },
          "geo": {
           "bgcolor": "white",
           "lakecolor": "white",
           "landcolor": "#E5ECF6",
           "showlakes": true,
           "showland": true,
           "subunitcolor": "white"
          },
          "hoverlabel": {
           "align": "left"
          },
          "hovermode": "closest",
          "mapbox": {
           "style": "light"
          },
          "paper_bgcolor": "white",
          "plot_bgcolor": "#E5ECF6",
          "polar": {
           "angularaxis": {
            "gridcolor": "white",
            "linecolor": "white",
            "ticks": ""
           },
           "bgcolor": "#E5ECF6",
           "radialaxis": {
            "gridcolor": "white",
            "linecolor": "white",
            "ticks": ""
           }
          },
          "scene": {
           "xaxis": {
            "backgroundcolor": "#E5ECF6",
            "gridcolor": "white",
            "gridwidth": 2,
            "linecolor": "white",
            "showbackground": true,
            "ticks": "",
            "zerolinecolor": "white"
           },
           "yaxis": {
            "backgroundcolor": "#E5ECF6",
            "gridcolor": "white",
            "gridwidth": 2,
            "linecolor": "white",
            "showbackground": true,
            "ticks": "",
            "zerolinecolor": "white"
           },
           "zaxis": {
            "backgroundcolor": "#E5ECF6",
            "gridcolor": "white",
            "gridwidth": 2,
            "linecolor": "white",
            "showbackground": true,
            "ticks": "",
            "zerolinecolor": "white"
           }
          },
          "shapedefaults": {
           "line": {
            "color": "#2a3f5f"
           }
          },
          "ternary": {
           "aaxis": {
            "gridcolor": "white",
            "linecolor": "white",
            "ticks": ""
           },
           "baxis": {
            "gridcolor": "white",
            "linecolor": "white",
            "ticks": ""
           },
           "bgcolor": "#E5ECF6",
           "caxis": {
            "gridcolor": "white",
            "linecolor": "white",
            "ticks": ""
           }
          },
          "title": {
           "x": 0.05
          },
          "xaxis": {
           "automargin": true,
           "gridcolor": "white",
           "linecolor": "white",
           "ticks": "",
           "title": {
            "standoff": 15
           },
           "zerolinecolor": "white",
           "zerolinewidth": 2
          },
          "yaxis": {
           "automargin": true,
           "gridcolor": "white",
           "linecolor": "white",
           "ticks": "",
           "title": {
            "standoff": 15
           },
           "zerolinecolor": "white",
           "zerolinewidth": 2
          }
         }
        },
        "xaxis": {
         "anchor": "y",
         "domain": [
          0,
          1
         ],
         "tickangle": 20,
         "title": {
          "text": "Teams"
         }
        },
        "yaxis": {
         "anchor": "x",
         "domain": [
          0,
          1
         ],
         "title": {
          "text": "Win Margin in Runs"
         }
        }
       }
      }
     },
     "metadata": {},
     "output_type": "display_data"
    }
   ],
   "source": [
    " \n",
    "fig = px.bar(df_run_plot, x='xlabel', y='result_margin',\n",
    "             hover_data=['winner','season'], color='result_margin',\n",
    "             height=500  )\n",
    "fig.update_layout(barmode='group',xaxis_tickangle=20,yaxis_title = 'Win Margin in Runs',xaxis_title = 'Teams')\n",
    "\n",
    "fig.show()"
   ]
  },
  {
   "cell_type": "markdown",
   "metadata": {
    "id": "wwHrtx7vCGsh"
   },
   "source": [
    "### By Wickets"
   ]
  },
  {
   "cell_type": "code",
   "execution_count": 64,
   "metadata": {
    "id": "TQTSFm1EEQAq"
   },
   "outputs": [],
   "source": [
    "df_wicket_margins = df_matches[df_matches['result']=='wickets'].sort_values(by= ['result_margin','season'],ascending = False).head(10)"
   ]
  },
  {
   "cell_type": "code",
   "execution_count": 65,
   "metadata": {
    "id": "IapY0nlrEQH4"
   },
   "outputs": [],
   "source": [
    "xlabel2=  np.where(df_wicket_margins['team1'] == df_wicket_margins['winner'], df_wicket_margins['team2'], df_wicket_margins['team1']) \n",
    "xlabel1 = np.array(df_wicket_margins['winner'].values)\n",
    "xlabels_wickets = xlabel1 +' vs ' + xlabel2 \n",
    "xlabels_wickets[1]+= '(2020)'\n",
    "xlabels_wickets[8]+='(2013)'"
   ]
  },
  {
   "cell_type": "code",
   "execution_count": 66,
   "metadata": {
    "id": "4xx4kFhtAnEV"
   },
   "outputs": [],
   "source": [
    "df_wicket_plot = df_wicket_margins\n",
    "df_wicket_plot['xlabel']= xlabels_wickets"
   ]
  },
  {
   "cell_type": "code",
   "execution_count": 67,
   "metadata": {
    "colab": {
     "base_uri": "https://localhost:8080/",
     "height": 617
    },
    "id": "pP3gGveaEQOY",
    "outputId": "2b059716-1271-4de6-ae37-9547518e61b2"
   },
   "outputs": [
    {
     "data": {
      "application/vnd.plotly.v1+json": {
       "config": {
        "plotlyServerURL": "https://plot.ly"
       },
       "data": [
        {
         "alignmentgroup": "True",
         "customdata": [
          [
           "Sunrisers Hyderabad",
           2020
          ],
          [
           "Chennai Super Kings",
           2020
          ],
          [
           "Mumbai Indians",
           2020
          ],
          [
           "Royal Challengers Bangalore",
           2018
          ],
          [
           "Kolkata Knight Riders",
           2017
          ],
          [
           "Kings XI Punjab",
           2017
          ],
          [
           "Sunrisers Hyderabad",
           2016
          ],
          [
           "Royal Challengers Bangalore",
           2015
          ],
          [
           "Chennai Super Kings",
           2013
          ],
          [
           "Mumbai Indians",
           2012
          ]
         ],
         "hovertemplate": "xlabel=%{x}<br>result_margin=%{y}<br>winner=%{customdata[0]}<br>season=%{marker.color}<extra></extra>",
         "legendgroup": "",
         "marker": {
          "color": [
           2020,
           2020,
           2020,
           2018,
           2017,
           2017,
           2016,
           2015,
           2013,
           2012
          ],
          "coloraxis": "coloraxis",
          "pattern": {
           "shape": ""
          }
         },
         "name": "",
         "offsetgroup": "",
         "orientation": "v",
         "showlegend": false,
         "textposition": "auto",
         "type": "bar",
         "x": [
          "Sunrisers Hyderabad vs Mumbai Indians",
          "Chennai Super Kings vs Kings XI Punjab(2020)",
          "Mumbai Indians vs Chennai Super Kings",
          "Royal Challengers Bangalore vs Kings XI Punjab",
          "Kolkata Knight Riders vs Gujarat Lions",
          "Kings XI Punjab vs Delhi Daredevils",
          "Sunrisers Hyderabad vs Gujarat Lions",
          "Royal Challengers Bangalore vs Delhi Daredevils",
          "Chennai Super Kings vs Kings XI Punjab(2013)",
          "Mumbai Indians vs Rajasthan Royals"
         ],
         "xaxis": "x",
         "y": [
          10,
          10,
          10,
          10,
          10,
          10,
          10,
          10,
          10,
          10
         ],
         "yaxis": "y"
        }
       ],
       "layout": {
        "barmode": "group",
        "coloraxis": {
         "colorbar": {
          "title": {
           "text": "season"
          }
         },
         "colorscale": [
          [
           0,
           "#0d0887"
          ],
          [
           0.1111111111111111,
           "#46039f"
          ],
          [
           0.2222222222222222,
           "#7201a8"
          ],
          [
           0.3333333333333333,
           "#9c179e"
          ],
          [
           0.4444444444444444,
           "#bd3786"
          ],
          [
           0.5555555555555556,
           "#d8576b"
          ],
          [
           0.6666666666666666,
           "#ed7953"
          ],
          [
           0.7777777777777778,
           "#fb9f3a"
          ],
          [
           0.8888888888888888,
           "#fdca26"
          ],
          [
           1,
           "#f0f921"
          ]
         ]
        },
        "height": 600,
        "legend": {
         "tracegroupgap": 0
        },
        "margin": {
         "t": 60
        },
        "template": {
         "data": {
          "bar": [
           {
            "error_x": {
             "color": "#2a3f5f"
            },
            "error_y": {
             "color": "#2a3f5f"
            },
            "marker": {
             "line": {
              "color": "#E5ECF6",
              "width": 0.5
             },
             "pattern": {
              "fillmode": "overlay",
              "size": 10,
              "solidity": 0.2
             }
            },
            "type": "bar"
           }
          ],
          "barpolar": [
           {
            "marker": {
             "line": {
              "color": "#E5ECF6",
              "width": 0.5
             },
             "pattern": {
              "fillmode": "overlay",
              "size": 10,
              "solidity": 0.2
             }
            },
            "type": "barpolar"
           }
          ],
          "carpet": [
           {
            "aaxis": {
             "endlinecolor": "#2a3f5f",
             "gridcolor": "white",
             "linecolor": "white",
             "minorgridcolor": "white",
             "startlinecolor": "#2a3f5f"
            },
            "baxis": {
             "endlinecolor": "#2a3f5f",
             "gridcolor": "white",
             "linecolor": "white",
             "minorgridcolor": "white",
             "startlinecolor": "#2a3f5f"
            },
            "type": "carpet"
           }
          ],
          "choropleth": [
           {
            "colorbar": {
             "outlinewidth": 0,
             "ticks": ""
            },
            "type": "choropleth"
           }
          ],
          "contour": [
           {
            "colorbar": {
             "outlinewidth": 0,
             "ticks": ""
            },
            "colorscale": [
             [
              0,
              "#0d0887"
             ],
             [
              0.1111111111111111,
              "#46039f"
             ],
             [
              0.2222222222222222,
              "#7201a8"
             ],
             [
              0.3333333333333333,
              "#9c179e"
             ],
             [
              0.4444444444444444,
              "#bd3786"
             ],
             [
              0.5555555555555556,
              "#d8576b"
             ],
             [
              0.6666666666666666,
              "#ed7953"
             ],
             [
              0.7777777777777778,
              "#fb9f3a"
             ],
             [
              0.8888888888888888,
              "#fdca26"
             ],
             [
              1,
              "#f0f921"
             ]
            ],
            "type": "contour"
           }
          ],
          "contourcarpet": [
           {
            "colorbar": {
             "outlinewidth": 0,
             "ticks": ""
            },
            "type": "contourcarpet"
           }
          ],
          "heatmap": [
           {
            "colorbar": {
             "outlinewidth": 0,
             "ticks": ""
            },
            "colorscale": [
             [
              0,
              "#0d0887"
             ],
             [
              0.1111111111111111,
              "#46039f"
             ],
             [
              0.2222222222222222,
              "#7201a8"
             ],
             [
              0.3333333333333333,
              "#9c179e"
             ],
             [
              0.4444444444444444,
              "#bd3786"
             ],
             [
              0.5555555555555556,
              "#d8576b"
             ],
             [
              0.6666666666666666,
              "#ed7953"
             ],
             [
              0.7777777777777778,
              "#fb9f3a"
             ],
             [
              0.8888888888888888,
              "#fdca26"
             ],
             [
              1,
              "#f0f921"
             ]
            ],
            "type": "heatmap"
           }
          ],
          "heatmapgl": [
           {
            "colorbar": {
             "outlinewidth": 0,
             "ticks": ""
            },
            "colorscale": [
             [
              0,
              "#0d0887"
             ],
             [
              0.1111111111111111,
              "#46039f"
             ],
             [
              0.2222222222222222,
              "#7201a8"
             ],
             [
              0.3333333333333333,
              "#9c179e"
             ],
             [
              0.4444444444444444,
              "#bd3786"
             ],
             [
              0.5555555555555556,
              "#d8576b"
             ],
             [
              0.6666666666666666,
              "#ed7953"
             ],
             [
              0.7777777777777778,
              "#fb9f3a"
             ],
             [
              0.8888888888888888,
              "#fdca26"
             ],
             [
              1,
              "#f0f921"
             ]
            ],
            "type": "heatmapgl"
           }
          ],
          "histogram": [
           {
            "marker": {
             "pattern": {
              "fillmode": "overlay",
              "size": 10,
              "solidity": 0.2
             }
            },
            "type": "histogram"
           }
          ],
          "histogram2d": [
           {
            "colorbar": {
             "outlinewidth": 0,
             "ticks": ""
            },
            "colorscale": [
             [
              0,
              "#0d0887"
             ],
             [
              0.1111111111111111,
              "#46039f"
             ],
             [
              0.2222222222222222,
              "#7201a8"
             ],
             [
              0.3333333333333333,
              "#9c179e"
             ],
             [
              0.4444444444444444,
              "#bd3786"
             ],
             [
              0.5555555555555556,
              "#d8576b"
             ],
             [
              0.6666666666666666,
              "#ed7953"
             ],
             [
              0.7777777777777778,
              "#fb9f3a"
             ],
             [
              0.8888888888888888,
              "#fdca26"
             ],
             [
              1,
              "#f0f921"
             ]
            ],
            "type": "histogram2d"
           }
          ],
          "histogram2dcontour": [
           {
            "colorbar": {
             "outlinewidth": 0,
             "ticks": ""
            },
            "colorscale": [
             [
              0,
              "#0d0887"
             ],
             [
              0.1111111111111111,
              "#46039f"
             ],
             [
              0.2222222222222222,
              "#7201a8"
             ],
             [
              0.3333333333333333,
              "#9c179e"
             ],
             [
              0.4444444444444444,
              "#bd3786"
             ],
             [
              0.5555555555555556,
              "#d8576b"
             ],
             [
              0.6666666666666666,
              "#ed7953"
             ],
             [
              0.7777777777777778,
              "#fb9f3a"
             ],
             [
              0.8888888888888888,
              "#fdca26"
             ],
             [
              1,
              "#f0f921"
             ]
            ],
            "type": "histogram2dcontour"
           }
          ],
          "mesh3d": [
           {
            "colorbar": {
             "outlinewidth": 0,
             "ticks": ""
            },
            "type": "mesh3d"
           }
          ],
          "parcoords": [
           {
            "line": {
             "colorbar": {
              "outlinewidth": 0,
              "ticks": ""
             }
            },
            "type": "parcoords"
           }
          ],
          "pie": [
           {
            "automargin": true,
            "type": "pie"
           }
          ],
          "scatter": [
           {
            "fillpattern": {
             "fillmode": "overlay",
             "size": 10,
             "solidity": 0.2
            },
            "type": "scatter"
           }
          ],
          "scatter3d": [
           {
            "line": {
             "colorbar": {
              "outlinewidth": 0,
              "ticks": ""
             }
            },
            "marker": {
             "colorbar": {
              "outlinewidth": 0,
              "ticks": ""
             }
            },
            "type": "scatter3d"
           }
          ],
          "scattercarpet": [
           {
            "marker": {
             "colorbar": {
              "outlinewidth": 0,
              "ticks": ""
             }
            },
            "type": "scattercarpet"
           }
          ],
          "scattergeo": [
           {
            "marker": {
             "colorbar": {
              "outlinewidth": 0,
              "ticks": ""
             }
            },
            "type": "scattergeo"
           }
          ],
          "scattergl": [
           {
            "marker": {
             "colorbar": {
              "outlinewidth": 0,
              "ticks": ""
             }
            },
            "type": "scattergl"
           }
          ],
          "scattermapbox": [
           {
            "marker": {
             "colorbar": {
              "outlinewidth": 0,
              "ticks": ""
             }
            },
            "type": "scattermapbox"
           }
          ],
          "scatterpolar": [
           {
            "marker": {
             "colorbar": {
              "outlinewidth": 0,
              "ticks": ""
             }
            },
            "type": "scatterpolar"
           }
          ],
          "scatterpolargl": [
           {
            "marker": {
             "colorbar": {
              "outlinewidth": 0,
              "ticks": ""
             }
            },
            "type": "scatterpolargl"
           }
          ],
          "scatterternary": [
           {
            "marker": {
             "colorbar": {
              "outlinewidth": 0,
              "ticks": ""
             }
            },
            "type": "scatterternary"
           }
          ],
          "surface": [
           {
            "colorbar": {
             "outlinewidth": 0,
             "ticks": ""
            },
            "colorscale": [
             [
              0,
              "#0d0887"
             ],
             [
              0.1111111111111111,
              "#46039f"
             ],
             [
              0.2222222222222222,
              "#7201a8"
             ],
             [
              0.3333333333333333,
              "#9c179e"
             ],
             [
              0.4444444444444444,
              "#bd3786"
             ],
             [
              0.5555555555555556,
              "#d8576b"
             ],
             [
              0.6666666666666666,
              "#ed7953"
             ],
             [
              0.7777777777777778,
              "#fb9f3a"
             ],
             [
              0.8888888888888888,
              "#fdca26"
             ],
             [
              1,
              "#f0f921"
             ]
            ],
            "type": "surface"
           }
          ],
          "table": [
           {
            "cells": {
             "fill": {
              "color": "#EBF0F8"
             },
             "line": {
              "color": "white"
             }
            },
            "header": {
             "fill": {
              "color": "#C8D4E3"
             },
             "line": {
              "color": "white"
             }
            },
            "type": "table"
           }
          ]
         },
         "layout": {
          "annotationdefaults": {
           "arrowcolor": "#2a3f5f",
           "arrowhead": 0,
           "arrowwidth": 1
          },
          "autotypenumbers": "strict",
          "coloraxis": {
           "colorbar": {
            "outlinewidth": 0,
            "ticks": ""
           }
          },
          "colorscale": {
           "diverging": [
            [
             0,
             "#8e0152"
            ],
            [
             0.1,
             "#c51b7d"
            ],
            [
             0.2,
             "#de77ae"
            ],
            [
             0.3,
             "#f1b6da"
            ],
            [
             0.4,
             "#fde0ef"
            ],
            [
             0.5,
             "#f7f7f7"
            ],
            [
             0.6,
             "#e6f5d0"
            ],
            [
             0.7,
             "#b8e186"
            ],
            [
             0.8,
             "#7fbc41"
            ],
            [
             0.9,
             "#4d9221"
            ],
            [
             1,
             "#276419"
            ]
           ],
           "sequential": [
            [
             0,
             "#0d0887"
            ],
            [
             0.1111111111111111,
             "#46039f"
            ],
            [
             0.2222222222222222,
             "#7201a8"
            ],
            [
             0.3333333333333333,
             "#9c179e"
            ],
            [
             0.4444444444444444,
             "#bd3786"
            ],
            [
             0.5555555555555556,
             "#d8576b"
            ],
            [
             0.6666666666666666,
             "#ed7953"
            ],
            [
             0.7777777777777778,
             "#fb9f3a"
            ],
            [
             0.8888888888888888,
             "#fdca26"
            ],
            [
             1,
             "#f0f921"
            ]
           ],
           "sequentialminus": [
            [
             0,
             "#0d0887"
            ],
            [
             0.1111111111111111,
             "#46039f"
            ],
            [
             0.2222222222222222,
             "#7201a8"
            ],
            [
             0.3333333333333333,
             "#9c179e"
            ],
            [
             0.4444444444444444,
             "#bd3786"
            ],
            [
             0.5555555555555556,
             "#d8576b"
            ],
            [
             0.6666666666666666,
             "#ed7953"
            ],
            [
             0.7777777777777778,
             "#fb9f3a"
            ],
            [
             0.8888888888888888,
             "#fdca26"
            ],
            [
             1,
             "#f0f921"
            ]
           ]
          },
          "colorway": [
           "#636efa",
           "#EF553B",
           "#00cc96",
           "#ab63fa",
           "#FFA15A",
           "#19d3f3",
           "#FF6692",
           "#B6E880",
           "#FF97FF",
           "#FECB52"
          ],
          "font": {
           "color": "#2a3f5f"
          },
          "geo": {
           "bgcolor": "white",
           "lakecolor": "white",
           "landcolor": "#E5ECF6",
           "showlakes": true,
           "showland": true,
           "subunitcolor": "white"
          },
          "hoverlabel": {
           "align": "left"
          },
          "hovermode": "closest",
          "mapbox": {
           "style": "light"
          },
          "paper_bgcolor": "white",
          "plot_bgcolor": "#E5ECF6",
          "polar": {
           "angularaxis": {
            "gridcolor": "white",
            "linecolor": "white",
            "ticks": ""
           },
           "bgcolor": "#E5ECF6",
           "radialaxis": {
            "gridcolor": "white",
            "linecolor": "white",
            "ticks": ""
           }
          },
          "scene": {
           "xaxis": {
            "backgroundcolor": "#E5ECF6",
            "gridcolor": "white",
            "gridwidth": 2,
            "linecolor": "white",
            "showbackground": true,
            "ticks": "",
            "zerolinecolor": "white"
           },
           "yaxis": {
            "backgroundcolor": "#E5ECF6",
            "gridcolor": "white",
            "gridwidth": 2,
            "linecolor": "white",
            "showbackground": true,
            "ticks": "",
            "zerolinecolor": "white"
           },
           "zaxis": {
            "backgroundcolor": "#E5ECF6",
            "gridcolor": "white",
            "gridwidth": 2,
            "linecolor": "white",
            "showbackground": true,
            "ticks": "",
            "zerolinecolor": "white"
           }
          },
          "shapedefaults": {
           "line": {
            "color": "#2a3f5f"
           }
          },
          "ternary": {
           "aaxis": {
            "gridcolor": "white",
            "linecolor": "white",
            "ticks": ""
           },
           "baxis": {
            "gridcolor": "white",
            "linecolor": "white",
            "ticks": ""
           },
           "bgcolor": "#E5ECF6",
           "caxis": {
            "gridcolor": "white",
            "linecolor": "white",
            "ticks": ""
           }
          },
          "title": {
           "x": 0.05
          },
          "xaxis": {
           "automargin": true,
           "gridcolor": "white",
           "linecolor": "white",
           "ticks": "",
           "title": {
            "standoff": 15
           },
           "zerolinecolor": "white",
           "zerolinewidth": 2
          },
          "yaxis": {
           "automargin": true,
           "gridcolor": "white",
           "linecolor": "white",
           "ticks": "",
           "title": {
            "standoff": 15
           },
           "zerolinecolor": "white",
           "zerolinewidth": 2
          }
         }
        },
        "xaxis": {
         "anchor": "y",
         "domain": [
          0,
          1
         ],
         "tickangle": 20,
         "title": {
          "text": "Teams"
         }
        },
        "yaxis": {
         "anchor": "x",
         "domain": [
          0,
          1
         ],
         "title": {
          "text": "Win Margin in Wickets"
         }
        }
       }
      }
     },
     "metadata": {},
     "output_type": "display_data"
    }
   ],
   "source": [
    " \n",
    "fig = px.bar(df_wicket_plot, x='xlabel', y='result_margin',\n",
    "             hover_data=['winner','season'], color='season',\n",
    "             height=600  )\n",
    "fig.update_layout(barmode='group',xaxis_tickangle=20,yaxis_title = 'Win Margin in Wickets',xaxis_title = 'Teams')\n",
    "\n",
    "fig.show()"
   ]
  },
  {
   "cell_type": "markdown",
   "metadata": {
    "id": "t21EA-ZgEQUL"
   },
   "source": [
    "## Rivalry between Teams"
   ]
  },
  {
   "cell_type": "code",
   "execution_count": 68,
   "metadata": {
    "colab": {
     "base_uri": "https://localhost:8080/",
     "height": 435
    },
    "id": "uDKX62WuEQZF",
    "outputId": "747311dd-d05e-4ab0-b4b6-f07f48d247e7"
   },
   "outputs": [
    {
     "data": {
      "image/png": "[encoded data removed]",
      "text/plain": [
       "<Figure size 1000x600 with 1 Axes>"
      ]
     },
     "metadata": {},
     "output_type": "display_data"
    }
   ],
   "source": [
    "def team1_vs_team2(team1,team2):\n",
    "    mt1=df_matches[((df_matches['team1']==team1)|(df_matches['team2']==team1))&((df_matches['team1']==team2)|(df_matches['team2']==team2))]\n",
    "    sns.countplot(x='season', hue='winner',data=mt1,palette= \"Set1\" )\n",
    "    plt.xticks(rotation='vertical')\n",
    "    leg = plt.legend( loc = 'upper center')\n",
    "    fig=plt.gcf()\n",
    "    fig.set_size_inches(10,6)\n",
    "    plt.show()\n",
    "team1_vs_team2('Mumbai Indians','Chennai Super Kings')"
   ]
  },
  {
   "cell_type": "code",
   "execution_count": 69,
   "metadata": {
    "colab": {
     "base_uri": "https://localhost:8080/",
     "height": 435
    },
    "id": "U9fWcyVaEwKB",
    "outputId": "5af9dae9-4234-44fb-eac6-02f8493243f3"
   },
   "outputs": [
    {
     "data": {
      "image/png": "[encoded data removed]",
      "text/plain": [
       "<Figure size 1000x600 with 1 Axes>"
      ]
     },
     "metadata": {},
     "output_type": "display_data"
    }
   ],
   "source": [
    "team1_vs_team2('Sunrisers Hyderabad','Kolkata Knight Riders')"
   ]
  },
  {
   "cell_type": "markdown",
   "metadata": {
    "id": "9dI_G34fUDTy"
   },
   "source": [
    "## Strike Rates in different overs"
   ]
  },
  {
   "cell_type": "code",
   "execution_count": 70,
   "metadata": {
    "id": "y17bvAmXMe4t"
   },
   "outputs": [],
   "source": [
    "import altair as alt"
   ]
  },
  {
   "cell_type": "code",
   "execution_count": 71,
   "metadata": {
    "id": "9AAsTxBjQTOP"
   },
   "outputs": [],
   "source": [
    "top_batsmen= df_balls['batsman'].value_counts().index[:25]"
   ]
  },
  {
   "cell_type": "code",
   "execution_count": 72,
   "metadata": {
    "id": "SSjLismnMfTm"
   },
   "outputs": [],
   "source": [
    "df_batsman_runs = df_balls.pivot_table(index = ['batsman','over'] ,aggfunc= ['count',\n",
    "'sum'], values= 'batsman_runs')"
   ]
  },
  {
   "cell_type": "code",
   "execution_count": 73,
   "metadata": {
    "id": "xvALKF2DNStr"
   },
   "outputs": [],
   "source": [
    "df_batsman_runs = df_batsman_runs.fillna(0).reset_index()"
   ]
  },
  {
   "cell_type": "code",
   "execution_count": 74,
   "metadata": {
    "id": "feQrS5wnRG3u"
   },
   "outputs": [],
   "source": [
    "df_batsman_runs.columns= ['batsman','over','balls','runs']\n",
    "df_batsman_runs['strike_rate']  = df_batsman_runs.runs/df_batsman_runs.balls*100.0"
   ]
  },
  {
   "cell_type": "code",
   "execution_count": 75,
   "metadata": {
    "colab": {
     "base_uri": "https://localhost:8080/",
     "height": 206
    },
    "id": "a04o6lgrTeiG",
    "outputId": "556b3d63-6dc3-4993-b75b-186ff31294c9"
   },
   "outputs": [
    {
     "data": {
      "text/html": [
       "<div>\n",
       "<style scoped>\n",
       "    .dataframe tbody tr th:only-of-type {\n",
       "        vertical-align: middle;\n",
       "    }\n",
       "\n",
       "    .dataframe tbody tr th {\n",
       "        vertical-align: top;\n",
       "    }\n",
       "\n",
       "    .dataframe thead th {\n",
       "        text-align: right;\n",
       "    }\n",
       "</style>\n",
       "<table border=\"1\" class=\"dataframe\">\n",
       "  <thead>\n",
       "    <tr style=\"text-align: right;\">\n",
       "      <th></th>\n",
       "      <th>batsman</th>\n",
       "      <th>over</th>\n",
       "      <th>balls</th>\n",
       "      <th>runs</th>\n",
       "      <th>strike_rate</th>\n",
       "    </tr>\n",
       "  </thead>\n",
       "  <tbody>\n",
       "    <tr>\n",
       "      <th>0</th>\n",
       "      <td>A Ashish Reddy</td>\n",
       "      <td>4</td>\n",
       "      <td>2</td>\n",
       "      <td>0</td>\n",
       "      <td>0.000000</td>\n",
       "    </tr>\n",
       "    <tr>\n",
       "      <th>1</th>\n",
       "      <td>A Ashish Reddy</td>\n",
       "      <td>5</td>\n",
       "      <td>5</td>\n",
       "      <td>5</td>\n",
       "      <td>100.000000</td>\n",
       "    </tr>\n",
       "    <tr>\n",
       "      <th>2</th>\n",
       "      <td>A Ashish Reddy</td>\n",
       "      <td>11</td>\n",
       "      <td>1</td>\n",
       "      <td>1</td>\n",
       "      <td>100.000000</td>\n",
       "    </tr>\n",
       "    <tr>\n",
       "      <th>3</th>\n",
       "      <td>A Ashish Reddy</td>\n",
       "      <td>12</td>\n",
       "      <td>9</td>\n",
       "      <td>9</td>\n",
       "      <td>100.000000</td>\n",
       "    </tr>\n",
       "    <tr>\n",
       "      <th>4</th>\n",
       "      <td>A Ashish Reddy</td>\n",
       "      <td>13</td>\n",
       "      <td>15</td>\n",
       "      <td>22</td>\n",
       "      <td>146.666667</td>\n",
       "    </tr>\n",
       "  </tbody>\n",
       "</table>\n",
       "</div>"
      ],
      "text/plain": [
       "          batsman  over  balls  runs  strike_rate\n",
       "0  A Ashish Reddy     4      2     0     0.000000\n",
       "1  A Ashish Reddy     5      5     5   100.000000\n",
       "2  A Ashish Reddy    11      1     1   100.000000\n",
       "3  A Ashish Reddy    12      9     9   100.000000\n",
       "4  A Ashish Reddy    13     15    22   146.666667"
      ]
     },
     "execution_count": 75,
     "metadata": {},
     "output_type": "execute_result"
    }
   ],
   "source": [
    "df_batsman_runs.head()"
   ]
  },
  {
   "cell_type": "code",
   "execution_count": 76,
   "metadata": {
    "colab": {
     "base_uri": "https://localhost:8080/",
     "height": 666
    },
    "id": "bDWGoFapMfyE",
    "outputId": "0b5cdd79-adbb-49a0-dbef-d529d9508a08"
   },
   "outputs": [
    {
     "data": {
      "text/html": [
       "\n",
       "<style>\n",
       "  #altair-viz-cdcc18e10c0a449ca99a2592add0534f.vega-embed {\n",
       "    width: 100%;\n",
       "    display: flex;\n",
       "  }\n",
       "\n",
       "  #altair-viz-cdcc18e10c0a449ca99a2592add0534f.vega-embed details,\n",
       "  #altair-viz-cdcc18e10c0a449ca99a2592add0534f.vega-embed details summary {\n",
       "    position: relative;\n",
       "  }\n",
       "</style>\n",
       "<div id=\"altair-viz-cdcc18e10c0a449ca99a2592add0534f\"></div>\n",
       "<script type=\"text/javascript\">\n",
       "  var VEGA_DEBUG = (typeof VEGA_DEBUG == \"undefined\") ? {} : VEGA_DEBUG;\n",
       "  (function(spec, embedOpt){\n",
       "    let outputDiv = document.currentScript.previousElementSibling;\n",
       "    if (outputDiv.id !== \"altair-viz-cdcc18e10c0a449ca99a2592add0534f\") {\n",
       "      outputDiv = document.getElementById(\"altair-viz-cdcc18e10c0a449ca99a2592add0534f\");\n",
       "    }\n",
       "    const paths = {\n",
       "      \"vega\": \"https://cdn.jsdelivr.net/npm/vega@5?noext\",\n",
       "      \"vega-lib\": \"https://cdn.jsdelivr.net/npm/vega-lib?noext\",\n",
       "      \"vega-lite\": \"https://cdn.jsdelivr.net/npm/vega-lite@5.8.0?noext\",\n",
       "      \"vega-embed\": \"https://cdn.jsdelivr.net/npm/vega-embed@6?noext\",\n",
       "    };\n",
       "\n",
       "    function maybeLoadScript(lib, version) {\n",
       "      var key = `${lib.replace(\"-\", \"\")}_version`;\n",
       "      return (VEGA_DEBUG[key] == version) ?\n",
       "        Promise.resolve(paths[lib]) :\n",
       "        new Promise(function(resolve, reject) {\n",
       "          var s = document.createElement('script');\n",
       "          document.getElementsByTagName(\"head\")[0].appendChild(s);\n",
       "          s.async = true;\n",
       "          s.onload = () => {\n",
       "            VEGA_DEBUG[key] = version;\n",
       "            return resolve(paths[lib]);\n",
       "          };\n",
       "          s.onerror = () => reject(`Error loading script: ${paths[lib]}`);\n",
       "          s.src = paths[lib];\n",
       "        });\n",
       "    }\n",
       "\n",
       "    function showError(err) {\n",
       "      outputDiv.innerHTML = `<div class=\"error\" style=\"color:red;\">${err}</div>`;\n",
       "      throw err;\n",
       "    }\n",
       "\n",
       "    function displayChart(vegaEmbed) {\n",
       "      vegaEmbed(outputDiv, spec, embedOpt)\n",
       "        .catch(err => showError(`Javascript Error: ${err.message}<br>This usually means there's a typo in your chart specification. See the javascript console for the full traceback.`));\n",
       "    }\n",
       "\n",
       "    if(typeof define === \"function\" && define.amd) {\n",
       "      requirejs.config({paths});\n",
       "      require([\"vega-embed\"], displayChart, err => showError(`Error loading script: ${err.message}`));\n",
       "    } else {\n",
       "      maybeLoadScript(\"vega\", \"5\")\n",
       "        .then(() => maybeLoadScript(\"vega-lite\", \"5.8.0\"))\n",
       "        .then(() => maybeLoadScript(\"vega-embed\", \"6\"))\n",
       "        .catch(showError)\n",
       "        .then(() => displayChart(vegaEmbed));\n",
       "    }\n",
       "  })({\"config\": {\"view\": {\"continuousWidth\": 300, \"continuousHeight\": 300}}, \"data\": {\"name\": \"data-d30e5824c5c3b377052a87632bd6fc5c\"}, \"mark\": {\"type\": \"point\", \"shape\": \"circle\"}, \"encoding\": {\"color\": {\"field\": \"batsman\", \"type\": \"nominal\"}, \"opacity\": {\"field\": \"runs\", \"type\": \"quantitative\"}, \"size\": {\"field\": \"balls\", \"type\": \"quantitative\"}, \"text\": {\"field\": \"batsman\", \"type\": \"nominal\"}, \"tooltip\": [{\"field\": \"batsman\", \"type\": \"nominal\"}, {\"field\": \"over\", \"type\": \"quantitative\"}, {\"field\": \"balls\", \"type\": \"quantitative\"}, {\"field\": \"runs\", \"type\": \"quantitative\"}, {\"field\": \"strike_rate\", \"type\": \"quantitative\"}], \"x\": {\"field\": \"over\", \"type\": \"quantitative\"}, \"y\": {\"aggregate\": \"mean\", \"field\": \"strike_rate\", \"type\": \"quantitative\"}}, \"height\": 500, \"width\": 600, \"$schema\": \"https://vega.github.io/schema/vega-lite/v5.8.0.json\", \"datasets\": {\"data-d30e5824c5c3b377052a87632bd6fc5c\": [{\"batsman\": \"AB de Villiers\", \"over\": 0, \"balls\": 17, \"runs\": 22, \"strike_rate\": 129.41176470588235}, {\"batsman\": \"AB de Villiers\", \"over\": 1, \"balls\": 40, \"runs\": 40, \"strike_rate\": 100.0}, {\"batsman\": \"AB de Villiers\", \"over\": 2, \"balls\": 73, \"runs\": 59, \"strike_rate\": 80.82191780821918}, {\"batsman\": \"AB de Villiers\", \"over\": 3, \"balls\": 121, \"runs\": 135, \"strike_rate\": 111.5702479338843}, {\"batsman\": \"AB de Villiers\", \"over\": 4, \"balls\": 181, \"runs\": 233, \"strike_rate\": 128.7292817679558}, {\"batsman\": \"AB de Villiers\", \"over\": 5, \"balls\": 177, \"runs\": 227, \"strike_rate\": 128.24858757062148}, {\"batsman\": \"AB de Villiers\", \"over\": 6, \"balls\": 186, \"runs\": 206, \"strike_rate\": 110.75268817204301}, {\"batsman\": \"AB de Villiers\", \"over\": 7, \"balls\": 193, \"runs\": 210, \"strike_rate\": 108.80829015544042}, {\"batsman\": \"AB de Villiers\", \"over\": 8, \"balls\": 214, \"runs\": 253, \"strike_rate\": 118.22429906542055}, {\"batsman\": \"AB de Villiers\", \"over\": 9, \"balls\": 221, \"runs\": 289, \"strike_rate\": 130.76923076923077}, {\"batsman\": \"AB de Villiers\", \"over\": 10, \"balls\": 236, \"runs\": 306, \"strike_rate\": 129.66101694915255}, {\"batsman\": \"AB de Villiers\", \"over\": 11, \"balls\": 232, \"runs\": 311, \"strike_rate\": 134.05172413793102}, {\"batsman\": \"AB de Villiers\", \"over\": 12, \"balls\": 218, \"runs\": 301, \"strike_rate\": 138.07339449541286}, {\"batsman\": \"AB de Villiers\", \"over\": 13, \"balls\": 194, \"runs\": 288, \"strike_rate\": 148.4536082474227}, {\"batsman\": \"AB de Villiers\", \"over\": 14, \"balls\": 191, \"runs\": 307, \"strike_rate\": 160.7329842931937}, {\"batsman\": \"AB de Villiers\", \"over\": 15, \"balls\": 212, \"runs\": 408, \"strike_rate\": 192.45283018867926}, {\"batsman\": \"AB de Villiers\", \"over\": 16, \"balls\": 188, \"runs\": 346, \"strike_rate\": 184.04255319148936}, {\"batsman\": \"AB de Villiers\", \"over\": 17, \"balls\": 156, \"runs\": 361, \"strike_rate\": 231.41025641025644}, {\"batsman\": \"AB de Villiers\", \"over\": 18, \"balls\": 143, \"runs\": 373, \"strike_rate\": 260.83916083916085}, {\"batsman\": \"AB de Villiers\", \"over\": 19, \"balls\": 71, \"runs\": 174, \"strike_rate\": 245.07042253521126}, {\"batsman\": \"AM Rahane\", \"over\": 0, \"balls\": 397, \"runs\": 314, \"strike_rate\": 79.09319899244332}, {\"batsman\": \"AM Rahane\", \"over\": 1, \"balls\": 305, \"runs\": 316, \"strike_rate\": 103.60655737704919}, {\"batsman\": \"AM Rahane\", \"over\": 2, \"balls\": 301, \"runs\": 339, \"strike_rate\": 112.62458471760797}, {\"batsman\": \"AM Rahane\", \"over\": 3, \"balls\": 286, \"runs\": 376, \"strike_rate\": 131.46853146853147}, {\"batsman\": \"AM Rahane\", \"over\": 4, \"balls\": 238, \"runs\": 339, \"strike_rate\": 142.43697478991598}, {\"batsman\": \"AM Rahane\", \"over\": 5, \"balls\": 203, \"runs\": 265, \"strike_rate\": 130.54187192118226}, {\"batsman\": \"AM Rahane\", \"over\": 6, \"balls\": 206, \"runs\": 203, \"strike_rate\": 98.54368932038835}, {\"batsman\": \"AM Rahane\", \"over\": 7, \"balls\": 154, \"runs\": 162, \"strike_rate\": 105.1948051948052}, {\"batsman\": \"AM Rahane\", \"over\": 8, \"balls\": 152, \"runs\": 155, \"strike_rate\": 101.9736842105263}, {\"batsman\": \"AM Rahane\", \"over\": 9, \"balls\": 146, \"runs\": 188, \"strike_rate\": 128.76712328767124}, {\"batsman\": \"AM Rahane\", \"over\": 10, \"balls\": 154, \"runs\": 169, \"strike_rate\": 109.74025974025975}, {\"batsman\": \"AM Rahane\", \"over\": 11, \"balls\": 129, \"runs\": 166, \"strike_rate\": 128.68217054263567}, {\"batsman\": \"AM Rahane\", \"over\": 12, \"balls\": 133, \"runs\": 168, \"strike_rate\": 126.3157894736842}, {\"batsman\": \"AM Rahane\", \"over\": 13, \"balls\": 122, \"runs\": 184, \"strike_rate\": 150.81967213114754}, {\"batsman\": \"AM Rahane\", \"over\": 14, \"balls\": 81, \"runs\": 114, \"strike_rate\": 140.74074074074073}, {\"batsman\": \"AM Rahane\", \"over\": 15, \"balls\": 88, \"runs\": 122, \"strike_rate\": 138.63636363636365}, {\"batsman\": \"AM Rahane\", \"over\": 16, \"balls\": 85, \"runs\": 134, \"strike_rate\": 157.64705882352942}, {\"batsman\": \"AM Rahane\", \"over\": 17, \"balls\": 70, \"runs\": 116, \"strike_rate\": 165.71428571428572}, {\"batsman\": \"AM Rahane\", \"over\": 18, \"balls\": 43, \"runs\": 45, \"strike_rate\": 104.65116279069768}, {\"batsman\": \"AM Rahane\", \"over\": 19, \"balls\": 32, \"runs\": 58, \"strike_rate\": 181.25}, {\"batsman\": \"AT Rayudu\", \"over\": 0, \"balls\": 29, \"runs\": 33, \"strike_rate\": 113.79310344827587}, {\"batsman\": \"AT Rayudu\", \"over\": 1, \"balls\": 73, \"runs\": 58, \"strike_rate\": 79.45205479452055}, {\"batsman\": \"AT Rayudu\", \"over\": 2, \"balls\": 99, \"runs\": 95, \"strike_rate\": 95.95959595959596}, {\"batsman\": \"AT Rayudu\", \"over\": 3, \"balls\": 143, \"runs\": 147, \"strike_rate\": 102.79720279720279}, {\"batsman\": \"AT Rayudu\", \"over\": 4, \"balls\": 177, \"runs\": 187, \"strike_rate\": 105.64971751412429}, {\"batsman\": \"AT Rayudu\", \"over\": 5, \"balls\": 175, \"runs\": 218, \"strike_rate\": 124.57142857142858}, {\"batsman\": \"AT Rayudu\", \"over\": 6, \"balls\": 174, \"runs\": 171, \"strike_rate\": 98.27586206896551}, {\"batsman\": \"AT Rayudu\", \"over\": 7, \"balls\": 181, \"runs\": 160, \"strike_rate\": 88.39779005524862}, {\"batsman\": \"AT Rayudu\", \"over\": 8, \"balls\": 184, \"runs\": 206, \"strike_rate\": 111.95652173913044}, {\"batsman\": \"AT Rayudu\", \"over\": 9, \"balls\": 175, \"runs\": 198, \"strike_rate\": 113.14285714285714}, {\"batsman\": \"AT Rayudu\", \"over\": 10, \"balls\": 210, \"runs\": 245, \"strike_rate\": 116.66666666666667}, {\"batsman\": \"AT Rayudu\", \"over\": 11, \"balls\": 194, \"runs\": 263, \"strike_rate\": 135.56701030927834}, {\"batsman\": \"AT Rayudu\", \"over\": 12, \"balls\": 194, \"runs\": 234, \"strike_rate\": 120.61855670103093}, {\"batsman\": \"AT Rayudu\", \"over\": 13, \"balls\": 180, \"runs\": 244, \"strike_rate\": 135.55555555555557}, {\"batsman\": \"AT Rayudu\", \"over\": 14, \"balls\": 201, \"runs\": 270, \"strike_rate\": 134.32835820895522}, {\"batsman\": \"AT Rayudu\", \"over\": 15, \"balls\": 147, \"runs\": 221, \"strike_rate\": 150.34013605442175}, {\"batsman\": \"AT Rayudu\", \"over\": 16, \"balls\": 137, \"runs\": 205, \"strike_rate\": 149.63503649635038}, {\"batsman\": \"AT Rayudu\", \"over\": 17, \"balls\": 131, \"runs\": 218, \"strike_rate\": 166.41221374045801}, {\"batsman\": \"AT Rayudu\", \"over\": 18, \"balls\": 115, \"runs\": 214, \"strike_rate\": 186.08695652173913}, {\"batsman\": \"AT Rayudu\", \"over\": 19, \"balls\": 51, \"runs\": 72, \"strike_rate\": 141.1764705882353}, {\"batsman\": \"BB McCullum\", \"over\": 0, \"balls\": 255, \"runs\": 258, \"strike_rate\": 101.17647058823529}, {\"batsman\": \"BB McCullum\", \"over\": 1, \"balls\": 263, \"runs\": 258, \"strike_rate\": 98.09885931558935}, {\"batsman\": \"BB McCullum\", \"over\": 2, \"balls\": 235, \"runs\": 319, \"strike_rate\": 135.74468085106383}, {\"batsman\": \"BB McCullum\", \"over\": 3, \"balls\": 177, \"runs\": 241, \"strike_rate\": 136.1581920903955}, {\"batsman\": \"BB McCullum\", \"over\": 4, \"balls\": 182, \"runs\": 234, \"strike_rate\": 128.57142857142858}, {\"batsman\": \"BB McCullum\", \"over\": 5, \"balls\": 161, \"runs\": 245, \"strike_rate\": 152.17391304347828}, {\"batsman\": \"BB McCullum\", \"over\": 6, \"balls\": 157, \"runs\": 189, \"strike_rate\": 120.38216560509554}, {\"batsman\": \"BB McCullum\", \"over\": 7, \"balls\": 142, \"runs\": 185, \"strike_rate\": 130.2816901408451}, {\"batsman\": \"BB McCullum\", \"over\": 8, \"balls\": 134, \"runs\": 155, \"strike_rate\": 115.67164179104476}, {\"batsman\": \"BB McCullum\", \"over\": 9, \"balls\": 116, \"runs\": 148, \"strike_rate\": 127.58620689655173}, {\"batsman\": \"BB McCullum\", \"over\": 10, \"balls\": 98, \"runs\": 112, \"strike_rate\": 114.28571428571428}, {\"batsman\": \"BB McCullum\", \"over\": 11, \"balls\": 86, \"runs\": 128, \"strike_rate\": 148.8372093023256}, {\"batsman\": \"BB McCullum\", \"over\": 12, \"balls\": 72, \"runs\": 99, \"strike_rate\": 137.5}, {\"batsman\": \"BB McCullum\", \"over\": 13, \"balls\": 58, \"runs\": 89, \"strike_rate\": 153.44827586206898}, {\"batsman\": \"BB McCullum\", \"over\": 14, \"balls\": 31, \"runs\": 39, \"strike_rate\": 125.80645161290323}, {\"batsman\": \"BB McCullum\", \"over\": 15, \"balls\": 22, \"runs\": 23, \"strike_rate\": 104.54545454545455}, {\"batsman\": \"BB McCullum\", \"over\": 16, \"balls\": 28, \"runs\": 55, \"strike_rate\": 196.42857142857142}, {\"batsman\": \"BB McCullum\", \"over\": 17, \"balls\": 17, \"runs\": 21, \"strike_rate\": 123.52941176470588}, {\"batsman\": \"BB McCullum\", \"over\": 18, \"balls\": 17, \"runs\": 38, \"strike_rate\": 223.52941176470588}, {\"batsman\": \"BB McCullum\", \"over\": 19, \"balls\": 16, \"runs\": 44, \"strike_rate\": 275.0}, {\"batsman\": \"CH Gayle\", \"over\": 0, \"balls\": 382, \"runs\": 321, \"strike_rate\": 84.03141361256544}, {\"batsman\": \"CH Gayle\", \"over\": 1, \"balls\": 356, \"runs\": 376, \"strike_rate\": 105.61797752808988}, {\"batsman\": \"CH Gayle\", \"over\": 2, \"balls\": 311, \"runs\": 462, \"strike_rate\": 148.55305466237942}, {\"batsman\": \"CH Gayle\", \"over\": 3, \"balls\": 260, \"runs\": 416, \"strike_rate\": 160.0}, {\"batsman\": \"CH Gayle\", \"over\": 4, \"balls\": 254, \"runs\": 428, \"strike_rate\": 168.50393700787401}, {\"batsman\": \"CH Gayle\", \"over\": 5, \"balls\": 217, \"runs\": 302, \"strike_rate\": 139.1705069124424}, {\"batsman\": \"CH Gayle\", \"over\": 6, \"balls\": 199, \"runs\": 236, \"strike_rate\": 118.5929648241206}, {\"batsman\": \"CH Gayle\", \"over\": 7, \"balls\": 166, \"runs\": 259, \"strike_rate\": 156.02409638554218}, {\"batsman\": \"CH Gayle\", \"over\": 8, \"balls\": 168, \"runs\": 254, \"strike_rate\": 151.19047619047618}, {\"batsman\": \"CH Gayle\", \"over\": 9, \"balls\": 153, \"runs\": 168, \"strike_rate\": 109.80392156862746}, {\"batsman\": \"CH Gayle\", \"over\": 10, \"balls\": 152, \"runs\": 230, \"strike_rate\": 151.3157894736842}, {\"batsman\": \"CH Gayle\", \"over\": 11, \"balls\": 127, \"runs\": 194, \"strike_rate\": 152.75590551181102}, {\"batsman\": \"CH Gayle\", \"over\": 12, \"balls\": 129, \"runs\": 239, \"strike_rate\": 185.27131782945736}, {\"batsman\": \"CH Gayle\", \"over\": 13, \"balls\": 100, \"runs\": 182, \"strike_rate\": 182.0}, {\"batsman\": \"CH Gayle\", \"over\": 14, \"balls\": 80, \"runs\": 149, \"strike_rate\": 186.25}, {\"batsman\": \"CH Gayle\", \"over\": 15, \"balls\": 88, \"runs\": 171, \"strike_rate\": 194.3181818181818}, {\"batsman\": \"CH Gayle\", \"over\": 16, \"balls\": 73, \"runs\": 120, \"strike_rate\": 164.3835616438356}, {\"batsman\": \"CH Gayle\", \"over\": 17, \"balls\": 63, \"runs\": 141, \"strike_rate\": 223.80952380952382}, {\"batsman\": \"CH Gayle\", \"over\": 18, \"balls\": 35, \"runs\": 71, \"strike_rate\": 202.85714285714283}, {\"batsman\": \"CH Gayle\", \"over\": 19, \"balls\": 29, \"runs\": 53, \"strike_rate\": 182.75862068965517}, {\"batsman\": \"DA Warner\", \"over\": 0, \"balls\": 442, \"runs\": 389, \"strike_rate\": 88.00904977375565}, {\"batsman\": \"DA Warner\", \"over\": 1, \"balls\": 360, \"runs\": 451, \"strike_rate\": 125.27777777777777}, {\"batsman\": \"DA Warner\", \"over\": 2, \"balls\": 301, \"runs\": 435, \"strike_rate\": 144.51827242524917}, {\"batsman\": \"DA Warner\", \"over\": 3, \"balls\": 290, \"runs\": 392, \"strike_rate\": 135.17241379310346}, {\"batsman\": \"DA Warner\", \"over\": 4, \"balls\": 275, \"runs\": 466, \"strike_rate\": 169.45454545454547}, {\"batsman\": \"DA Warner\", \"over\": 5, \"balls\": 274, \"runs\": 439, \"strike_rate\": 160.2189781021898}, {\"batsman\": \"DA Warner\", \"over\": 6, \"balls\": 227, \"runs\": 257, \"strike_rate\": 113.215859030837}, {\"batsman\": \"DA Warner\", \"over\": 7, \"balls\": 218, \"runs\": 277, \"strike_rate\": 127.06422018348624}, {\"batsman\": \"DA Warner\", \"over\": 8, \"balls\": 223, \"runs\": 322, \"strike_rate\": 144.39461883408072}, {\"batsman\": \"DA Warner\", \"over\": 9, \"balls\": 200, \"runs\": 260, \"strike_rate\": 130.0}, {\"batsman\": \"DA Warner\", \"over\": 10, \"balls\": 167, \"runs\": 240, \"strike_rate\": 143.7125748502994}, {\"batsman\": \"DA Warner\", \"over\": 11, \"balls\": 151, \"runs\": 211, \"strike_rate\": 139.73509933774835}, {\"batsman\": \"DA Warner\", \"over\": 12, \"balls\": 141, \"runs\": 190, \"strike_rate\": 134.75177304964538}, {\"batsman\": \"DA Warner\", \"over\": 13, \"balls\": 122, \"runs\": 175, \"strike_rate\": 143.44262295081967}, {\"batsman\": \"DA Warner\", \"over\": 14, \"balls\": 129, \"runs\": 197, \"strike_rate\": 152.71317829457365}, {\"batsman\": \"DA Warner\", \"over\": 15, \"balls\": 105, \"runs\": 183, \"strike_rate\": 174.28571428571428}, {\"batsman\": \"DA Warner\", \"over\": 16, \"balls\": 79, \"runs\": 127, \"strike_rate\": 160.75949367088606}, {\"batsman\": \"DA Warner\", \"over\": 17, \"balls\": 47, \"runs\": 88, \"strike_rate\": 187.2340425531915}, {\"batsman\": \"DA Warner\", \"over\": 18, \"balls\": 40, \"runs\": 101, \"strike_rate\": 252.5}, {\"batsman\": \"DA Warner\", \"over\": 19, \"balls\": 28, \"runs\": 54, \"strike_rate\": 192.85714285714286}, {\"batsman\": \"G Gambhir\", \"over\": 0, \"balls\": 342, \"runs\": 295, \"strike_rate\": 86.25730994152046}, {\"batsman\": \"G Gambhir\", \"over\": 1, \"balls\": 375, \"runs\": 429, \"strike_rate\": 114.39999999999999}, {\"batsman\": \"G Gambhir\", \"over\": 2, \"balls\": 335, \"runs\": 392, \"strike_rate\": 117.01492537313433}, {\"batsman\": \"G Gambhir\", \"over\": 3, \"balls\": 324, \"runs\": 397, \"strike_rate\": 122.53086419753086}, {\"batsman\": \"G Gambhir\", \"over\": 4, \"balls\": 308, \"runs\": 448, \"strike_rate\": 145.45454545454547}, {\"batsman\": \"G Gambhir\", \"over\": 5, \"balls\": 261, \"runs\": 316, \"strike_rate\": 121.0727969348659}, {\"batsman\": \"G Gambhir\", \"over\": 6, \"balls\": 231, \"runs\": 262, \"strike_rate\": 113.41991341991343}, {\"batsman\": \"G Gambhir\", \"over\": 7, \"balls\": 196, \"runs\": 200, \"strike_rate\": 102.04081632653062}, {\"batsman\": \"G Gambhir\", \"over\": 8, \"balls\": 176, \"runs\": 187, \"strike_rate\": 106.25}, {\"batsman\": \"G Gambhir\", \"over\": 9, \"balls\": 169, \"runs\": 228, \"strike_rate\": 134.9112426035503}, {\"batsman\": \"G Gambhir\", \"over\": 10, \"balls\": 149, \"runs\": 179, \"strike_rate\": 120.13422818791946}, {\"batsman\": \"G Gambhir\", \"over\": 11, \"balls\": 138, \"runs\": 155, \"strike_rate\": 112.31884057971016}, {\"batsman\": \"G Gambhir\", \"over\": 12, \"balls\": 119, \"runs\": 161, \"strike_rate\": 135.29411764705884}, {\"batsman\": \"G Gambhir\", \"over\": 13, \"balls\": 116, \"runs\": 170, \"strike_rate\": 146.55172413793102}, {\"batsman\": \"G Gambhir\", \"over\": 14, \"balls\": 92, \"runs\": 128, \"strike_rate\": 139.1304347826087}, {\"batsman\": \"G Gambhir\", \"over\": 15, \"balls\": 66, \"runs\": 98, \"strike_rate\": 148.4848484848485}, {\"batsman\": \"G Gambhir\", \"over\": 16, \"balls\": 67, \"runs\": 87, \"strike_rate\": 129.8507462686567}, {\"batsman\": \"G Gambhir\", \"over\": 17, \"balls\": 43, \"runs\": 64, \"strike_rate\": 148.8372093023256}, {\"batsman\": \"G Gambhir\", \"over\": 18, \"balls\": 16, \"runs\": 21, \"strike_rate\": 131.25}, {\"batsman\": \"G Gambhir\", \"over\": 19, \"balls\": 1, \"runs\": 0, \"strike_rate\": 0.0}, {\"batsman\": \"JH Kallis\", \"over\": 0, \"balls\": 183, \"runs\": 147, \"strike_rate\": 80.32786885245902}, {\"batsman\": \"JH Kallis\", \"over\": 1, \"balls\": 218, \"runs\": 215, \"strike_rate\": 98.62385321100918}, {\"batsman\": \"JH Kallis\", \"over\": 2, \"balls\": 172, \"runs\": 179, \"strike_rate\": 104.06976744186048}, {\"batsman\": \"JH Kallis\", \"over\": 3, \"balls\": 176, \"runs\": 195, \"strike_rate\": 110.79545454545455}, {\"batsman\": \"JH Kallis\", \"over\": 4, \"balls\": 155, \"runs\": 165, \"strike_rate\": 106.4516129032258}, {\"batsman\": \"JH Kallis\", \"over\": 5, \"balls\": 120, \"runs\": 135, \"strike_rate\": 112.5}, {\"batsman\": \"JH Kallis\", \"over\": 6, \"balls\": 146, \"runs\": 121, \"strike_rate\": 82.87671232876713}, {\"batsman\": \"JH Kallis\", \"over\": 7, \"balls\": 142, \"runs\": 110, \"strike_rate\": 77.46478873239437}, {\"batsman\": \"JH Kallis\", \"over\": 8, \"balls\": 133, \"runs\": 117, \"strike_rate\": 87.96992481203007}, {\"batsman\": \"JH Kallis\", \"over\": 9, \"balls\": 133, \"runs\": 148, \"strike_rate\": 111.27819548872179}, {\"batsman\": \"JH Kallis\", \"over\": 10, \"balls\": 114, \"runs\": 102, \"strike_rate\": 89.47368421052632}, {\"batsman\": \"JH Kallis\", \"over\": 11, \"balls\": 109, \"runs\": 123, \"strike_rate\": 112.8440366972477}, {\"batsman\": \"JH Kallis\", \"over\": 12, \"balls\": 97, \"runs\": 106, \"strike_rate\": 109.27835051546391}, {\"batsman\": \"JH Kallis\", \"over\": 13, \"balls\": 80, \"runs\": 83, \"strike_rate\": 103.75000000000001}, {\"batsman\": \"JH Kallis\", \"over\": 14, \"balls\": 82, \"runs\": 87, \"strike_rate\": 106.09756097560977}, {\"batsman\": \"JH Kallis\", \"over\": 15, \"balls\": 72, \"runs\": 91, \"strike_rate\": 126.38888888888889}, {\"batsman\": \"JH Kallis\", \"over\": 16, \"balls\": 55, \"runs\": 97, \"strike_rate\": 176.36363636363637}, {\"batsman\": \"JH Kallis\", \"over\": 17, \"balls\": 54, \"runs\": 125, \"strike_rate\": 231.4814814814815}, {\"batsman\": \"JH Kallis\", \"over\": 18, \"balls\": 36, \"runs\": 53, \"strike_rate\": 147.22222222222223}, {\"batsman\": \"JH Kallis\", \"over\": 19, \"balls\": 14, \"runs\": 28, \"strike_rate\": 200.0}, {\"batsman\": \"KA Pollard\", \"over\": 2, \"balls\": 1, \"runs\": 0, \"strike_rate\": 0.0}, {\"batsman\": \"KA Pollard\", \"over\": 3, \"balls\": 9, \"runs\": 2, \"strike_rate\": 22.22222222222222}, {\"batsman\": \"KA Pollard\", \"over\": 4, \"balls\": 7, \"runs\": 10, \"strike_rate\": 142.85714285714286}, {\"batsman\": \"KA Pollard\", \"over\": 5, \"balls\": 23, \"runs\": 16, \"strike_rate\": 69.56521739130434}, {\"batsman\": \"KA Pollard\", \"over\": 6, \"balls\": 41, \"runs\": 29, \"strike_rate\": 70.73170731707317}, {\"batsman\": \"KA Pollard\", \"over\": 7, \"balls\": 43, \"runs\": 38, \"strike_rate\": 88.37209302325581}, {\"batsman\": \"KA Pollard\", \"over\": 8, \"balls\": 51, \"runs\": 42, \"strike_rate\": 82.35294117647058}, {\"batsman\": \"KA Pollard\", \"over\": 9, \"balls\": 69, \"runs\": 71, \"strike_rate\": 102.89855072463767}, {\"batsman\": \"KA Pollard\", \"over\": 10, \"balls\": 91, \"runs\": 109, \"strike_rate\": 119.78021978021978}, {\"batsman\": \"KA Pollard\", \"over\": 11, \"balls\": 110, \"runs\": 111, \"strike_rate\": 100.9090909090909}, {\"batsman\": \"KA Pollard\", \"over\": 12, \"balls\": 172, \"runs\": 204, \"strike_rate\": 118.6046511627907}, {\"batsman\": \"KA Pollard\", \"over\": 13, \"balls\": 198, \"runs\": 278, \"strike_rate\": 140.4040404040404}, {\"batsman\": \"KA Pollard\", \"over\": 14, \"balls\": 215, \"runs\": 331, \"strike_rate\": 153.953488372093}, {\"batsman\": \"KA Pollard\", \"over\": 15, \"balls\": 235, \"runs\": 295, \"strike_rate\": 125.53191489361701}, {\"batsman\": \"KA Pollard\", \"over\": 16, \"balls\": 256, \"runs\": 432, \"strike_rate\": 168.75}, {\"batsman\": \"KA Pollard\", \"over\": 17, \"balls\": 236, \"runs\": 377, \"strike_rate\": 159.74576271186442}, {\"batsman\": \"KA Pollard\", \"over\": 18, \"balls\": 189, \"runs\": 336, \"strike_rate\": 177.77777777777777}, {\"batsman\": \"KA Pollard\", \"over\": 19, \"balls\": 161, \"runs\": 342, \"strike_rate\": 212.42236024844718}, {\"batsman\": \"KD Karthik\", \"over\": 0, \"balls\": 7, \"runs\": 6, \"strike_rate\": 85.71428571428571}, {\"batsman\": \"KD Karthik\", \"over\": 1, \"balls\": 39, \"runs\": 22, \"strike_rate\": 56.41025641025641}, {\"batsman\": \"KD Karthik\", \"over\": 2, \"balls\": 60, \"runs\": 57, \"strike_rate\": 95.0}, {\"batsman\": \"KD Karthik\", \"over\": 3, \"balls\": 80, \"runs\": 77, \"strike_rate\": 96.25}, {\"batsman\": \"KD Karthik\", \"over\": 4, \"balls\": 98, \"runs\": 76, \"strike_rate\": 77.55102040816327}, {\"batsman\": \"KD Karthik\", \"over\": 5, \"balls\": 127, \"runs\": 158, \"strike_rate\": 124.40944881889764}, {\"batsman\": \"KD Karthik\", \"over\": 6, \"balls\": 177, \"runs\": 179, \"strike_rate\": 101.12994350282484}, {\"batsman\": \"KD Karthik\", \"over\": 7, \"balls\": 210, \"runs\": 210, \"strike_rate\": 100.0}, {\"batsman\": \"KD Karthik\", \"over\": 8, \"balls\": 198, \"runs\": 215, \"strike_rate\": 108.58585858585859}, {\"batsman\": \"KD Karthik\", \"over\": 9, \"balls\": 211, \"runs\": 210, \"strike_rate\": 99.52606635071089}, {\"batsman\": \"KD Karthik\", \"over\": 10, \"balls\": 218, \"runs\": 269, \"strike_rate\": 123.39449541284404}, {\"batsman\": \"KD Karthik\", \"over\": 11, \"balls\": 228, \"runs\": 295, \"strike_rate\": 129.38596491228068}, {\"batsman\": \"KD Karthik\", \"over\": 12, \"balls\": 237, \"runs\": 286, \"strike_rate\": 120.67510548523205}, {\"batsman\": \"KD Karthik\", \"over\": 13, \"balls\": 229, \"runs\": 362, \"strike_rate\": 158.07860262008734}, {\"batsman\": \"KD Karthik\", \"over\": 14, \"balls\": 188, \"runs\": 239, \"strike_rate\": 127.12765957446808}, {\"batsman\": \"KD Karthik\", \"over\": 15, \"balls\": 193, \"runs\": 241, \"strike_rate\": 124.87046632124353}, {\"batsman\": \"KD Karthik\", \"over\": 16, \"balls\": 174, \"runs\": 317, \"strike_rate\": 182.183908045977}, {\"batsman\": \"KD Karthik\", \"over\": 17, \"balls\": 153, \"runs\": 260, \"strike_rate\": 169.9346405228758}, {\"batsman\": \"KD Karthik\", \"over\": 18, \"balls\": 122, \"runs\": 206, \"strike_rate\": 168.85245901639345}, {\"batsman\": \"KD Karthik\", \"over\": 19, \"balls\": 74, \"runs\": 138, \"strike_rate\": 186.48648648648648}, {\"batsman\": \"KL Rahul\", \"over\": 0, \"balls\": 181, \"runs\": 185, \"strike_rate\": 102.20994475138122}, {\"batsman\": \"KL Rahul\", \"over\": 1, \"balls\": 148, \"runs\": 173, \"strike_rate\": 116.89189189189189}, {\"batsman\": \"KL Rahul\", \"over\": 2, \"balls\": 149, \"runs\": 211, \"strike_rate\": 141.61073825503357}, {\"batsman\": \"KL Rahul\", \"over\": 3, \"balls\": 142, \"runs\": 226, \"strike_rate\": 159.1549295774648}, {\"batsman\": \"KL Rahul\", \"over\": 4, \"balls\": 130, \"runs\": 175, \"strike_rate\": 134.6153846153846}, {\"batsman\": \"KL Rahul\", \"over\": 5, \"balls\": 119, \"runs\": 162, \"strike_rate\": 136.1344537815126}, {\"batsman\": \"KL Rahul\", \"over\": 6, \"balls\": 126, \"runs\": 151, \"strike_rate\": 119.84126984126983}, {\"batsman\": \"KL Rahul\", \"over\": 7, \"balls\": 120, \"runs\": 127, \"strike_rate\": 105.83333333333333}, {\"batsman\": \"KL Rahul\", \"over\": 8, \"balls\": 118, \"runs\": 136, \"strike_rate\": 115.2542372881356}, {\"batsman\": \"KL Rahul\", \"over\": 9, \"balls\": 104, \"runs\": 148, \"strike_rate\": 142.30769230769232}, {\"batsman\": \"KL Rahul\", \"over\": 10, \"balls\": 80, \"runs\": 92, \"strike_rate\": 114.99999999999999}, {\"batsman\": \"KL Rahul\", \"over\": 11, \"balls\": 80, \"runs\": 85, \"strike_rate\": 106.25}, {\"batsman\": \"KL Rahul\", \"over\": 12, \"balls\": 79, \"runs\": 93, \"strike_rate\": 117.72151898734178}, {\"batsman\": \"KL Rahul\", \"over\": 13, \"balls\": 63, \"runs\": 91, \"strike_rate\": 144.44444444444443}, {\"batsman\": \"KL Rahul\", \"over\": 14, \"balls\": 83, \"runs\": 124, \"strike_rate\": 149.39759036144576}, {\"batsman\": \"KL Rahul\", \"over\": 15, \"balls\": 75, \"runs\": 119, \"strike_rate\": 158.66666666666666}, {\"batsman\": \"KL Rahul\", \"over\": 16, \"balls\": 60, \"runs\": 94, \"strike_rate\": 156.66666666666666}, {\"batsman\": \"KL Rahul\", \"over\": 17, \"balls\": 51, \"runs\": 80, \"strike_rate\": 156.86274509803923}, {\"batsman\": \"KL Rahul\", \"over\": 18, \"balls\": 48, \"runs\": 107, \"strike_rate\": 222.91666666666666}, {\"batsman\": \"KL Rahul\", \"over\": 19, \"balls\": 34, \"runs\": 68, \"strike_rate\": 200.0}, {\"batsman\": \"M Vijay\", \"over\": 0, \"balls\": 296, \"runs\": 215, \"strike_rate\": 72.63513513513513}, {\"batsman\": \"M Vijay\", \"over\": 1, \"balls\": 297, \"runs\": 271, \"strike_rate\": 91.24579124579124}, {\"batsman\": \"M Vijay\", \"over\": 2, \"balls\": 263, \"runs\": 360, \"strike_rate\": 136.88212927756652}, {\"batsman\": \"M Vijay\", \"over\": 3, \"balls\": 208, \"runs\": 255, \"strike_rate\": 122.59615384615385}, {\"batsman\": \"M Vijay\", \"over\": 4, \"balls\": 182, \"runs\": 259, \"strike_rate\": 142.30769230769232}, {\"batsman\": \"M Vijay\", \"over\": 5, \"balls\": 170, \"runs\": 214, \"strike_rate\": 125.88235294117646}, {\"batsman\": \"M Vijay\", \"over\": 6, \"balls\": 142, \"runs\": 137, \"strike_rate\": 96.47887323943662}, {\"batsman\": \"M Vijay\", \"over\": 7, \"balls\": 118, \"runs\": 115, \"strike_rate\": 97.45762711864407}, {\"batsman\": \"M Vijay\", \"over\": 8, \"balls\": 85, \"runs\": 110, \"strike_rate\": 129.41176470588235}, {\"batsman\": \"M Vijay\", \"over\": 9, \"balls\": 91, \"runs\": 117, \"strike_rate\": 128.57142857142858}, {\"batsman\": \"M Vijay\", \"over\": 10, \"balls\": 74, \"runs\": 113, \"strike_rate\": 152.7027027027027}, {\"batsman\": \"M Vijay\", \"over\": 11, \"balls\": 72, \"runs\": 97, \"strike_rate\": 134.72222222222223}, {\"batsman\": \"M Vijay\", \"over\": 12, \"balls\": 54, \"runs\": 90, \"strike_rate\": 166.66666666666669}, {\"batsman\": \"M Vijay\", \"over\": 13, \"balls\": 43, \"runs\": 70, \"strike_rate\": 162.7906976744186}, {\"batsman\": \"M Vijay\", \"over\": 14, \"balls\": 41, \"runs\": 71, \"strike_rate\": 173.17073170731706}, {\"batsman\": \"M Vijay\", \"over\": 15, \"balls\": 27, \"runs\": 51, \"strike_rate\": 188.88888888888889}, {\"batsman\": \"M Vijay\", \"over\": 16, \"balls\": 19, \"runs\": 26, \"strike_rate\": 136.8421052631579}, {\"batsman\": \"M Vijay\", \"over\": 17, \"balls\": 10, \"runs\": 19, \"strike_rate\": 190.0}, {\"batsman\": \"M Vijay\", \"over\": 18, \"balls\": 11, \"runs\": 20, \"strike_rate\": 181.8181818181818}, {\"batsman\": \"M Vijay\", \"over\": 19, \"balls\": 5, \"runs\": 9, \"strike_rate\": 180.0}, {\"batsman\": \"MK Pandey\", \"over\": 0, \"balls\": 106, \"runs\": 82, \"strike_rate\": 77.35849056603774}, {\"batsman\": \"MK Pandey\", \"over\": 1, \"balls\": 106, \"runs\": 97, \"strike_rate\": 91.50943396226415}, {\"batsman\": \"MK Pandey\", \"over\": 2, \"balls\": 141, \"runs\": 141, \"strike_rate\": 100.0}, {\"batsman\": \"MK Pandey\", \"over\": 3, \"balls\": 147, \"runs\": 182, \"strike_rate\": 123.80952380952381}, {\"batsman\": \"MK Pandey\", \"over\": 4, \"balls\": 201, \"runs\": 269, \"strike_rate\": 133.83084577114428}, {\"batsman\": \"MK Pandey\", \"over\": 5, \"balls\": 175, \"runs\": 208, \"strike_rate\": 118.85714285714286}, {\"batsman\": \"MK Pandey\", \"over\": 6, \"balls\": 202, \"runs\": 192, \"strike_rate\": 95.04950495049505}, {\"batsman\": \"MK Pandey\", \"over\": 7, \"balls\": 189, \"runs\": 189, \"strike_rate\": 100.0}, {\"batsman\": \"MK Pandey\", \"over\": 8, \"balls\": 185, \"runs\": 208, \"strike_rate\": 112.43243243243244}, {\"batsman\": \"MK Pandey\", \"over\": 9, \"balls\": 170, \"runs\": 165, \"strike_rate\": 97.05882352941177}, {\"batsman\": \"MK Pandey\", \"over\": 10, \"balls\": 176, \"runs\": 227, \"strike_rate\": 128.97727272727272}, {\"batsman\": \"MK Pandey\", \"over\": 11, \"balls\": 165, \"runs\": 179, \"strike_rate\": 108.4848484848485}, {\"batsman\": \"MK Pandey\", \"over\": 12, \"balls\": 146, \"runs\": 190, \"strike_rate\": 130.13698630136986}, {\"batsman\": \"MK Pandey\", \"over\": 13, \"balls\": 131, \"runs\": 162, \"strike_rate\": 123.66412213740459}, {\"batsman\": \"MK Pandey\", \"over\": 14, \"balls\": 115, \"runs\": 172, \"strike_rate\": 149.56521739130434}, {\"batsman\": \"MK Pandey\", \"over\": 15, \"balls\": 105, \"runs\": 135, \"strike_rate\": 128.57142857142858}, {\"batsman\": \"MK Pandey\", \"over\": 16, \"balls\": 117, \"runs\": 171, \"strike_rate\": 146.15384615384613}, {\"batsman\": \"MK Pandey\", \"over\": 17, \"balls\": 82, \"runs\": 108, \"strike_rate\": 131.70731707317074}, {\"batsman\": \"MK Pandey\", \"over\": 18, \"balls\": 66, \"runs\": 106, \"strike_rate\": 160.6060606060606}, {\"batsman\": \"MK Pandey\", \"over\": 19, \"balls\": 47, \"runs\": 85, \"strike_rate\": 180.85106382978725}, {\"batsman\": \"MS Dhoni\", \"over\": 1, \"balls\": 1, \"runs\": 0, \"strike_rate\": 0.0}, {\"batsman\": \"MS Dhoni\", \"over\": 2, \"balls\": 5, \"runs\": 0, \"strike_rate\": 0.0}, {\"batsman\": \"MS Dhoni\", \"over\": 3, \"balls\": 8, \"runs\": 9, \"strike_rate\": 112.5}, {\"batsman\": \"MS Dhoni\", \"over\": 4, \"balls\": 21, \"runs\": 11, \"strike_rate\": 52.38095238095239}, {\"batsman\": \"MS Dhoni\", \"over\": 5, \"balls\": 31, \"runs\": 30, \"strike_rate\": 96.7741935483871}, {\"batsman\": \"MS Dhoni\", \"over\": 6, \"balls\": 70, \"runs\": 49, \"strike_rate\": 70.0}, {\"batsman\": \"MS Dhoni\", \"over\": 7, \"balls\": 74, \"runs\": 75, \"strike_rate\": 101.35135135135135}, {\"batsman\": \"MS Dhoni\", \"over\": 8, \"balls\": 102, \"runs\": 89, \"strike_rate\": 87.25490196078431}, {\"batsman\": \"MS Dhoni\", \"over\": 9, \"balls\": 172, \"runs\": 146, \"strike_rate\": 84.88372093023256}, {\"batsman\": \"MS Dhoni\", \"over\": 10, \"balls\": 210, \"runs\": 212, \"strike_rate\": 100.95238095238095}, {\"batsman\": \"MS Dhoni\", \"over\": 11, \"balls\": 237, \"runs\": 227, \"strike_rate\": 95.78059071729957}, {\"batsman\": \"MS Dhoni\", \"over\": 12, \"balls\": 275, \"runs\": 278, \"strike_rate\": 101.0909090909091}, {\"batsman\": \"MS Dhoni\", \"over\": 13, \"balls\": 284, \"runs\": 299, \"strike_rate\": 105.28169014084507}, {\"batsman\": \"MS Dhoni\", \"over\": 14, \"balls\": 364, \"runs\": 438, \"strike_rate\": 120.32967032967032}, {\"batsman\": \"MS Dhoni\", \"over\": 15, \"balls\": 364, \"runs\": 466, \"strike_rate\": 128.02197802197801}, {\"batsman\": \"MS Dhoni\", \"over\": 16, \"balls\": 368, \"runs\": 557, \"strike_rate\": 151.3586956521739}, {\"batsman\": \"MS Dhoni\", \"over\": 17, \"balls\": 337, \"runs\": 568, \"strike_rate\": 168.5459940652819}, {\"batsman\": \"MS Dhoni\", \"over\": 18, \"balls\": 313, \"runs\": 586, \"strike_rate\": 187.22044728434503}, {\"batsman\": \"MS Dhoni\", \"over\": 19, \"balls\": 257, \"runs\": 592, \"strike_rate\": 230.35019455252916}, {\"batsman\": \"PA Patel\", \"over\": 0, \"balls\": 366, \"runs\": 273, \"strike_rate\": 74.59016393442623}, {\"batsman\": \"PA Patel\", \"over\": 1, \"balls\": 318, \"runs\": 357, \"strike_rate\": 112.26415094339623}, {\"batsman\": \"PA Patel\", \"over\": 2, \"balls\": 281, \"runs\": 403, \"strike_rate\": 143.41637010676155}, {\"batsman\": \"PA Patel\", \"over\": 3, \"balls\": 224, \"runs\": 260, \"strike_rate\": 116.07142857142858}, {\"batsman\": \"PA Patel\", \"over\": 4, \"balls\": 224, \"runs\": 315, \"strike_rate\": 140.625}, {\"batsman\": \"PA Patel\", \"over\": 5, \"balls\": 217, \"runs\": 296, \"strike_rate\": 136.40552995391707}, {\"batsman\": \"PA Patel\", \"over\": 6, \"balls\": 140, \"runs\": 154, \"strike_rate\": 110.00000000000001}, {\"batsman\": \"PA Patel\", \"over\": 7, \"balls\": 133, \"runs\": 126, \"strike_rate\": 94.73684210526315}, {\"batsman\": \"PA Patel\", \"over\": 8, \"balls\": 116, \"runs\": 124, \"strike_rate\": 106.89655172413792}, {\"batsman\": \"PA Patel\", \"over\": 9, \"balls\": 72, \"runs\": 83, \"strike_rate\": 115.27777777777777}, {\"batsman\": \"PA Patel\", \"over\": 10, \"balls\": 80, \"runs\": 113, \"strike_rate\": 141.25}, {\"batsman\": \"PA Patel\", \"over\": 11, \"balls\": 60, \"runs\": 86, \"strike_rate\": 143.33333333333334}, {\"batsman\": \"PA Patel\", \"over\": 12, \"balls\": 59, \"runs\": 79, \"strike_rate\": 133.89830508474577}, {\"batsman\": \"PA Patel\", \"over\": 13, \"balls\": 43, \"runs\": 39, \"strike_rate\": 90.69767441860465}, {\"batsman\": \"PA Patel\", \"over\": 14, \"balls\": 37, \"runs\": 45, \"strike_rate\": 121.62162162162163}, {\"batsman\": \"PA Patel\", \"over\": 15, \"balls\": 26, \"runs\": 32, \"strike_rate\": 123.07692307692308}, {\"batsman\": \"PA Patel\", \"over\": 16, \"balls\": 16, \"runs\": 26, \"strike_rate\": 162.5}, {\"batsman\": \"PA Patel\", \"over\": 17, \"balls\": 13, \"runs\": 20, \"strike_rate\": 153.84615384615387}, {\"batsman\": \"PA Patel\", \"over\": 18, \"balls\": 10, \"runs\": 13, \"strike_rate\": 130.0}, {\"batsman\": \"PA Patel\", \"over\": 19, \"balls\": 7, \"runs\": 4, \"strike_rate\": 57.14285714285714}, {\"batsman\": \"RG Sharma\", \"over\": 0, \"balls\": 175, \"runs\": 185, \"strike_rate\": 105.71428571428572}, {\"batsman\": \"RG Sharma\", \"over\": 1, \"balls\": 177, \"runs\": 176, \"strike_rate\": 99.43502824858757}, {\"batsman\": \"RG Sharma\", \"over\": 2, \"balls\": 133, \"runs\": 147, \"strike_rate\": 110.5263157894737}, {\"batsman\": \"RG Sharma\", \"over\": 3, \"balls\": 177, \"runs\": 220, \"strike_rate\": 124.29378531073448}, {\"batsman\": \"RG Sharma\", \"over\": 4, \"balls\": 176, \"runs\": 209, \"strike_rate\": 118.75}, {\"batsman\": \"RG Sharma\", \"over\": 5, \"balls\": 187, \"runs\": 204, \"strike_rate\": 109.09090909090908}, {\"batsman\": \"RG Sharma\", \"over\": 6, \"balls\": 225, \"runs\": 229, \"strike_rate\": 101.77777777777777}, {\"batsman\": \"RG Sharma\", \"over\": 7, \"balls\": 227, \"runs\": 210, \"strike_rate\": 92.51101321585902}, {\"batsman\": \"RG Sharma\", \"over\": 8, \"balls\": 266, \"runs\": 278, \"strike_rate\": 104.51127819548873}, {\"batsman\": \"RG Sharma\", \"over\": 9, \"balls\": 280, \"runs\": 283, \"strike_rate\": 101.07142857142857}, {\"batsman\": \"RG Sharma\", \"over\": 10, \"balls\": 248, \"runs\": 304, \"strike_rate\": 122.58064516129032}, {\"batsman\": \"RG Sharma\", \"over\": 11, \"balls\": 249, \"runs\": 315, \"strike_rate\": 126.50602409638554}, {\"batsman\": \"RG Sharma\", \"over\": 12, \"balls\": 259, \"runs\": 315, \"strike_rate\": 121.62162162162163}, {\"batsman\": \"RG Sharma\", \"over\": 13, \"balls\": 239, \"runs\": 335, \"strike_rate\": 140.1673640167364}, {\"batsman\": \"RG Sharma\", \"over\": 14, \"balls\": 231, \"runs\": 342, \"strike_rate\": 148.05194805194805}, {\"batsman\": \"RG Sharma\", \"over\": 15, \"balls\": 238, \"runs\": 334, \"strike_rate\": 140.3361344537815}, {\"batsman\": \"RG Sharma\", \"over\": 16, \"balls\": 219, \"runs\": 361, \"strike_rate\": 164.84018264840182}, {\"batsman\": \"RG Sharma\", \"over\": 17, \"balls\": 165, \"runs\": 293, \"strike_rate\": 177.5757575757576}, {\"batsman\": \"RG Sharma\", \"over\": 18, \"balls\": 123, \"runs\": 242, \"strike_rate\": 196.7479674796748}, {\"batsman\": \"RG Sharma\", \"over\": 19, \"balls\": 94, \"runs\": 248, \"strike_rate\": 263.82978723404256}, {\"batsman\": \"RV Uthappa\", \"over\": 0, \"balls\": 276, \"runs\": 238, \"strike_rate\": 86.23188405797102}, {\"batsman\": \"RV Uthappa\", \"over\": 1, \"balls\": 241, \"runs\": 282, \"strike_rate\": 117.0124481327801}, {\"batsman\": \"RV Uthappa\", \"over\": 2, \"balls\": 250, \"runs\": 337, \"strike_rate\": 134.8}, {\"batsman\": \"RV Uthappa\", \"over\": 3, \"balls\": 265, \"runs\": 374, \"strike_rate\": 141.1320754716981}, {\"batsman\": \"RV Uthappa\", \"over\": 4, \"balls\": 237, \"runs\": 296, \"strike_rate\": 124.89451476793249}, {\"batsman\": \"RV Uthappa\", \"over\": 5, \"balls\": 270, \"runs\": 321, \"strike_rate\": 118.88888888888889}, {\"batsman\": \"RV Uthappa\", \"over\": 6, \"balls\": 265, \"runs\": 299, \"strike_rate\": 112.83018867924528}, {\"batsman\": \"RV Uthappa\", \"over\": 7, \"balls\": 244, \"runs\": 282, \"strike_rate\": 115.57377049180329}, {\"batsman\": \"RV Uthappa\", \"over\": 8, \"balls\": 238, \"runs\": 302, \"strike_rate\": 126.890756302521}, {\"batsman\": \"RV Uthappa\", \"over\": 9, \"balls\": 241, \"runs\": 277, \"strike_rate\": 114.93775933609957}, {\"batsman\": \"RV Uthappa\", \"over\": 10, \"balls\": 202, \"runs\": 241, \"strike_rate\": 119.3069306930693}, {\"batsman\": \"RV Uthappa\", \"over\": 11, \"balls\": 195, \"runs\": 264, \"strike_rate\": 135.3846153846154}, {\"batsman\": \"RV Uthappa\", \"over\": 12, \"balls\": 167, \"runs\": 212, \"strike_rate\": 126.94610778443113}, {\"batsman\": \"RV Uthappa\", \"over\": 13, \"balls\": 131, \"runs\": 174, \"strike_rate\": 132.82442748091603}, {\"batsman\": \"RV Uthappa\", \"over\": 14, \"balls\": 111, \"runs\": 172, \"strike_rate\": 154.95495495495496}, {\"batsman\": \"RV Uthappa\", \"over\": 15, \"balls\": 89, \"runs\": 144, \"strike_rate\": 161.79775280898875}, {\"batsman\": \"RV Uthappa\", \"over\": 16, \"balls\": 80, \"runs\": 127, \"strike_rate\": 158.75}, {\"batsman\": \"RV Uthappa\", \"over\": 17, \"balls\": 73, \"runs\": 106, \"strike_rate\": 145.2054794520548}, {\"batsman\": \"RV Uthappa\", \"over\": 18, \"balls\": 45, \"runs\": 82, \"strike_rate\": 182.22222222222223}, {\"batsman\": \"RV Uthappa\", \"over\": 19, \"balls\": 38, \"runs\": 77, \"strike_rate\": 202.6315789473684}, {\"batsman\": \"S Dhawan\", \"over\": 0, \"balls\": 374, \"runs\": 354, \"strike_rate\": 94.6524064171123}, {\"batsman\": \"S Dhawan\", \"over\": 1, \"balls\": 454, \"runs\": 484, \"strike_rate\": 106.6079295154185}, {\"batsman\": \"S Dhawan\", \"over\": 2, \"balls\": 433, \"runs\": 538, \"strike_rate\": 124.24942263279446}, {\"batsman\": \"S Dhawan\", \"over\": 3, \"balls\": 343, \"runs\": 442, \"strike_rate\": 128.86297376093293}, {\"batsman\": \"S Dhawan\", \"over\": 4, \"balls\": 290, \"runs\": 397, \"strike_rate\": 136.89655172413794}, {\"batsman\": \"S Dhawan\", \"over\": 5, \"balls\": 310, \"runs\": 424, \"strike_rate\": 136.7741935483871}, {\"batsman\": \"S Dhawan\", \"over\": 6, \"balls\": 268, \"runs\": 299, \"strike_rate\": 111.56716417910448}, {\"batsman\": \"S Dhawan\", \"over\": 7, \"balls\": 267, \"runs\": 291, \"strike_rate\": 108.98876404494382}, {\"batsman\": \"S Dhawan\", \"over\": 8, \"balls\": 203, \"runs\": 258, \"strike_rate\": 127.0935960591133}, {\"batsman\": \"S Dhawan\", \"over\": 9, \"balls\": 217, \"runs\": 260, \"strike_rate\": 119.81566820276497}, {\"batsman\": \"S Dhawan\", \"over\": 10, \"balls\": 192, \"runs\": 231, \"strike_rate\": 120.3125}, {\"batsman\": \"S Dhawan\", \"over\": 11, \"balls\": 175, \"runs\": 211, \"strike_rate\": 120.57142857142857}, {\"batsman\": \"S Dhawan\", \"over\": 12, \"balls\": 145, \"runs\": 185, \"strike_rate\": 127.58620689655173}, {\"batsman\": \"S Dhawan\", \"over\": 13, \"balls\": 98, \"runs\": 160, \"strike_rate\": 163.26530612244898}, {\"batsman\": \"S Dhawan\", \"over\": 14, \"balls\": 100, \"runs\": 146, \"strike_rate\": 146.0}, {\"batsman\": \"S Dhawan\", \"over\": 15, \"balls\": 93, \"runs\": 127, \"strike_rate\": 136.55913978494624}, {\"batsman\": \"S Dhawan\", \"over\": 16, \"balls\": 84, \"runs\": 137, \"strike_rate\": 163.0952380952381}, {\"batsman\": \"S Dhawan\", \"over\": 17, \"balls\": 77, \"runs\": 117, \"strike_rate\": 151.94805194805195}, {\"batsman\": \"S Dhawan\", \"over\": 18, \"balls\": 65, \"runs\": 105, \"strike_rate\": 161.53846153846155}, {\"batsman\": \"S Dhawan\", \"over\": 19, \"balls\": 20, \"runs\": 31, \"strike_rate\": 155.0}, {\"batsman\": \"SK Raina\", \"over\": 0, \"balls\": 50, \"runs\": 31, \"strike_rate\": 62.0}, {\"batsman\": \"SK Raina\", \"over\": 1, \"balls\": 124, \"runs\": 161, \"strike_rate\": 129.83870967741936}, {\"batsman\": \"SK Raina\", \"over\": 2, \"balls\": 179, \"runs\": 235, \"strike_rate\": 131.2849162011173}, {\"batsman\": \"SK Raina\", \"over\": 3, \"balls\": 244, \"runs\": 282, \"strike_rate\": 115.57377049180329}, {\"batsman\": \"SK Raina\", \"over\": 4, \"balls\": 294, \"runs\": 387, \"strike_rate\": 131.6326530612245}, {\"batsman\": \"SK Raina\", \"over\": 5, \"balls\": 297, \"runs\": 438, \"strike_rate\": 147.47474747474746}, {\"batsman\": \"SK Raina\", \"over\": 6, \"balls\": 297, \"runs\": 311, \"strike_rate\": 104.71380471380472}, {\"batsman\": \"SK Raina\", \"over\": 7, \"balls\": 322, \"runs\": 347, \"strike_rate\": 107.76397515527951}, {\"batsman\": \"SK Raina\", \"over\": 8, \"balls\": 300, \"runs\": 356, \"strike_rate\": 118.66666666666667}, {\"batsman\": \"SK Raina\", \"over\": 9, \"balls\": 290, \"runs\": 357, \"strike_rate\": 123.10344827586206}, {\"batsman\": \"SK Raina\", \"over\": 10, \"balls\": 264, \"runs\": 377, \"strike_rate\": 142.8030303030303}, {\"batsman\": \"SK Raina\", \"over\": 11, \"balls\": 253, \"runs\": 338, \"strike_rate\": 133.59683794466403}, {\"batsman\": \"SK Raina\", \"over\": 12, \"balls\": 231, \"runs\": 299, \"strike_rate\": 129.43722943722943}, {\"batsman\": \"SK Raina\", \"over\": 13, \"balls\": 207, \"runs\": 322, \"strike_rate\": 155.55555555555557}, {\"batsman\": \"SK Raina\", \"over\": 14, \"balls\": 173, \"runs\": 262, \"strike_rate\": 151.4450867052023}, {\"batsman\": \"SK Raina\", \"over\": 15, \"balls\": 132, \"runs\": 232, \"strike_rate\": 175.75757575757575}, {\"batsman\": \"SK Raina\", \"over\": 16, \"balls\": 131, \"runs\": 223, \"strike_rate\": 170.2290076335878}, {\"batsman\": \"SK Raina\", \"over\": 17, \"balls\": 109, \"runs\": 170, \"strike_rate\": 155.96330275229357}, {\"batsman\": \"SK Raina\", \"over\": 18, \"balls\": 87, \"runs\": 153, \"strike_rate\": 175.86206896551724}, {\"batsman\": \"SK Raina\", \"over\": 19, \"balls\": 57, \"runs\": 87, \"strike_rate\": 152.63157894736844}, {\"batsman\": \"SR Tendulkar\", \"over\": 0, \"balls\": 130, \"runs\": 115, \"strike_rate\": 88.46153846153845}, {\"batsman\": \"SR Tendulkar\", \"over\": 1, \"balls\": 213, \"runs\": 211, \"strike_rate\": 99.06103286384976}, {\"batsman\": \"SR Tendulkar\", \"over\": 2, \"balls\": 183, \"runs\": 163, \"strike_rate\": 89.07103825136612}, {\"batsman\": \"SR Tendulkar\", \"over\": 3, \"balls\": 195, \"runs\": 259, \"strike_rate\": 132.82051282051282}, {\"batsman\": \"SR Tendulkar\", \"over\": 4, \"balls\": 156, \"runs\": 172, \"strike_rate\": 110.25641025641026}, {\"batsman\": \"SR Tendulkar\", \"over\": 5, \"balls\": 158, \"runs\": 223, \"strike_rate\": 141.13924050632912}, {\"batsman\": \"SR Tendulkar\", \"over\": 6, \"balls\": 151, \"runs\": 141, \"strike_rate\": 93.37748344370861}, {\"batsman\": \"SR Tendulkar\", \"over\": 7, \"balls\": 144, \"runs\": 156, \"strike_rate\": 108.33333333333333}, {\"batsman\": \"SR Tendulkar\", \"over\": 8, \"balls\": 111, \"runs\": 118, \"strike_rate\": 106.30630630630631}, {\"batsman\": \"SR Tendulkar\", \"over\": 9, \"balls\": 97, \"runs\": 99, \"strike_rate\": 102.06185567010309}, {\"batsman\": \"SR Tendulkar\", \"over\": 10, \"balls\": 98, \"runs\": 126, \"strike_rate\": 128.57142857142858}, {\"batsman\": \"SR Tendulkar\", \"over\": 11, \"balls\": 80, \"runs\": 109, \"strike_rate\": 136.25}, {\"batsman\": \"SR Tendulkar\", \"over\": 12, \"balls\": 67, \"runs\": 88, \"strike_rate\": 131.34328358208955}, {\"batsman\": \"SR Tendulkar\", \"over\": 13, \"balls\": 67, \"runs\": 63, \"strike_rate\": 94.02985074626866}, {\"batsman\": \"SR Tendulkar\", \"over\": 14, \"balls\": 51, \"runs\": 67, \"strike_rate\": 131.37254901960785}, {\"batsman\": \"SR Tendulkar\", \"over\": 15, \"balls\": 62, \"runs\": 92, \"strike_rate\": 148.38709677419354}, {\"batsman\": \"SR Tendulkar\", \"over\": 16, \"balls\": 36, \"runs\": 43, \"strike_rate\": 119.44444444444444}, {\"batsman\": \"SR Tendulkar\", \"over\": 17, \"balls\": 15, \"runs\": 16, \"strike_rate\": 106.66666666666667}, {\"batsman\": \"SR Tendulkar\", \"over\": 18, \"balls\": 16, \"runs\": 37, \"strike_rate\": 231.25}, {\"batsman\": \"SR Tendulkar\", \"over\": 19, \"balls\": 14, \"runs\": 36, \"strike_rate\": 257.14285714285717}, {\"batsman\": \"SR Watson\", \"over\": 0, \"balls\": 253, \"runs\": 221, \"strike_rate\": 87.35177865612648}, {\"batsman\": \"SR Watson\", \"over\": 1, \"balls\": 221, \"runs\": 185, \"strike_rate\": 83.710407239819}, {\"batsman\": \"SR Watson\", \"over\": 2, \"balls\": 219, \"runs\": 241, \"strike_rate\": 110.04566210045664}, {\"batsman\": \"SR Watson\", \"over\": 3, \"balls\": 195, \"runs\": 248, \"strike_rate\": 127.17948717948717}, {\"batsman\": \"SR Watson\", \"over\": 4, \"balls\": 199, \"runs\": 234, \"strike_rate\": 117.58793969849246}, {\"batsman\": \"SR Watson\", \"over\": 5, \"balls\": 201, \"runs\": 286, \"strike_rate\": 142.28855721393035}, {\"batsman\": \"SR Watson\", \"over\": 6, \"balls\": 186, \"runs\": 235, \"strike_rate\": 126.34408602150538}, {\"batsman\": \"SR Watson\", \"over\": 7, \"balls\": 171, \"runs\": 216, \"strike_rate\": 126.3157894736842}, {\"batsman\": \"SR Watson\", \"over\": 8, \"balls\": 180, \"runs\": 273, \"strike_rate\": 151.66666666666666}, {\"batsman\": \"SR Watson\", \"over\": 9, \"balls\": 145, \"runs\": 247, \"strike_rate\": 170.34482758620692}, {\"batsman\": \"SR Watson\", \"over\": 10, \"balls\": 139, \"runs\": 187, \"strike_rate\": 134.53237410071944}, {\"batsman\": \"SR Watson\", \"over\": 11, \"balls\": 136, \"runs\": 187, \"strike_rate\": 137.5}, {\"batsman\": \"SR Watson\", \"over\": 12, \"balls\": 159, \"runs\": 236, \"strike_rate\": 148.42767295597483}, {\"batsman\": \"SR Watson\", \"over\": 13, \"balls\": 131, \"runs\": 228, \"strike_rate\": 174.04580152671755}, {\"batsman\": \"SR Watson\", \"over\": 14, \"balls\": 102, \"runs\": 197, \"strike_rate\": 193.13725490196077}, {\"batsman\": \"SR Watson\", \"over\": 15, \"balls\": 88, \"runs\": 158, \"strike_rate\": 179.54545454545453}, {\"batsman\": \"SR Watson\", \"over\": 16, \"balls\": 73, \"runs\": 137, \"strike_rate\": 187.67123287671234}, {\"batsman\": \"SR Watson\", \"over\": 17, \"balls\": 48, \"runs\": 93, \"strike_rate\": 193.75}, {\"batsman\": \"SR Watson\", \"over\": 18, \"balls\": 23, \"runs\": 42, \"strike_rate\": 182.6086956521739}, {\"batsman\": \"SR Watson\", \"over\": 19, \"balls\": 19, \"runs\": 23, \"strike_rate\": 121.05263157894737}, {\"batsman\": \"SV Samson\", \"over\": 0, \"balls\": 76, \"runs\": 65, \"strike_rate\": 85.52631578947368}, {\"batsman\": \"SV Samson\", \"over\": 1, \"balls\": 92, \"runs\": 119, \"strike_rate\": 129.34782608695653}, {\"batsman\": \"SV Samson\", \"over\": 2, \"balls\": 122, \"runs\": 155, \"strike_rate\": 127.04918032786885}, {\"batsman\": \"SV Samson\", \"over\": 3, \"balls\": 118, \"runs\": 153, \"strike_rate\": 129.66101694915255}, {\"batsman\": \"SV Samson\", \"over\": 4, \"balls\": 147, \"runs\": 151, \"strike_rate\": 102.72108843537416}, {\"batsman\": \"SV Samson\", \"over\": 5, \"balls\": 134, \"runs\": 134, \"strike_rate\": 100.0}, {\"batsman\": \"SV Samson\", \"over\": 6, \"balls\": 134, \"runs\": 186, \"strike_rate\": 138.80597014925374}, {\"batsman\": \"SV Samson\", \"over\": 7, \"balls\": 139, \"runs\": 176, \"strike_rate\": 126.61870503597122}, {\"batsman\": \"SV Samson\", \"over\": 8, \"balls\": 138, \"runs\": 199, \"strike_rate\": 144.20289855072463}, {\"batsman\": \"SV Samson\", \"over\": 9, \"balls\": 137, \"runs\": 167, \"strike_rate\": 121.8978102189781}, {\"batsman\": \"SV Samson\", \"over\": 10, \"balls\": 108, \"runs\": 130, \"strike_rate\": 120.37037037037037}, {\"batsman\": \"SV Samson\", \"over\": 11, \"balls\": 118, \"runs\": 155, \"strike_rate\": 131.35593220338984}, {\"batsman\": \"SV Samson\", \"over\": 12, \"balls\": 96, \"runs\": 107, \"strike_rate\": 111.45833333333333}, {\"batsman\": \"SV Samson\", \"over\": 13, \"balls\": 97, \"runs\": 146, \"strike_rate\": 150.51546391752578}, {\"batsman\": \"SV Samson\", \"over\": 14, \"balls\": 82, \"runs\": 112, \"strike_rate\": 136.58536585365854}, {\"batsman\": \"SV Samson\", \"over\": 15, \"balls\": 73, \"runs\": 119, \"strike_rate\": 163.013698630137}, {\"batsman\": \"SV Samson\", \"over\": 16, \"balls\": 64, \"runs\": 93, \"strike_rate\": 145.3125}, {\"batsman\": \"SV Samson\", \"over\": 17, \"balls\": 56, \"runs\": 127, \"strike_rate\": 226.78571428571428}, {\"batsman\": \"SV Samson\", \"over\": 18, \"balls\": 24, \"runs\": 54, \"strike_rate\": 225.0}, {\"batsman\": \"SV Samson\", \"over\": 19, \"balls\": 15, \"runs\": 36, \"strike_rate\": 240.0}, {\"batsman\": \"V Kohli\", \"over\": 0, \"balls\": 184, \"runs\": 192, \"strike_rate\": 104.34782608695652}, {\"batsman\": \"V Kohli\", \"over\": 1, \"balls\": 243, \"runs\": 260, \"strike_rate\": 106.99588477366255}, {\"batsman\": \"V Kohli\", \"over\": 2, \"balls\": 273, \"runs\": 315, \"strike_rate\": 115.38461538461537}, {\"batsman\": \"V Kohli\", \"over\": 3, \"balls\": 279, \"runs\": 339, \"strike_rate\": 121.50537634408603}, {\"batsman\": \"V Kohli\", \"over\": 4, \"balls\": 275, \"runs\": 299, \"strike_rate\": 108.72727272727272}, {\"batsman\": \"V Kohli\", \"over\": 5, \"balls\": 288, \"runs\": 319, \"strike_rate\": 110.76388888888889}, {\"batsman\": \"V Kohli\", \"over\": 6, \"balls\": 283, \"runs\": 265, \"strike_rate\": 93.63957597173145}, {\"batsman\": \"V Kohli\", \"over\": 7, \"balls\": 306, \"runs\": 342, \"strike_rate\": 111.76470588235294}, {\"batsman\": \"V Kohli\", \"over\": 8, \"balls\": 271, \"runs\": 335, \"strike_rate\": 123.61623616236162}, {\"batsman\": \"V Kohli\", \"over\": 9, \"balls\": 266, \"runs\": 317, \"strike_rate\": 119.17293233082707}, {\"batsman\": \"V Kohli\", \"over\": 10, \"balls\": 297, \"runs\": 356, \"strike_rate\": 119.86531986531988}, {\"batsman\": \"V Kohli\", \"over\": 11, \"balls\": 273, \"runs\": 353, \"strike_rate\": 129.3040293040293}, {\"batsman\": \"V Kohli\", \"over\": 12, \"balls\": 255, \"runs\": 327, \"strike_rate\": 128.23529411764707}, {\"batsman\": \"V Kohli\", \"over\": 13, \"balls\": 217, \"runs\": 290, \"strike_rate\": 133.64055299539172}, {\"batsman\": \"V Kohli\", \"over\": 14, \"balls\": 206, \"runs\": 304, \"strike_rate\": 147.5728155339806}, {\"batsman\": \"V Kohli\", \"over\": 15, \"balls\": 202, \"runs\": 297, \"strike_rate\": 147.02970297029702}, {\"batsman\": \"V Kohli\", \"over\": 16, \"balls\": 172, \"runs\": 302, \"strike_rate\": 175.58139534883722}, {\"batsman\": \"V Kohli\", \"over\": 17, \"balls\": 143, \"runs\": 276, \"strike_rate\": 193.006993006993}, {\"batsman\": \"V Kohli\", \"over\": 18, \"balls\": 100, \"runs\": 219, \"strike_rate\": 219.0}, {\"batsman\": \"V Kohli\", \"over\": 19, \"balls\": 76, \"runs\": 171, \"strike_rate\": 225.0}, {\"batsman\": \"YK Pathan\", \"over\": 0, \"balls\": 16, \"runs\": 32, \"strike_rate\": 200.0}, {\"batsman\": \"YK Pathan\", \"over\": 1, \"balls\": 39, \"runs\": 53, \"strike_rate\": 135.8974358974359}, {\"batsman\": \"YK Pathan\", \"over\": 2, \"balls\": 39, \"runs\": 55, \"strike_rate\": 141.02564102564102}, {\"batsman\": \"YK Pathan\", \"over\": 3, \"balls\": 55, \"runs\": 62, \"strike_rate\": 112.72727272727272}, {\"batsman\": \"YK Pathan\", \"over\": 4, \"balls\": 41, \"runs\": 51, \"strike_rate\": 124.39024390243902}, {\"batsman\": \"YK Pathan\", \"over\": 5, \"balls\": 62, \"runs\": 90, \"strike_rate\": 145.16129032258064}, {\"batsman\": \"YK Pathan\", \"over\": 6, \"balls\": 84, \"runs\": 112, \"strike_rate\": 133.33333333333331}, {\"batsman\": \"YK Pathan\", \"over\": 7, \"balls\": 116, \"runs\": 143, \"strike_rate\": 123.27586206896552}, {\"batsman\": \"YK Pathan\", \"over\": 8, \"balls\": 128, \"runs\": 149, \"strike_rate\": 116.40625}, {\"batsman\": \"YK Pathan\", \"over\": 9, \"balls\": 156, \"runs\": 176, \"strike_rate\": 112.82051282051282}, {\"batsman\": \"YK Pathan\", \"over\": 10, \"balls\": 177, \"runs\": 217, \"strike_rate\": 122.59887005649716}, {\"batsman\": \"YK Pathan\", \"over\": 11, \"balls\": 163, \"runs\": 247, \"strike_rate\": 151.53374233128832}, {\"batsman\": \"YK Pathan\", \"over\": 12, \"balls\": 185, \"runs\": 272, \"strike_rate\": 147.02702702702703}, {\"batsman\": \"YK Pathan\", \"over\": 13, \"balls\": 163, \"runs\": 220, \"strike_rate\": 134.96932515337423}, {\"batsman\": \"YK Pathan\", \"over\": 14, \"balls\": 174, \"runs\": 199, \"strike_rate\": 114.36781609195404}, {\"batsman\": \"YK Pathan\", \"over\": 15, \"balls\": 195, \"runs\": 268, \"strike_rate\": 137.43589743589743}, {\"batsman\": \"YK Pathan\", \"over\": 16, \"balls\": 160, \"runs\": 271, \"strike_rate\": 169.375}, {\"batsman\": \"YK Pathan\", \"over\": 17, \"balls\": 161, \"runs\": 253, \"strike_rate\": 157.14285714285714}, {\"batsman\": \"YK Pathan\", \"over\": 18, \"balls\": 132, \"runs\": 223, \"strike_rate\": 168.93939393939394}, {\"batsman\": \"YK Pathan\", \"over\": 19, \"balls\": 84, \"runs\": 111, \"strike_rate\": 132.14285714285714}, {\"batsman\": \"Yuvraj Singh\", \"over\": 0, \"balls\": 7, \"runs\": 1, \"strike_rate\": 14.285714285714285}, {\"batsman\": \"Yuvraj Singh\", \"over\": 1, \"balls\": 11, \"runs\": 15, \"strike_rate\": 136.36363636363635}, {\"batsman\": \"Yuvraj Singh\", \"over\": 2, \"balls\": 25, \"runs\": 28, \"strike_rate\": 112.00000000000001}, {\"batsman\": \"Yuvraj Singh\", \"over\": 3, \"balls\": 23, \"runs\": 27, \"strike_rate\": 117.3913043478261}, {\"batsman\": \"Yuvraj Singh\", \"over\": 4, \"balls\": 70, \"runs\": 54, \"strike_rate\": 77.14285714285715}, {\"batsman\": \"Yuvraj Singh\", \"over\": 5, \"balls\": 59, \"runs\": 64, \"strike_rate\": 108.47457627118644}, {\"batsman\": \"Yuvraj Singh\", \"over\": 6, \"balls\": 85, \"runs\": 70, \"strike_rate\": 82.35294117647058}, {\"batsman\": \"Yuvraj Singh\", \"over\": 7, \"balls\": 112, \"runs\": 87, \"strike_rate\": 77.67857142857143}, {\"batsman\": \"Yuvraj Singh\", \"over\": 8, \"balls\": 157, \"runs\": 169, \"strike_rate\": 107.64331210191082}, {\"batsman\": \"Yuvraj Singh\", \"over\": 9, \"balls\": 163, \"runs\": 139, \"strike_rate\": 85.2760736196319}, {\"batsman\": \"Yuvraj Singh\", \"over\": 10, \"balls\": 170, \"runs\": 217, \"strike_rate\": 127.6470588235294}, {\"batsman\": \"Yuvraj Singh\", \"over\": 11, \"balls\": 181, \"runs\": 195, \"strike_rate\": 107.73480662983425}, {\"batsman\": \"Yuvraj Singh\", \"over\": 12, \"balls\": 211, \"runs\": 257, \"strike_rate\": 121.80094786729858}, {\"batsman\": \"Yuvraj Singh\", \"over\": 13, \"balls\": 223, \"runs\": 296, \"strike_rate\": 132.7354260089686}, {\"batsman\": \"Yuvraj Singh\", \"over\": 14, \"balls\": 173, \"runs\": 225, \"strike_rate\": 130.0578034682081}, {\"batsman\": \"Yuvraj Singh\", \"over\": 15, \"balls\": 171, \"runs\": 305, \"strike_rate\": 178.36257309941521}, {\"batsman\": \"Yuvraj Singh\", \"over\": 16, \"balls\": 128, \"runs\": 206, \"strike_rate\": 160.9375}, {\"batsman\": \"Yuvraj Singh\", \"over\": 17, \"balls\": 103, \"runs\": 158, \"strike_rate\": 153.39805825242718}, {\"batsman\": \"Yuvraj Singh\", \"over\": 18, \"balls\": 80, \"runs\": 114, \"strike_rate\": 142.5}, {\"batsman\": \"Yuvraj Singh\", \"over\": 19, \"balls\": 53, \"runs\": 123, \"strike_rate\": 232.07547169811323}]}}, {\"mode\": \"vega-lite\"});\n",
       "</script>"
      ],
      "text/plain": [
       "alt.Chart(...)"
      ]
     },
     "execution_count": 76,
     "metadata": {},
     "output_type": "execute_result"
    }
   ],
   "source": [
    "alt.data_transformers.disable_max_rows()\n",
    " \n",
    "alt.Chart(df_batsman_runs[df_batsman_runs['batsman'].isin(top_batsmen)]).mark_point(shape=\"circle\").encode(\n",
    "alt.X('over'),\n",
    "alt.Y('mean(strike_rate)'),\n",
    "color='batsman',\n",
    "text=\"batsman\",\n",
    "size='balls',\n",
    "opacity='runs',\n",
    "tooltip=list(df_batsman_runs.columns)\n",
    ").properties(width=600,height=500)"
   ]
  },
  {
   "cell_type": "markdown",
   "metadata": {
    "id": "56rCtYIDEwh7"
   },
   "source": [
    "## Comparing Batsman Stats"
   ]
  },
  {
   "cell_type": "code",
   "execution_count": 77,
   "metadata": {
    "id": "DouFuO6sFuWa"
   },
   "outputs": [],
   "source": [
    "runs =  df_balls.pivot_table(index = 'batsman' ,columns= 'batsman_runs',aggfunc= ['count'], values= 'ball')"
   ]
  },
  {
   "cell_type": "code",
   "execution_count": 78,
   "metadata": {
    "colab": {
     "base_uri": "https://localhost:8080/",
     "height": 455
    },
    "id": "O5x708MqFuun",
    "outputId": "cbf11c01-46f6-4405-fb01-511f500b8829"
   },
   "outputs": [
    {
     "data": {
      "text/html": [
       "<div>\n",
       "<style scoped>\n",
       "    .dataframe tbody tr th:only-of-type {\n",
       "        vertical-align: middle;\n",
       "    }\n",
       "\n",
       "    .dataframe tbody tr th {\n",
       "        vertical-align: top;\n",
       "    }\n",
       "\n",
       "    .dataframe thead tr th {\n",
       "        text-align: left;\n",
       "    }\n",
       "</style>\n",
       "<table border=\"1\" class=\"dataframe\">\n",
       "  <thead>\n",
       "    <tr>\n",
       "      <th></th>\n",
       "      <th>batsman</th>\n",
       "      <th colspan=\"7\" halign=\"left\">count</th>\n",
       "    </tr>\n",
       "    <tr>\n",
       "      <th>batsman_runs</th>\n",
       "      <th></th>\n",
       "      <th>0</th>\n",
       "      <th>1</th>\n",
       "      <th>2</th>\n",
       "      <th>3</th>\n",
       "      <th>4</th>\n",
       "      <th>5</th>\n",
       "      <th>6</th>\n",
       "    </tr>\n",
       "  </thead>\n",
       "  <tbody>\n",
       "    <tr>\n",
       "      <th>0</th>\n",
       "      <td>A Ashish Reddy</td>\n",
       "      <td>61.0</td>\n",
       "      <td>83.0</td>\n",
       "      <td>20.0</td>\n",
       "      <td>1.0</td>\n",
       "      <td>16.0</td>\n",
       "      <td>0.0</td>\n",
       "      <td>15.0</td>\n",
       "    </tr>\n",
       "    <tr>\n",
       "      <th>1</th>\n",
       "      <td>A Chandila</td>\n",
       "      <td>3.0</td>\n",
       "      <td>4.0</td>\n",
       "      <td>0.0</td>\n",
       "      <td>0.0</td>\n",
       "      <td>0.0</td>\n",
       "      <td>0.0</td>\n",
       "      <td>0.0</td>\n",
       "    </tr>\n",
       "    <tr>\n",
       "      <th>2</th>\n",
       "      <td>A Chopra</td>\n",
       "      <td>45.0</td>\n",
       "      <td>21.0</td>\n",
       "      <td>2.0</td>\n",
       "      <td>0.0</td>\n",
       "      <td>7.0</td>\n",
       "      <td>0.0</td>\n",
       "      <td>0.0</td>\n",
       "    </tr>\n",
       "    <tr>\n",
       "      <th>3</th>\n",
       "      <td>A Choudhary</td>\n",
       "      <td>4.0</td>\n",
       "      <td>13.0</td>\n",
       "      <td>1.0</td>\n",
       "      <td>0.0</td>\n",
       "      <td>1.0</td>\n",
       "      <td>0.0</td>\n",
       "      <td>1.0</td>\n",
       "    </tr>\n",
       "    <tr>\n",
       "      <th>4</th>\n",
       "      <td>A Dananjaya</td>\n",
       "      <td>2.0</td>\n",
       "      <td>2.0</td>\n",
       "      <td>1.0</td>\n",
       "      <td>0.0</td>\n",
       "      <td>0.0</td>\n",
       "      <td>0.0</td>\n",
       "      <td>0.0</td>\n",
       "    </tr>\n",
       "    <tr>\n",
       "      <th>...</th>\n",
       "      <td>...</td>\n",
       "      <td>...</td>\n",
       "      <td>...</td>\n",
       "      <td>...</td>\n",
       "      <td>...</td>\n",
       "      <td>...</td>\n",
       "      <td>...</td>\n",
       "      <td>...</td>\n",
       "    </tr>\n",
       "    <tr>\n",
       "      <th>532</th>\n",
       "      <td>YV Takawale</td>\n",
       "      <td>100.0</td>\n",
       "      <td>41.0</td>\n",
       "      <td>12.0</td>\n",
       "      <td>0.0</td>\n",
       "      <td>26.0</td>\n",
       "      <td>1.0</td>\n",
       "      <td>3.0</td>\n",
       "    </tr>\n",
       "    <tr>\n",
       "      <th>533</th>\n",
       "      <td>Yashpal Singh</td>\n",
       "      <td>39.0</td>\n",
       "      <td>20.0</td>\n",
       "      <td>2.0</td>\n",
       "      <td>1.0</td>\n",
       "      <td>5.0</td>\n",
       "      <td>0.0</td>\n",
       "      <td>0.0</td>\n",
       "    </tr>\n",
       "    <tr>\n",
       "      <th>534</th>\n",
       "      <td>Younis Khan</td>\n",
       "      <td>4.0</td>\n",
       "      <td>3.0</td>\n",
       "      <td>0.0</td>\n",
       "      <td>0.0</td>\n",
       "      <td>0.0</td>\n",
       "      <td>0.0</td>\n",
       "      <td>0.0</td>\n",
       "    </tr>\n",
       "    <tr>\n",
       "      <th>535</th>\n",
       "      <td>Yuvraj Singh</td>\n",
       "      <td>976.0</td>\n",
       "      <td>741.0</td>\n",
       "      <td>119.0</td>\n",
       "      <td>3.0</td>\n",
       "      <td>217.0</td>\n",
       "      <td>0.0</td>\n",
       "      <td>149.0</td>\n",
       "    </tr>\n",
       "    <tr>\n",
       "      <th>536</th>\n",
       "      <td>Z Khan</td>\n",
       "      <td>74.0</td>\n",
       "      <td>47.0</td>\n",
       "      <td>7.0</td>\n",
       "      <td>0.0</td>\n",
       "      <td>11.0</td>\n",
       "      <td>0.0</td>\n",
       "      <td>2.0</td>\n",
       "    </tr>\n",
       "  </tbody>\n",
       "</table>\n",
       "<p>537 rows × 8 columns</p>\n",
       "</div>"
      ],
      "text/plain": [
       "                     batsman  count                                      \n",
       "batsman_runs                      0      1      2    3      4    5      6\n",
       "0             A Ashish Reddy   61.0   83.0   20.0  1.0   16.0  0.0   15.0\n",
       "1                 A Chandila    3.0    4.0    0.0  0.0    0.0  0.0    0.0\n",
       "2                   A Chopra   45.0   21.0    2.0  0.0    7.0  0.0    0.0\n",
       "3                A Choudhary    4.0   13.0    1.0  0.0    1.0  0.0    1.0\n",
       "4                A Dananjaya    2.0    2.0    1.0  0.0    0.0  0.0    0.0\n",
       "..                       ...    ...    ...    ...  ...    ...  ...    ...\n",
       "532              YV Takawale  100.0   41.0   12.0  0.0   26.0  1.0    3.0\n",
       "533            Yashpal Singh   39.0   20.0    2.0  1.0    5.0  0.0    0.0\n",
       "534              Younis Khan    4.0    3.0    0.0  0.0    0.0  0.0    0.0\n",
       "535             Yuvraj Singh  976.0  741.0  119.0  3.0  217.0  0.0  149.0\n",
       "536                   Z Khan   74.0   47.0    7.0  0.0   11.0  0.0    2.0\n",
       "\n",
       "[537 rows x 8 columns]"
      ]
     },
     "execution_count": 78,
     "metadata": {},
     "output_type": "execute_result"
    }
   ],
   "source": [
    "runs.fillna(0,inplace= True)\n",
    "runs.reset_index()"
   ]
  },
  {
   "cell_type": "code",
   "execution_count": 79,
   "metadata": {
    "colab": {
     "base_uri": "https://localhost:8080/",
     "height": 269
    },
    "id": "YLt2vW6wV6fc",
    "outputId": "820b556e-6710-4925-dcd9-4b2b85eac92a"
   },
   "outputs": [
    {
     "data": {
      "text/html": [
       "<div>\n",
       "<style scoped>\n",
       "    .dataframe tbody tr th:only-of-type {\n",
       "        vertical-align: middle;\n",
       "    }\n",
       "\n",
       "    .dataframe tbody tr th {\n",
       "        vertical-align: top;\n",
       "    }\n",
       "\n",
       "    .dataframe thead tr th {\n",
       "        text-align: left;\n",
       "    }\n",
       "\n",
       "    .dataframe thead tr:last-of-type th {\n",
       "        text-align: right;\n",
       "    }\n",
       "</style>\n",
       "<table border=\"1\" class=\"dataframe\">\n",
       "  <thead>\n",
       "    <tr>\n",
       "      <th></th>\n",
       "      <th colspan=\"7\" halign=\"left\">count</th>\n",
       "    </tr>\n",
       "    <tr>\n",
       "      <th>batsman_runs</th>\n",
       "      <th>0</th>\n",
       "      <th>1</th>\n",
       "      <th>2</th>\n",
       "      <th>3</th>\n",
       "      <th>4</th>\n",
       "      <th>5</th>\n",
       "      <th>6</th>\n",
       "    </tr>\n",
       "    <tr>\n",
       "      <th>batsman</th>\n",
       "      <th></th>\n",
       "      <th></th>\n",
       "      <th></th>\n",
       "      <th></th>\n",
       "      <th></th>\n",
       "      <th></th>\n",
       "      <th></th>\n",
       "    </tr>\n",
       "  </thead>\n",
       "  <tbody>\n",
       "    <tr>\n",
       "      <th>A Ashish Reddy</th>\n",
       "      <td>61.0</td>\n",
       "      <td>83.0</td>\n",
       "      <td>20.0</td>\n",
       "      <td>1.0</td>\n",
       "      <td>16.0</td>\n",
       "      <td>0.0</td>\n",
       "      <td>15.0</td>\n",
       "    </tr>\n",
       "    <tr>\n",
       "      <th>A Chandila</th>\n",
       "      <td>3.0</td>\n",
       "      <td>4.0</td>\n",
       "      <td>0.0</td>\n",
       "      <td>0.0</td>\n",
       "      <td>0.0</td>\n",
       "      <td>0.0</td>\n",
       "      <td>0.0</td>\n",
       "    </tr>\n",
       "    <tr>\n",
       "      <th>A Chopra</th>\n",
       "      <td>45.0</td>\n",
       "      <td>21.0</td>\n",
       "      <td>2.0</td>\n",
       "      <td>0.0</td>\n",
       "      <td>7.0</td>\n",
       "      <td>0.0</td>\n",
       "      <td>0.0</td>\n",
       "    </tr>\n",
       "    <tr>\n",
       "      <th>A Choudhary</th>\n",
       "      <td>4.0</td>\n",
       "      <td>13.0</td>\n",
       "      <td>1.0</td>\n",
       "      <td>0.0</td>\n",
       "      <td>1.0</td>\n",
       "      <td>0.0</td>\n",
       "      <td>1.0</td>\n",
       "    </tr>\n",
       "    <tr>\n",
       "      <th>A Dananjaya</th>\n",
       "      <td>2.0</td>\n",
       "      <td>2.0</td>\n",
       "      <td>1.0</td>\n",
       "      <td>0.0</td>\n",
       "      <td>0.0</td>\n",
       "      <td>0.0</td>\n",
       "      <td>0.0</td>\n",
       "    </tr>\n",
       "  </tbody>\n",
       "</table>\n",
       "</div>"
      ],
      "text/plain": [
       "               count                                  \n",
       "batsman_runs       0     1     2    3     4    5     6\n",
       "batsman                                               \n",
       "A Ashish Reddy  61.0  83.0  20.0  1.0  16.0  0.0  15.0\n",
       "A Chandila       3.0   4.0   0.0  0.0   0.0  0.0   0.0\n",
       "A Chopra        45.0  21.0   2.0  0.0   7.0  0.0   0.0\n",
       "A Choudhary      4.0  13.0   1.0  0.0   1.0  0.0   1.0\n",
       "A Dananjaya      2.0   2.0   1.0  0.0   0.0  0.0   0.0"
      ]
     },
     "execution_count": 79,
     "metadata": {},
     "output_type": "execute_result"
    }
   ],
   "source": [
    "runs.head()"
   ]
  },
  {
   "cell_type": "code",
   "execution_count": 80,
   "metadata": {
    "colab": {
     "base_uri": "https://localhost:8080/",
     "height": 455
    },
    "id": "tbvZmcs1ZtOo",
    "outputId": "92abf42e-1054-4973-9825-169e175bd4e5"
   },
   "outputs": [
    {
     "data": {
      "text/html": [
       "<div>\n",
       "<style scoped>\n",
       "    .dataframe tbody tr th:only-of-type {\n",
       "        vertical-align: middle;\n",
       "    }\n",
       "\n",
       "    .dataframe tbody tr th {\n",
       "        vertical-align: top;\n",
       "    }\n",
       "\n",
       "    .dataframe thead th {\n",
       "        text-align: right;\n",
       "    }\n",
       "</style>\n",
       "<table border=\"1\" class=\"dataframe\">\n",
       "  <thead>\n",
       "    <tr style=\"text-align: right;\">\n",
       "      <th>batsman_runs</th>\n",
       "      <th>0</th>\n",
       "      <th>1</th>\n",
       "      <th>2</th>\n",
       "      <th>3</th>\n",
       "      <th>4</th>\n",
       "      <th>5</th>\n",
       "      <th>6</th>\n",
       "    </tr>\n",
       "    <tr>\n",
       "      <th>batsman</th>\n",
       "      <th></th>\n",
       "      <th></th>\n",
       "      <th></th>\n",
       "      <th></th>\n",
       "      <th></th>\n",
       "      <th></th>\n",
       "      <th></th>\n",
       "    </tr>\n",
       "  </thead>\n",
       "  <tbody>\n",
       "    <tr>\n",
       "      <th>A Ashish Reddy</th>\n",
       "      <td>61.0</td>\n",
       "      <td>83.0</td>\n",
       "      <td>20.0</td>\n",
       "      <td>1.0</td>\n",
       "      <td>16.0</td>\n",
       "      <td>0.0</td>\n",
       "      <td>15.0</td>\n",
       "    </tr>\n",
       "    <tr>\n",
       "      <th>A Chandila</th>\n",
       "      <td>3.0</td>\n",
       "      <td>4.0</td>\n",
       "      <td>0.0</td>\n",
       "      <td>0.0</td>\n",
       "      <td>0.0</td>\n",
       "      <td>0.0</td>\n",
       "      <td>0.0</td>\n",
       "    </tr>\n",
       "    <tr>\n",
       "      <th>A Chopra</th>\n",
       "      <td>45.0</td>\n",
       "      <td>21.0</td>\n",
       "      <td>2.0</td>\n",
       "      <td>0.0</td>\n",
       "      <td>7.0</td>\n",
       "      <td>0.0</td>\n",
       "      <td>0.0</td>\n",
       "    </tr>\n",
       "    <tr>\n",
       "      <th>A Choudhary</th>\n",
       "      <td>4.0</td>\n",
       "      <td>13.0</td>\n",
       "      <td>1.0</td>\n",
       "      <td>0.0</td>\n",
       "      <td>1.0</td>\n",
       "      <td>0.0</td>\n",
       "      <td>1.0</td>\n",
       "    </tr>\n",
       "    <tr>\n",
       "      <th>A Dananjaya</th>\n",
       "      <td>2.0</td>\n",
       "      <td>2.0</td>\n",
       "      <td>1.0</td>\n",
       "      <td>0.0</td>\n",
       "      <td>0.0</td>\n",
       "      <td>0.0</td>\n",
       "      <td>0.0</td>\n",
       "    </tr>\n",
       "    <tr>\n",
       "      <th>...</th>\n",
       "      <td>...</td>\n",
       "      <td>...</td>\n",
       "      <td>...</td>\n",
       "      <td>...</td>\n",
       "      <td>...</td>\n",
       "      <td>...</td>\n",
       "      <td>...</td>\n",
       "    </tr>\n",
       "    <tr>\n",
       "      <th>YV Takawale</th>\n",
       "      <td>100.0</td>\n",
       "      <td>41.0</td>\n",
       "      <td>12.0</td>\n",
       "      <td>0.0</td>\n",
       "      <td>26.0</td>\n",
       "      <td>1.0</td>\n",
       "      <td>3.0</td>\n",
       "    </tr>\n",
       "    <tr>\n",
       "      <th>Yashpal Singh</th>\n",
       "      <td>39.0</td>\n",
       "      <td>20.0</td>\n",
       "      <td>2.0</td>\n",
       "      <td>1.0</td>\n",
       "      <td>5.0</td>\n",
       "      <td>0.0</td>\n",
       "      <td>0.0</td>\n",
       "    </tr>\n",
       "    <tr>\n",
       "      <th>Younis Khan</th>\n",
       "      <td>4.0</td>\n",
       "      <td>3.0</td>\n",
       "      <td>0.0</td>\n",
       "      <td>0.0</td>\n",
       "      <td>0.0</td>\n",
       "      <td>0.0</td>\n",
       "      <td>0.0</td>\n",
       "    </tr>\n",
       "    <tr>\n",
       "      <th>Yuvraj Singh</th>\n",
       "      <td>976.0</td>\n",
       "      <td>741.0</td>\n",
       "      <td>119.0</td>\n",
       "      <td>3.0</td>\n",
       "      <td>217.0</td>\n",
       "      <td>0.0</td>\n",
       "      <td>149.0</td>\n",
       "    </tr>\n",
       "    <tr>\n",
       "      <th>Z Khan</th>\n",
       "      <td>74.0</td>\n",
       "      <td>47.0</td>\n",
       "      <td>7.0</td>\n",
       "      <td>0.0</td>\n",
       "      <td>11.0</td>\n",
       "      <td>0.0</td>\n",
       "      <td>2.0</td>\n",
       "    </tr>\n",
       "  </tbody>\n",
       "</table>\n",
       "<p>537 rows × 7 columns</p>\n",
       "</div>"
      ],
      "text/plain": [
       "batsman_runs        0      1      2    3      4    5      6\n",
       "batsman                                                    \n",
       "A Ashish Reddy   61.0   83.0   20.0  1.0   16.0  0.0   15.0\n",
       "A Chandila        3.0    4.0    0.0  0.0    0.0  0.0    0.0\n",
       "A Chopra         45.0   21.0    2.0  0.0    7.0  0.0    0.0\n",
       "A Choudhary       4.0   13.0    1.0  0.0    1.0  0.0    1.0\n",
       "A Dananjaya       2.0    2.0    1.0  0.0    0.0  0.0    0.0\n",
       "...               ...    ...    ...  ...    ...  ...    ...\n",
       "YV Takawale     100.0   41.0   12.0  0.0   26.0  1.0    3.0\n",
       "Yashpal Singh    39.0   20.0    2.0  1.0    5.0  0.0    0.0\n",
       "Younis Khan       4.0    3.0    0.0  0.0    0.0  0.0    0.0\n",
       "Yuvraj Singh    976.0  741.0  119.0  3.0  217.0  0.0  149.0\n",
       "Z Khan           74.0   47.0    7.0  0.0   11.0  0.0    2.0\n",
       "\n",
       "[537 rows x 7 columns]"
      ]
     },
     "execution_count": 80,
     "metadata": {},
     "output_type": "execute_result"
    }
   ],
   "source": [
    "runs = runs['count']\n",
    "runs"
   ]
  },
  {
   "cell_type": "code",
   "execution_count": 81,
   "metadata": {
    "id": "uTzFbPFgaXGo"
   },
   "outputs": [],
   "source": [
    "runs['Sixes']= runs[6]\n",
    "runs['Fours']= runs[4]\n",
    "runs = runs[runs.index.isin(top_batsmen)]"
   ]
  },
  {
   "cell_type": "code",
   "execution_count": 82,
   "metadata": {
    "colab": {
     "base_uri": "https://localhost:8080/",
     "height": 237
    },
    "id": "qbZ126noa4cp",
    "outputId": "e57fc6f6-b7d0-4f66-f9e9-d508970dc8fc"
   },
   "outputs": [
    {
     "data": {
      "text/html": [
       "<div>\n",
       "<style scoped>\n",
       "    .dataframe tbody tr th:only-of-type {\n",
       "        vertical-align: middle;\n",
       "    }\n",
       "\n",
       "    .dataframe tbody tr th {\n",
       "        vertical-align: top;\n",
       "    }\n",
       "\n",
       "    .dataframe thead th {\n",
       "        text-align: right;\n",
       "    }\n",
       "</style>\n",
       "<table border=\"1\" class=\"dataframe\">\n",
       "  <thead>\n",
       "    <tr style=\"text-align: right;\">\n",
       "      <th>batsman_runs</th>\n",
       "      <th>0</th>\n",
       "      <th>1</th>\n",
       "      <th>2</th>\n",
       "      <th>3</th>\n",
       "      <th>4</th>\n",
       "      <th>5</th>\n",
       "      <th>6</th>\n",
       "      <th>Sixes</th>\n",
       "      <th>Fours</th>\n",
       "    </tr>\n",
       "    <tr>\n",
       "      <th>batsman</th>\n",
       "      <th></th>\n",
       "      <th></th>\n",
       "      <th></th>\n",
       "      <th></th>\n",
       "      <th></th>\n",
       "      <th></th>\n",
       "      <th></th>\n",
       "      <th></th>\n",
       "      <th></th>\n",
       "    </tr>\n",
       "  </thead>\n",
       "  <tbody>\n",
       "    <tr>\n",
       "      <th>AB de Villiers</th>\n",
       "      <td>1041.0</td>\n",
       "      <td>1333.0</td>\n",
       "      <td>249.0</td>\n",
       "      <td>16.0</td>\n",
       "      <td>390.0</td>\n",
       "      <td>0.0</td>\n",
       "      <td>235.0</td>\n",
       "      <td>235.0</td>\n",
       "      <td>390.0</td>\n",
       "    </tr>\n",
       "    <tr>\n",
       "      <th>AM Rahane</th>\n",
       "      <td>1271.0</td>\n",
       "      <td>1326.0</td>\n",
       "      <td>221.0</td>\n",
       "      <td>15.0</td>\n",
       "      <td>416.0</td>\n",
       "      <td>0.0</td>\n",
       "      <td>76.0</td>\n",
       "      <td>76.0</td>\n",
       "      <td>416.0</td>\n",
       "    </tr>\n",
       "    <tr>\n",
       "      <th>AT Rayudu</th>\n",
       "      <td>1069.0</td>\n",
       "      <td>1288.0</td>\n",
       "      <td>172.0</td>\n",
       "      <td>1.0</td>\n",
       "      <td>308.0</td>\n",
       "      <td>0.0</td>\n",
       "      <td>132.0</td>\n",
       "      <td>132.0</td>\n",
       "      <td>308.0</td>\n",
       "    </tr>\n",
       "    <tr>\n",
       "      <th>BB McCullum</th>\n",
       "      <td>1025.0</td>\n",
       "      <td>713.0</td>\n",
       "      <td>103.0</td>\n",
       "      <td>3.0</td>\n",
       "      <td>293.0</td>\n",
       "      <td>0.0</td>\n",
       "      <td>130.0</td>\n",
       "      <td>130.0</td>\n",
       "      <td>293.0</td>\n",
       "    </tr>\n",
       "    <tr>\n",
       "      <th>CH Gayle</th>\n",
       "      <td>1560.0</td>\n",
       "      <td>959.0</td>\n",
       "      <td>87.0</td>\n",
       "      <td>3.0</td>\n",
       "      <td>384.0</td>\n",
       "      <td>0.0</td>\n",
       "      <td>349.0</td>\n",
       "      <td>349.0</td>\n",
       "      <td>384.0</td>\n",
       "    </tr>\n",
       "  </tbody>\n",
       "</table>\n",
       "</div>"
      ],
      "text/plain": [
       "batsman_runs         0       1      2     3      4    5      6  Sixes  Fours\n",
       "batsman                                                                     \n",
       "AB de Villiers  1041.0  1333.0  249.0  16.0  390.0  0.0  235.0  235.0  390.0\n",
       "AM Rahane       1271.0  1326.0  221.0  15.0  416.0  0.0   76.0   76.0  416.0\n",
       "AT Rayudu       1069.0  1288.0  172.0   1.0  308.0  0.0  132.0  132.0  308.0\n",
       "BB McCullum     1025.0   713.0  103.0   3.0  293.0  0.0  130.0  130.0  293.0\n",
       "CH Gayle        1560.0   959.0   87.0   3.0  384.0  0.0  349.0  349.0  384.0"
      ]
     },
     "execution_count": 82,
     "metadata": {},
     "output_type": "execute_result"
    }
   ],
   "source": [
    "runs.head()"
   ]
  },
  {
   "cell_type": "code",
   "execution_count": 83,
   "metadata": {
    "colab": {
     "base_uri": "https://localhost:8080/",
     "height": 237
    },
    "id": "C9mTAZzub5n3",
    "outputId": "b2e908b8-ef2c-45c1-ed2e-a3f2196770fa"
   },
   "outputs": [
    {
     "data": {
      "text/html": [
       "<div>\n",
       "<style scoped>\n",
       "    .dataframe tbody tr th:only-of-type {\n",
       "        vertical-align: middle;\n",
       "    }\n",
       "\n",
       "    .dataframe tbody tr th {\n",
       "        vertical-align: top;\n",
       "    }\n",
       "\n",
       "    .dataframe thead th {\n",
       "        text-align: right;\n",
       "    }\n",
       "</style>\n",
       "<table border=\"1\" class=\"dataframe\">\n",
       "  <thead>\n",
       "    <tr style=\"text-align: right;\">\n",
       "      <th></th>\n",
       "      <th>strike_rate</th>\n",
       "    </tr>\n",
       "    <tr>\n",
       "      <th>batsman</th>\n",
       "      <th></th>\n",
       "    </tr>\n",
       "  </thead>\n",
       "  <tbody>\n",
       "    <tr>\n",
       "      <th>AB de Villiers</th>\n",
       "      <td>148.606213</td>\n",
       "    </tr>\n",
       "    <tr>\n",
       "      <th>AM Rahane</th>\n",
       "      <td>126.922426</td>\n",
       "    </tr>\n",
       "    <tr>\n",
       "      <th>AT Rayudu</th>\n",
       "      <td>123.519155</td>\n",
       "    </tr>\n",
       "    <tr>\n",
       "      <th>BB McCullum</th>\n",
       "      <td>142.437787</td>\n",
       "    </tr>\n",
       "    <tr>\n",
       "      <th>CH Gayle</th>\n",
       "      <td>158.360420</td>\n",
       "    </tr>\n",
       "  </tbody>\n",
       "</table>\n",
       "</div>"
      ],
      "text/plain": [
       "                strike_rate\n",
       "batsman                    \n",
       "AB de Villiers   148.606213\n",
       "AM Rahane        126.922426\n",
       "AT Rayudu        123.519155\n",
       "BB McCullum      142.437787\n",
       "CH Gayle         158.360420"
      ]
     },
     "execution_count": 83,
     "metadata": {},
     "output_type": "execute_result"
    }
   ],
   "source": [
    "df_  = df_batsman_runs\n",
    "df_.set_index('batsman')\n",
    "df_ = df_.pivot_table(index= 'batsman',aggfunc='mean',values= 'strike_rate')\n",
    "df_= df_[df_.index.isin(top_batsmen)]\n",
    "df_.head(5)"
   ]
  },
  {
   "cell_type": "code",
   "execution_count": 84,
   "metadata": {
    "id": "1e4QcAK4cMz2"
   },
   "outputs": [],
   "source": [
    "total_runs =  df_batsman_runs.pivot_table(index = 'batsman' ,aggfunc= ['sum'], values= 'runs') \n",
    "total_runs = total_runs[total_runs.index.isin(top_batsmen)]\n"
   ]
  },
  {
   "cell_type": "code",
   "execution_count": 85,
   "metadata": {
    "id": "EGxh6HeBcxas"
   },
   "outputs": [],
   "source": [
    "total_runs.reset_index()\n",
    "total_runs = total_runs['sum']\n"
   ]
  },
  {
   "cell_type": "code",
   "execution_count": 86,
   "metadata": {
    "id": "tZgnGCk2cfwC"
   },
   "outputs": [],
   "source": [
    "total_runs.sort_values(by= 'runs',ascending= False,inplace = True)\n",
    "runs= runs[ ['Sixes','Fours']]\n",
    " "
   ]
  },
  {
   "cell_type": "code",
   "execution_count": 87,
   "metadata": {
    "id": "rbf5jZMceZXu"
   },
   "outputs": [],
   "source": [
    "batsman_stats = runs.merge(total_runs,on = 'batsman' )\n",
    "batsman_stats = batsman_stats.merge(df_,on = 'batsman')\n",
    "batsman_stats['Points'] = batsman_stats['strike_rate']*1 + batsman_stats['Sixes']*0.5 + batsman_stats['Fours']*0.5 + batsman_stats['runs']*0.75"
   ]
  },
  {
   "cell_type": "code",
   "execution_count": 88,
   "metadata": {
    "id": "XBU7_kDpftRP"
   },
   "outputs": [],
   "source": [
    "df_stats= pd.DataFrame()\n",
    "df_stats['runs'] = (batsman_stats['runs'])/(batsman_stats['runs'].max()/100)\n",
    "df_stats['Sixes'] = (batsman_stats['Sixes'])/(batsman_stats['Sixes'].max()/100)\n",
    "df_stats['Fours'] = (batsman_stats['Fours'])/(batsman_stats['Fours'].max()/100)\n",
    "df_stats['Points'] = (batsman_stats['Points'])/(batsman_stats['Points'].max()/100)\n",
    "df_stats['strike_rate'] = (batsman_stats['strike_rate'])/(batsman_stats['strike_rate'].max()/100)"
   ]
  },
  {
   "cell_type": "code",
   "execution_count": 89,
   "metadata": {
    "colab": {
     "base_uri": "https://localhost:8080/",
     "height": 237
    },
    "id": "nqOCLQrlhnq7",
    "outputId": "adc1011d-153c-4205-de83-56a26809afb3"
   },
   "outputs": [
    {
     "data": {
      "text/html": [
       "<div>\n",
       "<style scoped>\n",
       "    .dataframe tbody tr th:only-of-type {\n",
       "        vertical-align: middle;\n",
       "    }\n",
       "\n",
       "    .dataframe tbody tr th {\n",
       "        vertical-align: top;\n",
       "    }\n",
       "\n",
       "    .dataframe thead th {\n",
       "        text-align: right;\n",
       "    }\n",
       "</style>\n",
       "<table border=\"1\" class=\"dataframe\">\n",
       "  <thead>\n",
       "    <tr style=\"text-align: right;\">\n",
       "      <th></th>\n",
       "      <th>runs</th>\n",
       "      <th>Sixes</th>\n",
       "      <th>Fours</th>\n",
       "      <th>Points</th>\n",
       "      <th>strike_rate</th>\n",
       "    </tr>\n",
       "    <tr>\n",
       "      <th>batsman</th>\n",
       "      <th></th>\n",
       "      <th></th>\n",
       "      <th></th>\n",
       "      <th></th>\n",
       "      <th></th>\n",
       "    </tr>\n",
       "  </thead>\n",
       "  <tbody>\n",
       "    <tr>\n",
       "      <th>V Kohli</th>\n",
       "      <td>100.000000</td>\n",
       "      <td>57.879656</td>\n",
       "      <td>85.279188</td>\n",
       "      <td>100.000000</td>\n",
       "      <td>86.326950</td>\n",
       "    </tr>\n",
       "    <tr>\n",
       "      <th>SK Raina</th>\n",
       "      <td>91.323579</td>\n",
       "      <td>55.587393</td>\n",
       "      <td>83.417936</td>\n",
       "      <td>91.977861</td>\n",
       "      <td>85.732722</td>\n",
       "    </tr>\n",
       "    <tr>\n",
       "      <th>DA Warner</th>\n",
       "      <td>89.384144</td>\n",
       "      <td>55.873926</td>\n",
       "      <td>86.294416</td>\n",
       "      <td>90.726366</td>\n",
       "      <td>95.330556</td>\n",
       "    </tr>\n",
       "    <tr>\n",
       "      <th>RG Sharma</th>\n",
       "      <td>88.975842</td>\n",
       "      <td>61.318052</td>\n",
       "      <td>77.495770</td>\n",
       "      <td>89.665388</td>\n",
       "      <td>84.299450</td>\n",
       "    </tr>\n",
       "    <tr>\n",
       "      <th>S Dhawan</th>\n",
       "      <td>88.414427</td>\n",
       "      <td>31.232092</td>\n",
       "      <td>100.000000</td>\n",
       "      <td>89.416772</td>\n",
       "      <td>83.397891</td>\n",
       "    </tr>\n",
       "  </tbody>\n",
       "</table>\n",
       "</div>"
      ],
      "text/plain": [
       "                 runs      Sixes       Fours      Points  strike_rate\n",
       "batsman                                                              \n",
       "V Kohli    100.000000  57.879656   85.279188  100.000000    86.326950\n",
       "SK Raina    91.323579  55.587393   83.417936   91.977861    85.732722\n",
       "DA Warner   89.384144  55.873926   86.294416   90.726366    95.330556\n",
       "RG Sharma   88.975842  61.318052   77.495770   89.665388    84.299450\n",
       "S Dhawan    88.414427  31.232092  100.000000   89.416772    83.397891"
      ]
     },
     "execution_count": 89,
     "metadata": {},
     "output_type": "execute_result"
    }
   ],
   "source": [
    "df_stats.sort_values(by = 'Points',ascending = False,inplace = True)\n",
    "df_stats.head()"
   ]
  },
  {
   "cell_type": "code",
   "execution_count": 90,
   "metadata": {
    "id": "HsLJNxSkn0n2"
   },
   "outputs": [],
   "source": [
    "def compare(a,b,c):\n",
    "  x = df_stats[df_stats.index == a]\n",
    "  y = df_stats[df_stats.index == b]\n",
    "  z = df_stats[df_stats.index == c]\n",
    "\n",
    "  data = [go.Scatterpolar(\n",
    "  r = [x['Fours'].values[0],x['Sixes'].values[0],x['runs'].values[0],x['strike_rate'].values[0],x['Points'].values[0]],\n",
    "  theta = ['Fours','Sixes','Runs','Strike Rate','Points'],\n",
    "  fill = 'toself', opacity = 0.8,subplot = \"polar1\",\n",
    "  name = a),\n",
    "  go.Scatterpolar(\n",
    "  r = [y['Fours'].values[0],y['Sixes'].values[0],y['runs'].values[0],y['strike_rate'].values[0],y['Points'].values[0]],\n",
    "  theta = ['Fours','Sixes','Runs','Strike Rate','Points'],\n",
    "  fill = 'toself', opacity = 0.8,subplot = \"polar2\",\n",
    "  name = b),\n",
    "  go.Scatterpolar(\n",
    "  r = [z['Fours'].values[0],z['Sixes'].values[0],z['runs'].values[0],z['strike_rate'].values[0],z['Points'].values[0]],\n",
    "  theta = ['Fours','Sixes','Runs','Strike Rate','Points'],\n",
    "  fill = 'toself', opacity = 0.8,subplot= 'polar3',\n",
    "  name = c)]\n",
    "  layout = go.Layout(title = f\"Comparison Between {a}, {b}, {c}\",\n",
    "                   \n",
    "                   polar1 = dict(radialaxis = dict(visible = True,range = [0, 100]),\n",
    "                   domain = dict(x = [0, 0.25],y = [0, 1])),\n",
    "                  \n",
    "                   polar2 = dict(radialaxis = dict(visible = True,range = [0, 100]),\n",
    "                   domain = dict(x = [0.35, 0.65],y = [0, 1])),\n",
    "                  \n",
    "                   polar3 = dict(radialaxis = dict(visible = True,range = [0, 100]),\n",
    "                   domain = dict(x = [0.75, 1.0],y = [0, 1])),)\n",
    "  \n",
    "  fig = go.Figure(data=data, layout=layout)\n",
    "  pyo.iplot(fig)"
   ]
  },
  {
   "cell_type": "code",
   "execution_count": 91,
   "metadata": {
    "colab": {
     "base_uri": "https://localhost:8080/",
     "height": 542
    },
    "id": "pasgXQ7FZsEs",
    "outputId": "e34c4cfc-8fbf-4d06-9651-c899bd91346f"
   },
   "outputs": [
    {
     "data": {
      "application/vnd.plotly.v1+json": {
       "config": {
        "linkText": "Export to plot.ly",
        "plotlyServerURL": "https://plot.ly",
        "showLink": false
       },
       "data": [
        {
         "fill": "toself",
         "name": "V Kohli",
         "opacity": 0.8,
         "r": [
          85.27918781725889,
          57.87965616045845,
          100,
          86.32695039330191,
          100
         ],
         "subplot": "polar",
         "theta": [
          "Fours",
          "Sixes",
          "Runs",
          "Strike Rate",
          "Points"
         ],
         "type": "scatterpolar"
        },
        {
         "fill": "toself",
         "name": "S Dhawan",
         "opacity": 0.8,
         "r": [
          100,
          31.23209169054441,
          88.41442667574005,
          83.39789100844403,
          89.41677241407325
         ],
         "subplot": "polar2",
         "theta": [
          "Fours",
          "Sixes",
          "Runs",
          "Strike Rate",
          "Points"
         ],
         "type": "scatterpolar"
        },
        {
         "fill": "toself",
         "name": "DA Warner",
         "opacity": 0.8,
         "r": [
          86.29441624365482,
          55.87392550143266,
          89.3841442667574,
          95.33055622551635,
          90.72636609332159
         ],
         "subplot": "polar3",
         "theta": [
          "Fours",
          "Sixes",
          "Runs",
          "Strike Rate",
          "Points"
         ],
         "type": "scatterpolar"
        }
       ],
       "layout": {
        "polar": {
         "domain": {
          "x": [
           0,
           0.25
          ],
          "y": [
           0,
           1
          ]
         },
         "radialaxis": {
          "range": [
           0,
           100
          ],
          "visible": true
         }
        },
        "polar2": {
         "domain": {
          "x": [
           0.35,
           0.65
          ],
          "y": [
           0,
           1
          ]
         },
         "radialaxis": {
          "range": [
           0,
           100
          ],
          "visible": true
         }
        },
        "polar3": {
         "domain": {
          "x": [
           0.75,
           1
          ],
          "y": [
           0,
           1
          ]
         },
         "radialaxis": {
          "range": [
           0,
           100
          ],
          "visible": true
         }
        },
        "template": {
         "data": {
          "bar": [
           {
            "error_x": {
             "color": "#2a3f5f"
            },
            "error_y": {
             "color": "#2a3f5f"
            },
            "marker": {
             "line": {
              "color": "#E5ECF6",
              "width": 0.5
             },
             "pattern": {
              "fillmode": "overlay",
              "size": 10,
              "solidity": 0.2
             }
            },
            "type": "bar"
           }
          ],
          "barpolar": [
           {
            "marker": {
             "line": {
              "color": "#E5ECF6",
              "width": 0.5
             },
             "pattern": {
              "fillmode": "overlay",
              "size": 10,
              "solidity": 0.2
             }
            },
            "type": "barpolar"
           }
          ],
          "carpet": [
           {
            "aaxis": {
             "endlinecolor": "#2a3f5f",
             "gridcolor": "white",
             "linecolor": "white",
             "minorgridcolor": "white",
             "startlinecolor": "#2a3f5f"
            },
            "baxis": {
             "endlinecolor": "#2a3f5f",
             "gridcolor": "white",
             "linecolor": "white",
             "minorgridcolor": "white",
             "startlinecolor": "#2a3f5f"
            },
            "type": "carpet"
           }
          ],
          "choropleth": [
           {
            "colorbar": {
             "outlinewidth": 0,
             "ticks": ""
            },
            "type": "choropleth"
           }
          ],
          "contour": [
           {
            "colorbar": {
             "outlinewidth": 0,
             "ticks": ""
            },
            "colorscale": [
             [
              0,
              "#0d0887"
             ],
             [
              0.1111111111111111,
              "#46039f"
             ],
             [
              0.2222222222222222,
              "#7201a8"
             ],
             [
              0.3333333333333333,
              "#9c179e"
             ],
             [
              0.4444444444444444,
              "#bd3786"
             ],
             [
              0.5555555555555556,
              "#d8576b"
             ],
             [
              0.6666666666666666,
              "#ed7953"
             ],
             [
              0.7777777777777778,
              "#fb9f3a"
             ],
             [
              0.8888888888888888,
              "#fdca26"
             ],
             [
              1,
              "#f0f921"
             ]
            ],
            "type": "contour"
           }
          ],
          "contourcarpet": [
           {
            "colorbar": {
             "outlinewidth": 0,
             "ticks": ""
            },
            "type": "contourcarpet"
           }
          ],
          "heatmap": [
           {
            "colorbar": {
             "outlinewidth": 0,
             "ticks": ""
            },
            "colorscale": [
             [
              0,
              "#0d0887"
             ],
             [
              0.1111111111111111,
              "#46039f"
             ],
             [
              0.2222222222222222,
              "#7201a8"
             ],
             [
              0.3333333333333333,
              "#9c179e"
             ],
             [
              0.4444444444444444,
              "#bd3786"
             ],
             [
              0.5555555555555556,
              "#d8576b"
             ],
             [
              0.6666666666666666,
              "#ed7953"
             ],
             [
              0.7777777777777778,
              "#fb9f3a"
             ],
             [
              0.8888888888888888,
              "#fdca26"
             ],
             [
              1,
              "#f0f921"
             ]
            ],
            "type": "heatmap"
           }
          ],
          "heatmapgl": [
           {
            "colorbar": {
             "outlinewidth": 0,
             "ticks": ""
            },
            "colorscale": [
             [
              0,
              "#0d0887"
             ],
             [
              0.1111111111111111,
              "#46039f"
             ],
             [
              0.2222222222222222,
              "#7201a8"
             ],
             [
              0.3333333333333333,
              "#9c179e"
             ],
             [
              0.4444444444444444,
              "#bd3786"
             ],
             [
              0.5555555555555556,
              "#d8576b"
             ],
             [
              0.6666666666666666,
              "#ed7953"
             ],
             [
              0.7777777777777778,
              "#fb9f3a"
             ],
             [
              0.8888888888888888,
              "#fdca26"
             ],
             [
              1,
              "#f0f921"
             ]
            ],
            "type": "heatmapgl"
           }
          ],
          "histogram": [
           {
            "marker": {
             "pattern": {
              "fillmode": "overlay",
              "size": 10,
              "solidity": 0.2
             }
            },
            "type": "histogram"
           }
          ],
          "histogram2d": [
           {
            "colorbar": {
             "outlinewidth": 0,
             "ticks": ""
            },
            "colorscale": [
             [
              0,
              "#0d0887"
             ],
             [
              0.1111111111111111,
              "#46039f"
             ],
             [
              0.2222222222222222,
              "#7201a8"
             ],
             [
              0.3333333333333333,
              "#9c179e"
             ],
             [
              0.4444444444444444,
              "#bd3786"
             ],
             [
              0.5555555555555556,
              "#d8576b"
             ],
             [
              0.6666666666666666,
              "#ed7953"
             ],
             [
              0.7777777777777778,
              "#fb9f3a"
             ],
             [
              0.8888888888888888,
              "#fdca26"
             ],
             [
              1,
              "#f0f921"
             ]
            ],
            "type": "histogram2d"
           }
          ],
          "histogram2dcontour": [
           {
            "colorbar": {
             "outlinewidth": 0,
             "ticks": ""
            },
            "colorscale": [
             [
              0,
              "#0d0887"
             ],
             [
              0.1111111111111111,
              "#46039f"
             ],
             [
              0.2222222222222222,
              "#7201a8"
             ],
             [
              0.3333333333333333,
              "#9c179e"
             ],
             [
              0.4444444444444444,
              "#bd3786"
             ],
             [
              0.5555555555555556,
              "#d8576b"
             ],
             [
              0.6666666666666666,
              "#ed7953"
             ],
             [
              0.7777777777777778,
              "#fb9f3a"
             ],
             [
              0.8888888888888888,
              "#fdca26"
             ],
             [
              1,
              "#f0f921"
             ]
            ],
            "type": "histogram2dcontour"
           }
          ],
          "mesh3d": [
           {
            "colorbar": {
             "outlinewidth": 0,
             "ticks": ""
            },
            "type": "mesh3d"
           }
          ],
          "parcoords": [
           {
            "line": {
             "colorbar": {
              "outlinewidth": 0,
              "ticks": ""
             }
            },
            "type": "parcoords"
           }
          ],
          "pie": [
           {
            "automargin": true,
            "type": "pie"
           }
          ],
          "scatter": [
           {
            "fillpattern": {
             "fillmode": "overlay",
             "size": 10,
             "solidity": 0.2
            },
            "type": "scatter"
           }
          ],
          "scatter3d": [
           {
            "line": {
             "colorbar": {
              "outlinewidth": 0,
              "ticks": ""
             }
            },
            "marker": {
             "colorbar": {
              "outlinewidth": 0,
              "ticks": ""
             }
            },
            "type": "scatter3d"
           }
          ],
          "scattercarpet": [
           {
            "marker": {
             "colorbar": {
              "outlinewidth": 0,
              "ticks": ""
             }
            },
            "type": "scattercarpet"
           }
          ],
          "scattergeo": [
           {
            "marker": {
             "colorbar": {
              "outlinewidth": 0,
              "ticks": ""
             }
            },
            "type": "scattergeo"
           }
          ],
          "scattergl": [
           {
            "marker": {
             "colorbar": {
              "outlinewidth": 0,
              "ticks": ""
             }
            },
            "type": "scattergl"
           }
          ],
          "scattermapbox": [
           {
            "marker": {
             "colorbar": {
              "outlinewidth": 0,
              "ticks": ""
             }
            },
            "type": "scattermapbox"
           }
          ],
          "scatterpolar": [
           {
            "marker": {
             "colorbar": {
              "outlinewidth": 0,
              "ticks": ""
             }
            },
            "type": "scatterpolar"
           }
          ],
          "scatterpolargl": [
           {
            "marker": {
             "colorbar": {
              "outlinewidth": 0,
              "ticks": ""
             }
            },
            "type": "scatterpolargl"
           }
          ],
          "scatterternary": [
           {
            "marker": {
             "colorbar": {
              "outlinewidth": 0,
              "ticks": ""
             }
            },
            "type": "scatterternary"
           }
          ],
          "surface": [
           {
            "colorbar": {
             "outlinewidth": 0,
             "ticks": ""
            },
            "colorscale": [
             [
              0,
              "#0d0887"
             ],
             [
              0.1111111111111111,
              "#46039f"
             ],
             [
              0.2222222222222222,
              "#7201a8"
             ],
             [
              0.3333333333333333,
              "#9c179e"
             ],
             [
              0.4444444444444444,
              "#bd3786"
             ],
             [
              0.5555555555555556,
              "#d8576b"
             ],
             [
              0.6666666666666666,
              "#ed7953"
             ],
             [
              0.7777777777777778,
              "#fb9f3a"
             ],
             [
              0.8888888888888888,
              "#fdca26"
             ],
             [
              1,
              "#f0f921"
             ]
            ],
            "type": "surface"
           }
          ],
          "table": [
           {
            "cells": {
             "fill": {
              "color": "#EBF0F8"
             },
             "line": {
              "color": "white"
             }
            },
            "header": {
             "fill": {
              "color": "#C8D4E3"
             },
             "line": {
              "color": "white"
             }
            },
            "type": "table"
           }
          ]
         },
         "layout": {
          "annotationdefaults": {
           "arrowcolor": "#2a3f5f",
           "arrowhead": 0,
           "arrowwidth": 1
          },
          "autotypenumbers": "strict",
          "coloraxis": {
           "colorbar": {
            "outlinewidth": 0,
            "ticks": ""
           }
          },
          "colorscale": {
           "diverging": [
            [
             0,
             "#8e0152"
            ],
            [
             0.1,
             "#c51b7d"
            ],
            [
             0.2,
             "#de77ae"
            ],
            [
             0.3,
             "#f1b6da"
            ],
            [
             0.4,
             "#fde0ef"
            ],
            [
             0.5,
             "#f7f7f7"
            ],
            [
             0.6,
             "#e6f5d0"
            ],
            [
             0.7,
             "#b8e186"
            ],
            [
             0.8,
             "#7fbc41"
            ],
            [
             0.9,
             "#4d9221"
            ],
            [
             1,
             "#276419"
            ]
           ],
           "sequential": [
            [
             0,
             "#0d0887"
            ],
            [
             0.1111111111111111,
             "#46039f"
            ],
            [
             0.2222222222222222,
             "#7201a8"
            ],
            [
             0.3333333333333333,
             "#9c179e"
            ],
            [
             0.4444444444444444,
             "#bd3786"
            ],
            [
             0.5555555555555556,
             "#d8576b"
            ],
            [
             0.6666666666666666,
             "#ed7953"
            ],
            [
             0.7777777777777778,
             "#fb9f3a"
            ],
            [
             0.8888888888888888,
             "#fdca26"
            ],
            [
             1,
             "#f0f921"
            ]
           ],
           "sequentialminus": [
            [
             0,
             "#0d0887"
            ],
            [
             0.1111111111111111,
             "#46039f"
            ],
            [
             0.2222222222222222,
             "#7201a8"
            ],
            [
             0.3333333333333333,
             "#9c179e"
            ],
            [
             0.4444444444444444,
             "#bd3786"
            ],
            [
             0.5555555555555556,
             "#d8576b"
            ],
            [
             0.6666666666666666,
             "#ed7953"
            ],
            [
             0.7777777777777778,
             "#fb9f3a"
            ],
            [
             0.8888888888888888,
             "#fdca26"
            ],
            [
             1,
             "#f0f921"
            ]
           ]
          },
          "colorway": [
           "#636efa",
           "#EF553B",
           "#00cc96",
           "#ab63fa",
           "#FFA15A",
           "#19d3f3",
           "#FF6692",
           "#B6E880",
           "#FF97FF",
           "#FECB52"
          ],
          "font": {
           "color": "#2a3f5f"
          },
          "geo": {
           "bgcolor": "white",
           "lakecolor": "white",
           "landcolor": "#E5ECF6",
           "showlakes": true,
           "showland": true,
           "subunitcolor": "white"
          },
          "hoverlabel": {
           "align": "left"
          },
          "hovermode": "closest",
          "mapbox": {
           "style": "light"
          },
          "paper_bgcolor": "white",
          "plot_bgcolor": "#E5ECF6",
          "polar": {
           "angularaxis": {
            "gridcolor": "white",
            "linecolor": "white",
            "ticks": ""
           },
           "bgcolor": "#E5ECF6",
           "radialaxis": {
            "gridcolor": "white",
            "linecolor": "white",
            "ticks": ""
           }
          },
          "scene": {
           "xaxis": {
            "backgroundcolor": "#E5ECF6",
            "gridcolor": "white",
            "gridwidth": 2,
            "linecolor": "white",
            "showbackground": true,
            "ticks": "",
            "zerolinecolor": "white"
           },
           "yaxis": {
            "backgroundcolor": "#E5ECF6",
            "gridcolor": "white",
            "gridwidth": 2,
            "linecolor": "white",
            "showbackground": true,
            "ticks": "",
            "zerolinecolor": "white"
           },
           "zaxis": {
            "backgroundcolor": "#E5ECF6",
            "gridcolor": "white",
            "gridwidth": 2,
            "linecolor": "white",
            "showbackground": true,
            "ticks": "",
            "zerolinecolor": "white"
           }
          },
          "shapedefaults": {
           "line": {
            "color": "#2a3f5f"
           }
          },
          "ternary": {
           "aaxis": {
            "gridcolor": "white",
            "linecolor": "white",
            "ticks": ""
           },
           "baxis": {
            "gridcolor": "white",
            "linecolor": "white",
            "ticks": ""
           },
           "bgcolor": "#E5ECF6",
           "caxis": {
            "gridcolor": "white",
            "linecolor": "white",
            "ticks": ""
           }
          },
          "title": {
           "x": 0.05
          },
          "xaxis": {
           "automargin": true,
           "gridcolor": "white",
           "linecolor": "white",
           "ticks": "",
           "title": {
            "standoff": 15
           },
           "zerolinecolor": "white",
           "zerolinewidth": 2
          },
          "yaxis": {
           "automargin": true,
           "gridcolor": "white",
           "linecolor": "white",
           "ticks": "",
           "title": {
            "standoff": 15
           },
           "zerolinecolor": "white",
           "zerolinewidth": 2
          }
         }
        },
        "title": {
         "text": "Comparison Between V Kohli, S Dhawan, DA Warner"
        }
       }
      }
     },
     "metadata": {},
     "output_type": "display_data"
    }
   ],
   "source": [
    "compare('V Kohli','S Dhawan','DA Warner')"
   ]
  },
  {
   "cell_type": "code",
   "execution_count": 92,
   "metadata": {
    "id": "XRv_LqBBR2rh"
   },
   "outputs": [],
   "source": [
    "data.to_csv(\"ipl_data.csv\", index=True)"
   ]
  }
 ],
 "metadata": {
  "colab": {
   "authorship_tag": "ABX9TyPBTbACJ9zXTfaD5UUNMZsn",
   "collapsed_sections": [],
   "include_colab_link": true,
   "name": "IPL_EDA.ipynb",
   "provenance": [],
   "toc_visible": true
  },
  "kernelspec": {
   "display_name": "Python 3",
   "language": "python",
   "name": "python3"
  },
  "language_info": {
   "codemirror_mode": {
    "name": "ipython",
    "version": 3
   },
   "file_extension": ".py",
   "mimetype": "text/x-python",
   "name": "python",
   "nbconvert_exporter": "python",
   "pygments_lexer": "ipython3",
   "version": "3.9.13"
  }
 },
 "nbformat": 4,
 "nbformat_minor": 1
}
